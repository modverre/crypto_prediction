{
 "cells": [
  {
   "cell_type": "markdown",
   "metadata": {
    "id": "8onIoqchOmYN"
   },
   "source": [
    "# RNN Model Development"
   ]
  },
  {
   "cell_type": "code",
   "execution_count": 1,
   "metadata": {
    "id": "yk6R3jNYOo9q"
   },
   "outputs": [],
   "source": [
    "import pandas as pd\n",
    "import numpy as np\n",
    "import matplotlib.pyplot as plt\n",
    "\n",
    "from tensorflow.keras.models import Sequential\n",
    "from tensorflow.keras.layers import Dense, LSTM, Dropout, Masking, GRU\n",
    "from tensorflow.keras.callbacks import EarlyStopping\n",
    "from tensorflow.keras.preprocessing.sequence import pad_sequences\n",
    "\n",
    "from sklearn.preprocessing import MinMaxScaler, RobustScaler\n",
    "from sklearn.model_selection import GridSearchCV, RandomizedSearchCV\n",
    "from sklearn.model_selection import train_test_split\n",
    "from sklearn.metrics import mean_squared_error\n",
    "\n",
    "from datetime import datetime, timedelta\n"
   ]
  },
  {
   "cell_type": "markdown",
   "metadata": {
    "id": "_zKkUn7zbhFH"
   },
   "source": [
    "# GBQ importing data"
   ]
  },
  {
   "cell_type": "code",
   "execution_count": 65,
   "metadata": {
    "id": "6wRG4w3sbhFH"
   },
   "outputs": [],
   "source": [
    "list_of_dfs = [\"ban\", \"cummies\", \"dinu\", \"doge\",\n",
    "\"doggy\", \"elon\", \"erc20\", \"ftm\", \"grlc\", \"hoge\",\n",
    "\"lowb\", \"mona\", \"samo\", \"shib\", \"shibx\", \"smi\",\n",
    "\"wow\", \"yooshi\",\"yummy\"]\n",
    "\n",
    "project_id = 'crypto-prediction-333213'\n",
    "\n",
    "def get_data():\n",
    "    \n",
    "    dfs = []\n",
    "\n",
    "    for df in list_of_dfs:\n",
    "\n",
    "        sql = f\"\"\"\n",
    "        SELECT *\n",
    "        FROM `crypto-prediction-333213.crypto_BQDB.{df}`;\n",
    "        \"\"\"\n",
    "\n",
    "        dfs.append(pd.read_gbq(sql, project_id=project_id, dialect='standard'))\n",
    "        \n",
    "    return dfs\n",
    "\n",
    "def data_cleaning(dfs):\n",
    "    \n",
    "    # takes as input the list of dataframes\n",
    "\n",
    "    dfs_new = []\n",
    "\n",
    "    for i in range(0,len(dfs)):\n",
    "        df = dfs[i]\n",
    "        price_col = [i for i in df.columns if \"price\" in i][0]\n",
    "        \n",
    "        # data cleaning\n",
    "        df = df.sort_values(by=\"datetime\")\n",
    "        df = df.drop_duplicates(keep= \"last\")\n",
    "        df = df.set_index(\"datetime\")\n",
    "        df[price_col].interpolate(method=\"linear\", inplace= True)\n",
    "        \n",
    "        # adding financial indicators\n",
    "        df[\"hourly_pct_change\"] = df[price_col].pct_change(1)\n",
    "        df[\"MA12_hours\"] = df[price_col].rolling(window=12).mean()\n",
    "        df[\"MA72_hours\"] = df[price_col].rolling(window=72).mean()\n",
    "        df[\"MAshort_over_long\"] = df[\"MA12_hours\"] > df[\"MA72_hours\"]\n",
    "        df[\"MAshort_over_long\"] = df[\"MAshort_over_long\"].apply(lambda x: 1 if x == True else 0)\n",
    "        \n",
    "        cols = [i for i in df.columns[2:]]\n",
    "        for col in cols:\n",
    "            df[col] = df[col].fillna(-99)\n",
    "        \n",
    "        dfs_new.append(df)\n",
    "    \n",
    "    return dfs_new\n",
    "\n"
   ]
  },
  {
   "cell_type": "code",
   "execution_count": 62,
   "metadata": {
    "colab": {
     "base_uri": "https://localhost:8080/",
     "height": 424
    },
    "id": "XEhWHPIL3qq-",
    "outputId": "781c9d43-79c1-4c5c-b374-6f3fd38e6239"
   },
   "outputs": [
    {
     "data": {
      "text/html": [
       "<div>\n",
       "<style scoped>\n",
       "    .dataframe tbody tr th:only-of-type {\n",
       "        vertical-align: middle;\n",
       "    }\n",
       "\n",
       "    .dataframe tbody tr th {\n",
       "        vertical-align: top;\n",
       "    }\n",
       "\n",
       "    .dataframe thead th {\n",
       "        text-align: right;\n",
       "    }\n",
       "</style>\n",
       "<table border=\"1\" class=\"dataframe\">\n",
       "  <thead>\n",
       "    <tr style=\"text-align: right;\">\n",
       "      <th></th>\n",
       "      <th>datetime</th>\n",
       "      <th>price_ban</th>\n",
       "      <th>tweets_ban</th>\n",
       "    </tr>\n",
       "  </thead>\n",
       "  <tbody>\n",
       "    <tr>\n",
       "      <th>0</th>\n",
       "      <td>2021-09-09 05:00:00+00:00</td>\n",
       "      <td>0.008681</td>\n",
       "      <td>0</td>\n",
       "    </tr>\n",
       "    <tr>\n",
       "      <th>1</th>\n",
       "      <td>2021-09-09 06:00:00+00:00</td>\n",
       "      <td>0.008569</td>\n",
       "      <td>0</td>\n",
       "    </tr>\n",
       "    <tr>\n",
       "      <th>2</th>\n",
       "      <td>2021-09-09 11:00:00+00:00</td>\n",
       "      <td>0.008541</td>\n",
       "      <td>0</td>\n",
       "    </tr>\n",
       "    <tr>\n",
       "      <th>3</th>\n",
       "      <td>2021-09-09 18:00:00+00:00</td>\n",
       "      <td>0.008598</td>\n",
       "      <td>0</td>\n",
       "    </tr>\n",
       "    <tr>\n",
       "      <th>4</th>\n",
       "      <td>2021-09-10 04:00:00+00:00</td>\n",
       "      <td>0.008543</td>\n",
       "      <td>0</td>\n",
       "    </tr>\n",
       "    <tr>\n",
       "      <th>...</th>\n",
       "      <td>...</td>\n",
       "      <td>...</td>\n",
       "      <td>...</td>\n",
       "    </tr>\n",
       "    <tr>\n",
       "      <th>1995</th>\n",
       "      <td>2021-10-23 17:00:00+00:00</td>\n",
       "      <td>0.008740</td>\n",
       "      <td>61</td>\n",
       "    </tr>\n",
       "    <tr>\n",
       "      <th>1996</th>\n",
       "      <td>2021-09-25 19:00:00+00:00</td>\n",
       "      <td>0.007421</td>\n",
       "      <td>70</td>\n",
       "    </tr>\n",
       "    <tr>\n",
       "      <th>1997</th>\n",
       "      <td>2021-10-02 17:00:00+00:00</td>\n",
       "      <td>0.007332</td>\n",
       "      <td>73</td>\n",
       "    </tr>\n",
       "    <tr>\n",
       "      <th>1998</th>\n",
       "      <td>2021-11-11 15:00:00+00:00</td>\n",
       "      <td>0.022351</td>\n",
       "      <td>79</td>\n",
       "    </tr>\n",
       "    <tr>\n",
       "      <th>1999</th>\n",
       "      <td>2021-10-23 16:00:00+00:00</td>\n",
       "      <td>0.008756</td>\n",
       "      <td>93</td>\n",
       "    </tr>\n",
       "  </tbody>\n",
       "</table>\n",
       "<p>2000 rows × 3 columns</p>\n",
       "</div>"
      ],
      "text/plain": [
       "                      datetime  price_ban  tweets_ban\n",
       "0    2021-09-09 05:00:00+00:00   0.008681           0\n",
       "1    2021-09-09 06:00:00+00:00   0.008569           0\n",
       "2    2021-09-09 11:00:00+00:00   0.008541           0\n",
       "3    2021-09-09 18:00:00+00:00   0.008598           0\n",
       "4    2021-09-10 04:00:00+00:00   0.008543           0\n",
       "...                        ...        ...         ...\n",
       "1995 2021-10-23 17:00:00+00:00   0.008740          61\n",
       "1996 2021-09-25 19:00:00+00:00   0.007421          70\n",
       "1997 2021-10-02 17:00:00+00:00   0.007332          73\n",
       "1998 2021-11-11 15:00:00+00:00   0.022351          79\n",
       "1999 2021-10-23 16:00:00+00:00   0.008756          93\n",
       "\n",
       "[2000 rows x 3 columns]"
      ]
     },
     "execution_count": 62,
     "metadata": {},
     "output_type": "execute_result"
    }
   ],
   "source": [
    "dfs = get_data()\n",
    "dfs[0]"
   ]
  },
  {
   "cell_type": "code",
   "execution_count": 66,
   "metadata": {
    "id": "zdkeNEqXbhFI"
   },
   "outputs": [],
   "source": [
    "dfs = get_data()\n",
    "dfs = data_cleaning(dfs)"
   ]
  },
  {
   "cell_type": "code",
   "execution_count": 49,
   "metadata": {
    "colab": {
     "base_uri": "https://localhost:8080/",
     "height": 455
    },
    "id": "nTM_lcQ9bhFI",
    "outputId": "293f380c-6702-485c-e78e-59b11002c218"
   },
   "outputs": [
    {
     "data": {
      "text/html": [
       "<div>\n",
       "<style scoped>\n",
       "    .dataframe tbody tr th:only-of-type {\n",
       "        vertical-align: middle;\n",
       "    }\n",
       "\n",
       "    .dataframe tbody tr th {\n",
       "        vertical-align: top;\n",
       "    }\n",
       "\n",
       "    .dataframe thead th {\n",
       "        text-align: right;\n",
       "    }\n",
       "</style>\n",
       "<table border=\"1\" class=\"dataframe\">\n",
       "  <thead>\n",
       "    <tr style=\"text-align: right;\">\n",
       "      <th></th>\n",
       "      <th>price_ban</th>\n",
       "      <th>tweets_ban</th>\n",
       "      <th>hourly_pct_change</th>\n",
       "      <th>MA12_hours</th>\n",
       "      <th>MA72_hours</th>\n",
       "      <th>MAshort_over_long</th>\n",
       "    </tr>\n",
       "    <tr>\n",
       "      <th>datetime</th>\n",
       "      <th></th>\n",
       "      <th></th>\n",
       "      <th></th>\n",
       "      <th></th>\n",
       "      <th></th>\n",
       "      <th></th>\n",
       "    </tr>\n",
       "  </thead>\n",
       "  <tbody>\n",
       "    <tr>\n",
       "      <th>2021-09-09 01:00:00+00:00</th>\n",
       "      <td>-4.747466</td>\n",
       "      <td>1</td>\n",
       "      <td>-99.000000</td>\n",
       "      <td>-99.000000</td>\n",
       "      <td>-99.000000</td>\n",
       "      <td>0</td>\n",
       "    </tr>\n",
       "    <tr>\n",
       "      <th>2021-09-09 02:00:00+00:00</th>\n",
       "      <td>-4.759288</td>\n",
       "      <td>4</td>\n",
       "      <td>-0.011752</td>\n",
       "      <td>-99.000000</td>\n",
       "      <td>-99.000000</td>\n",
       "      <td>0</td>\n",
       "    </tr>\n",
       "    <tr>\n",
       "      <th>2021-09-09 03:00:00+00:00</th>\n",
       "      <td>-4.764473</td>\n",
       "      <td>2</td>\n",
       "      <td>-0.005172</td>\n",
       "      <td>-99.000000</td>\n",
       "      <td>-99.000000</td>\n",
       "      <td>0</td>\n",
       "    </tr>\n",
       "    <tr>\n",
       "      <th>2021-09-09 04:00:00+00:00</th>\n",
       "      <td>-4.751101</td>\n",
       "      <td>2</td>\n",
       "      <td>0.013462</td>\n",
       "      <td>-99.000000</td>\n",
       "      <td>-99.000000</td>\n",
       "      <td>0</td>\n",
       "    </tr>\n",
       "    <tr>\n",
       "      <th>2021-09-09 05:00:00+00:00</th>\n",
       "      <td>-4.746628</td>\n",
       "      <td>0</td>\n",
       "      <td>0.004483</td>\n",
       "      <td>-99.000000</td>\n",
       "      <td>-99.000000</td>\n",
       "      <td>0</td>\n",
       "    </tr>\n",
       "    <tr>\n",
       "      <th>...</th>\n",
       "      <td>...</td>\n",
       "      <td>...</td>\n",
       "      <td>...</td>\n",
       "      <td>...</td>\n",
       "      <td>...</td>\n",
       "      <td>...</td>\n",
       "    </tr>\n",
       "    <tr>\n",
       "      <th>2021-12-01 04:00:00+00:00</th>\n",
       "      <td>-4.070548</td>\n",
       "      <td>2</td>\n",
       "      <td>0.012725</td>\n",
       "      <td>0.016840</td>\n",
       "      <td>0.016611</td>\n",
       "      <td>1</td>\n",
       "    </tr>\n",
       "    <tr>\n",
       "      <th>2021-12-01 05:00:00+00:00</th>\n",
       "      <td>-4.077048</td>\n",
       "      <td>0</td>\n",
       "      <td>-0.006480</td>\n",
       "      <td>0.016864</td>\n",
       "      <td>0.016637</td>\n",
       "      <td>1</td>\n",
       "    </tr>\n",
       "    <tr>\n",
       "      <th>2021-12-01 06:00:00+00:00</th>\n",
       "      <td>-4.080204</td>\n",
       "      <td>0</td>\n",
       "      <td>-0.003151</td>\n",
       "      <td>0.016880</td>\n",
       "      <td>0.016662</td>\n",
       "      <td>1</td>\n",
       "    </tr>\n",
       "    <tr>\n",
       "      <th>2021-12-01 07:00:00+00:00</th>\n",
       "      <td>-4.082939</td>\n",
       "      <td>0</td>\n",
       "      <td>-0.002731</td>\n",
       "      <td>0.016877</td>\n",
       "      <td>0.016683</td>\n",
       "      <td>1</td>\n",
       "    </tr>\n",
       "    <tr>\n",
       "      <th>2021-12-01 08:00:00+00:00</th>\n",
       "      <td>-4.087371</td>\n",
       "      <td>1</td>\n",
       "      <td>-0.004422</td>\n",
       "      <td>0.016875</td>\n",
       "      <td>0.016704</td>\n",
       "      <td>1</td>\n",
       "    </tr>\n",
       "  </tbody>\n",
       "</table>\n",
       "<p>2000 rows × 6 columns</p>\n",
       "</div>"
      ],
      "text/plain": [
       "                           price_ban  tweets_ban  ...  MA72_hours  MAshort_over_long\n",
       "datetime                                          ...                               \n",
       "2021-09-09 01:00:00+00:00  -4.747466           1  ...  -99.000000                  0\n",
       "2021-09-09 02:00:00+00:00  -4.759288           4  ...  -99.000000                  0\n",
       "2021-09-09 03:00:00+00:00  -4.764473           2  ...  -99.000000                  0\n",
       "2021-09-09 04:00:00+00:00  -4.751101           2  ...  -99.000000                  0\n",
       "2021-09-09 05:00:00+00:00  -4.746628           0  ...  -99.000000                  0\n",
       "...                              ...         ...  ...         ...                ...\n",
       "2021-12-01 04:00:00+00:00  -4.070548           2  ...    0.016611                  1\n",
       "2021-12-01 05:00:00+00:00  -4.077048           0  ...    0.016637                  1\n",
       "2021-12-01 06:00:00+00:00  -4.080204           0  ...    0.016662                  1\n",
       "2021-12-01 07:00:00+00:00  -4.082939           0  ...    0.016683                  1\n",
       "2021-12-01 08:00:00+00:00  -4.087371           1  ...    0.016704                  1\n",
       "\n",
       "[2000 rows x 6 columns]"
      ]
     },
     "execution_count": 49,
     "metadata": {},
     "output_type": "execute_result"
    }
   ],
   "source": [
    "dfs[0]"
   ]
  },
  {
   "cell_type": "markdown",
   "metadata": {
    "id": "ATwZ6gdUQGWa"
   },
   "source": [
    "# Reshaping Data"
   ]
  },
  {
   "cell_type": "code",
   "execution_count": 5,
   "metadata": {
    "id": "XcmwyOBtbhFJ"
   },
   "outputs": [],
   "source": [
    "horizon = 24\n",
    "\n",
    "history_size = 48\n",
    "\n",
    "def get_X_y(history_size, horizon, dataset):\n",
    "\n",
    "    X = []\n",
    "    y = []\n",
    "\n",
    "    for i in range(0, dataset.shape[0]-history_size-horizon):\n",
    "        X.append(dataset[i:i+history_size,:])\n",
    "        y.append(dataset[i+history_size: i+history_size+horizon,0]) # should be series of next 24 values for 24h forecast\n",
    "\n",
    "    return np.array(X), np.array(y)\n",
    "\n",
    "def reshape_data(dfs, history_size):\n",
    "\n",
    "    # scaling the data & get_X_y for all datasets\n",
    "    X = []\n",
    "    y = []\n",
    "    scalers = []\n",
    "\n",
    "    for df in dfs:\n",
    "\n",
    "        # log transform\n",
    "        price_col = [i for i in df.columns if \"price\" in i][0]\n",
    "        df[price_col] = np.log(df[price_col])\n",
    "        \n",
    "        data = df.values\n",
    "        \n",
    "        # scaling\n",
    "        scaler = MinMaxScaler()\n",
    "        \n",
    "        scaler.fit(data)\n",
    "        data = scaler.transform(data)\n",
    "        \n",
    "        # get X and y\n",
    "        X_arr, y_arr = get_X_y(history_size, horizon, data)\n",
    "        \n",
    "        X.append(X_arr)\n",
    "        y.append(y_arr)\n",
    "        scalers.append(scaler)\n",
    "\n",
    "    # stacking data three-dimensionally\n",
    "    X = np.stack(X, axis= 2).reshape(len(X[0]),history_size,-1)\n",
    "    y = np.stack(y, axis = 2).reshape(len(y[0]),-1)\n",
    "\n",
    "    return X, y, scalers\n"
   ]
  },
  {
   "cell_type": "code",
   "execution_count": 6,
   "metadata": {
    "id": "lI2LB2Xdgsf1"
   },
   "outputs": [],
   "source": [
    "dfs_tmp = dfs[:]"
   ]
  },
  {
   "cell_type": "code",
   "execution_count": 7,
   "metadata": {
    "id": "Ce7waX70bhFJ"
   },
   "outputs": [],
   "source": [
    "X, y, scalers =reshape_data(dfs_tmp, history_size)"
   ]
  },
  {
   "cell_type": "code",
   "execution_count": 8,
   "metadata": {
    "colab": {
     "base_uri": "https://localhost:8080/"
    },
    "id": "lj9HihCIbhFJ",
    "outputId": "c6c29873-61e3-407c-a54f-17d416e5dc37"
   },
   "outputs": [
    {
     "data": {
      "text/plain": [
       "(1928, 48, 114)"
      ]
     },
     "execution_count": 8,
     "metadata": {},
     "output_type": "execute_result"
    }
   ],
   "source": [
    "X.shape"
   ]
  },
  {
   "cell_type": "code",
   "execution_count": 9,
   "metadata": {
    "colab": {
     "base_uri": "https://localhost:8080/"
    },
    "id": "qbvouxGZbhFJ",
    "outputId": "ba20a134-f2a3-41e4-cd87-0bfdf9f63bd4"
   },
   "outputs": [
    {
     "data": {
      "text/plain": [
       "(1928, 456)"
      ]
     },
     "execution_count": 9,
     "metadata": {},
     "output_type": "execute_result"
    }
   ],
   "source": [
    "y.shape"
   ]
  },
  {
   "cell_type": "code",
   "execution_count": 10,
   "metadata": {
    "id": "WrWC_eAQbhFJ"
   },
   "outputs": [],
   "source": [
    "def garrit(coins, horizon):    \n",
    "    number_of_cryptos = 2\n",
    "    # instantiating a model\n",
    "    model = Sequential()\n",
    "\n",
    "    # first network layer\n",
    "    model.add(Masking(mask_value=-1))\n",
    "    model.add(LSTM(units = 50, activation= \"tanh\", return_sequences= True))\n",
    "    model.add(Dropout(0.2))\n",
    "\n",
    "    # network layer's 2 - 5\n",
    "    model.add(LSTM(units= 50, activation= \"tanh\", return_sequences= True))\n",
    "    model.add(LSTM(units= 10, activation= \"tanh\", return_sequences= False))\n",
    "    model.add(Dropout(0.2))\n",
    "\n",
    "    # network output layer\n",
    "    # predicting future_horizon = 24 hours\n",
    "    # for two cryptos\n",
    "    model.add(Dense(coins*horizon, activation= \"linear\")) # should be 24 for 24h forecast\n",
    "\n",
    "    model.compile(optimizer= \"adam\", loss= \"mse\")\n",
    "\n",
    "    return model\n",
    "    #XXXXX"
   ]
  },
  {
   "cell_type": "markdown",
   "metadata": {
    "id": "j28re1zTYPDm"
   },
   "source": [
    "# Modeling"
   ]
  },
  {
   "cell_type": "code",
   "execution_count": 105,
   "metadata": {
    "id": "v8mvnYUbPiJ3"
   },
   "outputs": [],
   "source": [
    "def morten(coins, horizon):\n",
    "    coins = 19\n",
    "    # instantiating a model\n",
    "    model = Sequential()\n",
    "\n",
    "    # first network layer\n",
    "    model.add(Masking(mask_value=-99))\n",
    "    model.add(GRU(units = 50, activation= \"tanh\", return_sequences= True))\n",
    "    model.add(Dropout(0.2))\n",
    "\n",
    "    # network layer's 2 - 5\n",
    "    model.add(GRU(units= 50, activation= \"tanh\", return_sequences= True))\n",
    "    model.add(Dropout(0.2))\n",
    "    model.add(GRU(units= 25, activation= \"tanh\", return_sequences= False))\n",
    "    model.add(Dropout(0.2))\n",
    "\n",
    "    # network output layer\n",
    "    # predicting future_horizon = 24 hours\n",
    "    model.add(Dense(coins*horizon, activation= \"linear\")) # should be 24 for 24h forecast\n",
    "\n",
    "    model.compile(optimizer= \"adam\", loss= \"mse\")\n",
    "\n",
    "    return model"
   ]
  },
  {
   "cell_type": "code",
   "execution_count": 106,
   "metadata": {
    "id": "gCQaKOgybhFJ"
   },
   "outputs": [],
   "source": [
    "model = morten(19,24)"
   ]
  },
  {
   "cell_type": "code",
   "execution_count": 13,
   "metadata": {
    "colab": {
     "base_uri": "https://localhost:8080/"
    },
    "id": "nH6uIPS5qk7j",
    "outputId": "6053d58b-b89d-4302-9fda-9d340419d59b"
   },
   "outputs": [
    {
     "data": {
      "text/plain": [
       "<keras.engine.sequential.Sequential at 0x7f66dfaab790>"
      ]
     },
     "execution_count": 13,
     "metadata": {},
     "output_type": "execute_result"
    }
   ],
   "source": [
    "model"
   ]
  },
  {
   "cell_type": "markdown",
   "metadata": {
    "id": "05IxzWh9OmaH"
   },
   "source": [
    ""
   ]
  },
  {
   "cell_type": "code",
   "execution_count": 107,
   "metadata": {
    "colab": {
     "base_uri": "https://localhost:8080/"
    },
    "id": "vAVKEK8pZddM",
    "outputId": "7af49871-dcc4-426d-d2cd-055104d15d2b"
   },
   "outputs": [
    {
     "name": "stdout",
     "output_type": "stream",
     "text": [
      "Epoch 1/50\n",
      "25/25 [==============================] - 21s 287ms/step - loss: 0.2086 - val_loss: 0.1164\n",
      "Epoch 2/50\n",
      "25/25 [==============================] - 3s 122ms/step - loss: 0.0798 - val_loss: 0.0513\n",
      "Epoch 3/50\n",
      "25/25 [==============================] - 3s 125ms/step - loss: 0.0510 - val_loss: 0.0413\n",
      "Epoch 4/50\n",
      "25/25 [==============================] - 3s 122ms/step - loss: 0.0405 - val_loss: 0.0337\n",
      "Epoch 5/50\n",
      "25/25 [==============================] - 3s 122ms/step - loss: 0.0326 - val_loss: 0.0302\n",
      "Epoch 6/50\n",
      "25/25 [==============================] - 3s 120ms/step - loss: 0.0280 - val_loss: 0.0281\n",
      "Epoch 7/50\n",
      "25/25 [==============================] - 3s 120ms/step - loss: 0.0258 - val_loss: 0.0296\n",
      "Epoch 8/50\n",
      "25/25 [==============================] - 3s 121ms/step - loss: 0.0242 - val_loss: 0.0293\n",
      "Epoch 9/50\n",
      "25/25 [==============================] - 3s 121ms/step - loss: 0.0229 - val_loss: 0.0297\n",
      "Epoch 10/50\n",
      "25/25 [==============================] - 3s 120ms/step - loss: 0.0230 - val_loss: 0.0310\n",
      "Epoch 11/50\n",
      "25/25 [==============================] - 3s 121ms/step - loss: 0.0210 - val_loss: 0.0299\n",
      "Epoch 12/50\n",
      "25/25 [==============================] - 3s 123ms/step - loss: 0.0202 - val_loss: 0.0300\n",
      "Epoch 13/50\n",
      "25/25 [==============================] - 3s 122ms/step - loss: 0.0194 - val_loss: 0.0263\n",
      "Epoch 14/50\n",
      "25/25 [==============================] - 3s 122ms/step - loss: 0.0187 - val_loss: 0.0265\n",
      "Epoch 15/50\n",
      "25/25 [==============================] - 3s 122ms/step - loss: 0.0175 - val_loss: 0.0245\n",
      "Epoch 16/50\n",
      "25/25 [==============================] - 3s 121ms/step - loss: 0.0171 - val_loss: 0.0243\n",
      "Epoch 17/50\n",
      "25/25 [==============================] - 3s 122ms/step - loss: 0.0166 - val_loss: 0.0253\n",
      "Epoch 18/50\n",
      "25/25 [==============================] - 3s 122ms/step - loss: 0.0164 - val_loss: 0.0239\n",
      "Epoch 19/50\n",
      "25/25 [==============================] - 3s 123ms/step - loss: 0.0161 - val_loss: 0.0219\n",
      "Epoch 20/50\n",
      "25/25 [==============================] - 3s 123ms/step - loss: 0.0153 - val_loss: 0.0210\n",
      "Epoch 21/50\n",
      "25/25 [==============================] - 3s 121ms/step - loss: 0.0146 - val_loss: 0.0213\n",
      "Epoch 22/50\n",
      "25/25 [==============================] - 3s 121ms/step - loss: 0.0147 - val_loss: 0.0214\n",
      "Epoch 23/50\n",
      "25/25 [==============================] - 3s 124ms/step - loss: 0.0138 - val_loss: 0.0233\n",
      "Epoch 24/50\n",
      "25/25 [==============================] - 3s 122ms/step - loss: 0.0135 - val_loss: 0.0193\n",
      "Epoch 25/50\n",
      "25/25 [==============================] - 3s 123ms/step - loss: 0.0131 - val_loss: 0.0187\n",
      "Epoch 26/50\n",
      "25/25 [==============================] - 3s 121ms/step - loss: 0.0131 - val_loss: 0.0181\n",
      "Epoch 27/50\n",
      "25/25 [==============================] - 3s 122ms/step - loss: 0.0129 - val_loss: 0.0193\n",
      "Epoch 28/50\n",
      "25/25 [==============================] - 3s 121ms/step - loss: 0.0126 - val_loss: 0.0190\n",
      "Epoch 29/50\n",
      "25/25 [==============================] - 3s 122ms/step - loss: 0.0120 - val_loss: 0.0192\n",
      "Epoch 30/50\n",
      "25/25 [==============================] - 3s 123ms/step - loss: 0.0120 - val_loss: 0.0174\n",
      "Epoch 31/50\n",
      "25/25 [==============================] - 3s 123ms/step - loss: 0.0121 - val_loss: 0.0206\n",
      "Epoch 32/50\n",
      "25/25 [==============================] - 3s 124ms/step - loss: 0.0121 - val_loss: 0.0174\n",
      "Epoch 33/50\n",
      "25/25 [==============================] - 3s 123ms/step - loss: 0.0115 - val_loss: 0.0181\n",
      "Epoch 34/50\n",
      "25/25 [==============================] - 3s 124ms/step - loss: 0.0109 - val_loss: 0.0175\n",
      "Epoch 35/50\n",
      "25/25 [==============================] - 3s 123ms/step - loss: 0.0112 - val_loss: 0.0209\n",
      "Epoch 36/50\n",
      "25/25 [==============================] - 3s 122ms/step - loss: 0.0113 - val_loss: 0.0164\n",
      "Epoch 37/50\n",
      "25/25 [==============================] - 3s 123ms/step - loss: 0.0109 - val_loss: 0.0186\n",
      "Epoch 38/50\n",
      "25/25 [==============================] - 3s 123ms/step - loss: 0.0108 - val_loss: 0.0170\n",
      "Epoch 39/50\n",
      "25/25 [==============================] - 3s 123ms/step - loss: 0.0108 - val_loss: 0.0212\n",
      "Epoch 40/50\n",
      "25/25 [==============================] - 3s 123ms/step - loss: 0.0107 - val_loss: 0.0189\n",
      "Epoch 41/50\n",
      "25/25 [==============================] - 3s 122ms/step - loss: 0.0105 - val_loss: 0.0203\n",
      "Epoch 42/50\n",
      "25/25 [==============================] - 3s 124ms/step - loss: 0.0103 - val_loss: 0.0199\n",
      "Epoch 43/50\n",
      "25/25 [==============================] - 3s 123ms/step - loss: 0.0101 - val_loss: 0.0187\n",
      "Epoch 44/50\n",
      "25/25 [==============================] - 3s 123ms/step - loss: 0.0097 - val_loss: 0.0161\n",
      "Epoch 45/50\n",
      "25/25 [==============================] - 3s 122ms/step - loss: 0.0100 - val_loss: 0.0193\n",
      "Epoch 46/50\n",
      "25/25 [==============================] - 3s 122ms/step - loss: 0.0094 - val_loss: 0.0194\n",
      "Epoch 47/50\n",
      "25/25 [==============================] - 3s 122ms/step - loss: 0.0094 - val_loss: 0.0182\n",
      "Epoch 48/50\n",
      "25/25 [==============================] - 3s 122ms/step - loss: 0.0095 - val_loss: 0.0201\n",
      "Epoch 49/50\n",
      "25/25 [==============================] - 3s 121ms/step - loss: 0.0095 - val_loss: 0.0196\n",
      "Epoch 50/50\n",
      "25/25 [==============================] - 3s 122ms/step - loss: 0.0094 - val_loss: 0.0183\n"
     ]
    },
    {
     "data": {
      "text/plain": [
       "<keras.callbacks.History at 0x7f66a0a00450>"
      ]
     },
     "execution_count": 107,
     "metadata": {},
     "output_type": "execute_result"
    }
   ],
   "source": [
    "es = EarlyStopping(patience = 10, restore_best_weights= True)\n",
    "\n",
    "model.fit(X, \n",
    "          y,\n",
    "          validation_split= 0.2,\n",
    "          epochs = 50,\n",
    "          batch_size= 64,\n",
    "          callbacks= [es],\n",
    "          verbose= 1)"
   ]
  },
  {
   "cell_type": "code",
   "execution_count": null,
   "metadata": {
    "id": "KCjd_IdTTNoN"
   },
   "outputs": [],
   "source": [
    ""
   ]
  },
  {
   "cell_type": "markdown",
   "metadata": {
    "id": "IjROLXLRxzNE"
   },
   "source": [
    "Baseline Model"
   ]
  },
  {
   "cell_type": "code",
   "execution_count": 63,
   "metadata": {
    "colab": {
     "base_uri": "https://localhost:8080/",
     "height": 617
    },
    "id": "fSgrMCTyx1va",
    "outputId": "f0d669c4-2fbb-4311-ab97-57934bb0e43f"
   },
   "outputs": [
    {
     "data": {
      "text/html": [
       "<div>\n",
       "<style scoped>\n",
       "    .dataframe tbody tr th:only-of-type {\n",
       "        vertical-align: middle;\n",
       "    }\n",
       "\n",
       "    .dataframe tbody tr th {\n",
       "        vertical-align: top;\n",
       "    }\n",
       "\n",
       "    .dataframe thead th {\n",
       "        text-align: right;\n",
       "    }\n",
       "</style>\n",
       "<table border=\"1\" class=\"dataframe\">\n",
       "  <thead>\n",
       "    <tr style=\"text-align: right;\">\n",
       "      <th></th>\n",
       "      <th>datetime</th>\n",
       "      <th>price_ban</th>\n",
       "      <th>tweets_ban</th>\n",
       "      <th>1</th>\n",
       "      <th>2</th>\n",
       "      <th>3</th>\n",
       "      <th>4</th>\n",
       "      <th>5</th>\n",
       "      <th>6</th>\n",
       "      <th>7</th>\n",
       "      <th>8</th>\n",
       "      <th>9</th>\n",
       "      <th>10</th>\n",
       "      <th>11</th>\n",
       "      <th>12</th>\n",
       "      <th>13</th>\n",
       "      <th>14</th>\n",
       "      <th>15</th>\n",
       "      <th>16</th>\n",
       "      <th>17</th>\n",
       "      <th>18</th>\n",
       "      <th>19</th>\n",
       "      <th>20</th>\n",
       "      <th>21</th>\n",
       "      <th>22</th>\n",
       "      <th>23</th>\n",
       "      <th>24</th>\n",
       "    </tr>\n",
       "  </thead>\n",
       "  <tbody>\n",
       "    <tr>\n",
       "      <th>0</th>\n",
       "      <td>2021-09-09 05:00:00+00:00</td>\n",
       "      <td>0.008681</td>\n",
       "      <td>0</td>\n",
       "      <td>NaN</td>\n",
       "      <td>NaN</td>\n",
       "      <td>NaN</td>\n",
       "      <td>NaN</td>\n",
       "      <td>NaN</td>\n",
       "      <td>NaN</td>\n",
       "      <td>NaN</td>\n",
       "      <td>NaN</td>\n",
       "      <td>NaN</td>\n",
       "      <td>NaN</td>\n",
       "      <td>NaN</td>\n",
       "      <td>NaN</td>\n",
       "      <td>NaN</td>\n",
       "      <td>NaN</td>\n",
       "      <td>NaN</td>\n",
       "      <td>NaN</td>\n",
       "      <td>NaN</td>\n",
       "      <td>NaN</td>\n",
       "      <td>NaN</td>\n",
       "      <td>NaN</td>\n",
       "      <td>NaN</td>\n",
       "      <td>NaN</td>\n",
       "      <td>NaN</td>\n",
       "      <td>NaN</td>\n",
       "    </tr>\n",
       "    <tr>\n",
       "      <th>1</th>\n",
       "      <td>2021-09-09 06:00:00+00:00</td>\n",
       "      <td>0.008569</td>\n",
       "      <td>0</td>\n",
       "      <td>0.008681</td>\n",
       "      <td>NaN</td>\n",
       "      <td>NaN</td>\n",
       "      <td>NaN</td>\n",
       "      <td>NaN</td>\n",
       "      <td>NaN</td>\n",
       "      <td>NaN</td>\n",
       "      <td>NaN</td>\n",
       "      <td>NaN</td>\n",
       "      <td>NaN</td>\n",
       "      <td>NaN</td>\n",
       "      <td>NaN</td>\n",
       "      <td>NaN</td>\n",
       "      <td>NaN</td>\n",
       "      <td>NaN</td>\n",
       "      <td>NaN</td>\n",
       "      <td>NaN</td>\n",
       "      <td>NaN</td>\n",
       "      <td>NaN</td>\n",
       "      <td>NaN</td>\n",
       "      <td>NaN</td>\n",
       "      <td>NaN</td>\n",
       "      <td>NaN</td>\n",
       "      <td>NaN</td>\n",
       "    </tr>\n",
       "    <tr>\n",
       "      <th>2</th>\n",
       "      <td>2021-09-09 11:00:00+00:00</td>\n",
       "      <td>0.008541</td>\n",
       "      <td>0</td>\n",
       "      <td>0.008569</td>\n",
       "      <td>0.008681</td>\n",
       "      <td>NaN</td>\n",
       "      <td>NaN</td>\n",
       "      <td>NaN</td>\n",
       "      <td>NaN</td>\n",
       "      <td>NaN</td>\n",
       "      <td>NaN</td>\n",
       "      <td>NaN</td>\n",
       "      <td>NaN</td>\n",
       "      <td>NaN</td>\n",
       "      <td>NaN</td>\n",
       "      <td>NaN</td>\n",
       "      <td>NaN</td>\n",
       "      <td>NaN</td>\n",
       "      <td>NaN</td>\n",
       "      <td>NaN</td>\n",
       "      <td>NaN</td>\n",
       "      <td>NaN</td>\n",
       "      <td>NaN</td>\n",
       "      <td>NaN</td>\n",
       "      <td>NaN</td>\n",
       "      <td>NaN</td>\n",
       "      <td>NaN</td>\n",
       "    </tr>\n",
       "    <tr>\n",
       "      <th>3</th>\n",
       "      <td>2021-09-09 18:00:00+00:00</td>\n",
       "      <td>0.008598</td>\n",
       "      <td>0</td>\n",
       "      <td>0.008541</td>\n",
       "      <td>0.008569</td>\n",
       "      <td>0.008681</td>\n",
       "      <td>NaN</td>\n",
       "      <td>NaN</td>\n",
       "      <td>NaN</td>\n",
       "      <td>NaN</td>\n",
       "      <td>NaN</td>\n",
       "      <td>NaN</td>\n",
       "      <td>NaN</td>\n",
       "      <td>NaN</td>\n",
       "      <td>NaN</td>\n",
       "      <td>NaN</td>\n",
       "      <td>NaN</td>\n",
       "      <td>NaN</td>\n",
       "      <td>NaN</td>\n",
       "      <td>NaN</td>\n",
       "      <td>NaN</td>\n",
       "      <td>NaN</td>\n",
       "      <td>NaN</td>\n",
       "      <td>NaN</td>\n",
       "      <td>NaN</td>\n",
       "      <td>NaN</td>\n",
       "      <td>NaN</td>\n",
       "    </tr>\n",
       "    <tr>\n",
       "      <th>4</th>\n",
       "      <td>2021-09-10 04:00:00+00:00</td>\n",
       "      <td>0.008543</td>\n",
       "      <td>0</td>\n",
       "      <td>0.008598</td>\n",
       "      <td>0.008541</td>\n",
       "      <td>0.008569</td>\n",
       "      <td>0.008681</td>\n",
       "      <td>NaN</td>\n",
       "      <td>NaN</td>\n",
       "      <td>NaN</td>\n",
       "      <td>NaN</td>\n",
       "      <td>NaN</td>\n",
       "      <td>NaN</td>\n",
       "      <td>NaN</td>\n",
       "      <td>NaN</td>\n",
       "      <td>NaN</td>\n",
       "      <td>NaN</td>\n",
       "      <td>NaN</td>\n",
       "      <td>NaN</td>\n",
       "      <td>NaN</td>\n",
       "      <td>NaN</td>\n",
       "      <td>NaN</td>\n",
       "      <td>NaN</td>\n",
       "      <td>NaN</td>\n",
       "      <td>NaN</td>\n",
       "      <td>NaN</td>\n",
       "      <td>NaN</td>\n",
       "    </tr>\n",
       "    <tr>\n",
       "      <th>...</th>\n",
       "      <td>...</td>\n",
       "      <td>...</td>\n",
       "      <td>...</td>\n",
       "      <td>...</td>\n",
       "      <td>...</td>\n",
       "      <td>...</td>\n",
       "      <td>...</td>\n",
       "      <td>...</td>\n",
       "      <td>...</td>\n",
       "      <td>...</td>\n",
       "      <td>...</td>\n",
       "      <td>...</td>\n",
       "      <td>...</td>\n",
       "      <td>...</td>\n",
       "      <td>...</td>\n",
       "      <td>...</td>\n",
       "      <td>...</td>\n",
       "      <td>...</td>\n",
       "      <td>...</td>\n",
       "      <td>...</td>\n",
       "      <td>...</td>\n",
       "      <td>...</td>\n",
       "      <td>...</td>\n",
       "      <td>...</td>\n",
       "      <td>...</td>\n",
       "      <td>...</td>\n",
       "      <td>...</td>\n",
       "    </tr>\n",
       "    <tr>\n",
       "      <th>1995</th>\n",
       "      <td>2021-10-23 17:00:00+00:00</td>\n",
       "      <td>0.008740</td>\n",
       "      <td>61</td>\n",
       "      <td>0.007345</td>\n",
       "      <td>0.022252</td>\n",
       "      <td>0.022428</td>\n",
       "      <td>0.007292</td>\n",
       "      <td>0.007196</td>\n",
       "      <td>0.034201</td>\n",
       "      <td>0.007458</td>\n",
       "      <td>0.008846</td>\n",
       "      <td>0.025749</td>\n",
       "      <td>0.007199</td>\n",
       "      <td>0.023465</td>\n",
       "      <td>0.007107</td>\n",
       "      <td>0.007186</td>\n",
       "      <td>0.008708</td>\n",
       "      <td>0.008819</td>\n",
       "      <td>0.007145</td>\n",
       "      <td>0.022400</td>\n",
       "      <td>0.033496</td>\n",
       "      <td>0.007169</td>\n",
       "      <td>0.007339</td>\n",
       "      <td>0.020707</td>\n",
       "      <td>0.025143</td>\n",
       "      <td>0.007274</td>\n",
       "      <td>0.032580</td>\n",
       "    </tr>\n",
       "    <tr>\n",
       "      <th>1996</th>\n",
       "      <td>2021-09-25 19:00:00+00:00</td>\n",
       "      <td>0.007421</td>\n",
       "      <td>70</td>\n",
       "      <td>0.008740</td>\n",
       "      <td>0.007345</td>\n",
       "      <td>0.022252</td>\n",
       "      <td>0.022428</td>\n",
       "      <td>0.007292</td>\n",
       "      <td>0.007196</td>\n",
       "      <td>0.034201</td>\n",
       "      <td>0.007458</td>\n",
       "      <td>0.008846</td>\n",
       "      <td>0.025749</td>\n",
       "      <td>0.007199</td>\n",
       "      <td>0.023465</td>\n",
       "      <td>0.007107</td>\n",
       "      <td>0.007186</td>\n",
       "      <td>0.008708</td>\n",
       "      <td>0.008819</td>\n",
       "      <td>0.007145</td>\n",
       "      <td>0.022400</td>\n",
       "      <td>0.033496</td>\n",
       "      <td>0.007169</td>\n",
       "      <td>0.007339</td>\n",
       "      <td>0.020707</td>\n",
       "      <td>0.025143</td>\n",
       "      <td>0.007274</td>\n",
       "    </tr>\n",
       "    <tr>\n",
       "      <th>1997</th>\n",
       "      <td>2021-10-02 17:00:00+00:00</td>\n",
       "      <td>0.007332</td>\n",
       "      <td>73</td>\n",
       "      <td>0.007421</td>\n",
       "      <td>0.008740</td>\n",
       "      <td>0.007345</td>\n",
       "      <td>0.022252</td>\n",
       "      <td>0.022428</td>\n",
       "      <td>0.007292</td>\n",
       "      <td>0.007196</td>\n",
       "      <td>0.034201</td>\n",
       "      <td>0.007458</td>\n",
       "      <td>0.008846</td>\n",
       "      <td>0.025749</td>\n",
       "      <td>0.007199</td>\n",
       "      <td>0.023465</td>\n",
       "      <td>0.007107</td>\n",
       "      <td>0.007186</td>\n",
       "      <td>0.008708</td>\n",
       "      <td>0.008819</td>\n",
       "      <td>0.007145</td>\n",
       "      <td>0.022400</td>\n",
       "      <td>0.033496</td>\n",
       "      <td>0.007169</td>\n",
       "      <td>0.007339</td>\n",
       "      <td>0.020707</td>\n",
       "      <td>0.025143</td>\n",
       "    </tr>\n",
       "    <tr>\n",
       "      <th>1998</th>\n",
       "      <td>2021-11-11 15:00:00+00:00</td>\n",
       "      <td>0.022351</td>\n",
       "      <td>79</td>\n",
       "      <td>0.007332</td>\n",
       "      <td>0.007421</td>\n",
       "      <td>0.008740</td>\n",
       "      <td>0.007345</td>\n",
       "      <td>0.022252</td>\n",
       "      <td>0.022428</td>\n",
       "      <td>0.007292</td>\n",
       "      <td>0.007196</td>\n",
       "      <td>0.034201</td>\n",
       "      <td>0.007458</td>\n",
       "      <td>0.008846</td>\n",
       "      <td>0.025749</td>\n",
       "      <td>0.007199</td>\n",
       "      <td>0.023465</td>\n",
       "      <td>0.007107</td>\n",
       "      <td>0.007186</td>\n",
       "      <td>0.008708</td>\n",
       "      <td>0.008819</td>\n",
       "      <td>0.007145</td>\n",
       "      <td>0.022400</td>\n",
       "      <td>0.033496</td>\n",
       "      <td>0.007169</td>\n",
       "      <td>0.007339</td>\n",
       "      <td>0.020707</td>\n",
       "    </tr>\n",
       "    <tr>\n",
       "      <th>1999</th>\n",
       "      <td>2021-10-23 16:00:00+00:00</td>\n",
       "      <td>0.008756</td>\n",
       "      <td>93</td>\n",
       "      <td>0.022351</td>\n",
       "      <td>0.007332</td>\n",
       "      <td>0.007421</td>\n",
       "      <td>0.008740</td>\n",
       "      <td>0.007345</td>\n",
       "      <td>0.022252</td>\n",
       "      <td>0.022428</td>\n",
       "      <td>0.007292</td>\n",
       "      <td>0.007196</td>\n",
       "      <td>0.034201</td>\n",
       "      <td>0.007458</td>\n",
       "      <td>0.008846</td>\n",
       "      <td>0.025749</td>\n",
       "      <td>0.007199</td>\n",
       "      <td>0.023465</td>\n",
       "      <td>0.007107</td>\n",
       "      <td>0.007186</td>\n",
       "      <td>0.008708</td>\n",
       "      <td>0.008819</td>\n",
       "      <td>0.007145</td>\n",
       "      <td>0.022400</td>\n",
       "      <td>0.033496</td>\n",
       "      <td>0.007169</td>\n",
       "      <td>0.007339</td>\n",
       "    </tr>\n",
       "  </tbody>\n",
       "</table>\n",
       "<p>2000 rows × 27 columns</p>\n",
       "</div>"
      ],
      "text/plain": [
       "                      datetime  price_ban  ...        23        24\n",
       "0    2021-09-09 05:00:00+00:00   0.008681  ...       NaN       NaN\n",
       "1    2021-09-09 06:00:00+00:00   0.008569  ...       NaN       NaN\n",
       "2    2021-09-09 11:00:00+00:00   0.008541  ...       NaN       NaN\n",
       "3    2021-09-09 18:00:00+00:00   0.008598  ...       NaN       NaN\n",
       "4    2021-09-10 04:00:00+00:00   0.008543  ...       NaN       NaN\n",
       "...                        ...        ...  ...       ...       ...\n",
       "1995 2021-10-23 17:00:00+00:00   0.008740  ...  0.007274  0.032580\n",
       "1996 2021-09-25 19:00:00+00:00   0.007421  ...  0.025143  0.007274\n",
       "1997 2021-10-02 17:00:00+00:00   0.007332  ...  0.020707  0.025143\n",
       "1998 2021-11-11 15:00:00+00:00   0.022351  ...  0.007339  0.020707\n",
       "1999 2021-10-23 16:00:00+00:00   0.008756  ...  0.007169  0.007339\n",
       "\n",
       "[2000 rows x 27 columns]"
      ]
     },
     "execution_count": 63,
     "metadata": {},
     "output_type": "execute_result"
    }
   ],
   "source": [
    "test_copy = dfs[0].copy()\n",
    "for i in range(1,25):\n",
    "  test_copy[i] = test_copy['price_ban'].shift(i)\n",
    "test_copy"
   ]
  },
  {
   "cell_type": "code",
   "execution_count": 14,
   "metadata": {
    "colab": {
     "base_uri": "https://localhost:8080/"
    },
    "id": "LgZvI8SWlXUp",
    "outputId": "706723df-9160-46c4-e133-4cdf81b62fa6"
   },
   "outputs": [
    {
     "data": {
      "text/plain": [
       "(1, 48, 114)"
      ]
     },
     "execution_count": 14,
     "metadata": {},
     "output_type": "execute_result"
    }
   ],
   "source": [
    "tmp = np.expand_dims(X[0], axis= 0)\n",
    "tmp.shape"
   ]
  },
  {
   "cell_type": "code",
   "execution_count": 15,
   "metadata": {
    "id": "w9qSlmr1mYrw"
   },
   "outputs": [],
   "source": [
    "coins= 19"
   ]
  },
  {
   "cell_type": "code",
   "execution_count": 16,
   "metadata": {
    "colab": {
     "base_uri": "https://localhost:8080/"
    },
    "id": "pgn-bCX5lOop",
    "outputId": "8b2fd154-d621-4eb4-af84-388fefaee7bf"
   },
   "outputs": [
    {
     "data": {
      "text/plain": [
       "array([[ 0.31553674,  0.21041544,  0.7923707 ,  0.28320605,  0.396002  ,\n",
       "         0.47127327,  0.37066314,  0.5543442 ,  0.55429065,  0.42577204,\n",
       "         0.46080685,  0.36787444,  0.4856592 ,  0.47130674,  0.5204243 ,\n",
       "         0.34622315,  0.39906946,  0.27701303,  0.36052245],\n",
       "       [ 0.30914712,  0.22949186,  0.50520265,  0.44615734,  0.34465563,\n",
       "         0.47320473,  0.25999597,  0.54256266,  0.41961002,  0.4460569 ,\n",
       "         0.46280077,  0.20529649,  0.47121486,  0.5111708 ,  0.48269647,\n",
       "         0.41757593,  0.48477003,  0.3897669 ,  0.55606735],\n",
       "       [ 0.22259349,  0.21415877,  0.5276266 ,  0.38833866,  0.51240504,\n",
       "         0.34788808,  0.3572773 ,  0.52313423,  0.2872548 ,  0.30979413,\n",
       "         0.3244713 ,  0.37327462,  0.28110683,  0.33976188,  0.50581944,\n",
       "         0.36323744,  0.60346234,  0.29552832,  0.7177497 ],\n",
       "       [ 0.30582628,  0.37190184,  0.49335513,  0.25984845,  0.3298521 ,\n",
       "         0.3642701 ,  0.2569003 ,  0.38586026,  0.4872382 ,  0.43772966,\n",
       "         0.40259373,  0.3061123 ,  0.4608752 ,  0.5159956 ,  0.34456673,\n",
       "         0.37902167,  0.47576624,  0.36136866,  0.47348845],\n",
       "       [ 0.18415132,  0.27017996,  0.41016817,  0.2769524 ,  0.39129284,\n",
       "         0.38629454,  0.38440922,  0.46209347,  0.21607389,  0.06816272,\n",
       "         0.29762244,  0.35703608,  0.42090392,  0.21001215,  0.4315269 ,\n",
       "         0.3503652 ,  0.33580875,  0.3610593 ,  0.365826  ],\n",
       "       [ 0.32453024,  0.37525493,  0.5104784 ,  0.47024494,  0.43225247,\n",
       "         0.48889893,  0.30993125,  0.33295932,  0.5160726 ,  0.36578193,\n",
       "         0.14966597,  0.23169282,  0.43698147,  0.39765972,  0.48878607,\n",
       "         0.42546695,  0.43902892,  0.3456912 ,  0.62190443],\n",
       "       [ 0.32557178,  0.3749307 ,  0.5597911 ,  0.4073137 ,  0.52298737,\n",
       "         0.30144748,  0.11742844,  0.60918075,  0.38435084,  0.4460837 ,\n",
       "         0.4129858 ,  0.37737495,  0.5342579 ,  0.5393606 ,  0.5464467 ,\n",
       "         0.415332  ,  0.46413526,  0.36170837,  0.41147888],\n",
       "       [ 0.30903974,  0.3559659 ,  0.610798  ,  0.28480497,  0.21444422,\n",
       "         0.46606952,  0.3514417 ,  0.32053584,  0.54410887,  0.3848524 ,\n",
       "         0.45939383,  0.33154106,  0.3005553 ,  0.33787462,  0.23447725,\n",
       "         0.41766062,  0.49194834,  0.32180607,  0.5005177 ],\n",
       "       [ 0.33618778,  0.3585654 ,  0.49747398,  0.39560145,  0.59509236,\n",
       "         0.47278208,  0.3833088 ,  0.42412812,  0.55253315,  0.32290873,\n",
       "         0.4461692 ,  0.36355436,  0.36122712, -0.00859041, -0.01096409,\n",
       "         0.40494004,  0.19525811,  0.04800861,  0.48801768],\n",
       "       [ 0.2371582 ,  0.39748648,  0.6407488 ,  0.3917708 ,  0.541638  ,\n",
       "         0.0387047 ,  0.3600181 ,  0.33969545,  0.5760999 ,  0.36810696,\n",
       "         0.46723795,  0.3520839 ,  0.46170557,  0.48078415,  0.1906621 ,\n",
       "         0.36502162,  0.44613934,  0.34435448,  0.5430351 ],\n",
       "       [ 0.24802431,  0.4157247 ,  0.36641353,  0.45460954,  0.56117123,\n",
       "         0.46775785,  0.37435904,  0.58905584,  0.49543554,  0.3866998 ,\n",
       "         0.46929196,  0.35474768,  0.3267726 ,  0.538448  ,  0.465247  ,\n",
       "         0.45271382,  0.57378906,  0.35553363,  0.6581927 ],\n",
       "       [ 0.33050463,  0.41839033,  0.51773816,  0.4545694 ,  0.34262702,\n",
       "         0.42867124,  0.37788203,  0.1930486 ,  0.5347407 ,  0.47321177,\n",
       "         0.02448812,  0.25015414,  0.47444478,  0.3907866 ,  0.6124561 ,\n",
       "         0.45480978,  0.5188876 ,  0.37858137,  0.72989535],\n",
       "       [ 0.32555878,  0.37595373,  0.64320296,  0.47014955,  0.48644778,\n",
       "         0.48870185,  0.33520222,  0.5684272 ,  0.5452087 ,  0.14877579,\n",
       "         0.50384486,  0.30838698,  0.3677106 ,  0.40816236,  0.56807494,\n",
       "         0.3453054 ,  0.5663879 ,  0.24688263,  0.26814854],\n",
       "       [ 0.21444385,  0.3967702 ,  0.61832875,  0.2014783 ,  0.49114203,\n",
       "         0.47906733,  0.36732125,  0.10370722,  0.57624316,  0.43332037,\n",
       "         0.25559512,  0.414435  ,  0.49846604,  0.5211403 ,  0.39077318,\n",
       "         0.43736002,  0.29382554,  0.3719845 ,  0.5029045 ],\n",
       "       [ 0.33825225,  0.38102454,  0.6288687 ,  0.17692153,  0.44954127,\n",
       "         0.51255155,  0.37350094,  0.58527124,  0.41847986,  0.44978505,\n",
       "         0.4628415 ,  0.41937852,  0.18901643,  0.22637513,  0.4776564 ,\n",
       "         0.43452412,  0.35507616,  0.38118222,  0.70387715],\n",
       "       [ 0.3106057 ,  0.32114035,  0.15024391,  0.48485345,  0.48770446,\n",
       "         0.4634873 ,  0.3806657 ,  0.5380759 ,  0.49392906,  0.4170298 ,\n",
       "         0.20349243,  0.4070967 ,  0.5080016 ,  0.54401976,  0.5605876 ,\n",
       "         0.42726806,  0.5175699 ,  0.3434964 ,  0.49060503],\n",
       "       [ 0.3059    ,  0.41248393,  0.5465067 ,  0.45244306,  0.49795395,\n",
       "         0.40629998,  0.28021654,  0.538328  ,  0.2837511 ,  0.45050162,\n",
       "         0.4918822 ,  0.1997898 ,  0.46822223,  0.50842816,  0.47766927,\n",
       "         0.3707195 ,  0.5733702 ,  0.33880422,  0.3937458 ],\n",
       "       [ 0.29867482,  0.39364213,  0.26393113,  0.4690031 ,  0.29458043,\n",
       "         0.42057145,  0.38448426,  0.37263596,  0.42164412,  0.3817395 ,\n",
       "         0.4349262 ,  0.4091519 ,  0.2632058 ,  0.36136943,  0.44863296,\n",
       "         0.45006162,  0.2933121 ,  0.39582103,  0.43219215],\n",
       "       [ 0.32526368,  0.3872682 ,  0.5946322 ,  0.35307798,  0.31873703,\n",
       "         0.35413095,  0.40586537,  0.22987452,  0.5736943 ,  0.4396294 ,\n",
       "         0.43717483,  0.434351  ,  0.4612131 ,  0.5446623 ,  0.41700098,\n",
       "         0.3705645 ,  0.1906729 ,  0.2708958 ,  0.5555861 ],\n",
       "       [ 0.11639339,  0.4000656 ,  0.31696352,  0.30803418,  0.1250837 ,\n",
       "         0.47722968,  0.37839818,  0.25011113,  0.5384533 ,  0.44760135,\n",
       "         0.3728361 ,  0.3936614 ,  0.3662965 ,  0.523196  ,  0.5250596 ,\n",
       "         0.34378266,  0.3564454 ,  0.25354955,  0.56282127],\n",
       "       [ 0.32289445,  0.3600425 ,  0.4590243 ,  0.4563564 ,  0.34429696,\n",
       "         0.44857746,  0.23396873,  0.6059581 ,  0.38860333,  0.33918837,\n",
       "         0.4480373 ,  0.26662746,  0.45262763,  0.30906606,  0.30846512,\n",
       "         0.44222003,  0.62098277,  0.35517105,  0.28563005],\n",
       "       [ 0.32227403,  0.37885532,  0.41694486,  0.461188  ,  0.5712068 ,\n",
       "         0.16304505,  0.3873458 ,  0.6365841 ,  0.3146096 ,  0.3279888 ,\n",
       "         0.47144642,  0.28672352,  0.32721862,  0.2517558 ,  0.56509596,\n",
       "         0.45288917,  0.45010224,  0.3692703 ,  0.3234209 ],\n",
       "       [ 0.31409478,  0.39816245,  0.5655324 ,  0.37163174,  0.44804084,\n",
       "         0.4316711 ,  0.3789505 ,  0.41941816,  0.20276456,  0.28395337,\n",
       "         0.47557214,  0.41084215,  0.41156694,  0.55300885,  0.3560157 ,\n",
       "         0.43725884,  0.4759885 ,  0.38016438,  0.28064337],\n",
       "       [ 0.29705414,  0.40124694,  0.7477376 ,  0.40364075,  0.42017558,\n",
       "         0.18898934,  0.29400027,  0.54006326,  0.50362027,  0.4856717 ,\n",
       "         0.09726508,  0.35170487,  0.40332642,  0.48239857,  0.45997596,\n",
       "         0.11098696,  0.05384714,  0.24939476,  0.5440953 ]],\n",
       "      dtype=float32)"
      ]
     },
     "execution_count": 16,
     "metadata": {},
     "output_type": "execute_result"
    }
   ],
   "source": [
    "pred = model.predict(tmp).reshape(horizon, coins)\n",
    "pred"
   ]
  },
  {
   "cell_type": "code",
   "execution_count": 17,
   "metadata": {
    "colab": {
     "base_uri": "https://localhost:8080/"
    },
    "id": "G7ddJALHmkMf",
    "outputId": "14ae27d5-e8b5-48f1-cb30-4d156c4a170b"
   },
   "outputs": [
    {
     "data": {
      "text/plain": [
       "[MinMaxScaler(),\n",
       " MinMaxScaler(),\n",
       " MinMaxScaler(),\n",
       " MinMaxScaler(),\n",
       " MinMaxScaler(),\n",
       " MinMaxScaler(),\n",
       " MinMaxScaler(),\n",
       " MinMaxScaler(),\n",
       " MinMaxScaler(),\n",
       " MinMaxScaler(),\n",
       " MinMaxScaler(),\n",
       " MinMaxScaler(),\n",
       " MinMaxScaler(),\n",
       " MinMaxScaler(),\n",
       " MinMaxScaler(),\n",
       " MinMaxScaler(),\n",
       " MinMaxScaler(),\n",
       " MinMaxScaler(),\n",
       " MinMaxScaler()]"
      ]
     },
     "execution_count": 17,
     "metadata": {},
     "output_type": "execute_result"
    }
   ],
   "source": [
    "scalers"
   ]
  },
  {
   "cell_type": "code",
   "execution_count": 18,
   "metadata": {
    "id": "ohxDgueCmPGR"
   },
   "outputs": [],
   "source": [
    "df = pd.DataFrame(pred)"
   ]
  },
  {
   "cell_type": "markdown",
   "metadata": {
    "id": "eN2-X4m0IgT-"
   },
   "source": [
    "# Inverse Transform"
   ]
  },
  {
   "cell_type": "code",
   "execution_count": 1,
   "metadata": {
    "id": "Qiv4wv0bIi00"
   },
   "outputs": [],
   "source": [
    "def inverse_transformer(y, scaler):\n",
    "\n",
    "  # inverse scaling\n",
    "  y = np.c_[y, 1,1,1,1,1]\n",
    "  y = scaler.inverse_transform(y)\n",
    "  y= y[:,0]\n",
    "  \n",
    "  # inverse log-transforming\n",
    "  y = np.exp(y)[0]\n",
    "  return y\n",
    "\n",
    "def reshape_predictions(prediction_dataframe, list_of_scalers, list_of_dfs):\n",
    "\n",
    "  for i in range(0,prediction_dataframe.shape[1]):\n",
    "  \n",
    "    scaler = scalers[i]\n",
    "    prediction_dataframe[i] = prediction_dataframe[i].apply(lambda x: inverse_transformer(x,scaler))\n",
    "    \n",
    "    # renaming columns\n",
    "    prediction_dataframe.columns = list_of_dfs"
   ]
  },
  {
   "cell_type": "code",
   "execution_count": null,
   "metadata": {
    "id": "gLvKTZ-f_QNv"
   },
   "outputs": [],
   "source": [
    "real_stock_price_doge = inverse_transformer(y_pad_test[0],scaler_doge)\n",
    "real_stock_price_samo = inverse_transformer(y_pad_test[1],scaler_samo)\n",
    "\n",
    "\n",
    "predicted_stock_price = inverse_transformer(model.predict(X_pad_test), scaler_doge)"
   ]
  },
  {
   "cell_type": "code",
   "execution_count": null,
   "metadata": {
    "id": "0wdwV-_7AOKw"
   },
   "outputs": [],
   "source": [
    "np.exp(real_stock_price_doge)"
   ]
  },
  {
   "cell_type": "markdown",
   "metadata": {
    "id": "IPsoRZ6FIbJ4"
   },
   "source": [
    "# Inverse Log Transform"
   ]
  },
  {
   "cell_type": "code",
   "execution_count": null,
   "metadata": {
    "id": "bMD4m8MJIbT-"
   },
   "outputs": [],
   "source": [
    "real_stock_price_doge = np.exp(real_stock_price_doge)\n",
    "real_stock_price_samo = np.exp(real_stock_price_samo)\n",
    "\n",
    "#predicted_stock_price = np.exp(predicted_stock_price)\n",
    "\n",
    "#predicted_stock_price.shape"
   ]
  },
  {
   "cell_type": "code",
   "execution_count": null,
   "metadata": {
    "id": "1zvQYbIp46-m"
   },
   "outputs": [],
   "source": [
    ""
   ]
  },
  {
   "cell_type": "markdown",
   "metadata": {
    "id": "9zbtqDkQIsFi"
   },
   "source": [
    "# Evaluate"
   ]
  },
  {
   "cell_type": "code",
   "execution_count": null,
   "metadata": {
    "id": "96hv9_sWxkuk"
   },
   "outputs": [],
   "source": [
    "rmse = np.sqrt(mean_squared_error(real_stock_price, predicted_stock_price))\n",
    "\n",
    "print(f\"RMSE = {rmse}\")\n",
    "\n",
    "plt.figure(figsize= (15,7))\n",
    "plt.plot(real_stock_price, color = 'blue', label = \"Real Price\")\n",
    "plt.plot(predicted_stock_price, color = 'red', label = \"Predicted Price\")\n",
    "plt.title(\"Dogecoin Price Prediction\")\n",
    "plt.xlabel(\"Time\")\n",
    "plt.ylabel(\"Dogecoin Price\")\n",
    "plt.legend()\n",
    "\n",
    "plt.show()"
   ]
  },
  {
   "cell_type": "markdown",
   "metadata": {
    "id": "WETr6hj7KduS"
   },
   "source": [
    "# Notes on different model performances"
   ]
  },
  {
   "cell_type": "code",
   "execution_count": null,
   "metadata": {
    "id": "pX7ar8prKgfE"
   },
   "outputs": [],
   "source": [
    "eval_dict = {\"optimizer\": [\"adam\",\"adam\",\"adam\",\"adam\",\"adam\",\"adam\",\"adam\",\"adam\",\"adam\", \"adam\", \"rmsprop\", \"rmsprop\", \"adam\"],\n",
    "             \"loss\": [\"mse\",\"mse\",\"mse\",\"mse\",\"mse\",\"mse\",\"mse\",\"mse\",\"mse\", \"mse\", \"mse\", \"mse\", \"mse\"],\n",
    "              \"history_size\": [14, 14, 3, 3, 2, 1, 2, 2, 2, 2, 2, 2, 2],\n",
    "             \"epochs\": [500, 500, 500, 500, 500, 500, 500, 500, 500, 500, 500, 500, 500],\n",
    "             \"layer0\": [50,50,50,50,50,50, 50, 50, 50, 50, 50, 100, 100],\n",
    "            \"layer1\": [10, 20, 20, 20, 50, 50, 0, 50, 20, 20, 50, 10, 10],\n",
    "           \"layer2\": [10, 10, 10, 20, 10, 10, 0, 50, 0, 10, 10, 0, 0],\n",
    "           \"layer3\": [0, 0, 0, 10, 0, 0, 0, 0, 0, 0, 0, 0, 0],\n",
    "           \"layer4\": [0, 0, 0, 0, 0, 0, 0, 0, 0, 0, 0, 0, 0],\n",
    "           \"layer5\": [0, 0, 0, 0, 0, 0,0, 0, 0, 0, 0, 0, 0],\n",
    "            \"output\": [1, 1, 1, 1, 1, 1, 1, 1, 1, 1, 1, 1, 1],\n",
    "             \"batch_size\": [32,32,32,32,32,32,32,32,32,32,32,32,32],\n",
    "           \"rmse\": [0.051, 0.037, 0.017, 0.018, 0.014, 0.021, 0.020, 0.023, np.NaN, 0.023, np.NaN, 0.020, 0.022]}\n",
    "\n",
    "eval_df = pd.DataFrame.from_dict(eval_dict)\n",
    "\n",
    "#for k,v in eval_dict.items():\n",
    "  #print(f\"{k} : {len(v)}\")\n",
    "\n",
    "eval_df"
   ]
  },
  {
   "cell_type": "code",
   "execution_count": null,
   "metadata": {
    "id": "daEMhsJwaWtu"
   },
   "outputs": [],
   "source": [
    "df_final.head()"
   ]
  },
  {
   "cell_type": "code",
   "execution_count": null,
   "metadata": {
    "id": "Gt68pUaHcyPg"
   },
   "outputs": [],
   "source": [
    "df_pred = pd.DataFrame(X_test[0], columns= [\"high\", \"Google_trends\"])\n",
    "df_pred"
   ]
  },
  {
   "cell_type": "code",
   "execution_count": null,
   "metadata": {
    "id": "VHDIkR-GNVr_"
   },
   "outputs": [],
   "source": [
    "def preprocess(df, scaler):\n",
    "    \"\"\"method that pre-process the data\"\"\"\n",
    "\n",
    "    # log transforming the data\n",
    "    df[\"high\"] = np.log(df[\"high\"])\n",
    "\n",
    "    # selecting relevant column from df\n",
    "    dataset = df.values\n",
    "\n",
    "    # scaling the data\n",
    "    dataset_scaled = scaler.fit_transform(dataset)\n",
    "\n",
    "    dataset_scaled = dataset_scaled.reshape(1,dataset.shape[0],dataset.shape[1])\n",
    "\n",
    "    return dataset_scaled, scaler\n",
    "\n",
    "\n",
    "def inverse_scaler(pred, scaler):\n",
    "\n",
    "  pred = inverse_transformer(pred)\n",
    "\n",
    "  pred = np.exp(pred)\n",
    "\n",
    "  return pred"
   ]
  },
  {
   "cell_type": "code",
   "execution_count": null,
   "metadata": {
    "id": "inOyBVSOkKrc"
   },
   "outputs": [],
   "source": [
    "df_pred_preproc, scaler = preprocess(df_pred, scaler)"
   ]
  },
  {
   "cell_type": "code",
   "execution_count": null,
   "metadata": {
    "id": "Llsx2R8TkRGX"
   },
   "outputs": [],
   "source": [
    "pred = model.predict(df_pred_preproc)\n",
    "prediction = inverse_scaler(pred, scaler)[0][0]\n",
    "\n",
    "prediction"
   ]
  },
  {
   "cell_type": "code",
   "execution_count": null,
   "metadata": {
    "id": "3-qF-_3Uj2Yn"
   },
   "outputs": [],
   "source": [
    "df_pred_preproc.shape"
   ]
  },
  {
   "cell_type": "code",
   "execution_count": null,
   "metadata": {
    "id": "4u1CyNRcdI23"
   },
   "outputs": [],
   "source": [
    "pred = model.predict(df_pred_preproc)[0][0]\n",
    "pred"
   ]
  },
  {
   "cell_type": "code",
   "execution_count": null,
   "metadata": {
    "id": "4LgHP7wPjp7B"
   },
   "outputs": [],
   "source": [
    ""
   ]
  },
  {
   "cell_type": "markdown",
   "metadata": {
    "id": "vchgMrky-uKx"
   },
   "source": [
    "# Features"
   ]
  },
  {
   "cell_type": "markdown",
   "metadata": {
    "id": "BXcsR92k-wKj"
   },
   "source": [
    "- historical price data\n",
    "- google price data\n",
    "- rendite (calculate daily return)\n",
    "- kumulierte rendite (z.b. letzte 5 Tage)\n",
    "- short term moving average (letzte 10 Tage)\n",
    "- long term moving average (letzte 30 Tage)\n",
    "- alternativ: binäres feature (liegt kurzfristiger MA über langfristigen MA)\n",
    "- talib (financial indicators inkludieren)\n",
    "- talib RSI (relative strength index)\n",
    "- volumen inkludieren\n",
    "\n",
    "- evtl. auf Klassifikationsproblem umsteigen"
   ]
  },
  {
   "cell_type": "code",
   "execution_count": null,
   "metadata": {
    "id": "YUdF_ipZdnND"
   },
   "outputs": [],
   "source": [
    ""
   ]
  }
 ],
 "metadata": {
  "colab": {
   "collapsed_sections": [],
   "name": "RNN_Model_Env_morten.ipynb",
   "provenance": []
  },
  "kernelspec": {
   "display_name": "Python 3 (ipykernel)",
   "language": "python",
   "name": "python3"
  },
  "language_info": {
   "codemirror_mode": {
    "name": "ipython",
    "version": 3
   },
   "file_extension": ".py",
   "mimetype": "text/x-python",
   "name": "python",
   "nbconvert_exporter": "python",
   "pygments_lexer": "ipython3",
   "version": "3.8.12"
  },
  "toc": {
   "base_numbering": 1,
   "nav_menu": {},
   "number_sections": true,
   "sideBar": true,
   "skip_h1_title": false,
   "title_cell": "Table of Contents",
   "title_sidebar": "Contents",
   "toc_cell": false,
   "toc_position": {},
   "toc_section_display": true,
   "toc_window_display": false
  }
 },
 "nbformat": 4,
 "nbformat_minor": 0
}
