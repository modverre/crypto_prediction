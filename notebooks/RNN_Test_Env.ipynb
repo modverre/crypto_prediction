{
  "nbformat": 4,
  "nbformat_minor": 5,
  "metadata": {
    "colab": {
      "name": "RNN_Test_Env.ipynb",
      "provenance": [],
      "collapsed_sections": []
    },
    "kernelspec": {
      "display_name": "Python 3 (ipykernel)",
      "language": "python",
      "name": "python3"
    },
    "language_info": {
      "codemirror_mode": {
        "name": "ipython",
        "version": 3
      },
      "file_extension": ".py",
      "mimetype": "text/x-python",
      "name": "python",
      "nbconvert_exporter": "python",
      "pygments_lexer": "ipython3",
      "version": "3.8.12"
    },
    "toc": {
      "base_numbering": 1,
      "nav_menu": {},
      "number_sections": true,
      "sideBar": true,
      "skip_h1_title": false,
      "title_cell": "Table of Contents",
      "title_sidebar": "Contents",
      "toc_cell": false,
      "toc_position": {},
      "toc_section_display": true,
      "toc_window_display": false
    },
    "accelerator": "GPU"
  },
  "cells": [
    {
      "cell_type": "markdown",
      "metadata": {
        "id": "bb3ac838"
      },
      "source": [
        "# RNN - Model"
      ],
      "id": "bb3ac838"
    },
    {
      "cell_type": "markdown",
      "metadata": {
        "id": "d9eee833"
      },
      "source": [
        "This Notebook will be used to create and iterate over our RNN - Model to predict Memecoin Prices."
      ],
      "id": "d9eee833"
    },
    {
      "cell_type": "markdown",
      "metadata": {
        "id": "d222da83"
      },
      "source": [
        "### Imports"
      ],
      "id": "d222da83"
    },
    {
      "cell_type": "code",
      "metadata": {
        "id": "c2f77186"
      },
      "source": [
        "import pandas as pd\n",
        "import numpy as np\n",
        "import matplotlib.pyplot as plt"
      ],
      "id": "c2f77186",
      "execution_count": null,
      "outputs": []
    },
    {
      "cell_type": "code",
      "metadata": {
        "id": "NpeaJ-XddWOF"
      },
      "source": [
        "from sklearn.preprocessing import MinMaxScaler"
      ],
      "id": "NpeaJ-XddWOF",
      "execution_count": null,
      "outputs": []
    },
    {
      "cell_type": "code",
      "metadata": {
        "id": "e453965e"
      },
      "source": [
        "from tensorflow.keras.models import Sequential\n",
        "from tensorflow.keras.layers import Dense\n",
        "from tensorflow.keras.layers import LSTM\n",
        "from tensorflow.keras.layers import Dropout\n",
        "from tensorflow.keras.callbacks import EarlyStopping"
      ],
      "id": "e453965e",
      "execution_count": null,
      "outputs": []
    },
    {
      "cell_type": "markdown",
      "metadata": {
        "id": "332098c5"
      },
      "source": [
        "### Data"
      ],
      "id": "332098c5"
    },
    {
      "cell_type": "code",
      "metadata": {
        "id": "91a102f9"
      },
      "source": [
        "url_train = 'https://raw.githubusercontent.com/TatevKaren/recurrent-neural-network-pricing-model/main/bitcoin_data/Bitcoin_Stock_Price_Trainset.csv'\n",
        "url_test = 'https://raw.githubusercontent.com/TatevKaren/recurrent-neural-network-pricing-model/main/bitcoin_data/Bitcoin_Stock_Price_Testset.csv'\n",
        "\n",
        "df_train = pd.read_csv(url_train,index_col=0,parse_dates=[0])\n",
        "df_test = pd.read_csv(url_test,index_col=0,parse_dates=[0])"
      ],
      "id": "91a102f9",
      "execution_count": null,
      "outputs": []
    },
    {
      "cell_type": "code",
      "metadata": {
        "colab": {
          "base_uri": "https://localhost:8080/",
          "height": 230
        },
        "id": "da03e955",
        "outputId": "972c8989-78c5-4529-aff7-73ecaa3481ec"
      },
      "source": [
        "df_train.head()"
      ],
      "id": "da03e955",
      "execution_count": null,
      "outputs": [
        {
          "output_type": "execute_result",
          "data": {
            "text/html": [
              "<div>\n",
              "<style scoped>\n",
              "    .dataframe tbody tr th:only-of-type {\n",
              "        vertical-align: middle;\n",
              "    }\n",
              "\n",
              "    .dataframe tbody tr th {\n",
              "        vertical-align: top;\n",
              "    }\n",
              "\n",
              "    .dataframe thead th {\n",
              "        text-align: right;\n",
              "    }\n",
              "</style>\n",
              "<table border=\"1\" class=\"dataframe\">\n",
              "  <thead>\n",
              "    <tr style=\"text-align: right;\">\n",
              "      <th></th>\n",
              "      <th>Open</th>\n",
              "      <th>High</th>\n",
              "      <th>Low</th>\n",
              "      <th>Close</th>\n",
              "      <th>Adj Close</th>\n",
              "      <th>Volume</th>\n",
              "    </tr>\n",
              "    <tr>\n",
              "      <th>Date</th>\n",
              "      <th></th>\n",
              "      <th></th>\n",
              "      <th></th>\n",
              "      <th></th>\n",
              "      <th></th>\n",
              "      <th></th>\n",
              "    </tr>\n",
              "  </thead>\n",
              "  <tbody>\n",
              "    <tr>\n",
              "      <th>2016-01-01</th>\n",
              "      <td>430.721008</td>\n",
              "      <td>436.246002</td>\n",
              "      <td>427.515015</td>\n",
              "      <td>434.334015</td>\n",
              "      <td>434.334015</td>\n",
              "      <td>36278900</td>\n",
              "    </tr>\n",
              "    <tr>\n",
              "      <th>2016-01-02</th>\n",
              "      <td>434.622009</td>\n",
              "      <td>436.062012</td>\n",
              "      <td>431.869995</td>\n",
              "      <td>433.437988</td>\n",
              "      <td>433.437988</td>\n",
              "      <td>30096600</td>\n",
              "    </tr>\n",
              "    <tr>\n",
              "      <th>2016-01-03</th>\n",
              "      <td>433.578003</td>\n",
              "      <td>433.743011</td>\n",
              "      <td>424.705994</td>\n",
              "      <td>430.010986</td>\n",
              "      <td>430.010986</td>\n",
              "      <td>39633800</td>\n",
              "    </tr>\n",
              "    <tr>\n",
              "      <th>2016-01-04</th>\n",
              "      <td>430.061005</td>\n",
              "      <td>434.516998</td>\n",
              "      <td>429.084015</td>\n",
              "      <td>433.091003</td>\n",
              "      <td>433.091003</td>\n",
              "      <td>38477500</td>\n",
              "    </tr>\n",
              "    <tr>\n",
              "      <th>2016-01-05</th>\n",
              "      <td>433.069000</td>\n",
              "      <td>434.182007</td>\n",
              "      <td>429.675995</td>\n",
              "      <td>431.959991</td>\n",
              "      <td>431.959991</td>\n",
              "      <td>34522600</td>\n",
              "    </tr>\n",
              "  </tbody>\n",
              "</table>\n",
              "</div>"
            ],
            "text/plain": [
              "                  Open        High  ...   Adj Close    Volume\n",
              "Date                                ...                      \n",
              "2016-01-01  430.721008  436.246002  ...  434.334015  36278900\n",
              "2016-01-02  434.622009  436.062012  ...  433.437988  30096600\n",
              "2016-01-03  433.578003  433.743011  ...  430.010986  39633800\n",
              "2016-01-04  430.061005  434.516998  ...  433.091003  38477500\n",
              "2016-01-05  433.069000  434.182007  ...  431.959991  34522600\n",
              "\n",
              "[5 rows x 6 columns]"
            ]
          },
          "metadata": {},
          "execution_count": 20
        }
      ]
    },
    {
      "cell_type": "code",
      "metadata": {
        "colab": {
          "base_uri": "https://localhost:8080/"
        },
        "id": "f323e714",
        "outputId": "6efd2da0-29fb-44f8-a7a0-8e5bbff25453"
      },
      "source": [
        "df_train.info()"
      ],
      "id": "f323e714",
      "execution_count": null,
      "outputs": [
        {
          "output_type": "stream",
          "name": "stdout",
          "text": [
            "<class 'pandas.core.frame.DataFrame'>\n",
            "DatetimeIndex: 1823 entries, 2016-01-01 to 2020-12-31\n",
            "Data columns (total 6 columns):\n",
            " #   Column     Non-Null Count  Dtype  \n",
            "---  ------     --------------  -----  \n",
            " 0   Open       1823 non-null   float64\n",
            " 1   High       1823 non-null   float64\n",
            " 2   Low        1823 non-null   float64\n",
            " 3   Close      1823 non-null   float64\n",
            " 4   Adj Close  1823 non-null   float64\n",
            " 5   Volume     1823 non-null   int64  \n",
            "dtypes: float64(5), int64(1)\n",
            "memory usage: 99.7 KB\n"
          ]
        }
      ]
    },
    {
      "cell_type": "code",
      "metadata": {
        "id": "lAnPAoG_eD3y"
      },
      "source": [
        "training_set = df_train.iloc[:,1:2].values"
      ],
      "id": "lAnPAoG_eD3y",
      "execution_count": null,
      "outputs": []
    },
    {
      "cell_type": "code",
      "metadata": {
        "colab": {
          "base_uri": "https://localhost:8080/"
        },
        "id": "nESMYQQADujH",
        "outputId": "bacfc9f8-8b0f-431a-f1ad-dd5d5e2fd1ed"
      },
      "source": [
        "# only using \"high\" column for prediction\n",
        "training_set"
      ],
      "id": "nESMYQQADujH",
      "execution_count": null,
      "outputs": [
        {
          "output_type": "execute_result",
          "data": {
            "text/plain": [
              "array([[  436.246002],\n",
              "       [  436.062012],\n",
              "       [  433.743011],\n",
              "       ...,\n",
              "       [27370.7207  ],\n",
              "       [28937.74023 ],\n",
              "       [29244.87695 ]])"
            ]
          },
          "metadata": {},
          "execution_count": 23
        }
      ]
    },
    {
      "cell_type": "markdown",
      "metadata": {
        "id": "uMGpetq4GPIw"
      },
      "source": [
        "## Scaling"
      ],
      "id": "uMGpetq4GPIw"
    },
    {
      "cell_type": "code",
      "metadata": {
        "id": "W0YKKuXeDPU-"
      },
      "source": [
        "from sklearn.preprocessing import RobustScaler"
      ],
      "id": "W0YKKuXeDPU-",
      "execution_count": null,
      "outputs": []
    },
    {
      "cell_type": "code",
      "metadata": {
        "id": "nTR28Ld_DPaE"
      },
      "source": [
        "scaler = RobustScaler()\n",
        "\n",
        "training_set_sc = scaler.fit_transform(training_set)"
      ],
      "id": "nTR28Ld_DPaE",
      "execution_count": null,
      "outputs": []
    },
    {
      "cell_type": "code",
      "metadata": {
        "id": "f-_YFKv8EGja"
      },
      "source": [
        "X_train = []\n",
        "y_train = []\n",
        "\n",
        "for i in range(90, training_set_sc.shape[0]):\n",
        "  X_train.append(training_set_sc[i-90:i,0])\n",
        "  y_train.append(training_set_sc[i,0])\n",
        "\n",
        "X_train, y_train = np.array(X_train), np.array(y_train)"
      ],
      "id": "f-_YFKv8EGja",
      "execution_count": 47,
      "outputs": []
    },
    {
      "cell_type": "code",
      "metadata": {
        "colab": {
          "base_uri": "https://localhost:8080/"
        },
        "id": "hmmCKkiyF4zt",
        "outputId": "61b0305b-a4f5-4bba-a1c8-d6cce04a4c8a"
      },
      "source": [
        "X_train.shape"
      ],
      "id": "hmmCKkiyF4zt",
      "execution_count": 48,
      "outputs": [
        {
          "output_type": "execute_result",
          "data": {
            "text/plain": [
              "(1733, 90)"
            ]
          },
          "metadata": {},
          "execution_count": 48
        }
      ]
    },
    {
      "cell_type": "markdown",
      "metadata": {
        "id": "560545cc"
      },
      "source": [
        "# Modeling"
      ],
      "id": "560545cc"
    },
    {
      "cell_type": "code",
      "metadata": {
        "colab": {
          "base_uri": "https://localhost:8080/"
        },
        "id": "2ee02d92",
        "outputId": "1a22f8fe-c461-4f09-b9f4-90538b4c5cbe"
      },
      "source": [
        "regressor = Sequential()\n",
        "\n",
        "# LSTM layer 1\n",
        "regressor.add(LSTM(units = 50, return_sequences=True, input_shape = (X_train.shape[1], 1)))\n",
        "regressor.add(Dropout(0.2))\n",
        "\n",
        "# LSTM layer 2,3,4\n",
        "regressor.add(LSTM(units = 50, return_sequences=True))\n",
        "regressor.add(Dropout(0.2))\n",
        "regressor.add(LSTM(units = 50, return_sequences=True))\n",
        "regressor.add(Dropout(0.2))\n",
        "regressor.add(LSTM(units = 50, return_sequences=True))\n",
        "regressor.add(Dropout(0.2))\n",
        "regressor.add(LSTM(units = 50, return_sequences=True))\n",
        "regressor.add(Dropout(0.2))\n",
        "\n",
        "# LSTM layer 5\n",
        "regressor.add(LSTM(units = 50))\n",
        "regressor.add(Dropout(0.2))\n",
        "\n",
        "# Fully connected layer\n",
        "regressor.add(Dense(units = 1))\n",
        "\n",
        "# Compiling the RNN\n",
        "regressor.compile(optimizer = 'adam', loss = 'mean_squared_error')\n",
        "\n",
        "# Specifying Early Stopping Criterion\n",
        "es = EarlyStopping(patience= 4, restore_best_weights=True)\n",
        "\n",
        "#Fitting the RNN model\n",
        "regressor.fit(X_train, \n",
        "              y_train, \n",
        "              epochs = 20, \n",
        "              batch_size = 32,\n",
        "              callbacks= [es])"
      ],
      "id": "2ee02d92",
      "execution_count": 49,
      "outputs": [
        {
          "output_type": "stream",
          "name": "stdout",
          "text": [
            "Epoch 1/20\n",
            "55/55 [==============================] - ETA: 0s - loss: 0.0796WARNING:tensorflow:Early stopping conditioned on metric `val_loss` which is not available. Available metrics are: loss\n",
            "55/55 [==============================] - 18s 135ms/step - loss: 0.0796\n",
            "Epoch 2/20\n",
            "55/55 [==============================] - ETA: 0s - loss: 0.0344WARNING:tensorflow:Early stopping conditioned on metric `val_loss` which is not available. Available metrics are: loss\n",
            "55/55 [==============================] - 7s 134ms/step - loss: 0.0344\n",
            "Epoch 3/20\n",
            "55/55 [==============================] - ETA: 0s - loss: 0.0269WARNING:tensorflow:Early stopping conditioned on metric `val_loss` which is not available. Available metrics are: loss\n",
            "55/55 [==============================] - 7s 134ms/step - loss: 0.0269\n",
            "Epoch 4/20\n",
            "55/55 [==============================] - ETA: 0s - loss: 0.0214WARNING:tensorflow:Early stopping conditioned on metric `val_loss` which is not available. Available metrics are: loss\n",
            "55/55 [==============================] - 7s 135ms/step - loss: 0.0214\n",
            "Epoch 5/20\n",
            "55/55 [==============================] - ETA: 0s - loss: 0.0232WARNING:tensorflow:Early stopping conditioned on metric `val_loss` which is not available. Available metrics are: loss\n",
            "55/55 [==============================] - 7s 135ms/step - loss: 0.0232\n",
            "Epoch 6/20\n",
            "55/55 [==============================] - ETA: 0s - loss: 0.0203WARNING:tensorflow:Early stopping conditioned on metric `val_loss` which is not available. Available metrics are: loss\n",
            "55/55 [==============================] - 7s 135ms/step - loss: 0.0203\n",
            "Epoch 7/20\n",
            "55/55 [==============================] - ETA: 0s - loss: 0.0175WARNING:tensorflow:Early stopping conditioned on metric `val_loss` which is not available. Available metrics are: loss\n",
            "55/55 [==============================] - 7s 135ms/step - loss: 0.0175\n",
            "Epoch 8/20\n",
            "55/55 [==============================] - ETA: 0s - loss: 0.0179WARNING:tensorflow:Early stopping conditioned on metric `val_loss` which is not available. Available metrics are: loss\n",
            "55/55 [==============================] - 7s 135ms/step - loss: 0.0179\n",
            "Epoch 9/20\n",
            "55/55 [==============================] - ETA: 0s - loss: 0.0159WARNING:tensorflow:Early stopping conditioned on metric `val_loss` which is not available. Available metrics are: loss\n",
            "55/55 [==============================] - 7s 134ms/step - loss: 0.0159\n",
            "Epoch 10/20\n",
            "55/55 [==============================] - ETA: 0s - loss: 0.0157WARNING:tensorflow:Early stopping conditioned on metric `val_loss` which is not available. Available metrics are: loss\n",
            "55/55 [==============================] - 7s 135ms/step - loss: 0.0157\n",
            "Epoch 11/20\n",
            "55/55 [==============================] - ETA: 0s - loss: 0.0164WARNING:tensorflow:Early stopping conditioned on metric `val_loss` which is not available. Available metrics are: loss\n",
            "55/55 [==============================] - 7s 135ms/step - loss: 0.0164\n",
            "Epoch 12/20\n",
            "55/55 [==============================] - ETA: 0s - loss: 0.0180WARNING:tensorflow:Early stopping conditioned on metric `val_loss` which is not available. Available metrics are: loss\n",
            "55/55 [==============================] - 7s 133ms/step - loss: 0.0180\n",
            "Epoch 13/20\n",
            "55/55 [==============================] - ETA: 0s - loss: 0.0149WARNING:tensorflow:Early stopping conditioned on metric `val_loss` which is not available. Available metrics are: loss\n",
            "55/55 [==============================] - 7s 134ms/step - loss: 0.0149\n",
            "Epoch 14/20\n",
            "55/55 [==============================] - ETA: 0s - loss: 0.0139WARNING:tensorflow:Early stopping conditioned on metric `val_loss` which is not available. Available metrics are: loss\n",
            "55/55 [==============================] - 7s 135ms/step - loss: 0.0139\n",
            "Epoch 15/20\n",
            "55/55 [==============================] - ETA: 0s - loss: 0.0214WARNING:tensorflow:Early stopping conditioned on metric `val_loss` which is not available. Available metrics are: loss\n",
            "55/55 [==============================] - 7s 133ms/step - loss: 0.0214\n",
            "Epoch 16/20\n",
            "55/55 [==============================] - ETA: 0s - loss: 0.0135WARNING:tensorflow:Early stopping conditioned on metric `val_loss` which is not available. Available metrics are: loss\n",
            "55/55 [==============================] - 7s 134ms/step - loss: 0.0135\n",
            "Epoch 17/20\n",
            "55/55 [==============================] - ETA: 0s - loss: 0.0133WARNING:tensorflow:Early stopping conditioned on metric `val_loss` which is not available. Available metrics are: loss\n",
            "55/55 [==============================] - 7s 133ms/step - loss: 0.0133\n",
            "Epoch 18/20\n",
            "55/55 [==============================] - ETA: 0s - loss: 0.0112WARNING:tensorflow:Early stopping conditioned on metric `val_loss` which is not available. Available metrics are: loss\n",
            "55/55 [==============================] - 7s 134ms/step - loss: 0.0112\n",
            "Epoch 19/20\n",
            "55/55 [==============================] - ETA: 0s - loss: 0.0116WARNING:tensorflow:Early stopping conditioned on metric `val_loss` which is not available. Available metrics are: loss\n",
            "55/55 [==============================] - 7s 133ms/step - loss: 0.0116\n",
            "Epoch 20/20\n",
            "55/55 [==============================] - ETA: 0s - loss: 0.0120WARNING:tensorflow:Early stopping conditioned on metric `val_loss` which is not available. Available metrics are: loss\n",
            "55/55 [==============================] - 7s 134ms/step - loss: 0.0120\n"
          ]
        },
        {
          "output_type": "execute_result",
          "data": {
            "text/plain": [
              "<keras.callbacks.History at 0x7faa53f51050>"
            ]
          },
          "metadata": {},
          "execution_count": 49
        }
      ]
    },
    {
      "cell_type": "code",
      "metadata": {
        "colab": {
          "base_uri": "https://localhost:8080/",
          "height": 1000
        },
        "id": "uUDw246mH6YS",
        "outputId": "5bc175df-85a4-4272-9616-ef340b2afb37"
      },
      "source": [
        "df_test.iloc[:,1:2]"
      ],
      "id": "uUDw246mH6YS",
      "execution_count": 57,
      "outputs": [
        {
          "output_type": "execute_result",
          "data": {
            "text/html": [
              "<div>\n",
              "<style scoped>\n",
              "    .dataframe tbody tr th:only-of-type {\n",
              "        vertical-align: middle;\n",
              "    }\n",
              "\n",
              "    .dataframe tbody tr th {\n",
              "        vertical-align: top;\n",
              "    }\n",
              "\n",
              "    .dataframe thead th {\n",
              "        text-align: right;\n",
              "    }\n",
              "</style>\n",
              "<table border=\"1\" class=\"dataframe\">\n",
              "  <thead>\n",
              "    <tr style=\"text-align: right;\">\n",
              "      <th></th>\n",
              "      <th>High</th>\n",
              "    </tr>\n",
              "    <tr>\n",
              "      <th>Date</th>\n",
              "      <th></th>\n",
              "    </tr>\n",
              "  </thead>\n",
              "  <tbody>\n",
              "    <tr>\n",
              "      <th>2021-01-01</th>\n",
              "      <td>29600.62695</td>\n",
              "    </tr>\n",
              "    <tr>\n",
              "      <th>2021-01-02</th>\n",
              "      <td>33155.11719</td>\n",
              "    </tr>\n",
              "    <tr>\n",
              "      <th>2021-01-03</th>\n",
              "      <td>34608.55859</td>\n",
              "    </tr>\n",
              "    <tr>\n",
              "      <th>2021-01-04</th>\n",
              "      <td>33440.21875</td>\n",
              "    </tr>\n",
              "    <tr>\n",
              "      <th>2021-01-05</th>\n",
              "      <td>34437.58984</td>\n",
              "    </tr>\n",
              "    <tr>\n",
              "      <th>2021-01-06</th>\n",
              "      <td>36879.69922</td>\n",
              "    </tr>\n",
              "    <tr>\n",
              "      <th>2021-01-07</th>\n",
              "      <td>40180.36719</td>\n",
              "    </tr>\n",
              "    <tr>\n",
              "      <th>2021-01-08</th>\n",
              "      <td>41946.73828</td>\n",
              "    </tr>\n",
              "    <tr>\n",
              "      <th>2021-01-09</th>\n",
              "      <td>41436.35156</td>\n",
              "    </tr>\n",
              "    <tr>\n",
              "      <th>2021-01-10</th>\n",
              "      <td>41420.19141</td>\n",
              "    </tr>\n",
              "    <tr>\n",
              "      <th>2021-01-11</th>\n",
              "      <td>38346.53125</td>\n",
              "    </tr>\n",
              "    <tr>\n",
              "      <th>2021-01-12</th>\n",
              "      <td>36568.52734</td>\n",
              "    </tr>\n",
              "    <tr>\n",
              "      <th>2021-01-13</th>\n",
              "      <td>37599.96094</td>\n",
              "    </tr>\n",
              "    <tr>\n",
              "      <th>2021-01-14</th>\n",
              "      <td>39966.40625</td>\n",
              "    </tr>\n",
              "    <tr>\n",
              "      <th>2021-01-15</th>\n",
              "      <td>39577.71094</td>\n",
              "    </tr>\n",
              "    <tr>\n",
              "      <th>2021-01-16</th>\n",
              "      <td>37864.36719</td>\n",
              "    </tr>\n",
              "    <tr>\n",
              "      <th>2021-01-17</th>\n",
              "      <td>36722.35156</td>\n",
              "    </tr>\n",
              "    <tr>\n",
              "      <th>2021-01-18</th>\n",
              "      <td>37299.28516</td>\n",
              "    </tr>\n",
              "    <tr>\n",
              "      <th>2021-01-19</th>\n",
              "      <td>37755.89063</td>\n",
              "    </tr>\n",
              "    <tr>\n",
              "      <th>2021-01-20</th>\n",
              "      <td>36378.32813</td>\n",
              "    </tr>\n",
              "    <tr>\n",
              "      <th>2021-01-21</th>\n",
              "      <td>35552.67969</td>\n",
              "    </tr>\n",
              "    <tr>\n",
              "      <th>2021-01-22</th>\n",
              "      <td>33811.85156</td>\n",
              "    </tr>\n",
              "    <tr>\n",
              "      <th>2021-01-23</th>\n",
              "      <td>33360.97656</td>\n",
              "    </tr>\n",
              "    <tr>\n",
              "      <th>2021-01-24</th>\n",
              "      <td>32944.00781</td>\n",
              "    </tr>\n",
              "    <tr>\n",
              "      <th>2021-01-25</th>\n",
              "      <td>34802.74219</td>\n",
              "    </tr>\n",
              "    <tr>\n",
              "      <th>2021-01-26</th>\n",
              "      <td>32794.55078</td>\n",
              "    </tr>\n",
              "    <tr>\n",
              "      <th>2021-01-27</th>\n",
              "      <td>32564.02930</td>\n",
              "    </tr>\n",
              "    <tr>\n",
              "      <th>2021-01-28</th>\n",
              "      <td>31891.30078</td>\n",
              "    </tr>\n",
              "    <tr>\n",
              "      <th>2021-01-29</th>\n",
              "      <td>38406.26172</td>\n",
              "    </tr>\n",
              "    <tr>\n",
              "      <th>2021-01-30</th>\n",
              "      <td>34834.70703</td>\n",
              "    </tr>\n",
              "    <tr>\n",
              "      <th>2021-01-31</th>\n",
              "      <td>34288.33203</td>\n",
              "    </tr>\n",
              "    <tr>\n",
              "      <th>2021-02-01</th>\n",
              "      <td>34638.21484</td>\n",
              "    </tr>\n",
              "    <tr>\n",
              "      <th>2021-02-02</th>\n",
              "      <td>35896.88281</td>\n",
              "    </tr>\n",
              "    <tr>\n",
              "      <th>2021-02-03</th>\n",
              "      <td>37480.18750</td>\n",
              "    </tr>\n",
              "    <tr>\n",
              "      <th>2021-02-04</th>\n",
              "      <td>38592.17578</td>\n",
              "    </tr>\n",
              "    <tr>\n",
              "      <th>2021-02-05</th>\n",
              "      <td>38225.90625</td>\n",
              "    </tr>\n",
              "    <tr>\n",
              "      <th>2021-02-06</th>\n",
              "      <td>40846.54688</td>\n",
              "    </tr>\n",
              "    <tr>\n",
              "      <th>2021-02-07</th>\n",
              "      <td>39621.83594</td>\n",
              "    </tr>\n",
              "    <tr>\n",
              "      <th>2021-02-08</th>\n",
              "      <td>46203.92969</td>\n",
              "    </tr>\n",
              "    <tr>\n",
              "      <th>2021-02-09</th>\n",
              "      <td>48003.72266</td>\n",
              "    </tr>\n",
              "    <tr>\n",
              "      <th>2021-02-10</th>\n",
              "      <td>47145.56641</td>\n",
              "    </tr>\n",
              "    <tr>\n",
              "      <th>2021-02-11</th>\n",
              "      <td>48463.46875</td>\n",
              "    </tr>\n",
              "    <tr>\n",
              "      <th>2021-02-12</th>\n",
              "      <td>48745.73438</td>\n",
              "    </tr>\n",
              "    <tr>\n",
              "      <th>2021-02-13</th>\n",
              "      <td>48047.74609</td>\n",
              "    </tr>\n",
              "    <tr>\n",
              "      <th>2021-02-14</th>\n",
              "      <td>49487.64063</td>\n",
              "    </tr>\n",
              "    <tr>\n",
              "      <th>2021-02-15</th>\n",
              "      <td>48875.57031</td>\n",
              "    </tr>\n",
              "    <tr>\n",
              "      <th>2021-02-16</th>\n",
              "      <td>50341.10156</td>\n",
              "    </tr>\n",
              "    <tr>\n",
              "      <th>2021-02-17</th>\n",
              "      <td>52533.91406</td>\n",
              "    </tr>\n",
              "    <tr>\n",
              "      <th>2021-02-18</th>\n",
              "      <td>52474.10547</td>\n",
              "    </tr>\n",
              "    <tr>\n",
              "      <th>2021-02-19</th>\n",
              "      <td>56113.65234</td>\n",
              "    </tr>\n",
              "    <tr>\n",
              "      <th>2021-02-20</th>\n",
              "      <td>57505.22656</td>\n",
              "    </tr>\n",
              "    <tr>\n",
              "      <th>2021-02-21</th>\n",
              "      <td>58330.57031</td>\n",
              "    </tr>\n",
              "    <tr>\n",
              "      <th>2021-02-22</th>\n",
              "      <td>57533.39063</td>\n",
              "    </tr>\n",
              "    <tr>\n",
              "      <th>2021-02-23</th>\n",
              "      <td>54204.92969</td>\n",
              "    </tr>\n",
              "    <tr>\n",
              "      <th>2021-02-24</th>\n",
              "      <td>51290.13672</td>\n",
              "    </tr>\n",
              "    <tr>\n",
              "      <th>2021-02-25</th>\n",
              "      <td>51948.96875</td>\n",
              "    </tr>\n",
              "    <tr>\n",
              "      <th>2021-02-26</th>\n",
              "      <td>48370.78516</td>\n",
              "    </tr>\n",
              "    <tr>\n",
              "      <th>2021-02-27</th>\n",
              "      <td>48253.26953</td>\n",
              "    </tr>\n",
              "    <tr>\n",
              "      <th>2021-02-28</th>\n",
              "      <td>46716.42969</td>\n",
              "    </tr>\n",
              "    <tr>\n",
              "      <th>NaT</th>\n",
              "      <td>NaN</td>\n",
              "    </tr>\n",
              "  </tbody>\n",
              "</table>\n",
              "</div>"
            ],
            "text/plain": [
              "                   High\n",
              "Date                   \n",
              "2021-01-01  29600.62695\n",
              "2021-01-02  33155.11719\n",
              "2021-01-03  34608.55859\n",
              "2021-01-04  33440.21875\n",
              "2021-01-05  34437.58984\n",
              "2021-01-06  36879.69922\n",
              "2021-01-07  40180.36719\n",
              "2021-01-08  41946.73828\n",
              "2021-01-09  41436.35156\n",
              "2021-01-10  41420.19141\n",
              "2021-01-11  38346.53125\n",
              "2021-01-12  36568.52734\n",
              "2021-01-13  37599.96094\n",
              "2021-01-14  39966.40625\n",
              "2021-01-15  39577.71094\n",
              "2021-01-16  37864.36719\n",
              "2021-01-17  36722.35156\n",
              "2021-01-18  37299.28516\n",
              "2021-01-19  37755.89063\n",
              "2021-01-20  36378.32813\n",
              "2021-01-21  35552.67969\n",
              "2021-01-22  33811.85156\n",
              "2021-01-23  33360.97656\n",
              "2021-01-24  32944.00781\n",
              "2021-01-25  34802.74219\n",
              "2021-01-26  32794.55078\n",
              "2021-01-27  32564.02930\n",
              "2021-01-28  31891.30078\n",
              "2021-01-29  38406.26172\n",
              "2021-01-30  34834.70703\n",
              "2021-01-31  34288.33203\n",
              "2021-02-01  34638.21484\n",
              "2021-02-02  35896.88281\n",
              "2021-02-03  37480.18750\n",
              "2021-02-04  38592.17578\n",
              "2021-02-05  38225.90625\n",
              "2021-02-06  40846.54688\n",
              "2021-02-07  39621.83594\n",
              "2021-02-08  46203.92969\n",
              "2021-02-09  48003.72266\n",
              "2021-02-10  47145.56641\n",
              "2021-02-11  48463.46875\n",
              "2021-02-12  48745.73438\n",
              "2021-02-13  48047.74609\n",
              "2021-02-14  49487.64063\n",
              "2021-02-15  48875.57031\n",
              "2021-02-16  50341.10156\n",
              "2021-02-17  52533.91406\n",
              "2021-02-18  52474.10547\n",
              "2021-02-19  56113.65234\n",
              "2021-02-20  57505.22656\n",
              "2021-02-21  58330.57031\n",
              "2021-02-22  57533.39063\n",
              "2021-02-23  54204.92969\n",
              "2021-02-24  51290.13672\n",
              "2021-02-25  51948.96875\n",
              "2021-02-26  48370.78516\n",
              "2021-02-27  48253.26953\n",
              "2021-02-28  46716.42969\n",
              "NaT                 NaN"
            ]
          },
          "metadata": {},
          "execution_count": 57
        }
      ]
    },
    {
      "cell_type": "code",
      "metadata": {
        "colab": {
          "base_uri": "https://localhost:8080/",
          "height": 1000
        },
        "id": "U5XbowyVdEpg",
        "outputId": "dc71ee85-0f57-4d68-d7ab-588f31c9edd0"
      },
      "source": [
        "real_stock_price = df_test.iloc[:,1:2].values\n",
        "# predicting the stock prices using X_test\n",
        "# we need the original training data (vertical concatination 0, horizontal 1)\n",
        "dataset_total = pd.concat((df_train['Open'], df_test['Open']), axis = 0)\n",
        "\n",
        "# for the consistence of the model we need to have the same scaling on the test as on the training\n",
        "# for the first test day we need the previous 60 days data from train\n",
        "print(\"First Financial day in 2021, when testing period begins\",len(dataset_total)- len(df_test))\n",
        "print(\"First Financial day in 2021 minus 60 days\",len(dataset_total)- len(df_test) - 90)\n",
        "inputs = dataset_total[len(dataset_total) - len(df_test) - 90:].values\n",
        "\n",
        "# reshaping,normalizing the inputs\n",
        "inputs = inputs.reshape(-1,1)\n",
        "# no longer fitting but just transforming\n",
        "inputs = sc.transform(inputs)\n",
        "\n",
        "\n",
        "#storing test data as we did in teh training\n",
        "X_test = []\n",
        "for i in range(90,inputs.size):\n",
        "    X_test.append(inputs[i-90:i, 0])\n",
        "X_test = np.array(X_test)\n",
        "#adding extra dimension\n",
        "X_test = np.reshape(X_test, [X_test.shape[0], X_test.shape[1], 1])\n",
        "\n",
        "#obtaining predicted values\n",
        "predicted_stock_price = regressor.predict(X_test)\n",
        "predicted_stock_price = sc.inverse_transform(predicted_stock_price)\n",
        "\n",
        "#--------------------- Visualizing the RNN model results--------------------#\n",
        "plt.plot(real_stock_price, color = '#ffd700', label = \"Real Price January - March 2021\")\n",
        "plt.plot(predicted_stock_price, color = '#4782B4', label = \"Predicted Price January - March 2021\")\n",
        "plt.title(\"Bitcoin Price Prediction\")\n",
        "plt.xlabel(\"Time\")\n",
        "plt.ylabel(\"Bitcoin Price\")\n",
        "plt.legend()\n",
        "plt.show()\n"
      ],
      "id": "U5XbowyVdEpg",
      "execution_count": 50,
      "outputs": [
        {
          "output_type": "stream",
          "name": "stdout",
          "text": [
            "[[29600.62695]\n",
            " [33155.11719]\n",
            " [34608.55859]\n",
            " [33440.21875]\n",
            " [34437.58984]\n",
            " [36879.69922]\n",
            " [40180.36719]\n",
            " [41946.73828]\n",
            " [41436.35156]\n",
            " [41420.19141]\n",
            " [38346.53125]\n",
            " [36568.52734]\n",
            " [37599.96094]\n",
            " [39966.40625]\n",
            " [39577.71094]\n",
            " [37864.36719]\n",
            " [36722.35156]\n",
            " [37299.28516]\n",
            " [37755.89063]\n",
            " [36378.32813]\n",
            " [35552.67969]\n",
            " [33811.85156]\n",
            " [33360.97656]\n",
            " [32944.00781]\n",
            " [34802.74219]\n",
            " [32794.55078]\n",
            " [32564.0293 ]\n",
            " [31891.30078]\n",
            " [38406.26172]\n",
            " [34834.70703]\n",
            " [34288.33203]\n",
            " [34638.21484]\n",
            " [35896.88281]\n",
            " [37480.1875 ]\n",
            " [38592.17578]\n",
            " [38225.90625]\n",
            " [40846.54688]\n",
            " [39621.83594]\n",
            " [46203.92969]\n",
            " [48003.72266]\n",
            " [47145.56641]\n",
            " [48463.46875]\n",
            " [48745.73438]\n",
            " [48047.74609]\n",
            " [49487.64063]\n",
            " [48875.57031]\n",
            " [50341.10156]\n",
            " [52533.91406]\n",
            " [52474.10547]\n",
            " [56113.65234]\n",
            " [57505.22656]\n",
            " [58330.57031]\n",
            " [57533.39063]\n",
            " [54204.92969]\n",
            " [51290.13672]\n",
            " [51948.96875]\n",
            " [48370.78516]\n",
            " [48253.26953]\n",
            " [46716.42969]\n",
            " [        nan]]\n",
            "First Financial day in 2021, when testing period begins 1823\n",
            "First Financial day in 2021 minus 60 days 1733\n"
          ]
        },
        {
          "output_type": "display_data",
          "data": {
            "image/png": "[encoded data removed]",
            "text/plain": [
              "<Figure size 432x288 with 1 Axes>"
            ]
          },
          "metadata": {
            "needs_background": "light"
          }
        }
      ]
    },
    {
      "cell_type": "code",
      "metadata": {
        "id": "bOFJpJpafB3f",
        "colab": {
          "base_uri": "https://localhost:8080/"
        },
        "outputId": "4edb04eb-50bc-4b30-834f-517912b6be7c"
      },
      "source": [
        "real_stock_price.shape"
      ],
      "id": "bOFJpJpafB3f",
      "execution_count": 52,
      "outputs": [
        {
          "output_type": "execute_result",
          "data": {
            "text/plain": [
              "(60, 1)"
            ]
          },
          "metadata": {},
          "execution_count": 52
        }
      ]
    }
  ]
}