{
 "cells": [
  {
   "cell_type": "markdown",
   "id": "f833c9ba",
   "metadata": {},
   "source": [
    "# Financial indicators"
   ]
  },
  {
   "cell_type": "markdown",
   "id": "bf3958fe",
   "metadata": {},
   "source": [
    "https://www.allthesnippets.com/notes/finance/calculating_cumulative_returns_of_stocks_with_python_and_pandas.html\n",
    "https://www.codingfinance.com/post/2018-04-03-calc-returns-py/\n",
    "https://im-coder.com/die-berechnung-der-kumulierten-renditen-mit-pandas-dataframe.html\n"
   ]
  },
  {
   "cell_type": "code",
   "execution_count": 58,
   "id": "db707be8",
   "metadata": {},
   "outputs": [],
   "source": [
    "import talib\n",
    "import pandas as pd\n",
    "import numpy as np\n",
    "import matplotlib.pyplot as plt\n",
    "import seaborn as sn"
   ]
  },
  {
   "cell_type": "markdown",
   "id": "73fa0c0c",
   "metadata": {},
   "source": [
    "## Data - One coin"
   ]
  },
  {
   "cell_type": "code",
   "execution_count": 13,
   "id": "da44c7c6",
   "metadata": {},
   "outputs": [],
   "source": [
    "df = pd.read_csv('/Users/nat.walentynowicz/Desktop/doge_price_gt_0410-2611.csv')"
   ]
  },
  {
   "cell_type": "code",
   "execution_count": 14,
   "id": "b77dd9d9",
   "metadata": {},
   "outputs": [
    {
     "name": "stdout",
     "output_type": "stream",
     "text": [
      "(1289, 4)\n"
     ]
    },
    {
     "data": {
      "text/html": [
       "<div>\n",
       "<style scoped>\n",
       "    .dataframe tbody tr th:only-of-type {\n",
       "        vertical-align: middle;\n",
       "    }\n",
       "\n",
       "    .dataframe tbody tr th {\n",
       "        vertical-align: top;\n",
       "    }\n",
       "\n",
       "    .dataframe thead th {\n",
       "        text-align: right;\n",
       "    }\n",
       "</style>\n",
       "<table border=\"1\" class=\"dataframe\">\n",
       "  <thead>\n",
       "    <tr style=\"text-align: right;\">\n",
       "      <th></th>\n",
       "      <th>Unnamed: 0</th>\n",
       "      <th>ds</th>\n",
       "      <th>searches</th>\n",
       "      <th>y</th>\n",
       "    </tr>\n",
       "  </thead>\n",
       "  <tbody>\n",
       "    <tr>\n",
       "      <th>0</th>\n",
       "      <td>0</td>\n",
       "      <td>2021-10-04 21:00:00</td>\n",
       "      <td>80</td>\n",
       "      <td>0.207647</td>\n",
       "    </tr>\n",
       "    <tr>\n",
       "      <th>1</th>\n",
       "      <td>1</td>\n",
       "      <td>2021-10-04 22:00:00</td>\n",
       "      <td>65</td>\n",
       "      <td>0.205658</td>\n",
       "    </tr>\n",
       "    <tr>\n",
       "      <th>2</th>\n",
       "      <td>2</td>\n",
       "      <td>2021-10-04 23:00:00</td>\n",
       "      <td>75</td>\n",
       "      <td>0.207247</td>\n",
       "    </tr>\n",
       "    <tr>\n",
       "      <th>3</th>\n",
       "      <td>3</td>\n",
       "      <td>2021-10-05 00:00:00</td>\n",
       "      <td>67</td>\n",
       "      <td>0.208338</td>\n",
       "    </tr>\n",
       "    <tr>\n",
       "      <th>4</th>\n",
       "      <td>4</td>\n",
       "      <td>2021-10-05 01:00:00</td>\n",
       "      <td>58</td>\n",
       "      <td>0.211761</td>\n",
       "    </tr>\n",
       "  </tbody>\n",
       "</table>\n",
       "</div>"
      ],
      "text/plain": [
       "   Unnamed: 0                   ds  searches         y\n",
       "0           0  2021-10-04 21:00:00        80  0.207647\n",
       "1           1  2021-10-04 22:00:00        65  0.205658\n",
       "2           2  2021-10-04 23:00:00        75  0.207247\n",
       "3           3  2021-10-05 00:00:00        67  0.208338\n",
       "4           4  2021-10-05 01:00:00        58  0.211761"
      ]
     },
     "execution_count": 14,
     "metadata": {},
     "output_type": "execute_result"
    }
   ],
   "source": [
    "print(df.shape)\n",
    "df.head()"
   ]
  },
  {
   "cell_type": "markdown",
   "id": "4350e88a",
   "metadata": {},
   "source": [
    "## Technical Indicators"
   ]
  },
  {
   "cell_type": "markdown",
   "id": "f1c1c591",
   "metadata": {},
   "source": [
    "### Calculating the daily returns for individual stock"
   ]
  },
  {
   "cell_type": "code",
   "execution_count": 30,
   "id": "d9645e2b",
   "metadata": {},
   "outputs": [],
   "source": [
    "# daily return:\n",
    "daily_returns = df['y'].pct_change(24)"
   ]
  },
  {
   "cell_type": "code",
   "execution_count": 31,
   "id": "a1082228",
   "metadata": {},
   "outputs": [
    {
     "data": {
      "text/plain": [
       "0            NaN\n",
       "1            NaN\n",
       "2            NaN\n",
       "3            NaN\n",
       "4            NaN\n",
       "          ...   \n",
       "1284   -0.111137\n",
       "1285   -0.075667\n",
       "1286   -0.090626\n",
       "1287   -0.104840\n",
       "1288   -0.098488\n",
       "Name: y, Length: 1289, dtype: float64"
      ]
     },
     "execution_count": 31,
     "metadata": {},
     "output_type": "execute_result"
    }
   ],
   "source": [
    "daily_returns"
   ]
  },
  {
   "cell_type": "code",
   "execution_count": 48,
   "id": "4d1d2045",
   "metadata": {},
   "outputs": [],
   "source": [
    "cum_daily_returns = df['y'].pct_change(120)"
   ]
  },
  {
   "cell_type": "code",
   "execution_count": 50,
   "id": "8c5c3f77",
   "metadata": {},
   "outputs": [
    {
     "data": {
      "text/plain": [
       "[<matplotlib.lines.Line2D at 0x11f4a5fd0>]"
      ]
     },
     "execution_count": 50,
     "metadata": {},
     "output_type": "execute_result"
    },
    {
     "data": {
      "image/png": "[encoded data removed]",
      "text/plain": [
       "<Figure size 432x288 with 1 Axes>"
      ]
     },
     "metadata": {
      "needs_background": "light"
     },
     "output_type": "display_data"
    }
   ],
   "source": [
    "plt.plot(cum_daily_returns)"
   ]
  },
  {
   "cell_type": "markdown",
   "id": "c0b8e8d3",
   "metadata": {},
   "source": [
    "### Moving average (short term)"
   ]
  },
  {
   "cell_type": "code",
   "execution_count": 65,
   "id": "b9f4401a",
   "metadata": {},
   "outputs": [],
   "source": [
    "df[\"MA10_days\"] = df[\"y\"].rolling(window=240).mean()"
   ]
  },
  {
   "cell_type": "code",
   "execution_count": 66,
   "id": "fee9373f",
   "metadata": {},
   "outputs": [],
   "source": [
    "df[\"MA30_days\"] = df[\"y\"].rolling(window=720).mean()"
   ]
  },
  {
   "cell_type": "code",
   "execution_count": 67,
   "id": "7c406148",
   "metadata": {},
   "outputs": [],
   "source": [
    "df[\"MAshort_over_long\"] = df[\"MA10_days\"] > df[\"MA30_days\"]"
   ]
  },
  {
   "cell_type": "code",
   "execution_count": 70,
   "id": "4cb441e6",
   "metadata": {},
   "outputs": [
    {
     "data": {
      "text/plain": [
       "False    928\n",
       "True     361\n",
       "Name: MAshort_over_long, dtype: int64"
      ]
     },
     "execution_count": 70,
     "metadata": {},
     "output_type": "execute_result"
    }
   ],
   "source": [
    "df[\"MAshort_over_long\"].value_counts()"
   ]
  },
  {
   "cell_type": "code",
   "execution_count": 71,
   "id": "50da4a6f",
   "metadata": {},
   "outputs": [
    {
     "data": {
      "text/plain": [
       "[<matplotlib.lines.Line2D at 0x1296992b0>]"
      ]
     },
     "execution_count": 71,
     "metadata": {},
     "output_type": "execute_result"
    },
    {
     "data": {
      "image/png": "[encoded data removed]",
      "text/plain": [
       "<Figure size 432x288 with 1 Axes>"
      ]
     },
     "metadata": {
      "needs_background": "light"
     },
     "output_type": "display_data"
    }
   ],
   "source": [
    "plt.plot(df[\"MA10_days\"])\n",
    "plt.plot(df[\"MA30_days\"])"
   ]
  },
  {
   "cell_type": "code",
   "execution_count": 62,
   "id": "2f93a7e3",
   "metadata": {},
   "outputs": [
    {
     "data": {
      "text/plain": [
       "[<matplotlib.lines.Line2D at 0x1296180a0>]"
      ]
     },
     "execution_count": 62,
     "metadata": {},
     "output_type": "execute_result"
    },
    {
     "data": {
      "image/png": "[encoded data removed]",
      "text/plain": [
       "<Figure size 432x288 with 1 Axes>"
      ]
     },
     "metadata": {
      "needs_background": "light"
     },
     "output_type": "display_data"
    }
   ],
   "source": [
    "plt.plot(SMA)\n",
    "plt.plot(df[\"y\"])"
   ]
  },
  {
   "cell_type": "markdown",
   "id": "f565b61e",
   "metadata": {},
   "source": []
  },
  {
   "cell_type": "code",
   "execution_count": 101,
   "id": "8eb4f473",
   "metadata": {},
   "outputs": [],
   "source": [
    "df[\"5_day_change\"] = abs(df['y'][::-1].pct_change(120))[::-1]"
   ]
  },
  {
   "cell_type": "code",
   "execution_count": 102,
   "id": "bfd743ca",
   "metadata": {},
   "outputs": [
    {
     "data": {
      "text/plain": [
       "0.035292    1\n",
       "0.032791    1\n",
       "0.031556    1\n",
       "0.005193    1\n",
       "0.019263    1\n",
       "           ..\n",
       "0.025222    1\n",
       "0.047956    1\n",
       "0.049829    1\n",
       "0.047835    1\n",
       "0.140042    1\n",
       "Name: 5_day_change, Length: 1169, dtype: int64"
      ]
     },
     "execution_count": 102,
     "metadata": {},
     "output_type": "execute_result"
    }
   ],
   "source": [
    "df[\"5_day_change\"].value_counts()"
   ]
  },
  {
   "cell_type": "code",
   "execution_count": 103,
   "id": "522b7b5b",
   "metadata": {},
   "outputs": [
    {
     "data": {
      "text/plain": [
       "(array([215., 337., 295., 169.,  81.,  27.,  25.,  14.,   3.,   3.]),\n",
       " array([5.92413751e-05, 2.52866261e-02, 5.05140108e-02, 7.57413955e-02,\n",
       "        1.00968780e-01, 1.26196165e-01, 1.51423550e-01, 1.76650934e-01,\n",
       "        2.01878319e-01, 2.27105704e-01, 2.52333088e-01]),\n",
       " <BarContainer object of 10 artists>)"
      ]
     },
     "execution_count": 103,
     "metadata": {},
     "output_type": "execute_result"
    },
    {
     "data": {
      "image/png": "[encoded data removed]",
      "text/plain": [
       "<Figure size 432x288 with 1 Axes>"
      ]
     },
     "metadata": {
      "needs_background": "light"
     },
     "output_type": "display_data"
    }
   ],
   "source": [
    "plt.hist(df[\"5_day_change\"])"
   ]
  },
  {
   "cell_type": "code",
   "execution_count": 104,
   "id": "b9457ea7",
   "metadata": {},
   "outputs": [],
   "source": [
    "df[\"y_alternate\"] = df[\"5_day_change\"]>0.1"
   ]
  },
  {
   "cell_type": "code",
   "execution_count": 105,
   "id": "59eeb852",
   "metadata": {},
   "outputs": [
    {
     "data": {
      "text/plain": [
       "False    1129\n",
       "True      160\n",
       "Name: y_alternate, dtype: int64"
      ]
     },
     "execution_count": 105,
     "metadata": {},
     "output_type": "execute_result"
    }
   ],
   "source": [
    "df[\"y_alternate\"].value_counts()"
   ]
  },
  {
   "cell_type": "code",
   "execution_count": null,
   "id": "f6b89695",
   "metadata": {},
   "outputs": [],
   "source": []
  }
 ],
 "metadata": {
  "kernelspec": {
   "display_name": "Python 3 (ipykernel)",
   "language": "python",
   "name": "python3"
  },
  "language_info": {
   "codemirror_mode": {
    "name": "ipython",
    "version": 3
   },
   "file_extension": ".py",
   "mimetype": "text/x-python",
   "name": "python",
   "nbconvert_exporter": "python",
   "pygments_lexer": "ipython3",
   "version": "3.8.12"
  },
  "toc": {
   "base_numbering": 1,
   "nav_menu": {},
   "number_sections": true,
   "sideBar": true,
   "skip_h1_title": false,
   "title_cell": "Table of Contents",
   "title_sidebar": "Contents",
   "toc_cell": false,
   "toc_position": {},
   "toc_section_display": true,
   "toc_window_display": false
  }
 },
 "nbformat": 4,
 "nbformat_minor": 5
}
