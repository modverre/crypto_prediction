{
 "cells": [
  {
   "cell_type": "markdown",
   "metadata": {
    "id": "8onIoqchOmYN"
   },
   "source": [
    "# RNN Model Development"
   ]
  },
  {
   "cell_type": "code",
   "execution_count": 1,
   "metadata": {
    "id": "yk6R3jNYOo9q"
   },
   "outputs": [],
   "source": [
    "import pandas as pd\n",
    "import numpy as np\n",
    "import matplotlib.pyplot as plt\n",
    "\n",
    "from google.colab import drive \n",
    "from tensorflow.keras.models import Sequential\n",
    "from tensorflow.keras.layers import Dense, LSTM, Dropout, GRU, Masking\n",
    "from tensorflow.keras.callbacks import EarlyStopping\n",
    "from tensorflow.keras.preprocessing.sequence import TimeseriesGenerator\n",
    "from tensorflow.keras.preprocessing.sequence import pad_sequences\n",
    "from tensorflow import convert_to_tensor\n",
    "\n",
    "from sklearn.preprocessing import MinMaxScaler, RobustScaler\n",
    "from sklearn.model_selection import GridSearchCV, RandomizedSearchCV\n",
    "from sklearn.model_selection import train_test_split\n",
    "from sklearn.metrics import mean_squared_error\n"
   ]
  },
  {
   "cell_type": "code",
   "execution_count": 2,
   "metadata": {
    "colab": {
     "base_uri": "https://localhost:8080/"
    },
    "id": "27UN5WyjbQsI",
    "outputId": "dba26b9e-dc90-473d-8246-bb11be39926b"
   },
   "outputs": [
    {
     "name": "stdout",
     "output_type": "stream",
     "text": [
      "Mounted at /content/gdrive\n"
     ]
    }
   ],
   "source": [
    "drive.mount('/content/gdrive')"
   ]
  },
  {
   "cell_type": "code",
   "execution_count": 3,
   "metadata": {
    "colab": {
     "base_uri": "https://localhost:8080/",
     "height": 254
    },
    "id": "XyyAyv6ybSJQ",
    "outputId": "cd572241-8316-4317-f8ec-b306e629330d"
   },
   "outputs": [
    {
     "name": "stdout",
     "output_type": "stream",
     "text": [
      "(732, 7)\n"
     ]
    },
    {
     "data": {
      "text/html": [
       "<div>\n",
       "<style scoped>\n",
       "    .dataframe tbody tr th:only-of-type {\n",
       "        vertical-align: middle;\n",
       "    }\n",
       "\n",
       "    .dataframe tbody tr th {\n",
       "        vertical-align: top;\n",
       "    }\n",
       "\n",
       "    .dataframe thead th {\n",
       "        text-align: right;\n",
       "    }\n",
       "</style>\n",
       "<table border=\"1\" class=\"dataframe\">\n",
       "  <thead>\n",
       "    <tr style=\"text-align: right;\">\n",
       "      <th></th>\n",
       "      <th>open</th>\n",
       "      <th>high</th>\n",
       "      <th>low</th>\n",
       "      <th>close</th>\n",
       "      <th>adjclose</th>\n",
       "      <th>volume</th>\n",
       "      <th>ticker</th>\n",
       "    </tr>\n",
       "    <tr>\n",
       "      <th>Date</th>\n",
       "      <th></th>\n",
       "      <th></th>\n",
       "      <th></th>\n",
       "      <th></th>\n",
       "      <th></th>\n",
       "      <th></th>\n",
       "      <th></th>\n",
       "    </tr>\n",
       "  </thead>\n",
       "  <tbody>\n",
       "    <tr>\n",
       "      <th>2019-11-23</th>\n",
       "      <td>0.002145</td>\n",
       "      <td>0.002275</td>\n",
       "      <td>0.002112</td>\n",
       "      <td>0.002273</td>\n",
       "      <td>0.002273</td>\n",
       "      <td>101846258.0</td>\n",
       "      <td>DOGE-EUR</td>\n",
       "    </tr>\n",
       "    <tr>\n",
       "      <th>2019-11-24</th>\n",
       "      <td>0.002276</td>\n",
       "      <td>0.002278</td>\n",
       "      <td>0.002085</td>\n",
       "      <td>0.002146</td>\n",
       "      <td>0.002146</td>\n",
       "      <td>92059493.0</td>\n",
       "      <td>DOGE-EUR</td>\n",
       "    </tr>\n",
       "    <tr>\n",
       "      <th>2019-11-25</th>\n",
       "      <td>0.002149</td>\n",
       "      <td>0.002151</td>\n",
       "      <td>0.001932</td>\n",
       "      <td>0.002076</td>\n",
       "      <td>0.002076</td>\n",
       "      <td>117692529.0</td>\n",
       "      <td>DOGE-EUR</td>\n",
       "    </tr>\n",
       "    <tr>\n",
       "      <th>2019-11-26</th>\n",
       "      <td>0.002077</td>\n",
       "      <td>0.002124</td>\n",
       "      <td>0.002054</td>\n",
       "      <td>0.002078</td>\n",
       "      <td>0.002078</td>\n",
       "      <td>90963851.0</td>\n",
       "      <td>DOGE-EUR</td>\n",
       "    </tr>\n",
       "    <tr>\n",
       "      <th>2019-11-27</th>\n",
       "      <td>0.002078</td>\n",
       "      <td>0.002143</td>\n",
       "      <td>0.002025</td>\n",
       "      <td>0.002126</td>\n",
       "      <td>0.002126</td>\n",
       "      <td>91194004.0</td>\n",
       "      <td>DOGE-EUR</td>\n",
       "    </tr>\n",
       "  </tbody>\n",
       "</table>\n",
       "</div>"
      ],
      "text/plain": [
       "                open      high       low  ...  adjclose       volume    ticker\n",
       "Date                                      ...                                 \n",
       "2019-11-23  0.002145  0.002275  0.002112  ...  0.002273  101846258.0  DOGE-EUR\n",
       "2019-11-24  0.002276  0.002278  0.002085  ...  0.002146   92059493.0  DOGE-EUR\n",
       "2019-11-25  0.002149  0.002151  0.001932  ...  0.002076  117692529.0  DOGE-EUR\n",
       "2019-11-26  0.002077  0.002124  0.002054  ...  0.002078   90963851.0  DOGE-EUR\n",
       "2019-11-27  0.002078  0.002143  0.002025  ...  0.002126   91194004.0  DOGE-EUR\n",
       "\n",
       "[5 rows x 7 columns]"
      ]
     },
     "execution_count": 3,
     "metadata": {},
     "output_type": "execute_result"
    }
   ],
   "source": [
    "df=pd.read_csv('/content/gdrive/MyDrive/doge-hist-2y Kopie.csv')\n",
    "\n",
    "df.rename(columns= {\"Unnamed: 0\": \"Date\"}, inplace= True)\n",
    "df[\"Date\"] = pd.to_datetime(df[\"Date\"], infer_datetime_format= True)\n",
    "df = df.set_index(\"Date\")\n",
    "df.interpolate(method= \"linear\", inplace= True)\n",
    "print(df.shape)\n",
    "df.head()"
   ]
  },
  {
   "cell_type": "code",
   "execution_count": 4,
   "metadata": {
    "colab": {
     "base_uri": "https://localhost:8080/",
     "height": 454
    },
    "id": "mhFSkKTtfePX",
    "outputId": "d6f0bc5c-e6ff-46ec-8aff-48b9e2fbd3ab"
   },
   "outputs": [
    {
     "data": {
      "text/html": [
       "<div>\n",
       "<style scoped>\n",
       "    .dataframe tbody tr th:only-of-type {\n",
       "        vertical-align: middle;\n",
       "    }\n",
       "\n",
       "    .dataframe tbody tr th {\n",
       "        vertical-align: top;\n",
       "    }\n",
       "\n",
       "    .dataframe thead th {\n",
       "        text-align: right;\n",
       "    }\n",
       "</style>\n",
       "<table border=\"1\" class=\"dataframe\">\n",
       "  <thead>\n",
       "    <tr style=\"text-align: right;\">\n",
       "      <th></th>\n",
       "      <th>Dogecoin</th>\n",
       "    </tr>\n",
       "    <tr>\n",
       "      <th>date</th>\n",
       "      <th></th>\n",
       "    </tr>\n",
       "  </thead>\n",
       "  <tbody>\n",
       "    <tr>\n",
       "      <th>2020-11-25</th>\n",
       "      <td>100</td>\n",
       "    </tr>\n",
       "    <tr>\n",
       "      <th>2020-11-26</th>\n",
       "      <td>39</td>\n",
       "    </tr>\n",
       "    <tr>\n",
       "      <th>2020-11-27</th>\n",
       "      <td>31</td>\n",
       "    </tr>\n",
       "    <tr>\n",
       "      <th>2020-11-28</th>\n",
       "      <td>31</td>\n",
       "    </tr>\n",
       "    <tr>\n",
       "      <th>2020-11-29</th>\n",
       "      <td>33</td>\n",
       "    </tr>\n",
       "    <tr>\n",
       "      <th>...</th>\n",
       "      <td>...</td>\n",
       "    </tr>\n",
       "    <tr>\n",
       "      <th>2021-11-20</th>\n",
       "      <td>76</td>\n",
       "    </tr>\n",
       "    <tr>\n",
       "      <th>2021-11-21</th>\n",
       "      <td>69</td>\n",
       "    </tr>\n",
       "    <tr>\n",
       "      <th>2021-11-22</th>\n",
       "      <td>72</td>\n",
       "    </tr>\n",
       "    <tr>\n",
       "      <th>2021-11-23</th>\n",
       "      <td>75</td>\n",
       "    </tr>\n",
       "    <tr>\n",
       "      <th>2021-11-24</th>\n",
       "      <td>77</td>\n",
       "    </tr>\n",
       "  </tbody>\n",
       "</table>\n",
       "<p>309 rows × 1 columns</p>\n",
       "</div>"
      ],
      "text/plain": [
       "            Dogecoin\n",
       "date                \n",
       "2020-11-25       100\n",
       "2020-11-26        39\n",
       "2020-11-27        31\n",
       "2020-11-28        31\n",
       "2020-11-29        33\n",
       "...              ...\n",
       "2021-11-20        76\n",
       "2021-11-21        69\n",
       "2021-11-22        72\n",
       "2021-11-23        75\n",
       "2021-11-24        77\n",
       "\n",
       "[309 rows x 1 columns]"
      ]
     },
     "execution_count": 4,
     "metadata": {},
     "output_type": "execute_result"
    }
   ],
   "source": [
    "df2 = pd.read_csv('/content/gdrive/MyDrive/doge_daily_google_trends_1y.csv')\n",
    "\n",
    "df2[\"date\"] = pd.to_datetime(df2[\"date\"], infer_datetime_format= True)\n",
    "df2 = df2.set_index(\"date\")\n",
    "df2.interpolate(method= \"linear\", inplace= True)\n",
    "df2 = df2[[\"Dogecoin\"]]\n",
    "df2"
   ]
  },
  {
   "cell_type": "code",
   "execution_count": null,
   "metadata": {
    "colab": {
     "base_uri": "https://localhost:8080/"
    },
    "id": "6RhxHyqrPqAh",
    "outputId": "a025dde9-bfca-4c88-c08c-34b77ac6d114"
   },
   "outputs": [
    {
     "data": {
      "text/plain": [
       "(309, 1)"
      ]
     },
     "execution_count": 291,
     "metadata": {},
     "output_type": "execute_result"
    }
   ],
   "source": [
    "df2.shape"
   ]
  },
  {
   "cell_type": "code",
   "execution_count": 5,
   "metadata": {
    "id": "75yOs0kZ1CLM"
   },
   "outputs": [],
   "source": [
    "df_final_doge = df[[\"high\"]].join(df2, how= \"outer\")"
   ]
  },
  {
   "cell_type": "code",
   "execution_count": 6,
   "metadata": {
    "id": "fMCn5hTmjZoR"
   },
   "outputs": [],
   "source": [
    "df_final_doge.rename(columns={\"Dogecoin\": \"Google_Trends\"}, inplace= True)"
   ]
  },
  {
   "cell_type": "code",
   "execution_count": 7,
   "metadata": {
    "colab": {
     "base_uri": "https://localhost:8080/",
     "height": 422
    },
    "id": "sL94pMssitqR",
    "outputId": "b02eb295-4ebc-4151-a61b-67edbb1b46db"
   },
   "outputs": [
    {
     "data": {
      "text/html": [
       "<div>\n",
       "<style scoped>\n",
       "    .dataframe tbody tr th:only-of-type {\n",
       "        vertical-align: middle;\n",
       "    }\n",
       "\n",
       "    .dataframe tbody tr th {\n",
       "        vertical-align: top;\n",
       "    }\n",
       "\n",
       "    .dataframe thead th {\n",
       "        text-align: right;\n",
       "    }\n",
       "</style>\n",
       "<table border=\"1\" class=\"dataframe\">\n",
       "  <thead>\n",
       "    <tr style=\"text-align: right;\">\n",
       "      <th></th>\n",
       "      <th>high</th>\n",
       "      <th>Google_Trends</th>\n",
       "      <th>target</th>\n",
       "    </tr>\n",
       "  </thead>\n",
       "  <tbody>\n",
       "    <tr>\n",
       "      <th>2020-11-25</th>\n",
       "      <td>0.003577</td>\n",
       "      <td>100.0</td>\n",
       "      <td>0.003181</td>\n",
       "    </tr>\n",
       "    <tr>\n",
       "      <th>2020-11-26</th>\n",
       "      <td>0.003181</td>\n",
       "      <td>39.0</td>\n",
       "      <td>0.002814</td>\n",
       "    </tr>\n",
       "    <tr>\n",
       "      <th>2020-11-27</th>\n",
       "      <td>0.002814</td>\n",
       "      <td>31.0</td>\n",
       "      <td>0.002900</td>\n",
       "    </tr>\n",
       "    <tr>\n",
       "      <th>2020-11-28</th>\n",
       "      <td>0.002900</td>\n",
       "      <td>31.0</td>\n",
       "      <td>0.002951</td>\n",
       "    </tr>\n",
       "    <tr>\n",
       "      <th>2020-11-29</th>\n",
       "      <td>0.002951</td>\n",
       "      <td>33.0</td>\n",
       "      <td>0.002997</td>\n",
       "    </tr>\n",
       "    <tr>\n",
       "      <th>...</th>\n",
       "      <td>...</td>\n",
       "      <td>...</td>\n",
       "      <td>...</td>\n",
       "    </tr>\n",
       "    <tr>\n",
       "      <th>2021-11-18</th>\n",
       "      <td>0.212856</td>\n",
       "      <td>78.0</td>\n",
       "      <td>0.209374</td>\n",
       "    </tr>\n",
       "    <tr>\n",
       "      <th>2021-11-19</th>\n",
       "      <td>0.209374</td>\n",
       "      <td>83.0</td>\n",
       "      <td>0.209047</td>\n",
       "    </tr>\n",
       "    <tr>\n",
       "      <th>2021-11-20</th>\n",
       "      <td>0.209047</td>\n",
       "      <td>76.0</td>\n",
       "      <td>0.206740</td>\n",
       "    </tr>\n",
       "    <tr>\n",
       "      <th>2021-11-21</th>\n",
       "      <td>0.206740</td>\n",
       "      <td>69.0</td>\n",
       "      <td>0.201781</td>\n",
       "    </tr>\n",
       "    <tr>\n",
       "      <th>2021-11-22</th>\n",
       "      <td>0.201781</td>\n",
       "      <td>72.0</td>\n",
       "      <td>0.198796</td>\n",
       "    </tr>\n",
       "  </tbody>\n",
       "</table>\n",
       "<p>307 rows × 3 columns</p>\n",
       "</div>"
      ],
      "text/plain": [
       "                high  Google_Trends    target\n",
       "2020-11-25  0.003577          100.0  0.003181\n",
       "2020-11-26  0.003181           39.0  0.002814\n",
       "2020-11-27  0.002814           31.0  0.002900\n",
       "2020-11-28  0.002900           31.0  0.002951\n",
       "2020-11-29  0.002951           33.0  0.002997\n",
       "...              ...            ...       ...\n",
       "2021-11-18  0.212856           78.0  0.209374\n",
       "2021-11-19  0.209374           83.0  0.209047\n",
       "2021-11-20  0.209047           76.0  0.206740\n",
       "2021-11-21  0.206740           69.0  0.201781\n",
       "2021-11-22  0.201781           72.0  0.198796\n",
       "\n",
       "[307 rows x 3 columns]"
      ]
     },
     "execution_count": 7,
     "metadata": {},
     "output_type": "execute_result"
    }
   ],
   "source": [
    "df_final_doge.dropna(inplace= True)\n",
    "df_final_doge['target'] = df_final_doge.high.shift(-1)\n",
    "df_final_doge = df_final_doge.drop(df_final_doge.index[-1])\n",
    "df_final_doge"
   ]
  },
  {
   "cell_type": "code",
   "execution_count": null,
   "metadata": {
    "colab": {
     "base_uri": "https://localhost:8080/"
    },
    "id": "Hnn36m-QjlKa",
    "outputId": "90109536-7b17-408e-a4d2-c9487a576d14"
   },
   "outputs": [
    {
     "data": {
      "text/plain": [
       "(308, 2)"
      ]
     },
     "execution_count": 295,
     "metadata": {},
     "output_type": "execute_result"
    }
   ],
   "source": [
    "df_final.shape"
   ]
  },
  {
   "cell_type": "code",
   "execution_count": null,
   "metadata": {
    "colab": {
     "base_uri": "https://localhost:8080/",
     "height": 422
    },
    "id": "rHnPX3OkjuW4",
    "outputId": "9255046b-8414-4079-b834-25f2627d902e"
   },
   "outputs": [
    {
     "data": {
      "text/html": [
       "<div>\n",
       "<style scoped>\n",
       "    .dataframe tbody tr th:only-of-type {\n",
       "        vertical-align: middle;\n",
       "    }\n",
       "\n",
       "    .dataframe tbody tr th {\n",
       "        vertical-align: top;\n",
       "    }\n",
       "\n",
       "    .dataframe thead th {\n",
       "        text-align: right;\n",
       "    }\n",
       "</style>\n",
       "<table border=\"1\" class=\"dataframe\">\n",
       "  <thead>\n",
       "    <tr style=\"text-align: right;\">\n",
       "      <th></th>\n",
       "      <th>high</th>\n",
       "      <th>Google_Trends</th>\n",
       "    </tr>\n",
       "  </thead>\n",
       "  <tbody>\n",
       "    <tr>\n",
       "      <th>2020-11-25</th>\n",
       "      <td>0.003577</td>\n",
       "      <td>100.0</td>\n",
       "    </tr>\n",
       "    <tr>\n",
       "      <th>2020-11-26</th>\n",
       "      <td>0.003181</td>\n",
       "      <td>39.0</td>\n",
       "    </tr>\n",
       "    <tr>\n",
       "      <th>2020-11-27</th>\n",
       "      <td>0.002814</td>\n",
       "      <td>31.0</td>\n",
       "    </tr>\n",
       "    <tr>\n",
       "      <th>2020-11-28</th>\n",
       "      <td>0.002900</td>\n",
       "      <td>31.0</td>\n",
       "    </tr>\n",
       "    <tr>\n",
       "      <th>2020-11-29</th>\n",
       "      <td>0.002951</td>\n",
       "      <td>33.0</td>\n",
       "    </tr>\n",
       "    <tr>\n",
       "      <th>...</th>\n",
       "      <td>...</td>\n",
       "      <td>...</td>\n",
       "    </tr>\n",
       "    <tr>\n",
       "      <th>2021-11-19</th>\n",
       "      <td>0.209374</td>\n",
       "      <td>83.0</td>\n",
       "    </tr>\n",
       "    <tr>\n",
       "      <th>2021-11-20</th>\n",
       "      <td>0.209047</td>\n",
       "      <td>76.0</td>\n",
       "    </tr>\n",
       "    <tr>\n",
       "      <th>2021-11-21</th>\n",
       "      <td>0.206740</td>\n",
       "      <td>69.0</td>\n",
       "    </tr>\n",
       "    <tr>\n",
       "      <th>2021-11-22</th>\n",
       "      <td>0.201781</td>\n",
       "      <td>72.0</td>\n",
       "    </tr>\n",
       "    <tr>\n",
       "      <th>2021-11-23</th>\n",
       "      <td>0.198796</td>\n",
       "      <td>75.0</td>\n",
       "    </tr>\n",
       "  </tbody>\n",
       "</table>\n",
       "<p>308 rows × 2 columns</p>\n",
       "</div>"
      ],
      "text/plain": [
       "                high  Google_Trends\n",
       "2020-11-25  0.003577          100.0\n",
       "2020-11-26  0.003181           39.0\n",
       "2020-11-27  0.002814           31.0\n",
       "2020-11-28  0.002900           31.0\n",
       "2020-11-29  0.002951           33.0\n",
       "...              ...            ...\n",
       "2021-11-19  0.209374           83.0\n",
       "2021-11-20  0.209047           76.0\n",
       "2021-11-21  0.206740           69.0\n",
       "2021-11-22  0.201781           72.0\n",
       "2021-11-23  0.198796           75.0\n",
       "\n",
       "[308 rows x 2 columns]"
      ]
     },
     "execution_count": 23,
     "metadata": {},
     "output_type": "execute_result"
    }
   ],
   "source": [
    "df_final"
   ]
  },
  {
   "cell_type": "markdown",
   "metadata": {
    "id": "vXjkzFNfHYCd"
   },
   "source": [
    "# Log-transformation"
   ]
  },
  {
   "cell_type": "code",
   "execution_count": null,
   "metadata": {
    "id": "ywWszgfxHhfw"
   },
   "outputs": [],
   "source": [
    "df_final[\"high\"] = np.log(df_final[\"high\"])"
   ]
  },
  {
   "cell_type": "markdown",
   "metadata": {
    "id": "ATwZ6gdUQGWa"
   },
   "source": [
    "# Reshaping Data"
   ]
  },
  {
   "cell_type": "code",
   "execution_count": null,
   "metadata": {
    "id": "J8FHCGYHlfCk"
   },
   "outputs": [],
   "source": [
    "## creating train_test_split and scaling values\n",
    "\n",
    "# instantiating a scaler\n",
    "scaler = MinMaxScaler()\n",
    "\n",
    "# selecting relevant column from df\n",
    "dataset = df_final.values\n",
    "\n",
    "# splitting into train and test data\n",
    "split = int(dataset.shape[0]*0.8)\n",
    "\n",
    "train, test = dataset[:split], dataset[split:]\n",
    "\n",
    "# scaling the data\n",
    "scaler.fit(train)\n",
    "train = scaler.transform(train)\n",
    "test = scaler.transform(test)\n",
    "\n",
    "history_size = 2\n",
    "\n",
    "# creating arrays X, y for train and test data \n",
    "def get_X_y(history_size, dataset):\n",
    "\n",
    "  X = []\n",
    "  y = []\n",
    "\n",
    "  for i in range(history_size, dataset.shape[0]):\n",
    "    X.append(dataset[i-history_size:i,:])\n",
    "    y.append(dataset[i,0])\n",
    "\n",
    "  return np.array(X), np.array(y)\n",
    "\n",
    "\n",
    "X_train, y_train = get_X_y(history_size, train)\n",
    "X_test, y_test = get_X_y(history_size, test)"
   ]
  },
  {
   "cell_type": "code",
   "execution_count": null,
   "metadata": {
    "colab": {
     "base_uri": "https://localhost:8080/"
    },
    "id": "8oQynu-1mAvv",
    "outputId": "f494a042-d926-4e58-ccc3-6facb1e844a9"
   },
   "outputs": [
    {
     "data": {
      "text/plain": [
       "(array([[0.06118267, 1.        ],\n",
       "        [0.03972341, 0.39      ]]), 0.778489654108104)"
      ]
     },
     "execution_count": 481,
     "metadata": {},
     "output_type": "execute_result"
    }
   ],
   "source": [
    "X_train[0], y_test[0]"
   ]
  },
  {
   "cell_type": "code",
   "execution_count": null,
   "metadata": {
    "id": "4x7CzRbipI4B"
   },
   "outputs": [],
   "source": [
    "X_train = X_train.reshape((X_train.shape[0], X_train.shape[1],2))"
   ]
  },
  {
   "cell_type": "code",
   "execution_count": null,
   "metadata": {
    "colab": {
     "base_uri": "https://localhost:8080/"
    },
    "id": "neYDHEjLpKSA",
    "outputId": "6ddede8d-7929-4ec9-d243-3261024c6e41"
   },
   "outputs": [
    {
     "data": {
      "text/plain": [
       "(244, 2, 2)"
      ]
     },
     "execution_count": 483,
     "metadata": {},
     "output_type": "execute_result"
    }
   ],
   "source": [
    "X_train.shape"
   ]
  },
  {
   "cell_type": "code",
   "execution_count": null,
   "metadata": {
    "id": "6H6db0wJPGxe"
   },
   "outputs": [],
   "source": [
    "X_test = X_test.reshape((X_test.shape[0], X_test.shape[1],2))"
   ]
  },
  {
   "cell_type": "code",
   "execution_count": null,
   "metadata": {
    "colab": {
     "base_uri": "https://localhost:8080/"
    },
    "id": "ZMRnRot6eR6-",
    "outputId": "2d9e16da-43e4-419e-f600-175295c42e2f"
   },
   "outputs": [
    {
     "data": {
      "text/plain": [
       "(60, 2, 2)"
      ]
     },
     "execution_count": 485,
     "metadata": {},
     "output_type": "execute_result"
    }
   ],
   "source": [
    "X_test.shape"
   ]
  },
  {
   "cell_type": "markdown",
   "metadata": {
    "id": "j28re1zTYPDm"
   },
   "source": [
    "# Modeling"
   ]
  },
  {
   "cell_type": "code",
   "execution_count": null,
   "metadata": {
    "id": "UKDD7ScvYP20"
   },
   "outputs": [],
   "source": [
    "# instantiating a model\n",
    "model = Sequential()\n",
    "\n",
    "# first network layer\n",
    "model.add(LSTM(units = 100, return_sequences= True, input_shape = (history_size, 2)))\n",
    "model.add(Dropout(0.2))\n",
    "\n",
    "# network layer's 2 - 5\n",
    "#model.add(LSTM(units= 50, return_sequences= True))\n",
    "#model.add(Dropout(0.2))\n",
    "#model.add(LSTM(units = 20, return_sequences= True))\n",
    "#model.add(Dropout(0.2))\n",
    "#model.add(LSTM(units= 50, return_sequences= True))\n",
    "#model.add(Dropout(0.2))\n",
    "#model.add(LSTM(units= 50, return_sequences= True))\n",
    "#model.add(Dropout(0.2))\n",
    "model.add(LSTM(units= 10, return_sequences= False))\n",
    "model.add(Dropout(0.2))\n",
    "\n",
    "# network output layer\n",
    "model.add(Dense(units= 1))\n",
    "\n",
    "model.compile(optimizer= \"rmsprop\", loss= \"mse\")"
   ]
  },
  {
   "cell_type": "code",
   "execution_count": null,
   "metadata": {
    "colab": {
     "base_uri": "https://localhost:8080/"
    },
    "id": "nH6uIPS5qk7j",
    "outputId": "9adb6ad9-ab21-48c6-a00e-06e90300a433"
   },
   "outputs": [
    {
     "data": {
      "text/plain": [
       "<keras.engine.sequential.Sequential at 0x7f5f5d55fa50>"
      ]
     },
     "execution_count": 497,
     "metadata": {},
     "output_type": "execute_result"
    }
   ],
   "source": [
    "model"
   ]
  },
  {
   "cell_type": "code",
   "execution_count": null,
   "metadata": {
    "id": "vAVKEK8pZddM"
   },
   "outputs": [],
   "source": [
    "es = EarlyStopping(patience = 50, restore_best_weights= True)\n",
    "\n",
    "model.fit(X_train, \n",
    "          y_train,\n",
    "          validation_split= 0.2,\n",
    "          epochs = 500,\n",
    "          batch_size= 32,\n",
    "          #callbacks= [es],\n",
    "          verbose= 1)"
   ]
  },
  {
   "cell_type": "markdown",
   "metadata": {
    "id": "eN2-X4m0IgT-"
   },
   "source": [
    "# Inverse Transform"
   ]
  },
  {
   "cell_type": "code",
   "execution_count": null,
   "metadata": {
    "id": "Qiv4wv0bIi00"
   },
   "outputs": [],
   "source": [
    "def inverse_transformer(y):\n",
    "  '''takes a one-dimensional input array (y_test or y_hat) and inverse transforms it.'''\n",
    "  y = np.c_[y, np.ones(len(y))]\n",
    "  y = scaler.inverse_transform(y)\n",
    "  y= y[:,0]\n",
    "  return y"
   ]
  },
  {
   "cell_type": "code",
   "execution_count": null,
   "metadata": {
    "id": "gLvKTZ-f_QNv"
   },
   "outputs": [],
   "source": [
    "real_stock_price = inverse_transformer(y_test)\n",
    "\n",
    "predicted_stock_price = inverse_transformer(model.predict(X_test))"
   ]
  },
  {
   "cell_type": "markdown",
   "metadata": {
    "id": "IPsoRZ6FIbJ4"
   },
   "source": [
    "# Inverse Log Transform"
   ]
  },
  {
   "cell_type": "code",
   "execution_count": null,
   "metadata": {
    "id": "bMD4m8MJIbT-"
   },
   "outputs": [],
   "source": [
    "real_stock_price = np.exp(real_stock_price)\n",
    "\n",
    "predicted_stock_price = np.exp(predicted_stock_price)"
   ]
  },
  {
   "cell_type": "markdown",
   "metadata": {
    "id": "9zbtqDkQIsFi"
   },
   "source": [
    "# Evaluate"
   ]
  },
  {
   "cell_type": "code",
   "execution_count": null,
   "metadata": {
    "colab": {
     "base_uri": "https://localhost:8080/",
     "height": 476
    },
    "id": "96hv9_sWxkuk",
    "outputId": "5b92f53d-329e-4f5b-e4ef-910a8d117e0b"
   },
   "outputs": [
    {
     "name": "stdout",
     "output_type": "stream",
     "text": [
      "RMSE = 0.020102072468647057\n"
     ]
    },
    {
     "data": {
      "image/png": "[encoded data removed]",
      "text/plain": [
       "<Figure size 1080x504 with 1 Axes>"
      ]
     },
     "metadata": {
      "needs_background": "light"
     },
     "output_type": "display_data"
    }
   ],
   "source": [
    "rmse = np.sqrt(mean_squared_error(real_stock_price, predicted_stock_price))\n",
    "\n",
    "print(f\"RMSE = {rmse}\")\n",
    "\n",
    "plt.figure(figsize= (15,7))\n",
    "plt.plot(real_stock_price, color = 'blue', label = \"Real Price\")\n",
    "plt.plot(predicted_stock_price, color = 'red', label = \"Predicted Price\")\n",
    "plt.title(\"Dogecoin Price Prediction\")\n",
    "plt.xlabel(\"Time\")\n",
    "plt.ylabel(\"Dogecoin Price\")\n",
    "plt.legend()\n",
    "\n",
    "plt.show()"
   ]
  },
  {
   "cell_type": "markdown",
   "metadata": {
    "id": "WETr6hj7KduS"
   },
   "source": [
    "# Notes on different model performances"
   ]
  },
  {
   "cell_type": "code",
   "execution_count": null,
   "metadata": {
    "colab": {
     "base_uri": "https://localhost:8080/",
     "height": 425
    },
    "id": "pX7ar8prKgfE",
    "outputId": "2f2b578f-9e81-4d0b-b655-e9d7734fa7e3"
   },
   "outputs": [
    {
     "data": {
      "text/html": [
       "<div>\n",
       "<style scoped>\n",
       "    .dataframe tbody tr th:only-of-type {\n",
       "        vertical-align: middle;\n",
       "    }\n",
       "\n",
       "    .dataframe tbody tr th {\n",
       "        vertical-align: top;\n",
       "    }\n",
       "\n",
       "    .dataframe thead th {\n",
       "        text-align: right;\n",
       "    }\n",
       "</style>\n",
       "<table border=\"1\" class=\"dataframe\">\n",
       "  <thead>\n",
       "    <tr style=\"text-align: right;\">\n",
       "      <th></th>\n",
       "      <th>optimizer</th>\n",
       "      <th>loss</th>\n",
       "      <th>history_size</th>\n",
       "      <th>epochs</th>\n",
       "      <th>layer0</th>\n",
       "      <th>layer1</th>\n",
       "      <th>layer2</th>\n",
       "      <th>layer3</th>\n",
       "      <th>layer4</th>\n",
       "      <th>layer5</th>\n",
       "      <th>output</th>\n",
       "      <th>rmse</th>\n",
       "    </tr>\n",
       "  </thead>\n",
       "  <tbody>\n",
       "    <tr>\n",
       "      <th>0</th>\n",
       "      <td>adam</td>\n",
       "      <td>mse</td>\n",
       "      <td>14</td>\n",
       "      <td>500</td>\n",
       "      <td>50</td>\n",
       "      <td>10</td>\n",
       "      <td>10</td>\n",
       "      <td>0</td>\n",
       "      <td>0</td>\n",
       "      <td>0</td>\n",
       "      <td>1</td>\n",
       "      <td>0.051</td>\n",
       "    </tr>\n",
       "    <tr>\n",
       "      <th>1</th>\n",
       "      <td>adam</td>\n",
       "      <td>mse</td>\n",
       "      <td>14</td>\n",
       "      <td>500</td>\n",
       "      <td>50</td>\n",
       "      <td>20</td>\n",
       "      <td>10</td>\n",
       "      <td>0</td>\n",
       "      <td>0</td>\n",
       "      <td>0</td>\n",
       "      <td>1</td>\n",
       "      <td>0.037</td>\n",
       "    </tr>\n",
       "    <tr>\n",
       "      <th>2</th>\n",
       "      <td>adam</td>\n",
       "      <td>mse</td>\n",
       "      <td>3</td>\n",
       "      <td>500</td>\n",
       "      <td>50</td>\n",
       "      <td>20</td>\n",
       "      <td>10</td>\n",
       "      <td>0</td>\n",
       "      <td>0</td>\n",
       "      <td>0</td>\n",
       "      <td>1</td>\n",
       "      <td>0.017</td>\n",
       "    </tr>\n",
       "    <tr>\n",
       "      <th>3</th>\n",
       "      <td>adam</td>\n",
       "      <td>mse</td>\n",
       "      <td>3</td>\n",
       "      <td>500</td>\n",
       "      <td>50</td>\n",
       "      <td>20</td>\n",
       "      <td>20</td>\n",
       "      <td>10</td>\n",
       "      <td>0</td>\n",
       "      <td>0</td>\n",
       "      <td>1</td>\n",
       "      <td>0.018</td>\n",
       "    </tr>\n",
       "    <tr>\n",
       "      <th>4</th>\n",
       "      <td>adam</td>\n",
       "      <td>mse</td>\n",
       "      <td>2</td>\n",
       "      <td>500</td>\n",
       "      <td>50</td>\n",
       "      <td>50</td>\n",
       "      <td>10</td>\n",
       "      <td>0</td>\n",
       "      <td>0</td>\n",
       "      <td>0</td>\n",
       "      <td>1</td>\n",
       "      <td>0.014</td>\n",
       "    </tr>\n",
       "    <tr>\n",
       "      <th>5</th>\n",
       "      <td>adam</td>\n",
       "      <td>mse</td>\n",
       "      <td>1</td>\n",
       "      <td>500</td>\n",
       "      <td>50</td>\n",
       "      <td>50</td>\n",
       "      <td>10</td>\n",
       "      <td>0</td>\n",
       "      <td>0</td>\n",
       "      <td>0</td>\n",
       "      <td>1</td>\n",
       "      <td>0.021</td>\n",
       "    </tr>\n",
       "    <tr>\n",
       "      <th>6</th>\n",
       "      <td>adam</td>\n",
       "      <td>mse</td>\n",
       "      <td>2</td>\n",
       "      <td>500</td>\n",
       "      <td>50</td>\n",
       "      <td>0</td>\n",
       "      <td>0</td>\n",
       "      <td>0</td>\n",
       "      <td>0</td>\n",
       "      <td>0</td>\n",
       "      <td>1</td>\n",
       "      <td>0.020</td>\n",
       "    </tr>\n",
       "    <tr>\n",
       "      <th>7</th>\n",
       "      <td>adam</td>\n",
       "      <td>mse</td>\n",
       "      <td>2</td>\n",
       "      <td>500</td>\n",
       "      <td>50</td>\n",
       "      <td>50</td>\n",
       "      <td>50</td>\n",
       "      <td>0</td>\n",
       "      <td>0</td>\n",
       "      <td>0</td>\n",
       "      <td>1</td>\n",
       "      <td>0.023</td>\n",
       "    </tr>\n",
       "    <tr>\n",
       "      <th>8</th>\n",
       "      <td>adam</td>\n",
       "      <td>mse</td>\n",
       "      <td>2</td>\n",
       "      <td>500</td>\n",
       "      <td>50</td>\n",
       "      <td>20</td>\n",
       "      <td>0</td>\n",
       "      <td>0</td>\n",
       "      <td>0</td>\n",
       "      <td>0</td>\n",
       "      <td>1</td>\n",
       "      <td>NaN</td>\n",
       "    </tr>\n",
       "    <tr>\n",
       "      <th>9</th>\n",
       "      <td>adam</td>\n",
       "      <td>mse</td>\n",
       "      <td>2</td>\n",
       "      <td>500</td>\n",
       "      <td>50</td>\n",
       "      <td>20</td>\n",
       "      <td>10</td>\n",
       "      <td>0</td>\n",
       "      <td>0</td>\n",
       "      <td>0</td>\n",
       "      <td>1</td>\n",
       "      <td>0.023</td>\n",
       "    </tr>\n",
       "    <tr>\n",
       "      <th>10</th>\n",
       "      <td>rmsprop</td>\n",
       "      <td>mse</td>\n",
       "      <td>2</td>\n",
       "      <td>500</td>\n",
       "      <td>50</td>\n",
       "      <td>50</td>\n",
       "      <td>10</td>\n",
       "      <td>0</td>\n",
       "      <td>0</td>\n",
       "      <td>0</td>\n",
       "      <td>1</td>\n",
       "      <td>NaN</td>\n",
       "    </tr>\n",
       "    <tr>\n",
       "      <th>11</th>\n",
       "      <td>rmsprop</td>\n",
       "      <td>mse</td>\n",
       "      <td>2</td>\n",
       "      <td>500</td>\n",
       "      <td>100</td>\n",
       "      <td>10</td>\n",
       "      <td>0</td>\n",
       "      <td>0</td>\n",
       "      <td>0</td>\n",
       "      <td>0</td>\n",
       "      <td>1</td>\n",
       "      <td>0.020</td>\n",
       "    </tr>\n",
       "  </tbody>\n",
       "</table>\n",
       "</div>"
      ],
      "text/plain": [
       "   optimizer loss  history_size  epochs  ...  layer4  layer5  output   rmse\n",
       "0       adam  mse            14     500  ...       0       0       1  0.051\n",
       "1       adam  mse            14     500  ...       0       0       1  0.037\n",
       "2       adam  mse             3     500  ...       0       0       1  0.017\n",
       "3       adam  mse             3     500  ...       0       0       1  0.018\n",
       "4       adam  mse             2     500  ...       0       0       1  0.014\n",
       "5       adam  mse             1     500  ...       0       0       1  0.021\n",
       "6       adam  mse             2     500  ...       0       0       1  0.020\n",
       "7       adam  mse             2     500  ...       0       0       1  0.023\n",
       "8       adam  mse             2     500  ...       0       0       1    NaN\n",
       "9       adam  mse             2     500  ...       0       0       1  0.023\n",
       "10   rmsprop  mse             2     500  ...       0       0       1    NaN\n",
       "11   rmsprop  mse             2     500  ...       0       0       1  0.020\n",
       "\n",
       "[12 rows x 12 columns]"
      ]
     },
     "execution_count": 511,
     "metadata": {},
     "output_type": "execute_result"
    }
   ],
   "source": [
    "eval_dict = {\"optimizer\": [\"adam\",\"adam\",\"adam\",\"adam\",\"adam\",\"adam\",\"adam\",\"adam\",\"adam\", \"adam\", \"rmsprop\", \"rmsprop\"],\n",
    "             \"loss\": [\"mse\",\"mse\",\"mse\",\"mse\",\"mse\",\"mse\",\"mse\",\"mse\",\"mse\", \"mse\", \"mse\", \"mse\"],\n",
    "              \"history_size\": [14, 14, 3, 3, 2, 1, 2, 2, 2, 2, 2, 2],\n",
    "             \"epochs\": [500, 500, 500, 500, 500, 500, 500, 500, 500, 500, 500, 500],\n",
    "             \"layer0\": [50,50,50,50,50,50, 50, 50, 50, 50, 50, 100],\n",
    "            \"layer1\": [10, 20, 20, 20, 50, 50, 0, 50, 20, 20, 50, 10],\n",
    "           \"layer2\": [10, 10, 10, 20, 10, 10, 0, 50, 0, 10, 10, 0],\n",
    "           \"layer3\": [0, 0, 0, 10, 0, 0, 0, 0, 0, 0, 0, 0],\n",
    "           \"layer4\": [0, 0, 0, 0, 0, 0, 0, 0, 0, 0, 0, 0],\n",
    "           \"layer5\": [0, 0, 0, 0, 0, 0,0, 0, 0, 0, 0, 0],\n",
    "            \"output\": [1, 1, 1, 1, 1, 1, 1, 1, 1, 1, 1, 1],\n",
    "           \"rmse\": [0.051, 0.037, 0.017, 0.018, 0.014, 0.021, 0.020, 0.023, np.NaN, 0.023, np.NaN, 0.020]}\n",
    "\n",
    "eval_df = pd.DataFrame.from_dict(eval_dict)\n",
    "\n",
    "#for k,v in eval_dict.items():\n",
    "  #print(f\"{k} : {len(v)}\")\n",
    "\n",
    "eval_df"
   ]
  },
  {
   "cell_type": "markdown",
   "metadata": {
    "id": "RCHHyHBWsXLC"
   },
   "source": [
    "# Baseline model\n",
    "Calculate \"dumb\" model based on price from previous day to compare our performance to"
   ]
  },
  {
   "cell_type": "code",
   "execution_count": 9,
   "metadata": {
    "colab": {
     "base_uri": "https://localhost:8080/"
    },
    "id": "hvc-8Zo4t3oF",
    "outputId": "31f67494-7ade-4a3d-fa7c-a1379ec1cadd"
   },
   "outputs": [
    {
     "data": {
      "text/plain": [
       "0.02604733229784733"
      ]
     },
     "execution_count": 9,
     "metadata": {},
     "output_type": "execute_result"
    }
   ],
   "source": [
    "df_baseline = df_final_doge\n",
    "df_baseline['last_days_price'] = df_baseline.high.shift(1)\n",
    "df_baseline = df_baseline.drop(df_baseline.index[0])\n",
    "\n",
    "baseline_rmse = ((df_baseline.high - df_baseline.last_days_price) ** 2).mean() ** .5\n",
    "\n",
    "baseline_mse = ((df_baseline.high - df_baseline.last_days_price) ** 2).mean()\n",
    "#baseline_mse\n",
    "baseline_rmse"
   ]
  },
  {
   "cell_type": "markdown",
   "metadata": {
    "id": "9AasEebWQTOX"
   },
   "source": [
    "# Samoyedcoin"
   ]
  },
  {
   "cell_type": "code",
   "execution_count": 11,
   "metadata": {
    "colab": {
     "base_uri": "https://localhost:8080/",
     "height": 454
    },
    "id": "iYdXt0LARHWz",
    "outputId": "e07d543f-17d4-435f-851e-67eba9b3c6f1"
   },
   "outputs": [
    {
     "data": {
      "text/html": [
       "<div>\n",
       "<style scoped>\n",
       "    .dataframe tbody tr th:only-of-type {\n",
       "        vertical-align: middle;\n",
       "    }\n",
       "\n",
       "    .dataframe tbody tr th {\n",
       "        vertical-align: top;\n",
       "    }\n",
       "\n",
       "    .dataframe thead th {\n",
       "        text-align: right;\n",
       "    }\n",
       "</style>\n",
       "<table border=\"1\" class=\"dataframe\">\n",
       "  <thead>\n",
       "    <tr style=\"text-align: right;\">\n",
       "      <th></th>\n",
       "      <th>timestamp</th>\n",
       "      <th>price</th>\n",
       "      <th>market_caps</th>\n",
       "      <th>total_volumes</th>\n",
       "    </tr>\n",
       "    <tr>\n",
       "      <th>datetime</th>\n",
       "      <th></th>\n",
       "      <th></th>\n",
       "      <th></th>\n",
       "      <th></th>\n",
       "    </tr>\n",
       "  </thead>\n",
       "  <tbody>\n",
       "    <tr>\n",
       "      <th>2021-04-27</th>\n",
       "      <td>1619481600000</td>\n",
       "      <td>0.002110</td>\n",
       "      <td>0.000000e+00</td>\n",
       "      <td>2.975163e+05</td>\n",
       "    </tr>\n",
       "    <tr>\n",
       "      <th>2021-04-28</th>\n",
       "      <td>1619568000000</td>\n",
       "      <td>0.002110</td>\n",
       "      <td>0.000000e+00</td>\n",
       "      <td>2.975163e+05</td>\n",
       "    </tr>\n",
       "    <tr>\n",
       "      <th>2021-04-29</th>\n",
       "      <td>1619654400000</td>\n",
       "      <td>0.001731</td>\n",
       "      <td>0.000000e+00</td>\n",
       "      <td>2.977700e+05</td>\n",
       "    </tr>\n",
       "    <tr>\n",
       "      <th>2021-04-30</th>\n",
       "      <td>1619740800000</td>\n",
       "      <td>0.001566</td>\n",
       "      <td>0.000000e+00</td>\n",
       "      <td>2.528261e+05</td>\n",
       "    </tr>\n",
       "    <tr>\n",
       "      <th>2021-05-01</th>\n",
       "      <td>1619827200000</td>\n",
       "      <td>0.001704</td>\n",
       "      <td>0.000000e+00</td>\n",
       "      <td>1.058263e+05</td>\n",
       "    </tr>\n",
       "    <tr>\n",
       "      <th>...</th>\n",
       "      <td>...</td>\n",
       "      <td>...</td>\n",
       "      <td>...</td>\n",
       "      <td>...</td>\n",
       "    </tr>\n",
       "    <tr>\n",
       "      <th>2021-11-20</th>\n",
       "      <td>1637366400000</td>\n",
       "      <td>0.095379</td>\n",
       "      <td>2.752668e+08</td>\n",
       "      <td>2.176232e+07</td>\n",
       "    </tr>\n",
       "    <tr>\n",
       "      <th>2021-11-21</th>\n",
       "      <td>1637452800000</td>\n",
       "      <td>0.103879</td>\n",
       "      <td>3.000463e+08</td>\n",
       "      <td>1.647836e+07</td>\n",
       "    </tr>\n",
       "    <tr>\n",
       "      <th>2021-11-22</th>\n",
       "      <td>1637539200000</td>\n",
       "      <td>0.104198</td>\n",
       "      <td>3.014003e+08</td>\n",
       "      <td>1.295468e+07</td>\n",
       "    </tr>\n",
       "    <tr>\n",
       "      <th>2021-11-23</th>\n",
       "      <td>1637625600000</td>\n",
       "      <td>0.086709</td>\n",
       "      <td>2.504573e+08</td>\n",
       "      <td>1.855355e+07</td>\n",
       "    </tr>\n",
       "    <tr>\n",
       "      <th>2021-11-24</th>\n",
       "      <td>1637712000000</td>\n",
       "      <td>0.084472</td>\n",
       "      <td>2.438062e+08</td>\n",
       "      <td>1.359279e+07</td>\n",
       "    </tr>\n",
       "  </tbody>\n",
       "</table>\n",
       "<p>212 rows × 4 columns</p>\n",
       "</div>"
      ],
      "text/plain": [
       "                timestamp     price   market_caps  total_volumes\n",
       "datetime                                                        \n",
       "2021-04-27  1619481600000  0.002110  0.000000e+00   2.975163e+05\n",
       "2021-04-28  1619568000000  0.002110  0.000000e+00   2.975163e+05\n",
       "2021-04-29  1619654400000  0.001731  0.000000e+00   2.977700e+05\n",
       "2021-04-30  1619740800000  0.001566  0.000000e+00   2.528261e+05\n",
       "2021-05-01  1619827200000  0.001704  0.000000e+00   1.058263e+05\n",
       "...                   ...       ...           ...            ...\n",
       "2021-11-20  1637366400000  0.095379  2.752668e+08   2.176232e+07\n",
       "2021-11-21  1637452800000  0.103879  3.000463e+08   1.647836e+07\n",
       "2021-11-22  1637539200000  0.104198  3.014003e+08   1.295468e+07\n",
       "2021-11-23  1637625600000  0.086709  2.504573e+08   1.855355e+07\n",
       "2021-11-24  1637712000000  0.084472  2.438062e+08   1.359279e+07\n",
       "\n",
       "[212 rows x 4 columns]"
      ]
     },
     "execution_count": 11,
     "metadata": {},
     "output_type": "execute_result"
    }
   ],
   "source": [
    "#import price data for samoyed\n",
    "df_sa=pd.read_csv('/content/gdrive/MyDrive/samoyed_212.csv')\n",
    "df_sa.set_index('datetime', inplace=True)\n",
    "df_sa.interpolate(method= \"linear\", inplace= True)\n",
    "df_sa"
   ]
  },
  {
   "cell_type": "code",
   "execution_count": 12,
   "metadata": {
    "colab": {
     "base_uri": "https://localhost:8080/",
     "height": 454
    },
    "id": "4eOYZt6sQWTj",
    "outputId": "a98bdd1f-9ac5-489c-bffb-351bd15d977c"
   },
   "outputs": [
    {
     "data": {
      "text/html": [
       "<div>\n",
       "<style scoped>\n",
       "    .dataframe tbody tr th:only-of-type {\n",
       "        vertical-align: middle;\n",
       "    }\n",
       "\n",
       "    .dataframe tbody tr th {\n",
       "        vertical-align: top;\n",
       "    }\n",
       "\n",
       "    .dataframe thead th {\n",
       "        text-align: right;\n",
       "    }\n",
       "</style>\n",
       "<table border=\"1\" class=\"dataframe\">\n",
       "  <thead>\n",
       "    <tr style=\"text-align: right;\">\n",
       "      <th></th>\n",
       "      <th>Unnamed: 0</th>\n",
       "      <th>Samoyedcoin</th>\n",
       "    </tr>\n",
       "    <tr>\n",
       "      <th>day</th>\n",
       "      <th></th>\n",
       "      <th></th>\n",
       "    </tr>\n",
       "  </thead>\n",
       "  <tbody>\n",
       "    <tr>\n",
       "      <th>2021-04-27</th>\n",
       "      <td>0</td>\n",
       "      <td>9.916667</td>\n",
       "    </tr>\n",
       "    <tr>\n",
       "      <th>2021-04-28</th>\n",
       "      <td>1</td>\n",
       "      <td>36.583333</td>\n",
       "    </tr>\n",
       "    <tr>\n",
       "      <th>2021-04-29</th>\n",
       "      <td>2</td>\n",
       "      <td>20.250000</td>\n",
       "    </tr>\n",
       "    <tr>\n",
       "      <th>2021-04-30</th>\n",
       "      <td>3</td>\n",
       "      <td>5.333333</td>\n",
       "    </tr>\n",
       "    <tr>\n",
       "      <th>2021-05-01</th>\n",
       "      <td>4</td>\n",
       "      <td>9.791667</td>\n",
       "    </tr>\n",
       "    <tr>\n",
       "      <th>...</th>\n",
       "      <td>...</td>\n",
       "      <td>...</td>\n",
       "    </tr>\n",
       "    <tr>\n",
       "      <th>2021-11-20</th>\n",
       "      <td>152</td>\n",
       "      <td>34.125000</td>\n",
       "    </tr>\n",
       "    <tr>\n",
       "      <th>2021-11-21</th>\n",
       "      <td>153</td>\n",
       "      <td>32.875000</td>\n",
       "    </tr>\n",
       "    <tr>\n",
       "      <th>2021-11-22</th>\n",
       "      <td>154</td>\n",
       "      <td>29.000000</td>\n",
       "    </tr>\n",
       "    <tr>\n",
       "      <th>2021-11-23</th>\n",
       "      <td>155</td>\n",
       "      <td>21.440000</td>\n",
       "    </tr>\n",
       "    <tr>\n",
       "      <th>2021-11-24</th>\n",
       "      <td>156</td>\n",
       "      <td>60.000000</td>\n",
       "    </tr>\n",
       "  </tbody>\n",
       "</table>\n",
       "<p>157 rows × 2 columns</p>\n",
       "</div>"
      ],
      "text/plain": [
       "            Unnamed: 0  Samoyedcoin\n",
       "day                                \n",
       "2021-04-27           0     9.916667\n",
       "2021-04-28           1    36.583333\n",
       "2021-04-29           2    20.250000\n",
       "2021-04-30           3     5.333333\n",
       "2021-05-01           4     9.791667\n",
       "...                ...          ...\n",
       "2021-11-20         152    34.125000\n",
       "2021-11-21         153    32.875000\n",
       "2021-11-22         154    29.000000\n",
       "2021-11-23         155    21.440000\n",
       "2021-11-24         156    60.000000\n",
       "\n",
       "[157 rows x 2 columns]"
      ]
     },
     "execution_count": 12,
     "metadata": {},
     "output_type": "execute_result"
    }
   ],
   "source": [
    "# import trends data for samoyed\n",
    "df_sa_gt=pd.read_csv('/content/gdrive/MyDrive/samoyed_gt_daily.csv')\n",
    "df_sa_gt.set_index('day', inplace=True)\n",
    "df_sa_gt.interpolate(method= \"linear\", inplace= True)\n",
    "df_sa_gt"
   ]
  },
  {
   "cell_type": "code",
   "execution_count": 13,
   "metadata": {
    "colab": {
     "base_uri": "https://localhost:8080/",
     "height": 422
    },
    "id": "EdWbcuXCVJte",
    "outputId": "f740e276-4bb0-435e-c31e-03bfd308cddc"
   },
   "outputs": [
    {
     "data": {
      "text/html": [
       "<div>\n",
       "<style scoped>\n",
       "    .dataframe tbody tr th:only-of-type {\n",
       "        vertical-align: middle;\n",
       "    }\n",
       "\n",
       "    .dataframe tbody tr th {\n",
       "        vertical-align: top;\n",
       "    }\n",
       "\n",
       "    .dataframe thead th {\n",
       "        text-align: right;\n",
       "    }\n",
       "</style>\n",
       "<table border=\"1\" class=\"dataframe\">\n",
       "  <thead>\n",
       "    <tr style=\"text-align: right;\">\n",
       "      <th></th>\n",
       "      <th>price</th>\n",
       "      <th>Google Trends</th>\n",
       "      <th>target</th>\n",
       "    </tr>\n",
       "  </thead>\n",
       "  <tbody>\n",
       "    <tr>\n",
       "      <th>2021-04-27</th>\n",
       "      <td>0.002110</td>\n",
       "      <td>9.916667</td>\n",
       "      <td>0.002110</td>\n",
       "    </tr>\n",
       "    <tr>\n",
       "      <th>2021-04-28</th>\n",
       "      <td>0.002110</td>\n",
       "      <td>36.583333</td>\n",
       "      <td>0.001731</td>\n",
       "    </tr>\n",
       "    <tr>\n",
       "      <th>2021-04-29</th>\n",
       "      <td>0.001731</td>\n",
       "      <td>20.250000</td>\n",
       "      <td>0.001566</td>\n",
       "    </tr>\n",
       "    <tr>\n",
       "      <th>2021-04-30</th>\n",
       "      <td>0.001566</td>\n",
       "      <td>5.333333</td>\n",
       "      <td>0.001704</td>\n",
       "    </tr>\n",
       "    <tr>\n",
       "      <th>2021-05-01</th>\n",
       "      <td>0.001704</td>\n",
       "      <td>9.791667</td>\n",
       "      <td>0.002045</td>\n",
       "    </tr>\n",
       "    <tr>\n",
       "      <th>...</th>\n",
       "      <td>...</td>\n",
       "      <td>...</td>\n",
       "      <td>...</td>\n",
       "    </tr>\n",
       "    <tr>\n",
       "      <th>2021-11-19</th>\n",
       "      <td>0.083764</td>\n",
       "      <td>29.875000</td>\n",
       "      <td>0.095379</td>\n",
       "    </tr>\n",
       "    <tr>\n",
       "      <th>2021-11-20</th>\n",
       "      <td>0.095379</td>\n",
       "      <td>34.125000</td>\n",
       "      <td>0.103879</td>\n",
       "    </tr>\n",
       "    <tr>\n",
       "      <th>2021-11-21</th>\n",
       "      <td>0.103879</td>\n",
       "      <td>32.875000</td>\n",
       "      <td>0.104198</td>\n",
       "    </tr>\n",
       "    <tr>\n",
       "      <th>2021-11-22</th>\n",
       "      <td>0.104198</td>\n",
       "      <td>29.000000</td>\n",
       "      <td>0.086709</td>\n",
       "    </tr>\n",
       "    <tr>\n",
       "      <th>2021-11-23</th>\n",
       "      <td>0.086709</td>\n",
       "      <td>21.440000</td>\n",
       "      <td>0.084472</td>\n",
       "    </tr>\n",
       "  </tbody>\n",
       "</table>\n",
       "<p>156 rows × 3 columns</p>\n",
       "</div>"
      ],
      "text/plain": [
       "               price  Google Trends    target\n",
       "2021-04-27  0.002110       9.916667  0.002110\n",
       "2021-04-28  0.002110      36.583333  0.001731\n",
       "2021-04-29  0.001731      20.250000  0.001566\n",
       "2021-04-30  0.001566       5.333333  0.001704\n",
       "2021-05-01  0.001704       9.791667  0.002045\n",
       "...              ...            ...       ...\n",
       "2021-11-19  0.083764      29.875000  0.095379\n",
       "2021-11-20  0.095379      34.125000  0.103879\n",
       "2021-11-21  0.103879      32.875000  0.104198\n",
       "2021-11-22  0.104198      29.000000  0.086709\n",
       "2021-11-23  0.086709      21.440000  0.084472\n",
       "\n",
       "[156 rows x 3 columns]"
      ]
     },
     "execution_count": 13,
     "metadata": {},
     "output_type": "execute_result"
    }
   ],
   "source": [
    "#merge dfs to have one df w price, gt and target for samoyed\n",
    "df_final_sa = df_sa[[\"price\"]].join(df_sa_gt[['Samoyedcoin']], how= \"outer\")\n",
    "df_final_sa.rename(columns= {\"Samoyedcoin\": \"Google Trends\"}, inplace= True)\n",
    "df_final_sa.dropna(inplace= True)\n",
    "df_final_sa['target'] = df_final_sa.price.shift(-1) # target is tomorrow's price\n",
    "df_final_sa = df_final_sa.drop(df_final_sa.index[-1]) # drop last value as it has no target\n",
    "df_sa.reset_index(inplace=True)\n",
    "df_final_sa"
   ]
  },
  {
   "cell_type": "code",
   "execution_count": 14,
   "metadata": {
    "colab": {
     "base_uri": "https://localhost:8080/",
     "height": 422
    },
    "id": "DdA9urwTsca-",
    "outputId": "fb12298d-dca4-4cec-90d4-992665cd3062"
   },
   "outputs": [
    {
     "data": {
      "text/html": [
       "<div>\n",
       "<style scoped>\n",
       "    .dataframe tbody tr th:only-of-type {\n",
       "        vertical-align: middle;\n",
       "    }\n",
       "\n",
       "    .dataframe tbody tr th {\n",
       "        vertical-align: top;\n",
       "    }\n",
       "\n",
       "    .dataframe thead th {\n",
       "        text-align: right;\n",
       "    }\n",
       "</style>\n",
       "<table border=\"1\" class=\"dataframe\">\n",
       "  <thead>\n",
       "    <tr style=\"text-align: right;\">\n",
       "      <th></th>\n",
       "      <th>target</th>\n",
       "    </tr>\n",
       "  </thead>\n",
       "  <tbody>\n",
       "    <tr>\n",
       "      <th>2020-11-25</th>\n",
       "      <td>0.003181</td>\n",
       "    </tr>\n",
       "    <tr>\n",
       "      <th>2020-11-26</th>\n",
       "      <td>0.002814</td>\n",
       "    </tr>\n",
       "    <tr>\n",
       "      <th>2020-11-27</th>\n",
       "      <td>0.002900</td>\n",
       "    </tr>\n",
       "    <tr>\n",
       "      <th>2020-11-28</th>\n",
       "      <td>0.002951</td>\n",
       "    </tr>\n",
       "    <tr>\n",
       "      <th>2020-11-29</th>\n",
       "      <td>0.002997</td>\n",
       "    </tr>\n",
       "    <tr>\n",
       "      <th>...</th>\n",
       "      <td>...</td>\n",
       "    </tr>\n",
       "    <tr>\n",
       "      <th>2021-11-18</th>\n",
       "      <td>0.209374</td>\n",
       "    </tr>\n",
       "    <tr>\n",
       "      <th>2021-11-19</th>\n",
       "      <td>0.209047</td>\n",
       "    </tr>\n",
       "    <tr>\n",
       "      <th>2021-11-20</th>\n",
       "      <td>0.206740</td>\n",
       "    </tr>\n",
       "    <tr>\n",
       "      <th>2021-11-21</th>\n",
       "      <td>0.201781</td>\n",
       "    </tr>\n",
       "    <tr>\n",
       "      <th>2021-11-22</th>\n",
       "      <td>0.198796</td>\n",
       "    </tr>\n",
       "  </tbody>\n",
       "</table>\n",
       "<p>307 rows × 1 columns</p>\n",
       "</div>"
      ],
      "text/plain": [
       "              target\n",
       "2020-11-25  0.003181\n",
       "2020-11-26  0.002814\n",
       "2020-11-27  0.002900\n",
       "2020-11-28  0.002951\n",
       "2020-11-29  0.002997\n",
       "...              ...\n",
       "2021-11-18  0.209374\n",
       "2021-11-19  0.209047\n",
       "2021-11-20  0.206740\n",
       "2021-11-21  0.201781\n",
       "2021-11-22  0.198796\n",
       "\n",
       "[307 rows x 1 columns]"
      ]
     },
     "execution_count": 14,
     "metadata": {},
     "output_type": "execute_result"
    }
   ],
   "source": [
    "# create 2 dfs with only the target to be passed as y into the model\n",
    "y_sa = df_final_sa[['target']]\n",
    "y_doge = df_final_doge[['target']]\n",
    "#y_multi['Dogecoin'] = df_final_doge[['target']]\n",
    "y_doge"
   ]
  },
  {
   "cell_type": "markdown",
   "metadata": {
    "id": "3ZsBSc9dhFmc"
   },
   "source": [
    "# Multi-coin, multi-feature model"
   ]
  },
  {
   "cell_type": "code",
   "execution_count": 15,
   "metadata": {
    "id": "q_bkm25JId4v"
   },
   "outputs": [],
   "source": [
    "# creating np-arrays of data to build multi-model\n",
    "\n",
    "X_multi = [df_final_doge.iloc[:,:2], df_final_sa.iloc[:,:2]]\n",
    "X_multi = np.array(X_multi, dtype='object')\n",
    "\n",
    "#X_multi = [np.array(_) for _ in X_multi]\n",
    "\n",
    "y_multi = [y_doge, y_sa]\n",
    "y_multi = np.array(y_multi, dtype='object')\n",
    "\n",
    "#y_multi = [np.array(_) for _ in y_multi]\n",
    "#y_multi = np.asarray(y_multi).astype('float32')"
   ]
  },
  {
   "cell_type": "code",
   "execution_count": 16,
   "metadata": {
    "id": "NmNZBIUUXpL5"
   },
   "outputs": [],
   "source": [
    "# padding X and y so they are the same length\n",
    "\n",
    "X_pad = pad_sequences(X_multi, dtype='float32', padding='post', value=-1)\n",
    "X_pad = np.asarray(X_pad).astype('float32')\n",
    "y_pad = pad_sequences(y_multi, dtype='float32', padding='post', value=-1)\n",
    "y_pad = np.asarray(y_pad).astype('float32')\n"
   ]
  },
  {
   "cell_type": "code",
   "execution_count": 18,
   "metadata": {
    "colab": {
     "base_uri": "https://localhost:8080/"
    },
    "id": "fKwFASU9ZeiK",
    "outputId": "146b0a62-451d-45d2-8234-d4c9f8fb69e5"
   },
   "outputs": [
    {
     "name": "stdout",
     "output_type": "stream",
     "text": [
      "(2, 307, 2) (2, 307, 1)\n"
     ]
    }
   ],
   "source": [
    "# check the shapes of x and y, should be n_coins, n_observations, n_features\n",
    "print(X_pad.shape, y_pad.shape)"
   ]
  },
  {
   "cell_type": "code",
   "execution_count": 19,
   "metadata": {
    "colab": {
     "base_uri": "https://localhost:8080/"
    },
    "id": "BVeppBuNHfpF",
    "outputId": "954ce105-a2b2-499e-e191-15bfa7bd8edc"
   },
   "outputs": [
    {
     "data": {
      "text/plain": [
       "<keras.engine.sequential.Sequential at 0x7fc3d3dcb590>"
      ]
     },
     "execution_count": 19,
     "metadata": {},
     "output_type": "execute_result"
    }
   ],
   "source": [
    "# –– Model\n",
    "model = Sequential()\n",
    "model.add(Masking(mask_value=-1, input_shape=(307,2)))\n",
    "model.add(LSTM(units=250, activation='tanh', return_sequences=True))\n",
    "model.add(Dropout(0.2))\n",
    "model.add(LSTM(units=100, activation='tanh', return_sequences=True))\n",
    "model.add(Dropout(0.2))\n",
    "model.add(LSTM(units=25, activation='tanh', return_sequences=True))\n",
    "model.add(Dropout(0.2))\n",
    "\n",
    "# network output layer\n",
    "model.add(Dense(units=1))\n",
    "\n",
    "# –– Compilation\n",
    "model.compile(optimizer= \"rmsprop\", loss= \"mse\")\n",
    "model"
   ]
  },
  {
   "cell_type": "code",
   "execution_count": 20,
   "metadata": {
    "colab": {
     "base_uri": "https://localhost:8080/"
    },
    "id": "A4nb8jsIhsXj",
    "outputId": "70c23e93-a050-46e6-b389-d7a3f1213e83"
   },
   "outputs": [
    {
     "name": "stdout",
     "output_type": "stream",
     "text": [
      "Epoch 1/100\n",
      "1/1 [==============================] - 21s 21s/step - loss: 0.0854 - val_loss: 0.8316\n",
      "Epoch 2/100\n",
      "1/1 [==============================] - 0s 169ms/step - loss: 1.5687 - val_loss: 0.0057\n",
      "Epoch 3/100\n",
      "1/1 [==============================] - 0s 179ms/step - loss: 0.0749 - val_loss: 0.0044\n",
      "Epoch 4/100\n",
      "1/1 [==============================] - 0s 168ms/step - loss: 0.0811 - val_loss: 0.0640\n",
      "Epoch 5/100\n",
      "1/1 [==============================] - 0s 188ms/step - loss: 0.1196 - val_loss: 0.0140\n",
      "Epoch 6/100\n",
      "1/1 [==============================] - 0s 168ms/step - loss: 0.1092 - val_loss: 0.0205\n",
      "Epoch 7/100\n",
      "1/1 [==============================] - 0s 181ms/step - loss: 0.0639 - val_loss: 0.0029\n",
      "Epoch 8/100\n",
      "1/1 [==============================] - 0s 168ms/step - loss: 0.0560 - val_loss: 0.0066\n",
      "Epoch 9/100\n",
      "1/1 [==============================] - 0s 185ms/step - loss: 0.0583 - val_loss: 0.0050\n",
      "Epoch 10/100\n",
      "1/1 [==============================] - 0s 167ms/step - loss: 0.0588 - val_loss: 0.0045\n",
      "Epoch 11/100\n",
      "1/1 [==============================] - 0s 175ms/step - loss: 0.0449 - val_loss: 0.0054\n",
      "Epoch 12/100\n",
      "1/1 [==============================] - 0s 169ms/step - loss: 0.0465 - val_loss: 0.0038\n",
      "Epoch 13/100\n",
      "1/1 [==============================] - 0s 208ms/step - loss: 0.0430 - val_loss: 0.0060\n",
      "Epoch 14/100\n",
      "1/1 [==============================] - 0s 178ms/step - loss: 0.0397 - val_loss: 0.0055\n",
      "Epoch 15/100\n",
      "1/1 [==============================] - 0s 171ms/step - loss: 0.0430 - val_loss: 0.0147\n",
      "Epoch 16/100\n",
      "1/1 [==============================] - 0s 169ms/step - loss: 0.0375 - val_loss: 0.0049\n",
      "Epoch 17/100\n",
      "1/1 [==============================] - 0s 182ms/step - loss: 0.0347 - val_loss: 0.0180\n"
     ]
    },
    {
     "data": {
      "text/plain": [
       "<keras.callbacks.History at 0x7fc35b3a67d0>"
      ]
     },
     "execution_count": 20,
     "metadata": {},
     "output_type": "execute_result"
    }
   ],
   "source": [
    "# –– Fit\n",
    "\n",
    "es = EarlyStopping(patience = 10, restore_best_weights= True)\n",
    "\n",
    "model.fit(X_pad, y_pad,\n",
    "          validation_split= 0.2,\n",
    "          epochs = 100,\n",
    "          batch_size= 16,\n",
    "          callbacks = [es],\n",
    "          verbose= 1)\n"
   ]
  },
  {
   "cell_type": "code",
   "execution_count": null,
   "metadata": {
    "id": "k-H1JWwuJX67"
   },
   "outputs": [],
   "source": [
    ""
   ]
  }
 ],
 "metadata": {
  "accelerator": "GPU",
  "colab": {
   "collapsed_sections": [],
   "name": "RNN_Model_Env_morten.ipynb",
   "provenance": []
  },
  "kernelspec": {
   "display_name": "Python 3",
   "name": "python3"
  },
  "language_info": {
   "name": "python"
  }
 },
 "nbformat": 4,
 "nbformat_minor": 0
}
