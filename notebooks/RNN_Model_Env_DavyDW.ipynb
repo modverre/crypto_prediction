{
 "cells": [
  {
   "cell_type": "markdown",
   "metadata": {
    "id": "8onIoqchOmYN"
   },
   "source": [
    "# RNN Model Development"
   ]
  },
  {
   "cell_type": "markdown",
   "metadata": {
    "id": "h7Z6aEmsV3s0"
   },
   "source": [
    "## Imports"
   ]
  },
  {
   "cell_type": "code",
   "execution_count": 1,
   "metadata": {
    "executionInfo": {
     "elapsed": 3076,
     "status": "ok",
     "timestamp": 1638203455107,
     "user": {
      "displayName": "DavyDw Pro",
      "photoUrl": "https://lh3.googleusercontent.com/a-/AOh14GjwzgF9Xbt1P6nF6_DVncYevBktfT1FPSSwut4=s64",
      "userId": "11216502560164167954"
     },
     "user_tz": -60
    },
    "id": "yk6R3jNYOo9q"
   },
   "outputs": [],
   "source": [
    "import pandas as pd\n",
    "import numpy as np\n",
    "import matplotlib.pyplot as plt\n",
    "\n",
    "from google.colab import drive \n",
    "from tensorflow.keras.models import Sequential\n",
    "from tensorflow.keras.layers import Dense, LSTM, Dropout, Masking\n",
    "from tensorflow.keras.callbacks import EarlyStopping\n",
    "from tensorflow.keras.preprocessing.sequence import pad_sequences\n",
    "\n",
    "from sklearn.preprocessing import MinMaxScaler, RobustScaler\n",
    "from sklearn.model_selection import GridSearchCV, RandomizedSearchCV\n",
    "from sklearn.model_selection import train_test_split\n",
    "from sklearn.metrics import mean_squared_error\n",
    "\n",
    "from datetime import datetime, timedelta\n"
   ]
  },
  {
   "cell_type": "markdown",
   "metadata": {
    "id": "EyMSxGm_V6Si"
   },
   "source": [
    "## Google Colab <-> Drive Mouting"
   ]
  },
  {
   "cell_type": "code",
   "execution_count": 2,
   "metadata": {
    "colab": {
     "base_uri": "https://localhost:8080/"
    },
    "executionInfo": {
     "elapsed": 52,
     "status": "ok",
     "timestamp": 1638203455108,
     "user": {
      "displayName": "DavyDw Pro",
      "photoUrl": "https://lh3.googleusercontent.com/a-/AOh14GjwzgF9Xbt1P6nF6_DVncYevBktfT1FPSSwut4=s64",
      "userId": "11216502560164167954"
     },
     "user_tz": -60
    },
    "id": "27UN5WyjbQsI",
    "outputId": "43157d64-a981-45ef-80cd-5310c898a122"
   },
   "outputs": [
    {
     "name": "stdout",
     "output_type": "stream",
     "text": [
      "Drive already mounted at /content/gdrive; to attempt to forcibly remount, call drive.mount(\"/content/gdrive\", force_remount=True).\n"
     ]
    }
   ],
   "source": [
    "drive.mount('/content/gdrive')"
   ]
  },
  {
   "cell_type": "markdown",
   "metadata": {
    "id": "H_7Hm554V-1B"
   },
   "source": [
    "## Datasets : Dogecoin + Samoyedcoin"
   ]
  },
  {
   "cell_type": "markdown",
   "metadata": {
    "id": "OKPAp3rxFaHt"
   },
   "source": [
    "### Importing Dogecoin data (hrly)"
   ]
  },
  {
   "cell_type": "code",
   "execution_count": 3,
   "metadata": {
    "executionInfo": {
     "elapsed": 2559,
     "status": "ok",
     "timestamp": 1638203461362,
     "user": {
      "displayName": "DavyDw Pro",
      "photoUrl": "https://lh3.googleusercontent.com/a-/AOh14GjwzgF9Xbt1P6nF6_DVncYevBktfT1FPSSwut4=s64",
      "userId": "11216502560164167954"
     },
     "user_tz": -60
    },
    "id": "iZHsFY8m9Knx"
   },
   "outputs": [],
   "source": [
    "now = datetime.now()\n",
    "\n",
    "def hour_rounder(t):\n",
    "    # Rounds to nearest hour by adding a timedelta hour if minute >= 30\n",
    "    return (t.replace(second=0, microsecond=0, minute=0, hour=t.hour)\n",
    "               +timedelta(hours=t.minute//30))"
   ]
  },
  {
   "cell_type": "code",
   "execution_count": 4,
   "metadata": {
    "executionInfo": {
     "elapsed": 175,
     "status": "ok",
     "timestamp": 1638203462451,
     "user": {
      "displayName": "DavyDw Pro",
      "photoUrl": "https://lh3.googleusercontent.com/a-/AOh14GjwzgF9Xbt1P6nF6_DVncYevBktfT1FPSSwut4=s64",
      "userId": "11216502560164167954"
     },
     "user_tz": -60
    },
    "id": "pkvtTx4CM9Bl"
   },
   "outputs": [],
   "source": [
    "path = \"/content/gdrive/MyDrive/Colab Notebooks/data_garrit/\""
   ]
  },
  {
   "cell_type": "code",
   "execution_count": 5,
   "metadata": {
    "colab": {
     "base_uri": "https://localhost:8080/",
     "height": 237
    },
    "executionInfo": {
     "elapsed": 174,
     "status": "ok",
     "timestamp": 1638203462452,
     "user": {
      "displayName": "DavyDw Pro",
      "photoUrl": "https://lh3.googleusercontent.com/a-/AOh14GjwzgF9Xbt1P6nF6_DVncYevBktfT1FPSSwut4=s64",
      "userId": "11216502560164167954"
     },
     "user_tz": -60
    },
    "id": "fmh9Ra-5fktZ",
    "outputId": "05f5a7dc-c797-4610-a9d3-c322aae26b5f"
   },
   "outputs": [
    {
     "data": {
      "text/html": [
       "<div>\n",
       "<style scoped>\n",
       "    .dataframe tbody tr th:only-of-type {\n",
       "        vertical-align: middle;\n",
       "    }\n",
       "\n",
       "    .dataframe tbody tr th {\n",
       "        vertical-align: top;\n",
       "    }\n",
       "\n",
       "    .dataframe thead th {\n",
       "        text-align: right;\n",
       "    }\n",
       "</style>\n",
       "<table border=\"1\" class=\"dataframe\">\n",
       "  <thead>\n",
       "    <tr style=\"text-align: right;\">\n",
       "      <th></th>\n",
       "      <th>timestamp</th>\n",
       "      <th>price</th>\n",
       "      <th>market_caps</th>\n",
       "      <th>total_volumes</th>\n",
       "    </tr>\n",
       "    <tr>\n",
       "      <th>datetime</th>\n",
       "      <th></th>\n",
       "      <th></th>\n",
       "      <th></th>\n",
       "      <th></th>\n",
       "    </tr>\n",
       "  </thead>\n",
       "  <tbody>\n",
       "    <tr>\n",
       "      <th>2021-08-28 00:00:00</th>\n",
       "      <td>1630108814398</td>\n",
       "      <td>0.249013</td>\n",
       "      <td>3.268233e+10</td>\n",
       "      <td>1.686712e+09</td>\n",
       "    </tr>\n",
       "    <tr>\n",
       "      <th>2021-08-28 01:00:00</th>\n",
       "      <td>1630112407995</td>\n",
       "      <td>0.253279</td>\n",
       "      <td>3.315049e+10</td>\n",
       "      <td>1.703308e+09</td>\n",
       "    </tr>\n",
       "    <tr>\n",
       "      <th>2021-08-28 02:00:00</th>\n",
       "      <td>1630116016592</td>\n",
       "      <td>0.250394</td>\n",
       "      <td>3.279208e+10</td>\n",
       "      <td>1.677961e+09</td>\n",
       "    </tr>\n",
       "    <tr>\n",
       "      <th>2021-08-28 03:00:00</th>\n",
       "      <td>1630119638422</td>\n",
       "      <td>0.248032</td>\n",
       "      <td>3.258069e+10</td>\n",
       "      <td>1.700922e+09</td>\n",
       "    </tr>\n",
       "    <tr>\n",
       "      <th>2021-08-28 04:00:00</th>\n",
       "      <td>1630123200414</td>\n",
       "      <td>0.247505</td>\n",
       "      <td>3.244109e+10</td>\n",
       "      <td>1.657184e+09</td>\n",
       "    </tr>\n",
       "  </tbody>\n",
       "</table>\n",
       "</div>"
      ],
      "text/plain": [
       "                         timestamp     price   market_caps  total_volumes\n",
       "datetime                                                                 \n",
       "2021-08-28 00:00:00  1630108814398  0.249013  3.268233e+10   1.686712e+09\n",
       "2021-08-28 01:00:00  1630112407995  0.253279  3.315049e+10   1.703308e+09\n",
       "2021-08-28 02:00:00  1630116016592  0.250394  3.279208e+10   1.677961e+09\n",
       "2021-08-28 03:00:00  1630119638422  0.248032  3.258069e+10   1.700922e+09\n",
       "2021-08-28 04:00:00  1630123200414  0.247505  3.244109e+10   1.657184e+09"
      ]
     },
     "execution_count": 5,
     "metadata": {},
     "output_type": "execute_result"
    }
   ],
   "source": [
    "df = pd.read_csv(path + 'dogecoin_history_1h_2021-08-28T00_00_00Z---2021-11-26T00_00_00Z.csv')\n",
    "df.rename(columns= {\"Unnamed: 0\": \"Date\"}, inplace= True)\n",
    "df[\"datetime\"] = pd.to_datetime(df[\"datetime\"], infer_datetime_format= True)\n",
    "df[\"datetime\"] = df.datetime.apply(lambda x: hour_rounder(x))\n",
    "df = df.set_index(\"datetime\")\n",
    "df.interpolate(method= \"linear\", inplace= True)\n",
    "df.head()"
   ]
  },
  {
   "cell_type": "code",
   "execution_count": 6,
   "metadata": {
    "colab": {
     "base_uri": "https://localhost:8080/"
    },
    "executionInfo": {
     "elapsed": 171,
     "status": "ok",
     "timestamp": 1638203462453,
     "user": {
      "displayName": "DavyDw Pro",
      "photoUrl": "https://lh3.googleusercontent.com/a-/AOh14GjwzgF9Xbt1P6nF6_DVncYevBktfT1FPSSwut4=s64",
      "userId": "11216502560164167954"
     },
     "user_tz": -60
    },
    "id": "MGIIs4V5Z30R",
    "outputId": "663f6b19-ded4-44ed-e342-44bf88766bc5"
   },
   "outputs": [
    {
     "data": {
      "text/plain": [
       "(2163, 4)"
      ]
     },
     "execution_count": 6,
     "metadata": {},
     "output_type": "execute_result"
    }
   ],
   "source": [
    "df.shape"
   ]
  },
  {
   "cell_type": "code",
   "execution_count": 7,
   "metadata": {
    "colab": {
     "base_uri": "https://localhost:8080/"
    },
    "executionInfo": {
     "elapsed": 167,
     "status": "ok",
     "timestamp": 1638203462454,
     "user": {
      "displayName": "DavyDw Pro",
      "photoUrl": "https://lh3.googleusercontent.com/a-/AOh14GjwzgF9Xbt1P6nF6_DVncYevBktfT1FPSSwut4=s64",
      "userId": "11216502560164167954"
     },
     "user_tz": -60
    },
    "id": "PJuFG5g5Z6mv",
    "outputId": "6972eced-b5ce-48b1-a382-25c5e01e7b4f"
   },
   "outputs": [
    {
     "data": {
      "text/plain": [
       "(2163, 4)"
      ]
     },
     "execution_count": 7,
     "metadata": {},
     "output_type": "execute_result"
    }
   ],
   "source": [
    "df.drop_duplicates().shape"
   ]
  },
  {
   "cell_type": "code",
   "execution_count": 8,
   "metadata": {
    "executionInfo": {
     "elapsed": 163,
     "status": "ok",
     "timestamp": 1638203462455,
     "user": {
      "displayName": "DavyDw Pro",
      "photoUrl": "https://lh3.googleusercontent.com/a-/AOh14GjwzgF9Xbt1P6nF6_DVncYevBktfT1FPSSwut4=s64",
      "userId": "11216502560164167954"
     },
     "user_tz": -60
    },
    "id": "mubYqWda7qUD"
   },
   "outputs": [],
   "source": [
    "# here comes the import of the second coin"
   ]
  },
  {
   "cell_type": "code",
   "execution_count": 9,
   "metadata": {
    "colab": {
     "base_uri": "https://localhost:8080/",
     "height": 237
    },
    "executionInfo": {
     "elapsed": 162,
     "status": "ok",
     "timestamp": 1638203462455,
     "user": {
      "displayName": "DavyDw Pro",
      "photoUrl": "https://lh3.googleusercontent.com/a-/AOh14GjwzgF9Xbt1P6nF6_DVncYevBktfT1FPSSwut4=s64",
      "userId": "11216502560164167954"
     },
     "user_tz": -60
    },
    "id": "mhFSkKTtfePX",
    "outputId": "03de4ac2-e9d6-46e5-f4b6-e2e9c3a8f2ee"
   },
   "outputs": [
    {
     "data": {
      "text/html": [
       "<div>\n",
       "<style scoped>\n",
       "    .dataframe tbody tr th:only-of-type {\n",
       "        vertical-align: middle;\n",
       "    }\n",
       "\n",
       "    .dataframe tbody tr th {\n",
       "        vertical-align: top;\n",
       "    }\n",
       "\n",
       "    .dataframe thead th {\n",
       "        text-align: right;\n",
       "    }\n",
       "</style>\n",
       "<table border=\"1\" class=\"dataframe\">\n",
       "  <thead>\n",
       "    <tr style=\"text-align: right;\">\n",
       "      <th></th>\n",
       "      <th>dogecoin</th>\n",
       "    </tr>\n",
       "    <tr>\n",
       "      <th>date</th>\n",
       "      <th></th>\n",
       "    </tr>\n",
       "  </thead>\n",
       "  <tbody>\n",
       "    <tr>\n",
       "      <th>2021-10-04 18:00:00</th>\n",
       "      <td>51</td>\n",
       "    </tr>\n",
       "    <tr>\n",
       "      <th>2021-10-04 19:00:00</th>\n",
       "      <td>56</td>\n",
       "    </tr>\n",
       "    <tr>\n",
       "      <th>2021-10-04 20:00:00</th>\n",
       "      <td>100</td>\n",
       "    </tr>\n",
       "    <tr>\n",
       "      <th>2021-10-04 21:00:00</th>\n",
       "      <td>80</td>\n",
       "    </tr>\n",
       "    <tr>\n",
       "      <th>2021-10-04 22:00:00</th>\n",
       "      <td>65</td>\n",
       "    </tr>\n",
       "  </tbody>\n",
       "</table>\n",
       "</div>"
      ],
      "text/plain": [
       "                     dogecoin\n",
       "date                         \n",
       "2021-10-04 18:00:00        51\n",
       "2021-10-04 19:00:00        56\n",
       "2021-10-04 20:00:00       100\n",
       "2021-10-04 21:00:00        80\n",
       "2021-10-04 22:00:00        65"
      ]
     },
     "execution_count": 9,
     "metadata": {},
     "output_type": "execute_result"
    }
   ],
   "source": [
    "df2 = pd.read_csv(path + 'gt_doge_samo_0410-2611')\n",
    "\n",
    "df2[\"date\"] = pd.to_datetime(df2[\"date\"], infer_datetime_format= True)\n",
    "df2 = df2.set_index(\"date\")\n",
    "df2.interpolate(method= \"linear\", inplace= True)\n",
    "df2 = df2[[\"dogecoin\"]]\n",
    "df2.head()"
   ]
  },
  {
   "cell_type": "code",
   "execution_count": 10,
   "metadata": {
    "colab": {
     "base_uri": "https://localhost:8080/"
    },
    "executionInfo": {
     "elapsed": 160,
     "status": "ok",
     "timestamp": 1638203462456,
     "user": {
      "displayName": "DavyDw Pro",
      "photoUrl": "https://lh3.googleusercontent.com/a-/AOh14GjwzgF9Xbt1P6nF6_DVncYevBktfT1FPSSwut4=s64",
      "userId": "11216502560164167954"
     },
     "user_tz": -60
    },
    "id": "6RhxHyqrPqAh",
    "outputId": "fb3ccde2-2760-44b2-d987-6edd8f638309"
   },
   "outputs": [
    {
     "data": {
      "text/plain": [
       "(1293, 1)"
      ]
     },
     "execution_count": 10,
     "metadata": {},
     "output_type": "execute_result"
    }
   ],
   "source": [
    "df2.shape"
   ]
  },
  {
   "cell_type": "code",
   "execution_count": 11,
   "metadata": {
    "executionInfo": {
     "elapsed": 155,
     "status": "ok",
     "timestamp": 1638203462457,
     "user": {
      "displayName": "DavyDw Pro",
      "photoUrl": "https://lh3.googleusercontent.com/a-/AOh14GjwzgF9Xbt1P6nF6_DVncYevBktfT1FPSSwut4=s64",
      "userId": "11216502560164167954"
     },
     "user_tz": -60
    },
    "id": "75yOs0kZ1CLM"
   },
   "outputs": [],
   "source": [
    "df_final_doge = df[[\"price\"]].join(df2, how= \"outer\")\n",
    "df_final_doge.drop(df_final_doge[df_final_doge.price.isnull()].index, inplace= True)\n",
    "df_final_doge.fillna(-1, inplace= True)"
   ]
  },
  {
   "cell_type": "code",
   "execution_count": 12,
   "metadata": {
    "executionInfo": {
     "elapsed": 154,
     "status": "ok",
     "timestamp": 1638203462457,
     "user": {
      "displayName": "DavyDw Pro",
      "photoUrl": "https://lh3.googleusercontent.com/a-/AOh14GjwzgF9Xbt1P6nF6_DVncYevBktfT1FPSSwut4=s64",
      "userId": "11216502560164167954"
     },
     "user_tz": -60
    },
    "id": "fMCn5hTmjZoR"
   },
   "outputs": [],
   "source": [
    "df_final_doge.rename(columns={\"dogecoin\": \"Google_Trends\"}, inplace= True)"
   ]
  },
  {
   "cell_type": "code",
   "execution_count": 13,
   "metadata": {
    "colab": {
     "base_uri": "https://localhost:8080/"
    },
    "executionInfo": {
     "elapsed": 52,
     "status": "ok",
     "timestamp": 1638203463197,
     "user": {
      "displayName": "DavyDw Pro",
      "photoUrl": "https://lh3.googleusercontent.com/a-/AOh14GjwzgF9Xbt1P6nF6_DVncYevBktfT1FPSSwut4=s64",
      "userId": "11216502560164167954"
     },
     "user_tz": -60
    },
    "id": "Hnn36m-QjlKa",
    "outputId": "b48e6894-2666-4607-d11c-5a04d15f65f7"
   },
   "outputs": [
    {
     "data": {
      "text/plain": [
       "(2187, 2)"
      ]
     },
     "execution_count": 13,
     "metadata": {},
     "output_type": "execute_result"
    }
   ],
   "source": [
    "df_final_doge.shape"
   ]
  },
  {
   "cell_type": "code",
   "execution_count": 14,
   "metadata": {
    "colab": {
     "base_uri": "https://localhost:8080/",
     "height": 424
    },
    "executionInfo": {
     "elapsed": 43,
     "status": "ok",
     "timestamp": 1638203463198,
     "user": {
      "displayName": "DavyDw Pro",
      "photoUrl": "https://lh3.googleusercontent.com/a-/AOh14GjwzgF9Xbt1P6nF6_DVncYevBktfT1FPSSwut4=s64",
      "userId": "11216502560164167954"
     },
     "user_tz": -60
    },
    "id": "rHnPX3OkjuW4",
    "outputId": "d59f4167-63de-4eda-82c8-e567006b89b6"
   },
   "outputs": [
    {
     "data": {
      "text/html": [
       "<div>\n",
       "<style scoped>\n",
       "    .dataframe tbody tr th:only-of-type {\n",
       "        vertical-align: middle;\n",
       "    }\n",
       "\n",
       "    .dataframe tbody tr th {\n",
       "        vertical-align: top;\n",
       "    }\n",
       "\n",
       "    .dataframe thead th {\n",
       "        text-align: right;\n",
       "    }\n",
       "</style>\n",
       "<table border=\"1\" class=\"dataframe\">\n",
       "  <thead>\n",
       "    <tr style=\"text-align: right;\">\n",
       "      <th></th>\n",
       "      <th>price</th>\n",
       "      <th>Google_Trends</th>\n",
       "    </tr>\n",
       "  </thead>\n",
       "  <tbody>\n",
       "    <tr>\n",
       "      <th>2021-08-28 00:00:00</th>\n",
       "      <td>0.249013</td>\n",
       "      <td>-1.0</td>\n",
       "    </tr>\n",
       "    <tr>\n",
       "      <th>2021-08-28 01:00:00</th>\n",
       "      <td>0.253279</td>\n",
       "      <td>-1.0</td>\n",
       "    </tr>\n",
       "    <tr>\n",
       "      <th>2021-08-28 02:00:00</th>\n",
       "      <td>0.250394</td>\n",
       "      <td>-1.0</td>\n",
       "    </tr>\n",
       "    <tr>\n",
       "      <th>2021-08-28 03:00:00</th>\n",
       "      <td>0.248032</td>\n",
       "      <td>-1.0</td>\n",
       "    </tr>\n",
       "    <tr>\n",
       "      <th>2021-08-28 04:00:00</th>\n",
       "      <td>0.247505</td>\n",
       "      <td>-1.0</td>\n",
       "    </tr>\n",
       "    <tr>\n",
       "      <th>...</th>\n",
       "      <td>...</td>\n",
       "      <td>...</td>\n",
       "    </tr>\n",
       "    <tr>\n",
       "      <th>2021-11-25 19:00:00</th>\n",
       "      <td>0.200995</td>\n",
       "      <td>85.0</td>\n",
       "    </tr>\n",
       "    <tr>\n",
       "      <th>2021-11-25 20:00:00</th>\n",
       "      <td>0.199534</td>\n",
       "      <td>87.0</td>\n",
       "    </tr>\n",
       "    <tr>\n",
       "      <th>2021-11-25 21:00:00</th>\n",
       "      <td>0.200215</td>\n",
       "      <td>92.0</td>\n",
       "    </tr>\n",
       "    <tr>\n",
       "      <th>2021-11-25 22:00:00</th>\n",
       "      <td>0.198196</td>\n",
       "      <td>94.0</td>\n",
       "    </tr>\n",
       "    <tr>\n",
       "      <th>2021-11-25 23:00:00</th>\n",
       "      <td>0.198675</td>\n",
       "      <td>96.0</td>\n",
       "    </tr>\n",
       "  </tbody>\n",
       "</table>\n",
       "<p>2187 rows × 2 columns</p>\n",
       "</div>"
      ],
      "text/plain": [
       "                        price  Google_Trends\n",
       "2021-08-28 00:00:00  0.249013           -1.0\n",
       "2021-08-28 01:00:00  0.253279           -1.0\n",
       "2021-08-28 02:00:00  0.250394           -1.0\n",
       "2021-08-28 03:00:00  0.248032           -1.0\n",
       "2021-08-28 04:00:00  0.247505           -1.0\n",
       "...                       ...            ...\n",
       "2021-11-25 19:00:00  0.200995           85.0\n",
       "2021-11-25 20:00:00  0.199534           87.0\n",
       "2021-11-25 21:00:00  0.200215           92.0\n",
       "2021-11-25 22:00:00  0.198196           94.0\n",
       "2021-11-25 23:00:00  0.198675           96.0\n",
       "\n",
       "[2187 rows x 2 columns]"
      ]
     },
     "execution_count": 14,
     "metadata": {},
     "output_type": "execute_result"
    }
   ],
   "source": [
    "df_final_doge"
   ]
  },
  {
   "cell_type": "markdown",
   "metadata": {
    "id": "qkwsc-57Fjem"
   },
   "source": [
    "### Importing Samoyedcoin data"
   ]
  },
  {
   "cell_type": "code",
   "execution_count": 15,
   "metadata": {
    "colab": {
     "base_uri": "https://localhost:8080/",
     "height": 237
    },
    "executionInfo": {
     "elapsed": 98,
     "status": "ok",
     "timestamp": 1638203464083,
     "user": {
      "displayName": "DavyDw Pro",
      "photoUrl": "https://lh3.googleusercontent.com/a-/AOh14GjwzgF9Xbt1P6nF6_DVncYevBktfT1FPSSwut4=s64",
      "userId": "11216502560164167954"
     },
     "user_tz": -60
    },
    "id": "PJ3rCwIPFnOm",
    "outputId": "fe5f5645-e54c-4c7d-9571-2a6006c1fccf"
   },
   "outputs": [
    {
     "data": {
      "text/html": [
       "<div>\n",
       "<style scoped>\n",
       "    .dataframe tbody tr th:only-of-type {\n",
       "        vertical-align: middle;\n",
       "    }\n",
       "\n",
       "    .dataframe tbody tr th {\n",
       "        vertical-align: top;\n",
       "    }\n",
       "\n",
       "    .dataframe thead th {\n",
       "        text-align: right;\n",
       "    }\n",
       "</style>\n",
       "<table border=\"1\" class=\"dataframe\">\n",
       "  <thead>\n",
       "    <tr style=\"text-align: right;\">\n",
       "      <th></th>\n",
       "      <th>price</th>\n",
       "    </tr>\n",
       "    <tr>\n",
       "      <th>datetime</th>\n",
       "      <th></th>\n",
       "    </tr>\n",
       "  </thead>\n",
       "  <tbody>\n",
       "    <tr>\n",
       "      <th>2021-08-28 00:00:00</th>\n",
       "      <td>0.004132</td>\n",
       "    </tr>\n",
       "    <tr>\n",
       "      <th>2021-08-28 01:00:00</th>\n",
       "      <td>0.004122</td>\n",
       "    </tr>\n",
       "    <tr>\n",
       "      <th>2021-08-28 02:00:00</th>\n",
       "      <td>0.004105</td>\n",
       "    </tr>\n",
       "    <tr>\n",
       "      <th>2021-08-28 03:00:00</th>\n",
       "      <td>0.004155</td>\n",
       "    </tr>\n",
       "    <tr>\n",
       "      <th>2021-08-28 04:00:00</th>\n",
       "      <td>0.004198</td>\n",
       "    </tr>\n",
       "  </tbody>\n",
       "</table>\n",
       "</div>"
      ],
      "text/plain": [
       "                        price\n",
       "datetime                     \n",
       "2021-08-28 00:00:00  0.004132\n",
       "2021-08-28 01:00:00  0.004122\n",
       "2021-08-28 02:00:00  0.004105\n",
       "2021-08-28 03:00:00  0.004155\n",
       "2021-08-28 04:00:00  0.004198"
      ]
     },
     "execution_count": 15,
     "metadata": {},
     "output_type": "execute_result"
    }
   ],
   "source": [
    "df_s = pd.read_csv(path + 'samoyedcoin_history_1h_2021-08-28T00_00_00Z---2021-11-26T00_00_00Z.csv')\n",
    "df_s[\"datetime\"] = pd.to_datetime(df_s[\"datetime\"], infer_datetime_format= True)\n",
    "df_s[\"datetime\"] = df_s.datetime.apply(lambda x: hour_rounder(x))\n",
    "df_s = df_s.set_index(\"datetime\")\n",
    "df_s.interpolate(method= \"linear\", inplace= True)\n",
    "#df_s.rename(columns= {\"price\": \"samoyedcoin\"})\n",
    "df_s = df_s[[\"price\"]]\n",
    "df_s.head()\n"
   ]
  },
  {
   "cell_type": "code",
   "execution_count": 16,
   "metadata": {
    "colab": {
     "base_uri": "https://localhost:8080/",
     "height": 237
    },
    "executionInfo": {
     "elapsed": 96,
     "status": "ok",
     "timestamp": 1638203464084,
     "user": {
      "displayName": "DavyDw Pro",
      "photoUrl": "https://lh3.googleusercontent.com/a-/AOh14GjwzgF9Xbt1P6nF6_DVncYevBktfT1FPSSwut4=s64",
      "userId": "11216502560164167954"
     },
     "user_tz": -60
    },
    "id": "4MtAccGjGTT9",
    "outputId": "836bce7c-3678-4a62-f0d0-9b65c4f31b9f"
   },
   "outputs": [
    {
     "data": {
      "text/html": [
       "<div>\n",
       "<style scoped>\n",
       "    .dataframe tbody tr th:only-of-type {\n",
       "        vertical-align: middle;\n",
       "    }\n",
       "\n",
       "    .dataframe tbody tr th {\n",
       "        vertical-align: top;\n",
       "    }\n",
       "\n",
       "    .dataframe thead th {\n",
       "        text-align: right;\n",
       "    }\n",
       "</style>\n",
       "<table border=\"1\" class=\"dataframe\">\n",
       "  <thead>\n",
       "    <tr style=\"text-align: right;\">\n",
       "      <th></th>\n",
       "      <th>samoyedcoin</th>\n",
       "    </tr>\n",
       "    <tr>\n",
       "      <th>date</th>\n",
       "      <th></th>\n",
       "    </tr>\n",
       "  </thead>\n",
       "  <tbody>\n",
       "    <tr>\n",
       "      <th>2021-10-04 18:00:00</th>\n",
       "      <td>0</td>\n",
       "    </tr>\n",
       "    <tr>\n",
       "      <th>2021-10-04 19:00:00</th>\n",
       "      <td>0</td>\n",
       "    </tr>\n",
       "    <tr>\n",
       "      <th>2021-10-04 20:00:00</th>\n",
       "      <td>0</td>\n",
       "    </tr>\n",
       "    <tr>\n",
       "      <th>2021-10-04 21:00:00</th>\n",
       "      <td>0</td>\n",
       "    </tr>\n",
       "    <tr>\n",
       "      <th>2021-10-04 22:00:00</th>\n",
       "      <td>0</td>\n",
       "    </tr>\n",
       "  </tbody>\n",
       "</table>\n",
       "</div>"
      ],
      "text/plain": [
       "                     samoyedcoin\n",
       "date                            \n",
       "2021-10-04 18:00:00            0\n",
       "2021-10-04 19:00:00            0\n",
       "2021-10-04 20:00:00            0\n",
       "2021-10-04 21:00:00            0\n",
       "2021-10-04 22:00:00            0"
      ]
     },
     "execution_count": 16,
     "metadata": {},
     "output_type": "execute_result"
    }
   ],
   "source": [
    "df2 = pd.read_csv(path + 'gt_doge_samo_0410-2611')\n",
    "df2[\"date\"] = pd.to_datetime(df2[\"date\"], infer_datetime_format= True)\n",
    "df2 = df2.set_index(\"date\")\n",
    "df2.interpolate(method= \"linear\", inplace= True)\n",
    "df2 = df2[[\"samoyedcoin\"]]\n",
    "df2.head()"
   ]
  },
  {
   "cell_type": "code",
   "execution_count": 17,
   "metadata": {
    "executionInfo": {
     "elapsed": 430,
     "status": "ok",
     "timestamp": 1638203466006,
     "user": {
      "displayName": "DavyDw Pro",
      "photoUrl": "https://lh3.googleusercontent.com/a-/AOh14GjwzgF9Xbt1P6nF6_DVncYevBktfT1FPSSwut4=s64",
      "userId": "11216502560164167954"
     },
     "user_tz": -60
    },
    "id": "SofT1uSOG8Y1"
   },
   "outputs": [],
   "source": [
    "df_final_samo = df_s[[\"price\"]].join(df2, how= \"outer\")\n",
    "df_final_samo.drop(df_final_samo[df_final_samo.price.isnull()].index, inplace= True)\n",
    "df_final_samo.fillna(-1, inplace= True)"
   ]
  },
  {
   "cell_type": "code",
   "execution_count": 18,
   "metadata": {
    "colab": {
     "base_uri": "https://localhost:8080/"
    },
    "executionInfo": {
     "elapsed": 51,
     "status": "ok",
     "timestamp": 1638203466718,
     "user": {
      "displayName": "DavyDw Pro",
      "photoUrl": "https://lh3.googleusercontent.com/a-/AOh14GjwzgF9Xbt1P6nF6_DVncYevBktfT1FPSSwut4=s64",
      "userId": "11216502560164167954"
     },
     "user_tz": -60
    },
    "id": "j7v1yZO3Wush",
    "outputId": "11ad28f2-6c33-45fa-d8ed-51b4993f0128"
   },
   "outputs": [
    {
     "data": {
      "text/plain": [
       "(2188, 2)"
      ]
     },
     "execution_count": 18,
     "metadata": {},
     "output_type": "execute_result"
    }
   ],
   "source": [
    "df_final_samo.shape"
   ]
  },
  {
   "cell_type": "code",
   "execution_count": 19,
   "metadata": {
    "colab": {
     "base_uri": "https://localhost:8080/",
     "height": 424
    },
    "executionInfo": {
     "elapsed": 59,
     "status": "ok",
     "timestamp": 1638203467114,
     "user": {
      "displayName": "DavyDw Pro",
      "photoUrl": "https://lh3.googleusercontent.com/a-/AOh14GjwzgF9Xbt1P6nF6_DVncYevBktfT1FPSSwut4=s64",
      "userId": "11216502560164167954"
     },
     "user_tz": -60
    },
    "id": "HY1m7bqXHDDo",
    "outputId": "d15b7064-e90e-41b7-8fc1-d3d997c7283e"
   },
   "outputs": [
    {
     "data": {
      "text/html": [
       "<div>\n",
       "<style scoped>\n",
       "    .dataframe tbody tr th:only-of-type {\n",
       "        vertical-align: middle;\n",
       "    }\n",
       "\n",
       "    .dataframe tbody tr th {\n",
       "        vertical-align: top;\n",
       "    }\n",
       "\n",
       "    .dataframe thead th {\n",
       "        text-align: right;\n",
       "    }\n",
       "</style>\n",
       "<table border=\"1\" class=\"dataframe\">\n",
       "  <thead>\n",
       "    <tr style=\"text-align: right;\">\n",
       "      <th></th>\n",
       "      <th>price</th>\n",
       "      <th>samoyedcoin</th>\n",
       "    </tr>\n",
       "  </thead>\n",
       "  <tbody>\n",
       "    <tr>\n",
       "      <th>2021-08-28 00:00:00</th>\n",
       "      <td>0.004132</td>\n",
       "      <td>-1.0</td>\n",
       "    </tr>\n",
       "    <tr>\n",
       "      <th>2021-08-28 01:00:00</th>\n",
       "      <td>0.004122</td>\n",
       "      <td>-1.0</td>\n",
       "    </tr>\n",
       "    <tr>\n",
       "      <th>2021-08-28 02:00:00</th>\n",
       "      <td>0.004105</td>\n",
       "      <td>-1.0</td>\n",
       "    </tr>\n",
       "    <tr>\n",
       "      <th>2021-08-28 03:00:00</th>\n",
       "      <td>0.004155</td>\n",
       "      <td>-1.0</td>\n",
       "    </tr>\n",
       "    <tr>\n",
       "      <th>2021-08-28 04:00:00</th>\n",
       "      <td>0.004198</td>\n",
       "      <td>-1.0</td>\n",
       "    </tr>\n",
       "    <tr>\n",
       "      <th>...</th>\n",
       "      <td>...</td>\n",
       "      <td>...</td>\n",
       "    </tr>\n",
       "    <tr>\n",
       "      <th>2021-11-25 19:00:00</th>\n",
       "      <td>0.074394</td>\n",
       "      <td>68.0</td>\n",
       "    </tr>\n",
       "    <tr>\n",
       "      <th>2021-11-25 20:00:00</th>\n",
       "      <td>0.073352</td>\n",
       "      <td>45.0</td>\n",
       "    </tr>\n",
       "    <tr>\n",
       "      <th>2021-11-25 21:00:00</th>\n",
       "      <td>0.073492</td>\n",
       "      <td>97.0</td>\n",
       "    </tr>\n",
       "    <tr>\n",
       "      <th>2021-11-25 22:00:00</th>\n",
       "      <td>0.073442</td>\n",
       "      <td>0.0</td>\n",
       "    </tr>\n",
       "    <tr>\n",
       "      <th>2021-11-25 23:00:00</th>\n",
       "      <td>0.073907</td>\n",
       "      <td>20.0</td>\n",
       "    </tr>\n",
       "  </tbody>\n",
       "</table>\n",
       "<p>2188 rows × 2 columns</p>\n",
       "</div>"
      ],
      "text/plain": [
       "                        price  samoyedcoin\n",
       "2021-08-28 00:00:00  0.004132         -1.0\n",
       "2021-08-28 01:00:00  0.004122         -1.0\n",
       "2021-08-28 02:00:00  0.004105         -1.0\n",
       "2021-08-28 03:00:00  0.004155         -1.0\n",
       "2021-08-28 04:00:00  0.004198         -1.0\n",
       "...                       ...          ...\n",
       "2021-11-25 19:00:00  0.074394         68.0\n",
       "2021-11-25 20:00:00  0.073352         45.0\n",
       "2021-11-25 21:00:00  0.073492         97.0\n",
       "2021-11-25 22:00:00  0.073442          0.0\n",
       "2021-11-25 23:00:00  0.073907         20.0\n",
       "\n",
       "[2188 rows x 2 columns]"
      ]
     },
     "execution_count": 19,
     "metadata": {},
     "output_type": "execute_result"
    }
   ],
   "source": [
    "df_final_samo"
   ]
  },
  {
   "cell_type": "markdown",
   "metadata": {
    "id": "vXjkzFNfHYCd"
   },
   "source": [
    "### Log-transformation"
   ]
  },
  {
   "cell_type": "code",
   "execution_count": 20,
   "metadata": {
    "executionInfo": {
     "elapsed": 34,
     "status": "ok",
     "timestamp": 1638203468399,
     "user": {
      "displayName": "DavyDw Pro",
      "photoUrl": "https://lh3.googleusercontent.com/a-/AOh14GjwzgF9Xbt1P6nF6_DVncYevBktfT1FPSSwut4=s64",
      "userId": "11216502560164167954"
     },
     "user_tz": -60
    },
    "id": "ywWszgfxHhfw"
   },
   "outputs": [],
   "source": [
    "df_final_doge[\"price\"] = np.log(df_final_doge[\"price\"])\n",
    "df_final_samo[\"price\"] = np.log(df_final_samo[\"price\"])"
   ]
  },
  {
   "cell_type": "markdown",
   "metadata": {
    "id": "ATwZ6gdUQGWa"
   },
   "source": [
    "## Reshaping Data"
   ]
  },
  {
   "cell_type": "markdown",
   "metadata": {
    "id": "IKt2OmFiNbw6"
   },
   "source": [
    "### **Get X and y** : `DRAFT FOR ONE CRYPTO`"
   ]
  },
  {
   "cell_type": "code",
   "execution_count": 26,
   "metadata": {
    "colab": {
     "base_uri": "https://localhost:8080/"
    },
    "executionInfo": {
     "elapsed": 513,
     "status": "ok",
     "timestamp": 1638203516162,
     "user": {
      "displayName": "DavyDw Pro",
      "photoUrl": "https://lh3.googleusercontent.com/a-/AOh14GjwzgF9Xbt1P6nF6_DVncYevBktfT1FPSSwut4=s64",
      "userId": "11216502560164167954"
     },
     "user_tz": -60
    },
    "id": "9yOfJBEfNfe-",
    "outputId": "b5801f8e-ea03-4fa2-f506-2662e36891b5"
   },
   "outputs": [
    {
     "data": {
      "text/plain": [
       "(2187, 2)"
      ]
     },
     "execution_count": 26,
     "metadata": {},
     "output_type": "execute_result"
    }
   ],
   "source": [
    "# Davy : drafting the code\n",
    "dataset_doge = df_final_doge.values\n",
    "dataset_doge.shape"
   ]
  },
  {
   "cell_type": "code",
   "execution_count": 27,
   "metadata": {
    "executionInfo": {
     "elapsed": 96,
     "status": "ok",
     "timestamp": 1638203516164,
     "user": {
      "displayName": "DavyDw Pro",
      "photoUrl": "https://lh3.googleusercontent.com/a-/AOh14GjwzgF9Xbt1P6nF6_DVncYevBktfT1FPSSwut4=s64",
      "userId": "11216502560164167954"
     },
     "user_tz": -60
    },
    "id": "p9jEcqCANfWL"
   },
   "outputs": [],
   "source": [
    "# Window size = 48 hours\n",
    "window_size = 48"
   ]
  },
  {
   "cell_type": "code",
   "execution_count": 28,
   "metadata": {
    "executionInfo": {
     "elapsed": 96,
     "status": "ok",
     "timestamp": 1638203516166,
     "user": {
      "displayName": "DavyDw Pro",
      "photoUrl": "https://lh3.googleusercontent.com/a-/AOh14GjwzgF9Xbt1P6nF6_DVncYevBktfT1FPSSwut4=s64",
      "userId": "11216502560164167954"
     },
     "user_tz": -60
    },
    "id": "ABV3hcQlOe2E"
   },
   "outputs": [],
   "source": [
    "# how many points in the future ? \n",
    "future_horizon = 24 #predicting the next 24 hours"
   ]
  },
  {
   "cell_type": "code",
   "execution_count": 29,
   "metadata": {
    "colab": {
     "base_uri": "https://localhost:8080/"
    },
    "executionInfo": {
     "elapsed": 95,
     "status": "ok",
     "timestamp": 1638203516166,
     "user": {
      "displayName": "DavyDw Pro",
      "photoUrl": "https://lh3.googleusercontent.com/a-/AOh14GjwzgF9Xbt1P6nF6_DVncYevBktfT1FPSSwut4=s64",
      "userId": "11216502560164167954"
     },
     "user_tz": -60
    },
    "id": "2CiJ1IgQOHZq",
    "outputId": "57e378a1-d8be-4dc1-abb0-8e4c11e3e598"
   },
   "outputs": [
    {
     "data": {
      "text/plain": [
       "2115"
      ]
     },
     "execution_count": 29,
     "metadata": {},
     "output_type": "execute_result"
    }
   ],
   "source": [
    "# last possible start when sliding the window\n",
    "last_possible_start = dataset_doge.shape[0] - window_size - future_horizon\n",
    "last_possible_start"
   ]
  },
  {
   "cell_type": "code",
   "execution_count": 30,
   "metadata": {
    "executionInfo": {
     "elapsed": 94,
     "status": "ok",
     "timestamp": 1638203516168,
     "user": {
      "displayName": "DavyDw Pro",
      "photoUrl": "https://lh3.googleusercontent.com/a-/AOh14GjwzgF9Xbt1P6nF6_DVncYevBktfT1FPSSwut4=s64",
      "userId": "11216502560164167954"
     },
     "user_tz": -60
    },
    "id": "S1qTJqONOQHs"
   },
   "outputs": [],
   "source": [
    "X = []\n",
    "y = []\n",
    "\n",
    "for i in range(0, last_possible_start):\n",
    "  X.append(dataset_doge[i: i + window_size, :])\n",
    "  y.append(dataset_doge[i + window_size: i + window_size + future_horizon,0])"
   ]
  },
  {
   "cell_type": "code",
   "execution_count": 31,
   "metadata": {
    "colab": {
     "base_uri": "https://localhost:8080/"
    },
    "executionInfo": {
     "elapsed": 93,
     "status": "ok",
     "timestamp": 1638203516169,
     "user": {
      "displayName": "DavyDw Pro",
      "photoUrl": "https://lh3.googleusercontent.com/a-/AOh14GjwzgF9Xbt1P6nF6_DVncYevBktfT1FPSSwut4=s64",
      "userId": "11216502560164167954"
     },
     "user_tz": -60
    },
    "id": "G6yUVBbEOQDs",
    "outputId": "315fd0b3-d4dc-499d-c7f1-8369bb91b660"
   },
   "outputs": [
    {
     "data": {
      "text/plain": [
       "(2115, 48, 2)"
      ]
     },
     "execution_count": 31,
     "metadata": {},
     "output_type": "execute_result"
    }
   ],
   "source": [
    "X = np.array(X)\n",
    "X.shape"
   ]
  },
  {
   "cell_type": "code",
   "execution_count": 32,
   "metadata": {
    "colab": {
     "base_uri": "https://localhost:8080/"
    },
    "executionInfo": {
     "elapsed": 93,
     "status": "ok",
     "timestamp": 1638203516170,
     "user": {
      "displayName": "DavyDw Pro",
      "photoUrl": "https://lh3.googleusercontent.com/a-/AOh14GjwzgF9Xbt1P6nF6_DVncYevBktfT1FPSSwut4=s64",
      "userId": "11216502560164167954"
     },
     "user_tz": -60
    },
    "id": "XW8eCB0WOP_D",
    "outputId": "abd3dc55-e99c-4e10-d5e5-ed597414fe75"
   },
   "outputs": [
    {
     "data": {
      "text/plain": [
       "(2115, 24)"
      ]
     },
     "execution_count": 32,
     "metadata": {},
     "output_type": "execute_result"
    }
   ],
   "source": [
    "y = np.array(y) # predicting the next five days\n",
    "y.shape"
   ]
  },
  {
   "cell_type": "markdown",
   "metadata": {
    "id": "UR00PXGIO9zA"
   },
   "source": [
    "### **Get X and y** : `FUNCTION`"
   ]
  },
  {
   "cell_type": "code",
   "execution_count": 135,
   "metadata": {
    "executionInfo": {
     "elapsed": 257,
     "status": "ok",
     "timestamp": 1638204708202,
     "user": {
      "displayName": "DavyDw Pro",
      "photoUrl": "https://lh3.googleusercontent.com/a-/AOh14GjwzgF9Xbt1P6nF6_DVncYevBktfT1FPSSwut4=s64",
      "userId": "11216502560164167954"
     },
     "user_tz": -60
    },
    "id": "q0NL5GXDOP1I"
   },
   "outputs": [],
   "source": [
    "window_size = 48\n",
    "future_horizon = 6\n",
    "\n",
    "def get_X_y(window_size, future_horizon, dataset):\n",
    "\n",
    "  X = []\n",
    "  y = []\n",
    "\n",
    "  for i in range(0, dataset.shape[0] - window_size - future_horizon):\n",
    "    X.append(dataset[i: i + window_size, :])\n",
    "    y.append(dataset[i + window_size: i + window_size + future_horizon,0])\n",
    "\n",
    "  return np.array(X), np.array(y)"
   ]
  },
  {
   "cell_type": "code",
   "execution_count": 136,
   "metadata": {
    "executionInfo": {
     "elapsed": 53,
     "status": "ok",
     "timestamp": 1638204709316,
     "user": {
      "displayName": "DavyDw Pro",
      "photoUrl": "https://lh3.googleusercontent.com/a-/AOh14GjwzgF9Xbt1P6nF6_DVncYevBktfT1FPSSwut4=s64",
      "userId": "11216502560164167954"
     },
     "user_tz": -60
    },
    "id": "XH6cuJVsXz1q"
   },
   "outputs": [],
   "source": [
    "X_example_doge, y_example_doge = get_X_y(window_size, future_horizon, dataset_doge)"
   ]
  },
  {
   "cell_type": "code",
   "execution_count": 137,
   "metadata": {
    "colab": {
     "base_uri": "https://localhost:8080/"
    },
    "executionInfo": {
     "elapsed": 434,
     "status": "ok",
     "timestamp": 1638204710807,
     "user": {
      "displayName": "DavyDw Pro",
      "photoUrl": "https://lh3.googleusercontent.com/a-/AOh14GjwzgF9Xbt1P6nF6_DVncYevBktfT1FPSSwut4=s64",
      "userId": "11216502560164167954"
     },
     "user_tz": -60
    },
    "id": "t54utexkYBhA",
    "outputId": "62581e63-9f36-4133-c674-ceb2550795d7"
   },
   "outputs": [
    {
     "data": {
      "text/plain": [
       "(2133, 48, 2)"
      ]
     },
     "execution_count": 137,
     "metadata": {},
     "output_type": "execute_result"
    }
   ],
   "source": [
    "X_example_doge.shape"
   ]
  },
  {
   "cell_type": "code",
   "execution_count": 138,
   "metadata": {
    "colab": {
     "base_uri": "https://localhost:8080/"
    },
    "executionInfo": {
     "elapsed": 370,
     "status": "ok",
     "timestamp": 1638204712620,
     "user": {
      "displayName": "DavyDw Pro",
      "photoUrl": "https://lh3.googleusercontent.com/a-/AOh14GjwzgF9Xbt1P6nF6_DVncYevBktfT1FPSSwut4=s64",
      "userId": "11216502560164167954"
     },
     "user_tz": -60
    },
    "id": "cCzbgk9RYB3o",
    "outputId": "adad88c3-070f-4451-99e8-6616abbe484e"
   },
   "outputs": [
    {
     "data": {
      "text/plain": [
       "(2133, 6)"
      ]
     },
     "execution_count": 138,
     "metadata": {},
     "output_type": "execute_result"
    }
   ],
   "source": [
    "y_example_doge.shape"
   ]
  },
  {
   "cell_type": "markdown",
   "metadata": {
    "id": "f38XO5eLYR-d"
   },
   "source": [
    "### **Get X and y** : `DRAFT FOR TWO CRYPTOS`"
   ]
  },
  {
   "cell_type": "code",
   "execution_count": 139,
   "metadata": {
    "colab": {
     "base_uri": "https://localhost:8080/"
    },
    "executionInfo": {
     "elapsed": 257,
     "status": "ok",
     "timestamp": 1638204718529,
     "user": {
      "displayName": "DavyDw Pro",
      "photoUrl": "https://lh3.googleusercontent.com/a-/AOh14GjwzgF9Xbt1P6nF6_DVncYevBktfT1FPSSwut4=s64",
      "userId": "11216502560164167954"
     },
     "user_tz": -60
    },
    "id": "YqiPDtx9YNhu",
    "outputId": "e054023c-fc62-431e-e55a-67cf270908c7"
   },
   "outputs": [
    {
     "data": {
      "text/plain": [
       "(2187, 2)"
      ]
     },
     "execution_count": 139,
     "metadata": {},
     "output_type": "execute_result"
    }
   ],
   "source": [
    "dataset_samo = df_final_samo.values\n",
    "dataset_samo_v2 = dataset_samo[:-1,:]\n",
    "dataset_samo_v2.shape"
   ]
  },
  {
   "cell_type": "code",
   "execution_count": 140,
   "metadata": {
    "colab": {
     "base_uri": "https://localhost:8080/"
    },
    "executionInfo": {
     "elapsed": 858,
     "status": "ok",
     "timestamp": 1638204720491,
     "user": {
      "displayName": "DavyDw Pro",
      "photoUrl": "https://lh3.googleusercontent.com/a-/AOh14GjwzgF9Xbt1P6nF6_DVncYevBktfT1FPSSwut4=s64",
      "userId": "11216502560164167954"
     },
     "user_tz": -60
    },
    "id": "qGDdmAKDYMzS",
    "outputId": "7ecd05e6-1bb9-4e03-c878-ca5eae82df66"
   },
   "outputs": [
    {
     "data": {
      "text/plain": [
       "(2187, 2)"
      ]
     },
     "execution_count": 140,
     "metadata": {},
     "output_type": "execute_result"
    }
   ],
   "source": [
    "dataset_doge.shape"
   ]
  },
  {
   "cell_type": "code",
   "execution_count": 141,
   "metadata": {
    "colab": {
     "base_uri": "https://localhost:8080/"
    },
    "executionInfo": {
     "elapsed": 56,
     "status": "ok",
     "timestamp": 1638204721439,
     "user": {
      "displayName": "DavyDw Pro",
      "photoUrl": "https://lh3.googleusercontent.com/a-/AOh14GjwzgF9Xbt1P6nF6_DVncYevBktfT1FPSSwut4=s64",
      "userId": "11216502560164167954"
     },
     "user_tz": -60
    },
    "id": "FZI_1mp7bQga",
    "outputId": "bb5268ae-db76-4203-e7cd-52db677bdf4f"
   },
   "outputs": [
    {
     "data": {
      "text/plain": [
       "1749"
      ]
     },
     "execution_count": 141,
     "metadata": {},
     "output_type": "execute_result"
    }
   ],
   "source": [
    "split_doge = int(df_final_doge.shape[0]*0.8)\n",
    "split_samo = int(dataset_samo_v2.shape[0]*0.8)\n",
    "\n",
    "train_size = split_doge\n",
    "train_size\n"
   ]
  },
  {
   "cell_type": "code",
   "execution_count": 142,
   "metadata": {
    "colab": {
     "base_uri": "https://localhost:8080/"
    },
    "executionInfo": {
     "elapsed": 50,
     "status": "ok",
     "timestamp": 1638204721700,
     "user": {
      "displayName": "DavyDw Pro",
      "photoUrl": "https://lh3.googleusercontent.com/a-/AOh14GjwzgF9Xbt1P6nF6_DVncYevBktfT1FPSSwut4=s64",
      "userId": "11216502560164167954"
     },
     "user_tz": -60
    },
    "id": "8_VF-m4sbQmH",
    "outputId": "15727c22-00ea-4435-b96d-663f7cca7487"
   },
   "outputs": [
    {
     "data": {
      "text/plain": [
       "438"
      ]
     },
     "execution_count": 142,
     "metadata": {},
     "output_type": "execute_result"
    }
   ],
   "source": [
    "test_size = dataset_doge.shape[0] - train_size\n",
    "test_size"
   ]
  },
  {
   "cell_type": "code",
   "execution_count": 143,
   "metadata": {
    "executionInfo": {
     "elapsed": 85,
     "status": "ok",
     "timestamp": 1638204721975,
     "user": {
      "displayName": "DavyDw Pro",
      "photoUrl": "https://lh3.googleusercontent.com/a-/AOh14GjwzgF9Xbt1P6nF6_DVncYevBktfT1FPSSwut4=s64",
      "userId": "11216502560164167954"
     },
     "user_tz": -60
    },
    "id": "SywioN23bQre"
   },
   "outputs": [],
   "source": [
    "train_doge, test_doge = dataset_doge[:split_doge], dataset_doge[split_doge:]\n",
    "train_samo, test_samo = dataset_samo_v2[:split_samo], dataset_samo_v2[split_samo:]"
   ]
  },
  {
   "cell_type": "code",
   "execution_count": 144,
   "metadata": {
    "colab": {
     "base_uri": "https://localhost:8080/"
    },
    "executionInfo": {
     "elapsed": 304,
     "status": "ok",
     "timestamp": 1638204722196,
     "user": {
      "displayName": "DavyDw Pro",
      "photoUrl": "https://lh3.googleusercontent.com/a-/AOh14GjwzgF9Xbt1P6nF6_DVncYevBktfT1FPSSwut4=s64",
      "userId": "11216502560164167954"
     },
     "user_tz": -60
    },
    "id": "OYQw06BibQwt",
    "outputId": "ace3d957-71ef-400b-fd4f-b0bc43298cfe"
   },
   "outputs": [
    {
     "data": {
      "text/plain": [
       "(1749, 2)"
      ]
     },
     "execution_count": 144,
     "metadata": {},
     "output_type": "execute_result"
    }
   ],
   "source": [
    "train_doge.shape"
   ]
  },
  {
   "cell_type": "code",
   "execution_count": 145,
   "metadata": {
    "colab": {
     "base_uri": "https://localhost:8080/"
    },
    "executionInfo": {
     "elapsed": 51,
     "status": "ok",
     "timestamp": 1638204723670,
     "user": {
      "displayName": "DavyDw Pro",
      "photoUrl": "https://lh3.googleusercontent.com/a-/AOh14GjwzgF9Xbt1P6nF6_DVncYevBktfT1FPSSwut4=s64",
      "userId": "11216502560164167954"
     },
     "user_tz": -60
    },
    "id": "hfUPU7qubQ2N",
    "outputId": "f46380e8-8614-4164-eccb-897072f28ae1"
   },
   "outputs": [
    {
     "data": {
      "text/plain": [
       "(438, 2)"
      ]
     },
     "execution_count": 145,
     "metadata": {},
     "output_type": "execute_result"
    }
   ],
   "source": [
    "test_doge.shape"
   ]
  },
  {
   "cell_type": "code",
   "execution_count": 146,
   "metadata": {
    "colab": {
     "base_uri": "https://localhost:8080/"
    },
    "executionInfo": {
     "elapsed": 385,
     "status": "ok",
     "timestamp": 1638204725302,
     "user": {
      "displayName": "DavyDw Pro",
      "photoUrl": "https://lh3.googleusercontent.com/a-/AOh14GjwzgF9Xbt1P6nF6_DVncYevBktfT1FPSSwut4=s64",
      "userId": "11216502560164167954"
     },
     "user_tz": -60
    },
    "id": "u221gLocbQ8k",
    "outputId": "f148e05d-44a7-4116-c0bf-1c932575aa6f"
   },
   "outputs": [
    {
     "data": {
      "text/plain": [
       "(1749, 2)"
      ]
     },
     "execution_count": 146,
     "metadata": {},
     "output_type": "execute_result"
    }
   ],
   "source": [
    "train_samo.shape"
   ]
  },
  {
   "cell_type": "code",
   "execution_count": 147,
   "metadata": {
    "colab": {
     "base_uri": "https://localhost:8080/"
    },
    "executionInfo": {
     "elapsed": 52,
     "status": "ok",
     "timestamp": 1638204726411,
     "user": {
      "displayName": "DavyDw Pro",
      "photoUrl": "https://lh3.googleusercontent.com/a-/AOh14GjwzgF9Xbt1P6nF6_DVncYevBktfT1FPSSwut4=s64",
      "userId": "11216502560164167954"
     },
     "user_tz": -60
    },
    "id": "44DTGEuJb4Jf",
    "outputId": "eb943feb-873b-4319-f550-02ed6bd58d53"
   },
   "outputs": [
    {
     "data": {
      "text/plain": [
       "(438, 2)"
      ]
     },
     "execution_count": 147,
     "metadata": {},
     "output_type": "execute_result"
    }
   ],
   "source": [
    "test_samo.shape"
   ]
  },
  {
   "cell_type": "code",
   "execution_count": 148,
   "metadata": {
    "executionInfo": {
     "elapsed": 237,
     "status": "ok",
     "timestamp": 1638204736177,
     "user": {
      "displayName": "DavyDw Pro",
      "photoUrl": "https://lh3.googleusercontent.com/a-/AOh14GjwzgF9Xbt1P6nF6_DVncYevBktfT1FPSSwut4=s64",
      "userId": "11216502560164167954"
     },
     "user_tz": -60
    },
    "id": "to-vliOxb4P8"
   },
   "outputs": [],
   "source": [
    "scaler_doge = MinMaxScaler()\n",
    "\n",
    "scaler_doge.fit(train_doge)\n",
    "train_doge_scaled = scaler_doge.transform(train_doge)\n",
    "test_doge_scaled = scaler_doge.transform(test_doge)"
   ]
  },
  {
   "cell_type": "code",
   "execution_count": 149,
   "metadata": {
    "executionInfo": {
     "elapsed": 47,
     "status": "ok",
     "timestamp": 1638204736746,
     "user": {
      "displayName": "DavyDw Pro",
      "photoUrl": "https://lh3.googleusercontent.com/a-/AOh14GjwzgF9Xbt1P6nF6_DVncYevBktfT1FPSSwut4=s64",
      "userId": "11216502560164167954"
     },
     "user_tz": -60
    },
    "id": "nfKYFFMcb8Ns"
   },
   "outputs": [],
   "source": [
    "scaler_samo = MinMaxScaler()\n",
    "\n",
    "scaler_samo.fit(train_samo)\n",
    "train_samo_scaled = scaler_samo.transform(train_samo)\n",
    "test_samo_scaled = scaler_samo.transform(test_samo)"
   ]
  },
  {
   "cell_type": "code",
   "execution_count": 149,
   "metadata": {
    "executionInfo": {
     "elapsed": 38,
     "status": "ok",
     "timestamp": 1638204738370,
     "user": {
      "displayName": "DavyDw Pro",
      "photoUrl": "https://lh3.googleusercontent.com/a-/AOh14GjwzgF9Xbt1P6nF6_DVncYevBktfT1FPSSwut4=s64",
      "userId": "11216502560164167954"
     },
     "user_tz": -60
    },
    "id": "0ljWgQxOjkfv"
   },
   "outputs": [],
   "source": []
  },
  {
   "cell_type": "code",
   "execution_count": 150,
   "metadata": {
    "colab": {
     "base_uri": "https://localhost:8080/"
    },
    "executionInfo": {
     "elapsed": 298,
     "status": "ok",
     "timestamp": 1638204739200,
     "user": {
      "displayName": "DavyDw Pro",
      "photoUrl": "https://lh3.googleusercontent.com/a-/AOh14GjwzgF9Xbt1P6nF6_DVncYevBktfT1FPSSwut4=s64",
      "userId": "11216502560164167954"
     },
     "user_tz": -60
    },
    "id": "Apsqe-zDcOdh",
    "outputId": "693588ad-fb6f-4990-8d0f-bfac3d45598b"
   },
   "outputs": [
    {
     "data": {
      "text/plain": [
       "48"
      ]
     },
     "execution_count": 150,
     "metadata": {},
     "output_type": "execute_result"
    }
   ],
   "source": [
    "window_size"
   ]
  },
  {
   "cell_type": "code",
   "execution_count": 151,
   "metadata": {
    "colab": {
     "base_uri": "https://localhost:8080/"
    },
    "executionInfo": {
     "elapsed": 70,
     "status": "ok",
     "timestamp": 1638204739201,
     "user": {
      "displayName": "DavyDw Pro",
      "photoUrl": "https://lh3.googleusercontent.com/a-/AOh14GjwzgF9Xbt1P6nF6_DVncYevBktfT1FPSSwut4=s64",
      "userId": "11216502560164167954"
     },
     "user_tz": -60
    },
    "id": "dq6q4jH2cRA0",
    "outputId": "47b9b041-02d4-43a8-c6cd-b8eca5ed864d"
   },
   "outputs": [
    {
     "data": {
      "text/plain": [
       "6"
      ]
     },
     "execution_count": 151,
     "metadata": {},
     "output_type": "execute_result"
    }
   ],
   "source": [
    "future_horizon"
   ]
  },
  {
   "cell_type": "code",
   "execution_count": 152,
   "metadata": {
    "executionInfo": {
     "elapsed": 420,
     "status": "ok",
     "timestamp": 1638204741835,
     "user": {
      "displayName": "DavyDw Pro",
      "photoUrl": "https://lh3.googleusercontent.com/a-/AOh14GjwzgF9Xbt1P6nF6_DVncYevBktfT1FPSSwut4=s64",
      "userId": "11216502560164167954"
     },
     "user_tz": -60
    },
    "id": "PMOa_PZjb8T0"
   },
   "outputs": [],
   "source": [
    "# get_X_y for doge & samo datasets TRAIN\n",
    "X_train_doge, y_train_doge = get_X_y(window_size, future_horizon, train_doge_scaled)\n",
    "X_train_samo, y_train_samo = get_X_y(window_size, future_horizon, train_samo_scaled)"
   ]
  },
  {
   "cell_type": "code",
   "execution_count": 153,
   "metadata": {
    "executionInfo": {
     "elapsed": 82,
     "status": "ok",
     "timestamp": 1638204742288,
     "user": {
      "displayName": "DavyDw Pro",
      "photoUrl": "https://lh3.googleusercontent.com/a-/AOh14GjwzgF9Xbt1P6nF6_DVncYevBktfT1FPSSwut4=s64",
      "userId": "11216502560164167954"
     },
     "user_tz": -60
    },
    "id": "NIT6ivkCjd3J"
   },
   "outputs": [],
   "source": [
    "# get_X_y for doge & samo datasets TEST\n",
    "X_test_doge, y_test_doge = get_X_y(window_size, future_horizon, test_doge_scaled)\n",
    "X_test_samo, y_test_samo = get_X_y(window_size, future_horizon, test_samo_scaled)"
   ]
  },
  {
   "cell_type": "code",
   "execution_count": 154,
   "metadata": {
    "colab": {
     "base_uri": "https://localhost:8080/"
    },
    "executionInfo": {
     "elapsed": 81,
     "status": "ok",
     "timestamp": 1638204742289,
     "user": {
      "displayName": "DavyDw Pro",
      "photoUrl": "https://lh3.googleusercontent.com/a-/AOh14GjwzgF9Xbt1P6nF6_DVncYevBktfT1FPSSwut4=s64",
      "userId": "11216502560164167954"
     },
     "user_tz": -60
    },
    "id": "kbXrncFOb8Zs",
    "outputId": "3d0e0bad-98e1-4bee-b3f3-b67f24019212"
   },
   "outputs": [
    {
     "data": {
      "text/plain": [
       "((1695, 48, 2), (1695, 6))"
      ]
     },
     "execution_count": 154,
     "metadata": {},
     "output_type": "execute_result"
    }
   ],
   "source": [
    "X_train_doge.shape, y_train_doge.shape"
   ]
  },
  {
   "cell_type": "code",
   "execution_count": 155,
   "metadata": {
    "colab": {
     "base_uri": "https://localhost:8080/"
    },
    "executionInfo": {
     "elapsed": 312,
     "status": "ok",
     "timestamp": 1638204753752,
     "user": {
      "displayName": "DavyDw Pro",
      "photoUrl": "https://lh3.googleusercontent.com/a-/AOh14GjwzgF9Xbt1P6nF6_DVncYevBktfT1FPSSwut4=s64",
      "userId": "11216502560164167954"
     },
     "user_tz": -60
    },
    "id": "qaiHJ5NYb8fO",
    "outputId": "d43e8cfb-3b39-4126-e2ae-8bd828a4eb39"
   },
   "outputs": [
    {
     "data": {
      "text/plain": [
       "((1695, 48, 2), (1695, 6))"
      ]
     },
     "execution_count": 155,
     "metadata": {},
     "output_type": "execute_result"
    }
   ],
   "source": [
    "X_train_samo.shape, y_train_samo.shape"
   ]
  },
  {
   "cell_type": "markdown",
   "metadata": {
    "id": "IuGSDHQheFRx"
   },
   "source": [
    "**Concatenating the features of different cryptos and their targets**"
   ]
  },
  {
   "cell_type": "code",
   "execution_count": 78,
   "metadata": {
    "executionInfo": {
     "elapsed": 303,
     "status": "ok",
     "timestamp": 1638203647620,
     "user": {
      "displayName": "DavyDw Pro",
      "photoUrl": "https://lh3.googleusercontent.com/a-/AOh14GjwzgF9Xbt1P6nF6_DVncYevBktfT1FPSSwut4=s64",
      "userId": "11216502560164167954"
     },
     "user_tz": -60
    },
    "id": "kBq98rvQb4Vj"
   },
   "outputs": [],
   "source": [
    "# desired shape \n",
    "# 2115 time series\n",
    "# 48 days of observations\n",
    "# 2 cryptoes x 2 features = 4 features"
   ]
  },
  {
   "cell_type": "code",
   "execution_count": 157,
   "metadata": {
    "colab": {
     "base_uri": "https://localhost:8080/"
    },
    "executionInfo": {
     "elapsed": 323,
     "status": "ok",
     "timestamp": 1638204766836,
     "user": {
      "displayName": "DavyDw Pro",
      "photoUrl": "https://lh3.googleusercontent.com/a-/AOh14GjwzgF9Xbt1P6nF6_DVncYevBktfT1FPSSwut4=s64",
      "userId": "11216502560164167954"
     },
     "user_tz": -60
    },
    "id": "uHiQpaYCcihE",
    "outputId": "24d9fef8-e767-4d35-8d98-3e08eaf45f7c"
   },
   "outputs": [
    {
     "data": {
      "text/plain": [
       "(1695, 48, 4)"
      ]
     },
     "execution_count": 157,
     "metadata": {},
     "output_type": "execute_result"
    }
   ],
   "source": [
    "two_cryptos_X_train = np.stack([X_train_doge,X_train_samo], axis = 2).reshape(len(X_train_doge),window_size,-1)\n",
    "two_cryptos_X_train.shape"
   ]
  },
  {
   "cell_type": "code",
   "execution_count": 158,
   "metadata": {
    "colab": {
     "base_uri": "https://localhost:8080/"
    },
    "executionInfo": {
     "elapsed": 423,
     "status": "ok",
     "timestamp": 1638204790685,
     "user": {
      "displayName": "DavyDw Pro",
      "photoUrl": "https://lh3.googleusercontent.com/a-/AOh14GjwzgF9Xbt1P6nF6_DVncYevBktfT1FPSSwut4=s64",
      "userId": "11216502560164167954"
     },
     "user_tz": -60
    },
    "id": "Tzc75XuDciom",
    "outputId": "58432be6-e323-48b2-f497-535fedffacf1"
   },
   "outputs": [
    {
     "data": {
      "text/plain": [
       "(1695, 6, 2)"
      ]
     },
     "execution_count": 158,
     "metadata": {},
     "output_type": "execute_result"
    }
   ],
   "source": [
    "two_cryptos_y_train = np.stack([y_train_doge,y_train_samo], axis = 2).reshape(len(y_train_doge),future_horizon,-1)\n",
    "two_cryptos_y_train.shape"
   ]
  },
  {
   "cell_type": "code",
   "execution_count": 159,
   "metadata": {
    "colab": {
     "base_uri": "https://localhost:8080/"
    },
    "executionInfo": {
     "elapsed": 653,
     "status": "ok",
     "timestamp": 1638204798210,
     "user": {
      "displayName": "DavyDw Pro",
      "photoUrl": "https://lh3.googleusercontent.com/a-/AOh14GjwzgF9Xbt1P6nF6_DVncYevBktfT1FPSSwut4=s64",
      "userId": "11216502560164167954"
     },
     "user_tz": -60
    },
    "id": "YSZqPQ13mLyP",
    "outputId": "1857c186-c62f-4a2b-b5c4-6dbf86c4ab35"
   },
   "outputs": [
    {
     "data": {
      "text/plain": [
       "(1695, 12)"
      ]
     },
     "execution_count": 159,
     "metadata": {},
     "output_type": "execute_result"
    }
   ],
   "source": [
    "two_cryptos_y_train_reshaped = two_cryptos_y_train.reshape(len(two_cryptos_y_train),-1)\n",
    "two_cryptos_y_train_reshaped.shape"
   ]
  },
  {
   "cell_type": "code",
   "execution_count": 114,
   "metadata": {
    "executionInfo": {
     "elapsed": 252,
     "status": "ok",
     "timestamp": 1638202796887,
     "user": {
      "displayName": "DavyDw Pro",
      "photoUrl": "https://lh3.googleusercontent.com/a-/AOh14GjwzgF9Xbt1P6nF6_DVncYevBktfT1FPSSwut4=s64",
      "userId": "11216502560164167954"
     },
     "user_tz": -60
    },
    "id": "zxLyaA9mciuZ"
   },
   "outputs": [],
   "source": [
    "# might need to pad, but let's try to fit a model with that first"
   ]
  },
  {
   "cell_type": "code",
   "execution_count": 160,
   "metadata": {
    "colab": {
     "base_uri": "https://localhost:8080/"
    },
    "executionInfo": {
     "elapsed": 476,
     "status": "ok",
     "timestamp": 1638204804328,
     "user": {
      "displayName": "DavyDw Pro",
      "photoUrl": "https://lh3.googleusercontent.com/a-/AOh14GjwzgF9Xbt1P6nF6_DVncYevBktfT1FPSSwut4=s64",
      "userId": "11216502560164167954"
     },
     "user_tz": -60
    },
    "id": "opcpMgiIjQ4K",
    "outputId": "51bc90b8-72eb-4082-9332-bbfc5ce31e23"
   },
   "outputs": [
    {
     "data": {
      "text/plain": [
       "(384, 48, 4)"
      ]
     },
     "execution_count": 160,
     "metadata": {},
     "output_type": "execute_result"
    }
   ],
   "source": [
    "two_cryptos_X_test = np.stack([X_test_doge,X_test_samo], axis = 2).reshape(len(X_test_doge),window_size,-1)\n",
    "two_cryptos_X_test.shape"
   ]
  },
  {
   "cell_type": "code",
   "execution_count": 161,
   "metadata": {
    "colab": {
     "base_uri": "https://localhost:8080/"
    },
    "executionInfo": {
     "elapsed": 314,
     "status": "ok",
     "timestamp": 1638204809357,
     "user": {
      "displayName": "DavyDw Pro",
      "photoUrl": "https://lh3.googleusercontent.com/a-/AOh14GjwzgF9Xbt1P6nF6_DVncYevBktfT1FPSSwut4=s64",
      "userId": "11216502560164167954"
     },
     "user_tz": -60
    },
    "id": "FjBygzcejtta",
    "outputId": "b595736e-a3ba-41d9-87c8-7dba2bdcf19e"
   },
   "outputs": [
    {
     "data": {
      "text/plain": [
       "(384, 6, 2)"
      ]
     },
     "execution_count": 161,
     "metadata": {},
     "output_type": "execute_result"
    }
   ],
   "source": [
    "two_cryptos_y_test = np.stack([y_test_doge,y_test_samo], axis = 2).reshape(len(y_test_doge),future_horizon,-1)\n",
    "two_cryptos_y_test.shape"
   ]
  },
  {
   "cell_type": "code",
   "execution_count": 162,
   "metadata": {
    "colab": {
     "base_uri": "https://localhost:8080/"
    },
    "executionInfo": {
     "elapsed": 353,
     "status": "ok",
     "timestamp": 1638204811990,
     "user": {
      "displayName": "DavyDw Pro",
      "photoUrl": "https://lh3.googleusercontent.com/a-/AOh14GjwzgF9Xbt1P6nF6_DVncYevBktfT1FPSSwut4=s64",
      "userId": "11216502560164167954"
     },
     "user_tz": -60
    },
    "id": "dahXtz6ymULU",
    "outputId": "ad9b2e7a-2b8b-4a52-bf46-6e6b2918413d"
   },
   "outputs": [
    {
     "data": {
      "text/plain": [
       "(384, 12)"
      ]
     },
     "execution_count": 162,
     "metadata": {},
     "output_type": "execute_result"
    }
   ],
   "source": [
    "two_cryptos_y_test_reshaped = two_cryptos_y_test.reshape(len(two_cryptos_y_test),-1)\n",
    "two_cryptos_y_test_reshaped.shape"
   ]
  },
  {
   "cell_type": "markdown",
   "metadata": {
    "id": "v2ANO1DYbMYE"
   },
   "source": [
    "### **Get X and y** : `FUNCTION FOR TWO CRYPTOS`\n",
    "\n",
    "❗️ WORK IN PROGRESS ❗️"
   ]
  },
  {
   "cell_type": "markdown",
   "metadata": {
    "id": "ZS_UG5IZPigV"
   },
   "source": [
    "**reshape_data** : taking the horizon into consideration"
   ]
  },
  {
   "cell_type": "code",
   "execution_count": 111,
   "metadata": {
    "executionInfo": {
     "elapsed": 59,
     "status": "ok",
     "timestamp": 1638204226348,
     "user": {
      "displayName": "DavyDw Pro",
      "photoUrl": "https://lh3.googleusercontent.com/a-/AOh14GjwzgF9Xbt1P6nF6_DVncYevBktfT1FPSSwut4=s64",
      "userId": "11216502560164167954"
     },
     "user_tz": -60
    },
    "id": "4STFvMWVNTYj"
   },
   "outputs": [],
   "source": [
    "## creating train_test_split and scaling values\n",
    "\n",
    "\n",
    "\n",
    "def reshape_data(df_final_doge, df_final_samo, history_size, horizon):\n",
    "\n",
    "  dataset_doge = df_final_doge.values\n",
    "  dataset_samo = df_final_samo.values\n",
    "\n",
    "  #train_test_split\n",
    "  \n",
    "  split_doge = int(df_final_doge.shape[0]*0.8)\n",
    "  split_samo = int(df_final_samo.shape[0]*0.8)\n",
    "\n",
    "  train_doge, test_doge = dataset_doge[:split_doge], dataset_doge[split_doge:]\n",
    "  train_samo, test_samo = dataset_samo[:split_samo], dataset_samo[split_samo:]\n",
    "\n",
    "  # scaling the data\n",
    "  scaler_doge = MinMaxScaler()\n",
    "\n",
    "  scaler_doge.fit(train_doge)\n",
    "  train_doge = scaler_doge.transform(train_doge)\n",
    "  test_doge = scaler_doge.transform(test_doge)\n",
    "\n",
    "  scaler_samo = MinMaxScaler()\n",
    "\n",
    "  scaler_samo.fit(train_samo)\n",
    "  train_samo = scaler_samo.transform(train_samo)\n",
    "  test_samo = scaler_samo.transform(test_samo)\n",
    "\n",
    "  # get_X_y for doge & samo datasets\n",
    "  X_train_doge, y_train_doge = get_X_y(history_size, horizon, train_doge)\n",
    "  X_train_samo, y_train_samo = get_X_y(history_size, horizon, train_samo)\n",
    "\n",
    "  X_test_doge, y_test_doge = get_X_y(history_size, horizon, test_doge)\n",
    "  X_test_samo, y_test_samo = get_X_y(history_size, horizon, test_samo)\n",
    "\n",
    "  # creating multi-coin model with multiple features\n",
    "  X_train_multi = [X_train_doge, X_train_samo]\n",
    "  X_train_multi = np.array(X_train_multi, dtype='object')\n",
    "\n",
    "  X_test_multi = [X_test_doge, X_test_samo]\n",
    "  X_test_multi = np.array(X_test_multi, dtype='object')\n",
    "\n",
    "  y_train_multi = [y_train_doge, y_train_samo]\n",
    "  y_train_multi = np.array(y_train_multi, dtype='object')\n",
    "\n",
    "  y_test_multi = [y_test_doge, y_test_samo] # order important for inverse transform\n",
    "  y_test_multi = np.array(y_test_multi, dtype='object')\n",
    "\n",
    "  # padding the data\n",
    "  ## padding= post ???\n",
    "  X_pad_train = pad_sequences(X_train_multi, dtype='float32', value=-1)\n",
    "  X_pad_train = np.asarray(X_pad_train).astype('float32')\n",
    "\n",
    "  X_pad_test = pad_sequences(X_test_multi, dtype='float32', value=-1)\n",
    "  X_pad_test = np.asarray(X_pad_test).astype('float32')\n",
    "\n",
    "  y_pad_train = pad_sequences(y_train_multi, dtype='float32', value=-1)\n",
    "  y_pad_train = np.asarray(y_pad_train).astype('float32')\n",
    "\n",
    "  y_pad_test = pad_sequences(y_test_multi, dtype='float32', value=-1)\n",
    "  y_pad_test = np.asarray(y_pad_test).astype('float32')\n",
    "\n",
    "  return X_pad_train, X_pad_test, y_pad_train, y_pad_test, scaler_doge, scaler_samo\n",
    "  "
   ]
  },
  {
   "cell_type": "code",
   "execution_count": 112,
   "metadata": {
    "executionInfo": {
     "elapsed": 368,
     "status": "ok",
     "timestamp": 1638204226660,
     "user": {
      "displayName": "DavyDw Pro",
      "photoUrl": "https://lh3.googleusercontent.com/a-/AOh14GjwzgF9Xbt1P6nF6_DVncYevBktfT1FPSSwut4=s64",
      "userId": "11216502560164167954"
     },
     "user_tz": -60
    },
    "id": "lmiIsDLoTrs6"
   },
   "outputs": [],
   "source": [
    "X_pad_train, X_pad_test, y_pad_train, y_pad_test, scaler_doge, scaler_samo = reshape_data(df_final_doge, df_final_samo, horizon = 5, history_size=14)"
   ]
  },
  {
   "cell_type": "code",
   "execution_count": 45,
   "metadata": {
    "colab": {
     "base_uri": "https://localhost:8080/"
    },
    "executionInfo": {
     "elapsed": 47,
     "status": "ok",
     "timestamp": 1638198640249,
     "user": {
      "displayName": "DavyDw Pro",
      "photoUrl": "https://lh3.googleusercontent.com/a-/AOh14GjwzgF9Xbt1P6nF6_DVncYevBktfT1FPSSwut4=s64",
      "userId": "11216502560164167954"
     },
     "user_tz": -60
    },
    "id": "pyySeRJMaHMj",
    "outputId": "f306fee4-e369-45ff-b00b-72eec0e8d828"
   },
   "outputs": [
    {
     "data": {
      "text/plain": [
       "(2, 2168, 14, 2)"
      ]
     },
     "execution_count": 45,
     "metadata": {},
     "output_type": "execute_result"
    }
   ],
   "source": [
    "X_pad_train.shape"
   ]
  },
  {
   "cell_type": "code",
   "execution_count": 53,
   "metadata": {
    "colab": {
     "base_uri": "https://localhost:8080/"
    },
    "executionInfo": {
     "elapsed": 288,
     "status": "ok",
     "timestamp": 1638198798118,
     "user": {
      "displayName": "DavyDw Pro",
      "photoUrl": "https://lh3.googleusercontent.com/a-/AOh14GjwzgF9Xbt1P6nF6_DVncYevBktfT1FPSSwut4=s64",
      "userId": "11216502560164167954"
     },
     "user_tz": -60
    },
    "id": "wW8EOrpJdwWA",
    "outputId": "972f7c1a-832c-4789-cd0b-09cc2f9369c2"
   },
   "outputs": [
    {
     "data": {
      "text/plain": [
       "(2, 2168, 5, 2)"
      ]
     },
     "execution_count": 53,
     "metadata": {},
     "output_type": "execute_result"
    }
   ],
   "source": [
    "y_pad_train.shape"
   ]
  },
  {
   "cell_type": "code",
   "execution_count": 47,
   "metadata": {
    "colab": {
     "base_uri": "https://localhost:8080/"
    },
    "executionInfo": {
     "elapsed": 342,
     "status": "ok",
     "timestamp": 1638198656374,
     "user": {
      "displayName": "DavyDw Pro",
      "photoUrl": "https://lh3.googleusercontent.com/a-/AOh14GjwzgF9Xbt1P6nF6_DVncYevBktfT1FPSSwut4=s64",
      "userId": "11216502560164167954"
     },
     "user_tz": -60
    },
    "id": "8oQynu-1mAvv",
    "outputId": "1bdc680c-f349-4f97-e040-3886b44f9b76"
   },
   "outputs": [
    {
     "data": {
      "text/plain": [
       "(array([[-1.3902503, -1.       ],\n",
       "        [-1.3732641, -1.       ],\n",
       "        [-1.384719 , -1.       ],\n",
       "        [-1.3941964, -1.       ],\n",
       "        [-1.3963227, -1.       ],\n",
       "        [-1.3931859, -1.       ],\n",
       "        [-1.400903 , -1.       ],\n",
       "        [-1.4024998, -1.       ],\n",
       "        [-1.4089702, -1.       ],\n",
       "        [-1.4068834, -1.       ],\n",
       "        [-1.4023124, -1.       ],\n",
       "        [-1.4074941, -1.       ],\n",
       "        [-1.4144078, -1.       ],\n",
       "        [-1.4057324, -1.       ]], dtype=float32),\n",
       " array([[-1.4113902, -1.       ],\n",
       "        [-1.4226389, -1.       ],\n",
       "        [-1.4187297, -1.       ],\n",
       "        [-1.4131716, -1.       ],\n",
       "        [-1.4158534, -1.       ]], dtype=float32))"
      ]
     },
     "execution_count": 47,
     "metadata": {},
     "output_type": "execute_result"
    }
   ],
   "source": [
    "X_pad_train[0][0], y_pad_train[0][0]"
   ]
  },
  {
   "cell_type": "code",
   "execution_count": 54,
   "metadata": {
    "executionInfo": {
     "elapsed": 345,
     "status": "ok",
     "timestamp": 1638198806073,
     "user": {
      "displayName": "DavyDw Pro",
      "photoUrl": "https://lh3.googleusercontent.com/a-/AOh14GjwzgF9Xbt1P6nF6_DVncYevBktfT1FPSSwut4=s64",
      "userId": "11216502560164167954"
     },
     "user_tz": -60
    },
    "id": "_Z-2YJrLp8z8"
   },
   "outputs": [],
   "source": [
    "X_pad_train_reshaped = X_pad_train.reshape(2,2168,14*2)"
   ]
  },
  {
   "cell_type": "code",
   "execution_count": 56,
   "metadata": {
    "colab": {
     "base_uri": "https://localhost:8080/"
    },
    "executionInfo": {
     "elapsed": 253,
     "status": "ok",
     "timestamp": 1638198815565,
     "user": {
      "displayName": "DavyDw Pro",
      "photoUrl": "https://lh3.googleusercontent.com/a-/AOh14GjwzgF9Xbt1P6nF6_DVncYevBktfT1FPSSwut4=s64",
      "userId": "11216502560164167954"
     },
     "user_tz": -60
    },
    "id": "IUSCKK1VUjAW",
    "outputId": "93e91601-0928-46bf-a826-9758e339f549"
   },
   "outputs": [
    {
     "data": {
      "text/plain": [
       "(2, 2168, 5, 2)"
      ]
     },
     "execution_count": 56,
     "metadata": {},
     "output_type": "execute_result"
    }
   ],
   "source": [
    "y_pad_train.shape"
   ]
  },
  {
   "cell_type": "code",
   "execution_count": 59,
   "metadata": {
    "colab": {
     "base_uri": "https://localhost:8080/"
    },
    "executionInfo": {
     "elapsed": 266,
     "status": "ok",
     "timestamp": 1638198936995,
     "user": {
      "displayName": "DavyDw Pro",
      "photoUrl": "https://lh3.googleusercontent.com/a-/AOh14GjwzgF9Xbt1P6nF6_DVncYevBktfT1FPSSwut4=s64",
      "userId": "11216502560164167954"
     },
     "user_tz": -60
    },
    "id": "fBJa2oALQ-iB",
    "outputId": "487a39ec-5128-458c-912d-05cd81a0a0ad"
   },
   "outputs": [
    {
     "data": {
      "text/plain": [
       "(2, 2168, 14, 2)"
      ]
     },
     "execution_count": 59,
     "metadata": {},
     "output_type": "execute_result"
    }
   ],
   "source": [
    "X_pad_test.shape"
   ]
  },
  {
   "cell_type": "code",
   "execution_count": 57,
   "metadata": {
    "executionInfo": {
     "elapsed": 296,
     "status": "ok",
     "timestamp": 1638198832092,
     "user": {
      "displayName": "DavyDw Pro",
      "photoUrl": "https://lh3.googleusercontent.com/a-/AOh14GjwzgF9Xbt1P6nF6_DVncYevBktfT1FPSSwut4=s64",
      "userId": "11216502560164167954"
     },
     "user_tz": -60
    },
    "id": "0-FLSp-cQka2"
   },
   "outputs": [],
   "source": [
    "X_pad_test_reshaped = X_pad_test.reshape(2,2168,14*2)"
   ]
  },
  {
   "cell_type": "code",
   "execution_count": 60,
   "metadata": {
    "colab": {
     "base_uri": "https://localhost:8080/"
    },
    "executionInfo": {
     "elapsed": 256,
     "status": "ok",
     "timestamp": 1638198948260,
     "user": {
      "displayName": "DavyDw Pro",
      "photoUrl": "https://lh3.googleusercontent.com/a-/AOh14GjwzgF9Xbt1P6nF6_DVncYevBktfT1FPSSwut4=s64",
      "userId": "11216502560164167954"
     },
     "user_tz": -60
    },
    "id": "Vk2JAZcgQkVH",
    "outputId": "693e8e21-8d42-45b1-bab7-f6be07a12aca"
   },
   "outputs": [
    {
     "data": {
      "text/plain": [
       "(2, 2168, 5, 2)"
      ]
     },
     "execution_count": 60,
     "metadata": {},
     "output_type": "execute_result"
    }
   ],
   "source": [
    "y_pad_test.shape"
   ]
  },
  {
   "cell_type": "code",
   "execution_count": null,
   "metadata": {
    "id": "7CPVWAsoQkGo"
   },
   "outputs": [],
   "source": []
  },
  {
   "cell_type": "markdown",
   "metadata": {
    "id": "j28re1zTYPDm"
   },
   "source": [
    "## Modeling"
   ]
  },
  {
   "cell_type": "code",
   "execution_count": 65,
   "metadata": {
    "executionInfo": {
     "elapsed": 252,
     "status": "ok",
     "timestamp": 1638199032050,
     "user": {
      "displayName": "DavyDw Pro",
      "photoUrl": "https://lh3.googleusercontent.com/a-/AOh14GjwzgF9Xbt1P6nF6_DVncYevBktfT1FPSSwut4=s64",
      "userId": "11216502560164167954"
     },
     "user_tz": -60
    },
    "id": "UKDD7ScvYP20"
   },
   "outputs": [],
   "source": [
    "# # instantiating a model\n",
    "# model = Sequential()\n",
    "\n",
    "# # first network layer\n",
    "# model.add(Masking(mask_value=-1))\n",
    "# model.add(LSTM(units = 50, activation= \"tanh\", return_sequences= True))\n",
    "# model.add(Dropout(0.2))\n",
    "\n",
    "# # network layer's 2 - 5\n",
    "# model.add(LSTM(units= 50, activation= \"tanh\", return_sequences= True))\n",
    "# model.add(Dropout(0.2))\n",
    "# #model.add(LSTM(units = 20, return_sequences= True))\n",
    "# #model.add(Dropout(0.2))\n",
    "# #model.add(LSTM(units= 50, return_sequences= True))\n",
    "# #model.add(Dropout(0.2))\n",
    "# #model.add(LSTM(units= 50, return_sequences= True))\n",
    "# #model.add(Dropout(0.2))\n",
    "# model.add(LSTM(units= 10, activation= \"tanh\", return_sequences= False))\n",
    "# model.add(Dropout(0.2))\n",
    "\n",
    "# # network output layer\n",
    "# model.add(Dense(1, activation= \"linear\")) # should be 24 for 24h forecast\n",
    "\n",
    "# model.compile(optimizer= \"adam\", loss= \"mse\")"
   ]
  },
  {
   "cell_type": "code",
   "execution_count": 163,
   "metadata": {
    "colab": {
     "base_uri": "https://localhost:8080/"
    },
    "executionInfo": {
     "elapsed": 535,
     "status": "ok",
     "timestamp": 1638204820560,
     "user": {
      "displayName": "DavyDw Pro",
      "photoUrl": "https://lh3.googleusercontent.com/a-/AOh14GjwzgF9Xbt1P6nF6_DVncYevBktfT1FPSSwut4=s64",
      "userId": "11216502560164167954"
     },
     "user_tz": -60
    },
    "id": "XXa8SBBzmiYY",
    "outputId": "c437ed78-3342-4b89-ee3f-65dc90189126"
   },
   "outputs": [
    {
     "name": "stdout",
     "output_type": "stream",
     "text": [
      "2\n"
     ]
    },
    {
     "data": {
      "text/plain": [
       "12"
      ]
     },
     "execution_count": 163,
     "metadata": {},
     "output_type": "execute_result"
    }
   ],
   "source": [
    "number_of_cryptos = 2\n",
    "print(number_of_cryptos)\n",
    "number_of_cryptos*future_horizon"
   ]
  },
  {
   "cell_type": "code",
   "execution_count": 164,
   "metadata": {
    "executionInfo": {
     "elapsed": 255,
     "status": "ok",
     "timestamp": 1638204837794,
     "user": {
      "displayName": "DavyDw Pro",
      "photoUrl": "https://lh3.googleusercontent.com/a-/AOh14GjwzgF9Xbt1P6nF6_DVncYevBktfT1FPSSwut4=s64",
      "userId": "11216502560164167954"
     },
     "user_tz": -60
    },
    "id": "06e3CcDZgM7M"
   },
   "outputs": [],
   "source": [
    "def garrit():    \n",
    "    number_of_cryptos = 2\n",
    "    # instantiating a model\n",
    "    model = Sequential()\n",
    "\n",
    "    # first network layer\n",
    "    model.add(Masking(mask_value=-1))\n",
    "    model.add(LSTM(units = 50, activation= \"tanh\", return_sequences= True))\n",
    "    model.add(Dropout(0.2))\n",
    "\n",
    "    # network layer's 2 - 5\n",
    "    model.add(LSTM(units= 50, activation= \"tanh\", return_sequences= True))\n",
    "    model.add(LSTM(units= 10, activation= \"tanh\", return_sequences= False))\n",
    "    model.add(Dropout(0.2))\n",
    "\n",
    "    # network output layer\n",
    "    # predicting future_horizon = 24 hours\n",
    "    # for two cryptos\n",
    "    model.add(Dense(number_of_cryptos *future_horizon, activation= \"linear\")) # should be 24 for 24h forecast\n",
    "\n",
    "    model.compile(optimizer= \"adam\", loss= \"mse\")\n",
    "\n",
    "    return model"
   ]
  },
  {
   "cell_type": "code",
   "execution_count": 165,
   "metadata": {
    "executionInfo": {
     "elapsed": 42,
     "status": "ok",
     "timestamp": 1638204838987,
     "user": {
      "displayName": "DavyDw Pro",
      "photoUrl": "https://lh3.googleusercontent.com/a-/AOh14GjwzgF9Xbt1P6nF6_DVncYevBktfT1FPSSwut4=s64",
      "userId": "11216502560164167954"
     },
     "user_tz": -60
    },
    "id": "nH6uIPS5qk7j"
   },
   "outputs": [],
   "source": [
    "model = garrit()"
   ]
  },
  {
   "cell_type": "markdown",
   "metadata": {
    "id": "_AgGqQ_qgjJA"
   },
   "source": [
    "**train_test_split**"
   ]
  },
  {
   "cell_type": "code",
   "execution_count": 166,
   "metadata": {
    "colab": {
     "base_uri": "https://localhost:8080/"
    },
    "executionInfo": {
     "elapsed": 55,
     "status": "ok",
     "timestamp": 1638204840137,
     "user": {
      "displayName": "DavyDw Pro",
      "photoUrl": "https://lh3.googleusercontent.com/a-/AOh14GjwzgF9Xbt1P6nF6_DVncYevBktfT1FPSSwut4=s64",
      "userId": "11216502560164167954"
     },
     "user_tz": -60
    },
    "id": "11BsvlLHgk7u",
    "outputId": "427eb109-af8e-4629-d2b1-be5173414439"
   },
   "outputs": [
    {
     "data": {
      "text/plain": [
       "1749"
      ]
     },
     "execution_count": 166,
     "metadata": {},
     "output_type": "execute_result"
    }
   ],
   "source": [
    "train_size"
   ]
  },
  {
   "cell_type": "code",
   "execution_count": 167,
   "metadata": {
    "colab": {
     "base_uri": "https://localhost:8080/"
    },
    "executionInfo": {
     "elapsed": 59,
     "status": "ok",
     "timestamp": 1638204841008,
     "user": {
      "displayName": "DavyDw Pro",
      "photoUrl": "https://lh3.googleusercontent.com/a-/AOh14GjwzgF9Xbt1P6nF6_DVncYevBktfT1FPSSwut4=s64",
      "userId": "11216502560164167954"
     },
     "user_tz": -60
    },
    "id": "xCIof84sm3-4",
    "outputId": "4b641e8b-c50e-4211-ce4a-4b312bd9e5c2"
   },
   "outputs": [
    {
     "data": {
      "text/plain": [
       "(1695, 48, 4)"
      ]
     },
     "execution_count": 167,
     "metadata": {},
     "output_type": "execute_result"
    }
   ],
   "source": [
    "two_cryptos_X_train.shape"
   ]
  },
  {
   "cell_type": "code",
   "execution_count": 168,
   "metadata": {
    "colab": {
     "base_uri": "https://localhost:8080/"
    },
    "executionInfo": {
     "elapsed": 305,
     "status": "ok",
     "timestamp": 1638204843336,
     "user": {
      "displayName": "DavyDw Pro",
      "photoUrl": "https://lh3.googleusercontent.com/a-/AOh14GjwzgF9Xbt1P6nF6_DVncYevBktfT1FPSSwut4=s64",
      "userId": "11216502560164167954"
     },
     "user_tz": -60
    },
    "id": "z9xtn1Z7mykR",
    "outputId": "5a3d7557-3698-4e79-f649-3a5439923f7d"
   },
   "outputs": [
    {
     "data": {
      "text/plain": [
       "(1695, 12)"
      ]
     },
     "execution_count": 168,
     "metadata": {},
     "output_type": "execute_result"
    }
   ],
   "source": [
    "two_cryptos_y_train_reshaped.shape"
   ]
  },
  {
   "cell_type": "code",
   "execution_count": 169,
   "metadata": {
    "colab": {
     "base_uri": "https://localhost:8080/"
    },
    "executionInfo": {
     "elapsed": 25108,
     "status": "ok",
     "timestamp": 1638204871988,
     "user": {
      "displayName": "DavyDw Pro",
      "photoUrl": "https://lh3.googleusercontent.com/a-/AOh14GjwzgF9Xbt1P6nF6_DVncYevBktfT1FPSSwut4=s64",
      "userId": "11216502560164167954"
     },
     "user_tz": -60
    },
    "id": "vAVKEK8pZddM",
    "outputId": "38c8789d-9442-4cea-99b3-d3a578783c85"
   },
   "outputs": [
    {
     "name": "stdout",
     "output_type": "stream",
     "text": [
      "43/43 [==============================] - 25s 157ms/step - loss: 0.0665 - val_loss: 0.1833\n"
     ]
    }
   ],
   "source": [
    "# es = EarlyStopping(patience = 3, restore_best_weights= True) \n",
    "\n",
    "history = model.fit(two_cryptos_X_train, \n",
    "          two_cryptos_y_train_reshaped,\n",
    "          validation_split= 0.2,\n",
    "          epochs = 1,\n",
    "          batch_size= 32,\n",
    "          #callbacks= [es],\n",
    "          verbose= 1)"
   ]
  },
  {
   "cell_type": "code",
   "execution_count": 173,
   "metadata": {
    "executionInfo": {
     "elapsed": 357,
     "status": "ok",
     "timestamp": 1638204899764,
     "user": {
      "displayName": "DavyDw Pro",
      "photoUrl": "https://lh3.googleusercontent.com/a-/AOh14GjwzgF9Xbt1P6nF6_DVncYevBktfT1FPSSwut4=s64",
      "userId": "11216502560164167954"
     },
     "user_tz": -60
    },
    "id": "3604Prs-hPOZ"
   },
   "outputs": [],
   "source": [
    "predictions_6_hours = model.predict(two_cryptos_X_test)"
   ]
  },
  {
   "cell_type": "code",
   "execution_count": 171,
   "metadata": {
    "colab": {
     "base_uri": "https://localhost:8080/"
    },
    "executionInfo": {
     "elapsed": 296,
     "status": "ok",
     "timestamp": 1638204884738,
     "user": {
      "displayName": "DavyDw Pro",
      "photoUrl": "https://lh3.googleusercontent.com/a-/AOh14GjwzgF9Xbt1P6nF6_DVncYevBktfT1FPSSwut4=s64",
      "userId": "11216502560164167954"
     },
     "user_tz": -60
    },
    "id": "FUl2n-MikRxq",
    "outputId": "9912f7f4-ad95-401e-907f-94dbdd5563da"
   },
   "outputs": [
    {
     "data": {
      "text/plain": [
       "(384, 48, 4)"
      ]
     },
     "execution_count": 171,
     "metadata": {},
     "output_type": "execute_result"
    }
   ],
   "source": [
    "two_cryptos_X_test.shape"
   ]
  },
  {
   "cell_type": "code",
   "execution_count": 175,
   "metadata": {
    "colab": {
     "base_uri": "https://localhost:8080/"
    },
    "executionInfo": {
     "elapsed": 346,
     "status": "ok",
     "timestamp": 1638204922567,
     "user": {
      "displayName": "DavyDw Pro",
      "photoUrl": "https://lh3.googleusercontent.com/a-/AOh14GjwzgF9Xbt1P6nF6_DVncYevBktfT1FPSSwut4=s64",
      "userId": "11216502560164167954"
     },
     "user_tz": -60
    },
    "id": "Oyz1wlS0kLHF",
    "outputId": "122bec87-6981-425f-d8bf-1e0d93220035"
   },
   "outputs": [
    {
     "data": {
      "text/plain": [
       "(384, 6, 2)"
      ]
     },
     "execution_count": 175,
     "metadata": {},
     "output_type": "execute_result"
    }
   ],
   "source": [
    "final_predictions = predictions_6_hours.reshape(len(predictions_6_hours), future_horizon, -1)\n",
    "final_predictions.shape"
   ]
  },
  {
   "cell_type": "code",
   "execution_count": 176,
   "metadata": {
    "executionInfo": {
     "elapsed": 259,
     "status": "ok",
     "timestamp": 1638204945757,
     "user": {
      "displayName": "DavyDw Pro",
      "photoUrl": "https://lh3.googleusercontent.com/a-/AOh14GjwzgF9Xbt1P6nF6_DVncYevBktfT1FPSSwut4=s64",
      "userId": "11216502560164167954"
     },
     "user_tz": -60
    },
    "id": "KOHdpEwRkg9b"
   },
   "outputs": [],
   "source": [
    "predictions_doge = final_predictions[:,:,0]\n",
    "predictions_samo = final_predictions[:,:,1]"
   ]
  },
  {
   "cell_type": "code",
   "execution_count": 178,
   "metadata": {
    "colab": {
     "base_uri": "https://localhost:8080/"
    },
    "executionInfo": {
     "elapsed": 260,
     "status": "ok",
     "timestamp": 1638204968782,
     "user": {
      "displayName": "DavyDw Pro",
      "photoUrl": "https://lh3.googleusercontent.com/a-/AOh14GjwzgF9Xbt1P6nF6_DVncYevBktfT1FPSSwut4=s64",
      "userId": "11216502560164167954"
     },
     "user_tz": -60
    },
    "id": "26br-Fl3n9al",
    "outputId": "a37a0568-4274-4dc7-880a-7f1c491fadee"
   },
   "outputs": [
    {
     "data": {
      "text/plain": [
       "(384, 6)"
      ]
     },
     "execution_count": 178,
     "metadata": {},
     "output_type": "execute_result"
    }
   ],
   "source": [
    "predictions_doge.shape"
   ]
  },
  {
   "cell_type": "markdown",
   "metadata": {
    "id": "eN2-X4m0IgT-"
   },
   "source": [
    "# Inverse Transform"
   ]
  },
  {
   "cell_type": "code",
   "execution_count": 185,
   "metadata": {
    "colab": {
     "base_uri": "https://localhost:8080/"
    },
    "executionInfo": {
     "elapsed": 57,
     "status": "ok",
     "timestamp": 1638205097068,
     "user": {
      "displayName": "DavyDw Pro",
      "photoUrl": "https://lh3.googleusercontent.com/a-/AOh14GjwzgF9Xbt1P6nF6_DVncYevBktfT1FPSSwut4=s64",
      "userId": "11216502560164167954"
     },
     "user_tz": -60
    },
    "id": "uSPhbgcToUGB",
    "outputId": "a7803d0c-8580-4fd8-e20c-4aee8594fd7c"
   },
   "outputs": [
    {
     "data": {
      "text/plain": [
       "-1.782132928647977"
      ]
     },
     "execution_count": 185,
     "metadata": {},
     "output_type": "execute_result"
    }
   ],
   "source": [
    "min_doge = scaler_doge.data_min_[0]\n",
    "min_doge"
   ]
  },
  {
   "cell_type": "code",
   "execution_count": 186,
   "metadata": {
    "colab": {
     "base_uri": "https://localhost:8080/"
    },
    "executionInfo": {
     "elapsed": 284,
     "status": "ok",
     "timestamp": 1638205100856,
     "user": {
      "displayName": "DavyDw Pro",
      "photoUrl": "https://lh3.googleusercontent.com/a-/AOh14GjwzgF9Xbt1P6nF6_DVncYevBktfT1FPSSwut4=s64",
      "userId": "11216502560164167954"
     },
     "user_tz": -60
    },
    "id": "ha6Es7EdoXu7",
    "outputId": "6d4b6468-44d9-4c03-f36f-b0118de30e91"
   },
   "outputs": [
    {
     "data": {
      "text/plain": [
       "-1.2563300619516968"
      ]
     },
     "execution_count": 186,
     "metadata": {},
     "output_type": "execute_result"
    }
   ],
   "source": [
    "max_doge = scaler_doge.data_max_[0]\n",
    "max_doge"
   ]
  },
  {
   "cell_type": "code",
   "execution_count": 184,
   "metadata": {
    "colab": {
     "base_uri": "https://localhost:8080/"
    },
    "executionInfo": {
     "elapsed": 314,
     "status": "ok",
     "timestamp": 1638205076959,
     "user": {
      "displayName": "DavyDw Pro",
      "photoUrl": "https://lh3.googleusercontent.com/a-/AOh14GjwzgF9Xbt1P6nF6_DVncYevBktfT1FPSSwut4=s64",
      "userId": "11216502560164167954"
     },
     "user_tz": -60
    },
    "id": "jfWj5er19iwm",
    "outputId": "cc97b9e8-31b0-4154-8ea9-5d8c4397e755"
   },
   "outputs": [
    {
     "data": {
      "text/plain": [
       "(384, 6)"
      ]
     },
     "execution_count": 184,
     "metadata": {},
     "output_type": "execute_result"
    }
   ],
   "source": [
    "predictions_doge.shape"
   ]
  },
  {
   "cell_type": "markdown",
   "metadata": {
    "id": "3qJJxK6xovRe"
   },
   "source": [
    "$$ mm_{scaled} = \\frac{x - x_{min}}{x_{max} - x_{min}} $$"
   ]
  },
  {
   "cell_type": "markdown",
   "metadata": {
    "id": "6RMkBXiNo2KA"
   },
   "source": [
    "$$ x = mm_{scaled} * (x_{max} - x_{min}) + x_{min} $$"
   ]
  },
  {
   "cell_type": "code",
   "execution_count": 188,
   "metadata": {
    "colab": {
     "base_uri": "https://localhost:8080/"
    },
    "executionInfo": {
     "elapsed": 370,
     "status": "ok",
     "timestamp": 1638205248028,
     "user": {
      "displayName": "DavyDw Pro",
      "photoUrl": "https://lh3.googleusercontent.com/a-/AOh14GjwzgF9Xbt1P6nF6_DVncYevBktfT1FPSSwut4=s64",
      "userId": "11216502560164167954"
     },
     "user_tz": -60
    },
    "id": "_I0lgKfDocxV",
    "outputId": "10938ead-c6d6-4756-8491-8b843e93bc74"
   },
   "outputs": [
    {
     "data": {
      "text/plain": [
       "array([[-1.4932632, -1.66041  , -1.6463724, -1.6105703, -1.6121085,\n",
       "        -1.4993455],\n",
       "       [-1.4934375, -1.66047  , -1.646481 , -1.6105381, -1.6119863,\n",
       "        -1.4994549],\n",
       "       [-1.4936926, -1.6605839, -1.6465926, -1.6105589, -1.611933 ,\n",
       "        -1.4996238],\n",
       "       ...,\n",
       "       [-1.5629548, -1.6765094, -1.6647174, -1.6121199, -1.6547048,\n",
       "        -1.5389467],\n",
       "       [-1.5632145, -1.6765622, -1.6647805, -1.6122015, -1.6544573,\n",
       "        -1.5390629],\n",
       "       [-1.563497 , -1.676772 , -1.664715 , -1.6124873, -1.6540864,\n",
       "        -1.5393159]], dtype=float32)"
      ]
     },
     "execution_count": 188,
     "metadata": {},
     "output_type": "execute_result"
    }
   ],
   "source": [
    "unscaled_predictions_doge = predictions_doge * (max_doge - min_doge) + min_doge\n",
    "unscaled_predictions_doge"
   ]
  },
  {
   "cell_type": "code",
   "execution_count": 189,
   "metadata": {
    "colab": {
     "base_uri": "https://localhost:8080/"
    },
    "executionInfo": {
     "elapsed": 348,
     "status": "ok",
     "timestamp": 1638205272007,
     "user": {
      "displayName": "DavyDw Pro",
      "photoUrl": "https://lh3.googleusercontent.com/a-/AOh14GjwzgF9Xbt1P6nF6_DVncYevBktfT1FPSSwut4=s64",
      "userId": "11216502560164167954"
     },
     "user_tz": -60
    },
    "id": "E-w_-Jm0pHcZ",
    "outputId": "adeeeee7-8a19-4275-ada6-670423da0cc4"
   },
   "outputs": [
    {
     "data": {
      "text/plain": [
       "array([[0.2246384 , 0.19006103, 0.19274783, 0.19977364, 0.1994666 ,\n",
       "        0.22327626],\n",
       "       [0.22459926, 0.19004962, 0.1927269 , 0.19978008, 0.19949096,\n",
       "        0.22325185],\n",
       "       [0.22454196, 0.190028  , 0.19270541, 0.19977592, 0.1995016 ,\n",
       "        0.22321412],\n",
       "       ...,\n",
       "       [0.20951608, 0.18702567, 0.1892441 , 0.1994643 , 0.19114846,\n",
       "        0.214607  ],\n",
       "       [0.20946167, 0.1870158 , 0.18923219, 0.19944806, 0.19119579,\n",
       "        0.2145821 ],\n",
       "       [0.20940252, 0.18697657, 0.18924457, 0.19939104, 0.19126672,\n",
       "        0.21452782]], dtype=float32)"
      ]
     },
     "execution_count": 189,
     "metadata": {},
     "output_type": "execute_result"
    }
   ],
   "source": [
    "exponentiated_doge = np.exp(unscaled_predictions_doge)\n",
    "exponentiated_doge"
   ]
  },
  {
   "cell_type": "code",
   "execution_count": null,
   "metadata": {
    "id": "Qiv4wv0bIi00"
   },
   "outputs": [],
   "source": [
    "def inverse_transformer(y, scaler):\n",
    "  '''takes a one-dimensional input array (y_test or y_hat) and inverse transforms it.'''\n",
    "  y = np.c_[y, np.ones(len(y))]\n",
    "  y = scaler.inverse_transform(y)\n",
    "  y= y[:,0]\n",
    "  return y"
   ]
  },
  {
   "cell_type": "code",
   "execution_count": null,
   "metadata": {
    "colab": {
     "base_uri": "https://localhost:8080/",
     "height": 605
    },
    "executionInfo": {
     "elapsed": 217,
     "status": "error",
     "timestamp": 1638197545094,
     "user": {
      "displayName": "Garrit Wilson",
      "photoUrl": "https://lh3.googleusercontent.com/a/default-user=s64",
      "userId": "04734008548925883744"
     },
     "user_tz": -60
    },
    "id": "gLvKTZ-f_QNv",
    "outputId": "63a78155-e775-451e-9736-cbb5f827e941"
   },
   "outputs": [
    {
     "ename": "ValueError",
     "evalue": "ignored",
     "output_type": "error",
     "traceback": [
      "\u001b[0;31m---------------------------------------------------------------------------\u001b[0m",
      "\u001b[0;31mValueError\u001b[0m                                Traceback (most recent call last)",
      "\u001b[0;32m<ipython-input-122-b18efb953176>\u001b[0m in \u001b[0;36m<module>\u001b[0;34m()\u001b[0m\n\u001b[1;32m      3\u001b[0m \u001b[0;34m\u001b[0m\u001b[0m\n\u001b[1;32m      4\u001b[0m \u001b[0;34m\u001b[0m\u001b[0m\n\u001b[0;32m----> 5\u001b[0;31m \u001b[0mpredicted_stock_price\u001b[0m \u001b[0;34m=\u001b[0m \u001b[0minverse_transformer\u001b[0m\u001b[0;34m(\u001b[0m\u001b[0mmodel\u001b[0m\u001b[0;34m.\u001b[0m\u001b[0mpredict\u001b[0m\u001b[0;34m(\u001b[0m\u001b[0mX_pad_test\u001b[0m\u001b[0;34m)\u001b[0m\u001b[0;34m,\u001b[0m \u001b[0mscaler_doge\u001b[0m\u001b[0;34m)\u001b[0m\u001b[0;34m\u001b[0m\u001b[0;34m\u001b[0m\u001b[0m\n\u001b[0m",
      "\u001b[0;32m/usr/local/lib/python3.7/dist-packages/keras/utils/traceback_utils.py\u001b[0m in \u001b[0;36merror_handler\u001b[0;34m(*args, **kwargs)\u001b[0m\n\u001b[1;32m     65\u001b[0m     \u001b[0;32mexcept\u001b[0m \u001b[0mException\u001b[0m \u001b[0;32mas\u001b[0m \u001b[0me\u001b[0m\u001b[0;34m:\u001b[0m  \u001b[0;31m# pylint: disable=broad-except\u001b[0m\u001b[0;34m\u001b[0m\u001b[0;34m\u001b[0m\u001b[0m\n\u001b[1;32m     66\u001b[0m       \u001b[0mfiltered_tb\u001b[0m \u001b[0;34m=\u001b[0m \u001b[0m_process_traceback_frames\u001b[0m\u001b[0;34m(\u001b[0m\u001b[0me\u001b[0m\u001b[0;34m.\u001b[0m\u001b[0m__traceback__\u001b[0m\u001b[0;34m)\u001b[0m\u001b[0;34m\u001b[0m\u001b[0;34m\u001b[0m\u001b[0m\n\u001b[0;32m---> 67\u001b[0;31m       \u001b[0;32mraise\u001b[0m \u001b[0me\u001b[0m\u001b[0;34m.\u001b[0m\u001b[0mwith_traceback\u001b[0m\u001b[0;34m(\u001b[0m\u001b[0mfiltered_tb\u001b[0m\u001b[0;34m)\u001b[0m \u001b[0;32mfrom\u001b[0m \u001b[0;32mNone\u001b[0m\u001b[0;34m\u001b[0m\u001b[0;34m\u001b[0m\u001b[0m\n\u001b[0m\u001b[1;32m     68\u001b[0m     \u001b[0;32mfinally\u001b[0m\u001b[0;34m:\u001b[0m\u001b[0;34m\u001b[0m\u001b[0;34m\u001b[0m\u001b[0m\n\u001b[1;32m     69\u001b[0m       \u001b[0;32mdel\u001b[0m \u001b[0mfiltered_tb\u001b[0m\u001b[0;34m\u001b[0m\u001b[0;34m\u001b[0m\u001b[0m\n",
      "\u001b[0;32m/usr/local/lib/python3.7/dist-packages/tensorflow/python/framework/func_graph.py\u001b[0m in \u001b[0;36mautograph_handler\u001b[0;34m(*args, **kwargs)\u001b[0m\n\u001b[1;32m   1127\u001b[0m           \u001b[0;32mexcept\u001b[0m \u001b[0mException\u001b[0m \u001b[0;32mas\u001b[0m \u001b[0me\u001b[0m\u001b[0;34m:\u001b[0m  \u001b[0;31m# pylint:disable=broad-except\u001b[0m\u001b[0;34m\u001b[0m\u001b[0;34m\u001b[0m\u001b[0m\n\u001b[1;32m   1128\u001b[0m             \u001b[0;32mif\u001b[0m \u001b[0mhasattr\u001b[0m\u001b[0;34m(\u001b[0m\u001b[0me\u001b[0m\u001b[0;34m,\u001b[0m \u001b[0;34m\"ag_error_metadata\"\u001b[0m\u001b[0;34m)\u001b[0m\u001b[0;34m:\u001b[0m\u001b[0;34m\u001b[0m\u001b[0;34m\u001b[0m\u001b[0m\n\u001b[0;32m-> 1129\u001b[0;31m               \u001b[0;32mraise\u001b[0m \u001b[0me\u001b[0m\u001b[0;34m.\u001b[0m\u001b[0mag_error_metadata\u001b[0m\u001b[0;34m.\u001b[0m\u001b[0mto_exception\u001b[0m\u001b[0;34m(\u001b[0m\u001b[0me\u001b[0m\u001b[0;34m)\u001b[0m\u001b[0;34m\u001b[0m\u001b[0;34m\u001b[0m\u001b[0m\n\u001b[0m\u001b[1;32m   1130\u001b[0m             \u001b[0;32melse\u001b[0m\u001b[0;34m:\u001b[0m\u001b[0;34m\u001b[0m\u001b[0;34m\u001b[0m\u001b[0m\n\u001b[1;32m   1131\u001b[0m               \u001b[0;32mraise\u001b[0m\u001b[0;34m\u001b[0m\u001b[0;34m\u001b[0m\u001b[0m\n",
      "\u001b[0;31mValueError\u001b[0m: in user code:\n\n    File \"/usr/local/lib/python3.7/dist-packages/keras/engine/training.py\", line 1621, in predict_function  *\n        return step_function(self, iterator)\n    File \"/usr/local/lib/python3.7/dist-packages/keras/engine/training.py\", line 1611, in step_function  **\n        outputs = model.distribute_strategy.run(run_step, args=(data,))\n    File \"/usr/local/lib/python3.7/dist-packages/keras/engine/training.py\", line 1604, in run_step  **\n        outputs = model.predict_step(data)\n    File \"/usr/local/lib/python3.7/dist-packages/keras/engine/training.py\", line 1572, in predict_step\n        return self(x, training=False)\n    File \"/usr/local/lib/python3.7/dist-packages/keras/utils/traceback_utils.py\", line 67, in error_handler\n        raise e.with_traceback(filtered_tb) from None\n    File \"/usr/local/lib/python3.7/dist-packages/keras/engine/input_spec.py\", line 263, in assert_input_compatibility\n        raise ValueError(f'Input {input_index} of layer \"{layer_name}\" is '\n\n    ValueError: Input 0 of layer \"sequential_1\" is incompatible with the layer: expected shape=(None, 1735, 28), found shape=(None, 424, 28)\n"
     ]
    }
   ],
   "source": [
    "real_stock_price_doge = inverse_transformer(y_pad_test[0],scaler_doge)\n",
    "real_stock_price_samo = inverse_transformer(y_pad_test[1],scaler_samo)\n",
    "\n",
    "\n",
    "predicted_stock_price = inverse_transformer(model.predict(X_pad_test), scaler_doge)"
   ]
  },
  {
   "cell_type": "code",
   "execution_count": null,
   "metadata": {
    "colab": {
     "base_uri": "https://localhost:8080/"
    },
    "executionInfo": {
     "elapsed": 208,
     "status": "ok",
     "timestamp": 1638195303557,
     "user": {
      "displayName": "Garrit Wilson",
      "photoUrl": "https://lh3.googleusercontent.com/a/default-user=s64",
      "userId": "04734008548925883744"
     },
     "user_tz": -60
    },
    "id": "0wdwV-_7AOKw",
    "outputId": "2b71d1fb-6b3b-4eb6-89c9-14316265a1cb"
   },
   "outputs": [
    {
     "data": {
      "text/plain": [
       "array([0.24197062, 0.24172319, 0.24043454, 0.24333331, 0.24150567,\n",
       "       0.24033273, 0.24148357, 0.24361593, 0.24441122, 0.244376  ,\n",
       "       0.24763014, 0.24690418, 0.24537234, 0.24808335, 0.24490902,\n",
       "       0.24224358, 0.243218  , 0.24278063, 0.24182562, 0.23777433,\n",
       "       0.23956081, 0.24064378, 0.23736386, 0.23709758, 0.23863447,\n",
       "       0.23834137, 0.23750503, 0.23813729, 0.23847493, 0.23785059,\n",
       "       0.23829816, 0.23647024, 0.23629104, 0.23648822, 0.23682728,\n",
       "       0.23342749, 0.23451334, 0.23430756, 0.23564888, 0.23624131,\n",
       "       0.2364944 , 0.2363959 , 0.23749521, 0.23648024, 0.23445497,\n",
       "       0.24101471, 0.23759193, 0.23647772, 0.2361615 , 0.23534915,\n",
       "       0.23352389, 0.23012467, 0.22613638, 0.21902978, 0.22292838,\n",
       "       0.22261667, 0.22261667, 0.22261667, 0.22261667, 0.22448395,\n",
       "       0.22476254, 0.22650018, 0.22817552, 0.22997623, 0.22738303,\n",
       "       0.22870318, 0.23024204, 0.22808765, 0.22893845, 0.22808788,\n",
       "       0.22725289, 0.22746049, 0.22716153, 0.23028719, 0.23193559,\n",
       "       0.23103569, 0.23007567, 0.22891297, 0.23014456, 0.22885397,\n",
       "       0.22931653, 0.23080789, 0.22834803, 0.23027783, 0.23190596,\n",
       "       0.2312792 , 0.23107047, 0.23163351, 0.2299987 , 0.22979957,\n",
       "       0.22826711, 0.22991392, 0.22434653, 0.22352159, 0.22321348,\n",
       "       0.22482093, 0.226041  , 0.22480593, 0.22361559, 0.21859237,\n",
       "       0.22451096, 0.22479755, 0.2244164 , 0.22716386, 0.22741425,\n",
       "       0.22678317, 0.22734339, 0.2277373 , 0.22511893, 0.22445231,\n",
       "       0.22492511, 0.22425276, 0.22379538, 0.22529003, 0.22579797,\n",
       "       0.22535681, 0.22454971, 0.22621942, 0.2259482 , 0.22548757,\n",
       "       0.22523191, 0.22768479, 0.22706878, 0.22746593, 0.22825567,\n",
       "       0.22682472, 0.22710915, 0.22821217, 0.22887422, 0.22885896,\n",
       "       0.2293249 , 0.22942149, 0.22890656, 0.22945114, 0.2288083 ,\n",
       "       0.22933936, 0.22850045, 0.22906591, 0.22839184, 0.23334544,\n",
       "       0.23318654, 0.22995729, 0.231184  , 0.23044568, 0.231187  ,\n",
       "       0.22895033, 0.22926564, 0.22846786, 0.23036753, 0.22862195,\n",
       "       0.22903144, 0.22905118, 0.22959687, 0.23006242, 0.231145  ,\n",
       "       0.23118216, 0.23005577, 0.22941669, 0.22958204, 0.2308159 ,\n",
       "       0.2304715 , 0.23023178, 0.22993278, 0.23042567, 0.23006285,\n",
       "       0.23028305, 0.22953466, 0.23005097, 0.22934942, 0.22831322,\n",
       "       0.22703414, 0.22709656, 0.22800521, 0.22656436, 0.22833838,\n",
       "       0.22699489, 0.22843334, 0.2277909 , 0.22701782, 0.22363795,\n",
       "       0.2228843 , 0.21992204, 0.21700289, 0.21830002, 0.21906044,\n",
       "       0.21918204, 0.21680185, 0.21697227, 0.21228533, 0.20853136,\n",
       "       0.21095594, 0.2104836 , 0.21261121, 0.21721625, 0.21316767,\n",
       "       0.21423032, 0.21289154, 0.21140977, 0.21058875, 0.20662158,\n",
       "       0.21223945, 0.21321707, 0.21022854, 0.20877345, 0.20770971,\n",
       "       0.20772955, 0.20877071, 0.20755271, 0.20920011, 0.20904948,\n",
       "       0.21156155, 0.20977183, 0.20781514, 0.21192815, 0.21222771,\n",
       "       0.21202324, 0.21243442, 0.20946885, 0.21000004, 0.21233115,\n",
       "       0.21122135, 0.21125853, 0.20934324, 0.21098868, 0.20936065,\n",
       "       0.20992153, 0.21105402, 0.21105402, 0.21105402, 0.21105402,\n",
       "       0.21240492, 0.21316884, 0.21281431, 0.21037025, 0.20960955,\n",
       "       0.2080258 , 0.20792703, 0.20786839, 0.20649811, 0.20621856,\n",
       "       0.20726427, 0.20499041, 0.20320879, 0.2021776 , 0.20075995,\n",
       "       0.19888969, 0.1964282 , 0.19751411, 0.20062178, 0.19963659,\n",
       "       0.19993719, 0.19653178, 0.19474358, 0.19496774, 0.19772764,\n",
       "       0.1943411 , 0.19166586, 0.19193435, 0.19525403, 0.19664075,\n",
       "       0.19623442, 0.19575569, 0.20048183, 0.20042463, 0.19980833,\n",
       "       0.2000038 , 0.20171079, 0.20638678, 0.20640944, 0.20939381,\n",
       "       0.20824445, 0.20787247, 0.20730528, 0.20679651, 0.20622462,\n",
       "       0.20672456, 0.20677279, 0.20754626, 0.20759767, 0.20920752,\n",
       "       0.20811659, 0.20702833, 0.2076857 , 0.20650436, 0.20666615,\n",
       "       0.20657917, 0.20727083, 0.20729242, 0.20670308, 0.20743456,\n",
       "       0.20744005, 0.20676685, 0.20557162, 0.20159648, 0.20131604,\n",
       "       0.20108601, 0.20613249, 0.20536973, 0.20536972, 0.20685727,\n",
       "       0.20791649, 0.20790193, 0.20559681, 0.20547848, 0.20456846,\n",
       "       0.2031497 , 0.20305774, 0.20453251, 0.20473229, 0.20431456,\n",
       "       0.20347602, 0.20396622, 0.20272959, 0.20381325, 0.20400574,\n",
       "       0.2031895 , 0.20324577, 0.20462113, 0.20510024, 0.20380336,\n",
       "       0.20399695, 0.20291276, 0.20428169, 0.20379879, 0.20282559,\n",
       "       0.20277462, 0.19895939, 0.19969129, 0.19860701, 0.19769119,\n",
       "       0.19711841, 0.1975653 , 0.19755913, 0.19823253, 0.19835649,\n",
       "       0.19765298, 0.19805939, 0.19865787, 0.19753055, 0.20090163,\n",
       "       0.19858263, 0.19884905, 0.1986091 , 0.19732188, 0.19470998,\n",
       "       0.19367489, 0.19432807, 0.19603263, 0.19716847, 0.19586696,\n",
       "       0.19626401, 0.19657704, 0.19723034, 0.19847479, 0.19849888,\n",
       "       0.19677056, 0.19571204, 0.19471576, 0.19483374, 0.19418863,\n",
       "       0.20626206, 0.19756785, 0.19799768, 0.20098014, 0.20614229,\n",
       "       0.20478146, 0.20430835, 0.20277294, 0.20143895, 0.2008371 ,\n",
       "       0.20109045, 0.20058641, 0.1997045 , 0.20148778, 0.20100483,\n",
       "       0.20074785, 0.19754556, 0.1981344 , 0.19843065, 0.19840667,\n",
       "       0.1974023 , 0.19663623, 0.19831606, 0.19721626, 0.19470418,\n",
       "       0.19628671, 0.19474203, 0.19292422, 0.19078111, 0.19434649,\n",
       "       0.19199916, 0.1938368 , 0.19309058, 0.19307088, 0.1947041 ,\n",
       "       0.19478206, 0.19391813, 0.19481502, 0.19481502, 0.19481502,\n",
       "       0.19481502, 0.19492302, 0.19578518, 0.19675299, 0.19619719,\n",
       "       0.19424846, 0.19389081, 0.19385969, 0.19440165, 0.19395442,\n",
       "       0.19309619, 0.19536541, 0.19569781, 0.19909398, 0.1976725 ,\n",
       "       0.19906789, 0.19799149, 0.19853473, 0.20111254, 0.20099529,\n",
       "       0.19953416, 0.20021519, 0.19819588, 0.19867494])"
      ]
     },
     "execution_count": 115,
     "metadata": {},
     "output_type": "execute_result"
    }
   ],
   "source": [
    "np.exp(real_stock_price_doge)"
   ]
  },
  {
   "cell_type": "markdown",
   "metadata": {
    "id": "IPsoRZ6FIbJ4"
   },
   "source": [
    "# Inverse Log Transform"
   ]
  },
  {
   "cell_type": "code",
   "execution_count": null,
   "metadata": {
    "id": "bMD4m8MJIbT-"
   },
   "outputs": [],
   "source": [
    "real_stock_price_doge = np.exp(real_stock_price_doge)\n",
    "real_stock_price_samo = np.exp(real_stock_price_samo)\n",
    "\n",
    "#predicted_stock_price = np.exp(predicted_stock_price)\n",
    "\n",
    "#predicted_stock_price.shape"
   ]
  },
  {
   "cell_type": "code",
   "execution_count": null,
   "metadata": {
    "id": "1zvQYbIp46-m"
   },
   "outputs": [],
   "source": []
  },
  {
   "cell_type": "markdown",
   "metadata": {
    "id": "9zbtqDkQIsFi"
   },
   "source": [
    "# Evaluate"
   ]
  },
  {
   "cell_type": "code",
   "execution_count": null,
   "metadata": {
    "colab": {
     "base_uri": "https://localhost:8080/",
     "height": 476
    },
    "executionInfo": {
     "elapsed": 647,
     "status": "ok",
     "timestamp": 1637945847226,
     "user": {
      "displayName": "Garrit Wilson",
      "photoUrl": "https://lh3.googleusercontent.com/a/default-user=s64",
      "userId": "04734008548925883744"
     },
     "user_tz": -60
    },
    "id": "96hv9_sWxkuk",
    "outputId": "0e4a4818-3dc3-43e5-8de5-0569ad737098"
   },
   "outputs": [
    {
     "name": "stdout",
     "output_type": "stream",
     "text": [
      "RMSE = 0.006987121585922938\n"
     ]
    },
    {
     "data": {
      "image/png": "[encoded data removed]",
      "text/plain": [
       "<Figure size 1080x504 with 1 Axes>"
      ]
     },
     "metadata": {
      "needs_background": "light"
     },
     "output_type": "display_data"
    }
   ],
   "source": [
    "rmse = np.sqrt(mean_squared_error(real_stock_price, predicted_stock_price))\n",
    "\n",
    "print(f\"RMSE = {rmse}\")\n",
    "\n",
    "plt.figure(figsize= (15,7))\n",
    "plt.plot(real_stock_price, color = 'blue', label = \"Real Price\")\n",
    "plt.plot(predicted_stock_price, color = 'red', label = \"Predicted Price\")\n",
    "plt.title(\"Dogecoin Price Prediction\")\n",
    "plt.xlabel(\"Time\")\n",
    "plt.ylabel(\"Dogecoin Price\")\n",
    "plt.legend()\n",
    "\n",
    "plt.show()"
   ]
  },
  {
   "cell_type": "markdown",
   "metadata": {
    "id": "WETr6hj7KduS"
   },
   "source": [
    "# Notes on different model performances"
   ]
  },
  {
   "cell_type": "code",
   "execution_count": null,
   "metadata": {
    "colab": {
     "base_uri": "https://localhost:8080/",
     "height": 457
    },
    "executionInfo": {
     "elapsed": 3,
     "status": "ok",
     "timestamp": 1637945847521,
     "user": {
      "displayName": "Garrit Wilson",
      "photoUrl": "https://lh3.googleusercontent.com/a/default-user=s64",
      "userId": "04734008548925883744"
     },
     "user_tz": -60
    },
    "id": "pX7ar8prKgfE",
    "outputId": "37d17ec4-88e1-4b82-88ce-3ff518d41c28"
   },
   "outputs": [
    {
     "data": {
      "text/html": [
       "<div>\n",
       "<style scoped>\n",
       "    .dataframe tbody tr th:only-of-type {\n",
       "        vertical-align: middle;\n",
       "    }\n",
       "\n",
       "    .dataframe tbody tr th {\n",
       "        vertical-align: top;\n",
       "    }\n",
       "\n",
       "    .dataframe thead th {\n",
       "        text-align: right;\n",
       "    }\n",
       "</style>\n",
       "<table border=\"1\" class=\"dataframe\">\n",
       "  <thead>\n",
       "    <tr style=\"text-align: right;\">\n",
       "      <th></th>\n",
       "      <th>optimizer</th>\n",
       "      <th>loss</th>\n",
       "      <th>history_size</th>\n",
       "      <th>epochs</th>\n",
       "      <th>layer0</th>\n",
       "      <th>layer1</th>\n",
       "      <th>layer2</th>\n",
       "      <th>layer3</th>\n",
       "      <th>layer4</th>\n",
       "      <th>layer5</th>\n",
       "      <th>output</th>\n",
       "      <th>batch_size</th>\n",
       "      <th>rmse</th>\n",
       "    </tr>\n",
       "  </thead>\n",
       "  <tbody>\n",
       "    <tr>\n",
       "      <th>0</th>\n",
       "      <td>adam</td>\n",
       "      <td>mse</td>\n",
       "      <td>14</td>\n",
       "      <td>500</td>\n",
       "      <td>50</td>\n",
       "      <td>10</td>\n",
       "      <td>10</td>\n",
       "      <td>0</td>\n",
       "      <td>0</td>\n",
       "      <td>0</td>\n",
       "      <td>1</td>\n",
       "      <td>32</td>\n",
       "      <td>0.051</td>\n",
       "    </tr>\n",
       "    <tr>\n",
       "      <th>1</th>\n",
       "      <td>adam</td>\n",
       "      <td>mse</td>\n",
       "      <td>14</td>\n",
       "      <td>500</td>\n",
       "      <td>50</td>\n",
       "      <td>20</td>\n",
       "      <td>10</td>\n",
       "      <td>0</td>\n",
       "      <td>0</td>\n",
       "      <td>0</td>\n",
       "      <td>1</td>\n",
       "      <td>32</td>\n",
       "      <td>0.037</td>\n",
       "    </tr>\n",
       "    <tr>\n",
       "      <th>2</th>\n",
       "      <td>adam</td>\n",
       "      <td>mse</td>\n",
       "      <td>3</td>\n",
       "      <td>500</td>\n",
       "      <td>50</td>\n",
       "      <td>20</td>\n",
       "      <td>10</td>\n",
       "      <td>0</td>\n",
       "      <td>0</td>\n",
       "      <td>0</td>\n",
       "      <td>1</td>\n",
       "      <td>32</td>\n",
       "      <td>0.017</td>\n",
       "    </tr>\n",
       "    <tr>\n",
       "      <th>3</th>\n",
       "      <td>adam</td>\n",
       "      <td>mse</td>\n",
       "      <td>3</td>\n",
       "      <td>500</td>\n",
       "      <td>50</td>\n",
       "      <td>20</td>\n",
       "      <td>20</td>\n",
       "      <td>10</td>\n",
       "      <td>0</td>\n",
       "      <td>0</td>\n",
       "      <td>1</td>\n",
       "      <td>32</td>\n",
       "      <td>0.018</td>\n",
       "    </tr>\n",
       "    <tr>\n",
       "      <th>4</th>\n",
       "      <td>adam</td>\n",
       "      <td>mse</td>\n",
       "      <td>2</td>\n",
       "      <td>500</td>\n",
       "      <td>50</td>\n",
       "      <td>50</td>\n",
       "      <td>10</td>\n",
       "      <td>0</td>\n",
       "      <td>0</td>\n",
       "      <td>0</td>\n",
       "      <td>1</td>\n",
       "      <td>32</td>\n",
       "      <td>0.014</td>\n",
       "    </tr>\n",
       "    <tr>\n",
       "      <th>5</th>\n",
       "      <td>adam</td>\n",
       "      <td>mse</td>\n",
       "      <td>1</td>\n",
       "      <td>500</td>\n",
       "      <td>50</td>\n",
       "      <td>50</td>\n",
       "      <td>10</td>\n",
       "      <td>0</td>\n",
       "      <td>0</td>\n",
       "      <td>0</td>\n",
       "      <td>1</td>\n",
       "      <td>32</td>\n",
       "      <td>0.021</td>\n",
       "    </tr>\n",
       "    <tr>\n",
       "      <th>6</th>\n",
       "      <td>adam</td>\n",
       "      <td>mse</td>\n",
       "      <td>2</td>\n",
       "      <td>500</td>\n",
       "      <td>50</td>\n",
       "      <td>0</td>\n",
       "      <td>0</td>\n",
       "      <td>0</td>\n",
       "      <td>0</td>\n",
       "      <td>0</td>\n",
       "      <td>1</td>\n",
       "      <td>32</td>\n",
       "      <td>0.020</td>\n",
       "    </tr>\n",
       "    <tr>\n",
       "      <th>7</th>\n",
       "      <td>adam</td>\n",
       "      <td>mse</td>\n",
       "      <td>2</td>\n",
       "      <td>500</td>\n",
       "      <td>50</td>\n",
       "      <td>50</td>\n",
       "      <td>50</td>\n",
       "      <td>0</td>\n",
       "      <td>0</td>\n",
       "      <td>0</td>\n",
       "      <td>1</td>\n",
       "      <td>32</td>\n",
       "      <td>0.023</td>\n",
       "    </tr>\n",
       "    <tr>\n",
       "      <th>8</th>\n",
       "      <td>adam</td>\n",
       "      <td>mse</td>\n",
       "      <td>2</td>\n",
       "      <td>500</td>\n",
       "      <td>50</td>\n",
       "      <td>20</td>\n",
       "      <td>0</td>\n",
       "      <td>0</td>\n",
       "      <td>0</td>\n",
       "      <td>0</td>\n",
       "      <td>1</td>\n",
       "      <td>32</td>\n",
       "      <td>NaN</td>\n",
       "    </tr>\n",
       "    <tr>\n",
       "      <th>9</th>\n",
       "      <td>adam</td>\n",
       "      <td>mse</td>\n",
       "      <td>2</td>\n",
       "      <td>500</td>\n",
       "      <td>50</td>\n",
       "      <td>20</td>\n",
       "      <td>10</td>\n",
       "      <td>0</td>\n",
       "      <td>0</td>\n",
       "      <td>0</td>\n",
       "      <td>1</td>\n",
       "      <td>32</td>\n",
       "      <td>0.023</td>\n",
       "    </tr>\n",
       "    <tr>\n",
       "      <th>10</th>\n",
       "      <td>rmsprop</td>\n",
       "      <td>mse</td>\n",
       "      <td>2</td>\n",
       "      <td>500</td>\n",
       "      <td>50</td>\n",
       "      <td>50</td>\n",
       "      <td>10</td>\n",
       "      <td>0</td>\n",
       "      <td>0</td>\n",
       "      <td>0</td>\n",
       "      <td>1</td>\n",
       "      <td>32</td>\n",
       "      <td>NaN</td>\n",
       "    </tr>\n",
       "    <tr>\n",
       "      <th>11</th>\n",
       "      <td>rmsprop</td>\n",
       "      <td>mse</td>\n",
       "      <td>2</td>\n",
       "      <td>500</td>\n",
       "      <td>100</td>\n",
       "      <td>10</td>\n",
       "      <td>0</td>\n",
       "      <td>0</td>\n",
       "      <td>0</td>\n",
       "      <td>0</td>\n",
       "      <td>1</td>\n",
       "      <td>32</td>\n",
       "      <td>0.020</td>\n",
       "    </tr>\n",
       "    <tr>\n",
       "      <th>12</th>\n",
       "      <td>adam</td>\n",
       "      <td>mse</td>\n",
       "      <td>2</td>\n",
       "      <td>500</td>\n",
       "      <td>100</td>\n",
       "      <td>10</td>\n",
       "      <td>0</td>\n",
       "      <td>0</td>\n",
       "      <td>0</td>\n",
       "      <td>0</td>\n",
       "      <td>1</td>\n",
       "      <td>32</td>\n",
       "      <td>0.022</td>\n",
       "    </tr>\n",
       "  </tbody>\n",
       "</table>\n",
       "</div>"
      ],
      "text/plain": [
       "   optimizer loss  history_size  epochs  ...  layer5  output  batch_size   rmse\n",
       "0       adam  mse            14     500  ...       0       1          32  0.051\n",
       "1       adam  mse            14     500  ...       0       1          32  0.037\n",
       "2       adam  mse             3     500  ...       0       1          32  0.017\n",
       "3       adam  mse             3     500  ...       0       1          32  0.018\n",
       "4       adam  mse             2     500  ...       0       1          32  0.014\n",
       "5       adam  mse             1     500  ...       0       1          32  0.021\n",
       "6       adam  mse             2     500  ...       0       1          32  0.020\n",
       "7       adam  mse             2     500  ...       0       1          32  0.023\n",
       "8       adam  mse             2     500  ...       0       1          32    NaN\n",
       "9       adam  mse             2     500  ...       0       1          32  0.023\n",
       "10   rmsprop  mse             2     500  ...       0       1          32    NaN\n",
       "11   rmsprop  mse             2     500  ...       0       1          32  0.020\n",
       "12      adam  mse             2     500  ...       0       1          32  0.022\n",
       "\n",
       "[13 rows x 13 columns]"
      ]
     },
     "execution_count": 185,
     "metadata": {},
     "output_type": "execute_result"
    }
   ],
   "source": [
    "eval_dict = {\"optimizer\": [\"adam\",\"adam\",\"adam\",\"adam\",\"adam\",\"adam\",\"adam\",\"adam\",\"adam\", \"adam\", \"rmsprop\", \"rmsprop\", \"adam\"],\n",
    "             \"loss\": [\"mse\",\"mse\",\"mse\",\"mse\",\"mse\",\"mse\",\"mse\",\"mse\",\"mse\", \"mse\", \"mse\", \"mse\", \"mse\"],\n",
    "              \"history_size\": [14, 14, 3, 3, 2, 1, 2, 2, 2, 2, 2, 2, 2],\n",
    "             \"epochs\": [500, 500, 500, 500, 500, 500, 500, 500, 500, 500, 500, 500, 500],\n",
    "             \"layer0\": [50,50,50,50,50,50, 50, 50, 50, 50, 50, 100, 100],\n",
    "            \"layer1\": [10, 20, 20, 20, 50, 50, 0, 50, 20, 20, 50, 10, 10],\n",
    "           \"layer2\": [10, 10, 10, 20, 10, 10, 0, 50, 0, 10, 10, 0, 0],\n",
    "           \"layer3\": [0, 0, 0, 10, 0, 0, 0, 0, 0, 0, 0, 0, 0],\n",
    "           \"layer4\": [0, 0, 0, 0, 0, 0, 0, 0, 0, 0, 0, 0, 0],\n",
    "           \"layer5\": [0, 0, 0, 0, 0, 0,0, 0, 0, 0, 0, 0, 0],\n",
    "            \"output\": [1, 1, 1, 1, 1, 1, 1, 1, 1, 1, 1, 1, 1],\n",
    "             \"batch_size\": [32,32,32,32,32,32,32,32,32,32,32,32,32],\n",
    "           \"rmse\": [0.051, 0.037, 0.017, 0.018, 0.014, 0.021, 0.020, 0.023, np.NaN, 0.023, np.NaN, 0.020, 0.022]}\n",
    "\n",
    "eval_df = pd.DataFrame.from_dict(eval_dict)\n",
    "\n",
    "#for k,v in eval_dict.items():\n",
    "  #print(f\"{k} : {len(v)}\")\n",
    "\n",
    "eval_df"
   ]
  },
  {
   "cell_type": "code",
   "execution_count": null,
   "metadata": {
    "colab": {
     "base_uri": "https://localhost:8080/",
     "height": 206
    },
    "executionInfo": {
     "elapsed": 18,
     "status": "ok",
     "timestamp": 1637945714695,
     "user": {
      "displayName": "Garrit Wilson",
      "photoUrl": "https://lh3.googleusercontent.com/a/default-user=s64",
      "userId": "04734008548925883744"
     },
     "user_tz": -60
    },
    "id": "daEMhsJwaWtu",
    "outputId": "dd8c9236-0b44-4d3e-fd13-6076b892a4da"
   },
   "outputs": [
    {
     "data": {
      "text/html": [
       "<div>\n",
       "<style scoped>\n",
       "    .dataframe tbody tr th:only-of-type {\n",
       "        vertical-align: middle;\n",
       "    }\n",
       "\n",
       "    .dataframe tbody tr th {\n",
       "        vertical-align: top;\n",
       "    }\n",
       "\n",
       "    .dataframe thead th {\n",
       "        text-align: right;\n",
       "    }\n",
       "</style>\n",
       "<table border=\"1\" class=\"dataframe\">\n",
       "  <thead>\n",
       "    <tr style=\"text-align: right;\">\n",
       "      <th></th>\n",
       "      <th>price</th>\n",
       "      <th>Google_Trends</th>\n",
       "    </tr>\n",
       "  </thead>\n",
       "  <tbody>\n",
       "    <tr>\n",
       "      <th>2021-08-28 00:00:00</th>\n",
       "      <td>-1.390250</td>\n",
       "      <td>-1.0</td>\n",
       "    </tr>\n",
       "    <tr>\n",
       "      <th>2021-08-28 01:00:00</th>\n",
       "      <td>-1.373264</td>\n",
       "      <td>-1.0</td>\n",
       "    </tr>\n",
       "    <tr>\n",
       "      <th>2021-08-28 02:00:00</th>\n",
       "      <td>-1.384719</td>\n",
       "      <td>-1.0</td>\n",
       "    </tr>\n",
       "    <tr>\n",
       "      <th>2021-08-28 03:00:00</th>\n",
       "      <td>-1.394196</td>\n",
       "      <td>-1.0</td>\n",
       "    </tr>\n",
       "    <tr>\n",
       "      <th>2021-08-28 04:00:00</th>\n",
       "      <td>-1.396323</td>\n",
       "      <td>-1.0</td>\n",
       "    </tr>\n",
       "  </tbody>\n",
       "</table>\n",
       "</div>"
      ],
      "text/plain": [
       "                        price  Google_Trends\n",
       "2021-08-28 00:00:00 -1.390250           -1.0\n",
       "2021-08-28 01:00:00 -1.373264           -1.0\n",
       "2021-08-28 02:00:00 -1.384719           -1.0\n",
       "2021-08-28 03:00:00 -1.394196           -1.0\n",
       "2021-08-28 04:00:00 -1.396323           -1.0"
      ]
     },
     "execution_count": 173,
     "metadata": {},
     "output_type": "execute_result"
    }
   ],
   "source": [
    "df_final.head()"
   ]
  },
  {
   "cell_type": "code",
   "execution_count": null,
   "metadata": {
    "colab": {
     "base_uri": "https://localhost:8080/",
     "height": 488
    },
    "executionInfo": {
     "elapsed": 18,
     "status": "ok",
     "timestamp": 1637945714696,
     "user": {
      "displayName": "Garrit Wilson",
      "photoUrl": "https://lh3.googleusercontent.com/a/default-user=s64",
      "userId": "04734008548925883744"
     },
     "user_tz": -60
    },
    "id": "Gt68pUaHcyPg",
    "outputId": "7e90b6de-a959-44b4-8d7a-9b3fce3c7408"
   },
   "outputs": [
    {
     "data": {
      "text/html": [
       "<div>\n",
       "<style scoped>\n",
       "    .dataframe tbody tr th:only-of-type {\n",
       "        vertical-align: middle;\n",
       "    }\n",
       "\n",
       "    .dataframe tbody tr th {\n",
       "        vertical-align: top;\n",
       "    }\n",
       "\n",
       "    .dataframe thead th {\n",
       "        text-align: right;\n",
       "    }\n",
       "</style>\n",
       "<table border=\"1\" class=\"dataframe\">\n",
       "  <thead>\n",
       "    <tr style=\"text-align: right;\">\n",
       "      <th></th>\n",
       "      <th>high</th>\n",
       "      <th>Google_trends</th>\n",
       "    </tr>\n",
       "  </thead>\n",
       "  <tbody>\n",
       "    <tr>\n",
       "      <th>0</th>\n",
       "      <td>0.623125</td>\n",
       "      <td>0.722772</td>\n",
       "    </tr>\n",
       "    <tr>\n",
       "      <th>1</th>\n",
       "      <td>0.640528</td>\n",
       "      <td>0.693069</td>\n",
       "    </tr>\n",
       "    <tr>\n",
       "      <th>2</th>\n",
       "      <td>0.651518</td>\n",
       "      <td>0.623762</td>\n",
       "    </tr>\n",
       "    <tr>\n",
       "      <th>3</th>\n",
       "      <td>0.647062</td>\n",
       "      <td>0.574257</td>\n",
       "    </tr>\n",
       "    <tr>\n",
       "      <th>4</th>\n",
       "      <td>0.648080</td>\n",
       "      <td>1.000000</td>\n",
       "    </tr>\n",
       "    <tr>\n",
       "      <th>5</th>\n",
       "      <td>0.750242</td>\n",
       "      <td>0.841584</td>\n",
       "    </tr>\n",
       "    <tr>\n",
       "      <th>6</th>\n",
       "      <td>0.772567</td>\n",
       "      <td>0.841584</td>\n",
       "    </tr>\n",
       "    <tr>\n",
       "      <th>7</th>\n",
       "      <td>0.733399</td>\n",
       "      <td>0.663366</td>\n",
       "    </tr>\n",
       "    <tr>\n",
       "      <th>8</th>\n",
       "      <td>0.718805</td>\n",
       "      <td>0.683168</td>\n",
       "    </tr>\n",
       "    <tr>\n",
       "      <th>9</th>\n",
       "      <td>0.714355</td>\n",
       "      <td>0.673267</td>\n",
       "    </tr>\n",
       "    <tr>\n",
       "      <th>10</th>\n",
       "      <td>0.691785</td>\n",
       "      <td>0.653465</td>\n",
       "    </tr>\n",
       "    <tr>\n",
       "      <th>11</th>\n",
       "      <td>0.674956</td>\n",
       "      <td>0.663366</td>\n",
       "    </tr>\n",
       "    <tr>\n",
       "      <th>12</th>\n",
       "      <td>0.679194</td>\n",
       "      <td>0.693069</td>\n",
       "    </tr>\n",
       "    <tr>\n",
       "      <th>13</th>\n",
       "      <td>0.701493</td>\n",
       "      <td>0.712871</td>\n",
       "    </tr>\n",
       "  </tbody>\n",
       "</table>\n",
       "</div>"
      ],
      "text/plain": [
       "        high  Google_trends\n",
       "0   0.623125       0.722772\n",
       "1   0.640528       0.693069\n",
       "2   0.651518       0.623762\n",
       "3   0.647062       0.574257\n",
       "4   0.648080       1.000000\n",
       "5   0.750242       0.841584\n",
       "6   0.772567       0.841584\n",
       "7   0.733399       0.663366\n",
       "8   0.718805       0.683168\n",
       "9   0.714355       0.673267\n",
       "10  0.691785       0.653465\n",
       "11  0.674956       0.663366\n",
       "12  0.679194       0.693069\n",
       "13  0.701493       0.712871"
      ]
     },
     "execution_count": 174,
     "metadata": {},
     "output_type": "execute_result"
    }
   ],
   "source": [
    "df_pred = pd.DataFrame(X_test[0], columns= [\"high\", \"Google_trends\"])\n",
    "df_pred"
   ]
  },
  {
   "cell_type": "code",
   "execution_count": null,
   "metadata": {
    "id": "VHDIkR-GNVr_"
   },
   "outputs": [],
   "source": [
    "def preprocess(df, scaler):\n",
    "    \"\"\"method that pre-process the data\"\"\"\n",
    "\n",
    "    # log transforming the data\n",
    "    df[\"high\"] = np.log(df[\"high\"])\n",
    "\n",
    "    # selecting relevant column from df\n",
    "    dataset = df.values\n",
    "\n",
    "    # scaling the data\n",
    "    dataset_scaled = scaler.fit_transform(dataset)\n",
    "\n",
    "    dataset_scaled = dataset_scaled.reshape(1,dataset.shape[0],dataset.shape[1])\n",
    "\n",
    "    return dataset_scaled, scaler\n",
    "\n",
    "\n",
    "def inverse_scaler(pred, scaler):\n",
    "\n",
    "  pred = inverse_transformer(pred)\n",
    "\n",
    "  pred = np.exp(pred)\n",
    "\n",
    "  return pred"
   ]
  },
  {
   "cell_type": "code",
   "execution_count": null,
   "metadata": {
    "id": "inOyBVSOkKrc"
   },
   "outputs": [],
   "source": [
    "df_pred_preproc, scaler = preprocess(df_pred, scaler)"
   ]
  },
  {
   "cell_type": "code",
   "execution_count": null,
   "metadata": {
    "colab": {
     "base_uri": "https://localhost:8080/",
     "height": 217
    },
    "executionInfo": {
     "elapsed": 17,
     "status": "error",
     "timestamp": 1637945714697,
     "user": {
      "displayName": "Garrit Wilson",
      "photoUrl": "https://lh3.googleusercontent.com/a/default-user=s64",
      "userId": "04734008548925883744"
     },
     "user_tz": -60
    },
    "id": "Llsx2R8TkRGX",
    "outputId": "01f5219e-ce4f-42c5-bcc6-796d64d1b336"
   },
   "outputs": [
    {
     "ename": "IndexError",
     "evalue": "ignored",
     "output_type": "error",
     "traceback": [
      "\u001b[0;31m---------------------------------------------------------------------------\u001b[0m",
      "\u001b[0;31mIndexError\u001b[0m                                Traceback (most recent call last)",
      "\u001b[0;32m<ipython-input-177-d96fc5c33514>\u001b[0m in \u001b[0;36m<module>\u001b[0;34m()\u001b[0m\n\u001b[1;32m      1\u001b[0m \u001b[0mpred\u001b[0m \u001b[0;34m=\u001b[0m \u001b[0mmodel\u001b[0m\u001b[0;34m.\u001b[0m\u001b[0mpredict\u001b[0m\u001b[0;34m(\u001b[0m\u001b[0mdf_pred_preproc\u001b[0m\u001b[0;34m)\u001b[0m\u001b[0;34m\u001b[0m\u001b[0;34m\u001b[0m\u001b[0m\n\u001b[0;32m----> 2\u001b[0;31m \u001b[0mprediction\u001b[0m \u001b[0;34m=\u001b[0m \u001b[0minverse_scaler\u001b[0m\u001b[0;34m(\u001b[0m\u001b[0mpred\u001b[0m\u001b[0;34m,\u001b[0m \u001b[0mscaler\u001b[0m\u001b[0;34m)\u001b[0m\u001b[0;34m[\u001b[0m\u001b[0;36m0\u001b[0m\u001b[0;34m]\u001b[0m\u001b[0;34m[\u001b[0m\u001b[0;36m0\u001b[0m\u001b[0;34m]\u001b[0m\u001b[0;34m\u001b[0m\u001b[0;34m\u001b[0m\u001b[0m\n\u001b[0m\u001b[1;32m      3\u001b[0m \u001b[0;34m\u001b[0m\u001b[0m\n\u001b[1;32m      4\u001b[0m \u001b[0mprediction\u001b[0m\u001b[0;34m\u001b[0m\u001b[0;34m\u001b[0m\u001b[0m\n",
      "\u001b[0;31mIndexError\u001b[0m: invalid index to scalar variable."
     ]
    }
   ],
   "source": [
    "pred = model.predict(df_pred_preproc)\n",
    "prediction = inverse_scaler(pred, scaler)[0][0]\n",
    "\n",
    "prediction"
   ]
  },
  {
   "cell_type": "code",
   "execution_count": null,
   "metadata": {
    "id": "3-qF-_3Uj2Yn"
   },
   "outputs": [],
   "source": [
    "df_pred_preproc.shape"
   ]
  },
  {
   "cell_type": "code",
   "execution_count": null,
   "metadata": {
    "id": "4u1CyNRcdI23"
   },
   "outputs": [],
   "source": [
    "pred = model.predict(df_pred_preproc)[0][0]\n",
    "pred"
   ]
  },
  {
   "cell_type": "code",
   "execution_count": null,
   "metadata": {
    "id": "4LgHP7wPjp7B"
   },
   "outputs": [],
   "source": []
  },
  {
   "cell_type": "markdown",
   "metadata": {
    "id": "vchgMrky-uKx"
   },
   "source": [
    "# Features"
   ]
  },
  {
   "cell_type": "markdown",
   "metadata": {
    "id": "BXcsR92k-wKj"
   },
   "source": [
    "- historical price data\n",
    "- google price data\n",
    "- rendite (calculate daily return)\n",
    "- kumulierte rendite (z.b. letzte 5 Tage)\n",
    "- short term moving average (letzte 10 Tage)\n",
    "- long term moving average (letzte 30 Tage)\n",
    "- alternativ: binäres feature (liegt kurzfristiger MA über langfristigen MA)\n",
    "- talib (financial indicators inkludieren)\n",
    "- talib RSI (relative strength index)\n",
    "- volumen inkludieren\n",
    "\n",
    "- evtl. auf Klassifikationsproblem umsteigen"
   ]
  },
  {
   "cell_type": "code",
   "execution_count": null,
   "metadata": {
    "id": "YUdF_ipZdnND"
   },
   "outputs": [],
   "source": []
  }
 ],
 "metadata": {
  "accelerator": "GPU",
  "colab": {
   "collapsed_sections": [],
   "name": "RNN_Model_Env_DavyDW.ipynb",
   "provenance": [],
   "toc_visible": true
  },
  "kernelspec": {
   "display_name": "Python 3 (ipykernel)",
   "language": "python",
   "name": "python3"
  },
  "language_info": {
   "codemirror_mode": {
    "name": "ipython",
    "version": 3
   },
   "file_extension": ".py",
   "mimetype": "text/x-python",
   "name": "python",
   "nbconvert_exporter": "python",
   "pygments_lexer": "ipython3",
   "version": "3.8.12"
  },
  "toc": {
   "base_numbering": 1,
   "nav_menu": {},
   "number_sections": true,
   "sideBar": true,
   "skip_h1_title": false,
   "title_cell": "Table of Contents",
   "title_sidebar": "Contents",
   "toc_cell": false,
   "toc_position": {},
   "toc_section_display": true,
   "toc_window_display": false
  }
 },
 "nbformat": 4,
 "nbformat_minor": 1
}
