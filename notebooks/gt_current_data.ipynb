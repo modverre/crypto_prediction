{
 "cells": [
  {
   "cell_type": "code",
   "execution_count": null,
   "id": "4115d1d2",
   "metadata": {},
   "outputs": [],
   "source": [
    "from pytrends.request import TrendReq\n",
    "import pandas as pd\n",
    "from datetime import datetime\n",
    "\n",
    "pytrends = TrendReq(hl='en-US', tz=0) # 0 = UCT, 60 = CET"
   ]
  },
  {
   "cell_type": "code",
   "execution_count": null,
   "id": "e9259fc6",
   "metadata": {},
   "outputs": [],
   "source": [
    "# specifies current time as end date of results\n",
    "now = datetime.now().strftime(\"%d/%m/%Y %H:%M:%S\")\n",
    "now_d = int(now[:2])\n",
    "now_m = int(now[3:5])\n",
    "now_y = int(now[6:10])\n",
    "now_h = int(now[11:13])"
   ]
  },
  {
   "cell_type": "code",
   "execution_count": null,
   "id": "d9fe8d0a",
   "metadata": {},
   "outputs": [],
   "source": [
    "# '''list of keywords to get data, in the future, should we have a big list in\n",
    "# a csv we fetch them from? empty list is needed because API works with lists,\n",
    "# and we want to feed it one coin at a time\n",
    "# TO DO: how to get timestamp'''\n",
    "\n",
    "kw_list = ['dogecoin', 'samoyedcoin']\n",
    "coin_list = []\n",
    "data = []\n",
    "\n",
    "for kw in kw_list:\n",
    "    coin_list = [kw]\n",
    "    data.append(pytrends.get_historical_interest(\n",
    "        coin_list, year_start=last_timestamp.year, month_start=last_timestamp.month, day_start=last_timestamp.day,\n",
    "        hour_start=last_timestamp.hour, year_end=now_y, month_end=now_m, day_end=now_d,\n",
    "        hour_end=now_h, cat=0, sleep=0))"
   ]
  },
  {
   "cell_type": "code",
   "execution_count": null,
   "id": "58e3a1c4",
   "metadata": {},
   "outputs": [],
   "source": [
    "# turns data into df\n",
    "\n",
    "df_new = data[0].iloc[:,0]\n",
    "    if len(kw_list) > 1:\n",
    "        for i in range(1,len(kw_list)):\n",
    "            df_new = pd.merge(left=df_new, right=data[i].iloc[:,0], how='outer', on='date')\n",
    "\n",
    "# non-existing values are replaced by 0.25 (avg of 0 & 0.5, the range of values marked as <1 on GT)\n",
    "df_new = df_new.fillna(0.25)\n",
    "\n",
    "# differences in scale between old and new data\n",
    "# TO DO: need to add exception if coin not in list\n",
    "# TO DO: need to communicate with old data to get df\n",
    "for kw in kw_list:\n",
    "    scaler = df[kw].iloc[-1] / df_new[kw].iloc[0]\n",
    "    df_new[kw] = scaler * df_new[kw]\n",
    "\n",
    "# non-existing values are replaced by 0.25\n",
    "#df = df.fillna(0.25)\n",
    "#df = pd.concat([df, df_new.iloc[1:,:]], axis=0)\n",
    "\n",
    "df_new"
   ]
  }
 ],
 "metadata": {
  "kernelspec": {
   "display_name": "Python 3 (ipykernel)",
   "language": "python",
   "name": "python3"
  },
  "language_info": {
   "codemirror_mode": {
    "name": "ipython",
    "version": 3
   },
   "file_extension": ".py",
   "mimetype": "text/x-python",
   "name": "python",
   "nbconvert_exporter": "python",
   "pygments_lexer": "ipython3",
   "version": "3.8.12"
  },
  "toc": {
   "base_numbering": 1,
   "nav_menu": {},
   "number_sections": true,
   "sideBar": true,
   "skip_h1_title": false,
   "title_cell": "Table of Contents",
   "title_sidebar": "Contents",
   "toc_cell": false,
   "toc_position": {},
   "toc_section_display": true,
   "toc_window_display": false
  }
 },
 "nbformat": 4,
 "nbformat_minor": 5
}
