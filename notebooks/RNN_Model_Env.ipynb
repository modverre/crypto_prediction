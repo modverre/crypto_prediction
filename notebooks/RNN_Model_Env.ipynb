{
  "nbformat": 4,
  "nbformat_minor": 0,
  "metadata": {
    "colab": {
      "name": "RNN_Model_Env.ipynb",
      "provenance": [],
      "collapsed_sections": []
    },
    "kernelspec": {
      "name": "python3",
      "display_name": "Python 3"
    },
    "language_info": {
      "name": "python"
    }
  },
  "cells": [
    {
      "cell_type": "markdown",
      "metadata": {
        "id": "8onIoqchOmYN"
      },
      "source": [
        "# RNN Model Development"
      ]
    },
    {
      "cell_type": "code",
      "metadata": {
        "id": "yk6R3jNYOo9q"
      },
      "source": [
        "import pandas as pd\n",
        "import numpy as np\n",
        "import matplotlib.pyplot as plt\n",
        "\n",
        "from google.colab import drive \n",
        "from tensorflow.keras.models import Sequential\n",
        "from tensorflow.keras.layers import Dense, LSTM, Dropout, Masking\n",
        "from tensorflow.keras.callbacks import EarlyStopping\n",
        "from tensorflow.keras.preprocessing.sequence import pad_sequences\n",
        "\n",
        "from sklearn.preprocessing import MinMaxScaler, RobustScaler\n",
        "from sklearn.model_selection import GridSearchCV, RandomizedSearchCV\n",
        "from sklearn.model_selection import train_test_split\n",
        "from sklearn.metrics import mean_squared_error\n",
        "\n",
        "from datetime import datetime, timedelta\n"
      ],
      "execution_count": 34,
      "outputs": []
    },
    {
      "cell_type": "code",
      "metadata": {
        "colab": {
          "base_uri": "https://localhost:8080/"
        },
        "id": "27UN5WyjbQsI",
        "outputId": "41470017-78e2-45a0-81e5-846cea2e02be"
      },
      "source": [
        "drive.mount('/content/gdrive')"
      ],
      "execution_count": 35,
      "outputs": [
        {
          "output_type": "stream",
          "name": "stdout",
          "text": [
            "Drive already mounted at /content/gdrive; to attempt to forcibly remount, call drive.mount(\"/content/gdrive\", force_remount=True).\n"
          ]
        }
      ]
    },
    {
      "cell_type": "markdown",
      "metadata": {
        "id": "OKPAp3rxFaHt"
      },
      "source": [
        "# Importing Dogecoin data (hrly)"
      ]
    },
    {
      "cell_type": "code",
      "metadata": {
        "id": "iZHsFY8m9Knx"
      },
      "source": [
        "now = datetime.now()\n",
        "\n",
        "def hour_rounder(t):\n",
        "    # Rounds to nearest hour by adding a timedelta hour if minute >= 30\n",
        "    return (t.replace(second=0, microsecond=0, minute=0, hour=t.hour)\n",
        "               +timedelta(hours=t.minute//30))"
      ],
      "execution_count": 36,
      "outputs": []
    },
    {
      "cell_type": "code",
      "metadata": {
        "colab": {
          "base_uri": "https://localhost:8080/",
          "height": 237
        },
        "id": "fmh9Ra-5fktZ",
        "outputId": "deb71f82-dc59-42c9-ec8d-2fe230e55fba"
      },
      "source": [
        "df=pd.read_csv('/content/gdrive/MyDrive/dogecoin_history_1h_2021-08-28T00_00_00Z---2021-11-26T00_00_00Z.csv')\n",
        "df.rename(columns= {\"Unnamed: 0\": \"Date\"}, inplace= True)\n",
        "df[\"datetime\"] = pd.to_datetime(df[\"datetime\"], infer_datetime_format= True)\n",
        "df[\"datetime\"] = df.datetime.apply(lambda x: hour_rounder(x))\n",
        "df = df.set_index(\"datetime\")\n",
        "df.interpolate(method= \"linear\", inplace= True)\n",
        "df.head()"
      ],
      "execution_count": 37,
      "outputs": [
        {
          "output_type": "execute_result",
          "data": {
            "text/html": [
              "<div>\n",
              "<style scoped>\n",
              "    .dataframe tbody tr th:only-of-type {\n",
              "        vertical-align: middle;\n",
              "    }\n",
              "\n",
              "    .dataframe tbody tr th {\n",
              "        vertical-align: top;\n",
              "    }\n",
              "\n",
              "    .dataframe thead th {\n",
              "        text-align: right;\n",
              "    }\n",
              "</style>\n",
              "<table border=\"1\" class=\"dataframe\">\n",
              "  <thead>\n",
              "    <tr style=\"text-align: right;\">\n",
              "      <th></th>\n",
              "      <th>timestamp</th>\n",
              "      <th>price</th>\n",
              "      <th>market_caps</th>\n",
              "      <th>total_volumes</th>\n",
              "    </tr>\n",
              "    <tr>\n",
              "      <th>datetime</th>\n",
              "      <th></th>\n",
              "      <th></th>\n",
              "      <th></th>\n",
              "      <th></th>\n",
              "    </tr>\n",
              "  </thead>\n",
              "  <tbody>\n",
              "    <tr>\n",
              "      <th>2021-08-28 00:00:00</th>\n",
              "      <td>1630108814398</td>\n",
              "      <td>0.249013</td>\n",
              "      <td>3.268233e+10</td>\n",
              "      <td>1.686712e+09</td>\n",
              "    </tr>\n",
              "    <tr>\n",
              "      <th>2021-08-28 01:00:00</th>\n",
              "      <td>1630112407995</td>\n",
              "      <td>0.253279</td>\n",
              "      <td>3.315049e+10</td>\n",
              "      <td>1.703308e+09</td>\n",
              "    </tr>\n",
              "    <tr>\n",
              "      <th>2021-08-28 02:00:00</th>\n",
              "      <td>1630116016592</td>\n",
              "      <td>0.250394</td>\n",
              "      <td>3.279208e+10</td>\n",
              "      <td>1.677961e+09</td>\n",
              "    </tr>\n",
              "    <tr>\n",
              "      <th>2021-08-28 03:00:00</th>\n",
              "      <td>1630119638422</td>\n",
              "      <td>0.248032</td>\n",
              "      <td>3.258069e+10</td>\n",
              "      <td>1.700922e+09</td>\n",
              "    </tr>\n",
              "    <tr>\n",
              "      <th>2021-08-28 04:00:00</th>\n",
              "      <td>1630123200414</td>\n",
              "      <td>0.247505</td>\n",
              "      <td>3.244109e+10</td>\n",
              "      <td>1.657184e+09</td>\n",
              "    </tr>\n",
              "  </tbody>\n",
              "</table>\n",
              "</div>"
            ],
            "text/plain": [
              "                         timestamp     price   market_caps  total_volumes\n",
              "datetime                                                                 \n",
              "2021-08-28 00:00:00  1630108814398  0.249013  3.268233e+10   1.686712e+09\n",
              "2021-08-28 01:00:00  1630112407995  0.253279  3.315049e+10   1.703308e+09\n",
              "2021-08-28 02:00:00  1630116016592  0.250394  3.279208e+10   1.677961e+09\n",
              "2021-08-28 03:00:00  1630119638422  0.248032  3.258069e+10   1.700922e+09\n",
              "2021-08-28 04:00:00  1630123200414  0.247505  3.244109e+10   1.657184e+09"
            ]
          },
          "metadata": {},
          "execution_count": 37
        }
      ]
    },
    {
      "cell_type": "code",
      "metadata": {
        "id": "mubYqWda7qUD"
      },
      "source": [
        "# here comes the import of the second coin"
      ],
      "execution_count": 38,
      "outputs": []
    },
    {
      "cell_type": "code",
      "metadata": {
        "id": "mhFSkKTtfePX",
        "colab": {
          "base_uri": "https://localhost:8080/",
          "height": 237
        },
        "outputId": "2d48043b-c445-44ba-e7fa-f873f24027a8"
      },
      "source": [
        "df2 = pd.read_csv('/content/gdrive/MyDrive/gt_doge_samo_0410-2611')\n",
        "\n",
        "df2[\"date\"] = pd.to_datetime(df2[\"date\"], infer_datetime_format= True)\n",
        "df2 = df2.set_index(\"date\")\n",
        "df2.interpolate(method= \"linear\", inplace= True)\n",
        "df2 = df2[[\"dogecoin\"]]\n",
        "df2.head()"
      ],
      "execution_count": 39,
      "outputs": [
        {
          "output_type": "execute_result",
          "data": {
            "text/html": [
              "<div>\n",
              "<style scoped>\n",
              "    .dataframe tbody tr th:only-of-type {\n",
              "        vertical-align: middle;\n",
              "    }\n",
              "\n",
              "    .dataframe tbody tr th {\n",
              "        vertical-align: top;\n",
              "    }\n",
              "\n",
              "    .dataframe thead th {\n",
              "        text-align: right;\n",
              "    }\n",
              "</style>\n",
              "<table border=\"1\" class=\"dataframe\">\n",
              "  <thead>\n",
              "    <tr style=\"text-align: right;\">\n",
              "      <th></th>\n",
              "      <th>dogecoin</th>\n",
              "    </tr>\n",
              "    <tr>\n",
              "      <th>date</th>\n",
              "      <th></th>\n",
              "    </tr>\n",
              "  </thead>\n",
              "  <tbody>\n",
              "    <tr>\n",
              "      <th>2021-10-04 18:00:00</th>\n",
              "      <td>51</td>\n",
              "    </tr>\n",
              "    <tr>\n",
              "      <th>2021-10-04 19:00:00</th>\n",
              "      <td>56</td>\n",
              "    </tr>\n",
              "    <tr>\n",
              "      <th>2021-10-04 20:00:00</th>\n",
              "      <td>100</td>\n",
              "    </tr>\n",
              "    <tr>\n",
              "      <th>2021-10-04 21:00:00</th>\n",
              "      <td>80</td>\n",
              "    </tr>\n",
              "    <tr>\n",
              "      <th>2021-10-04 22:00:00</th>\n",
              "      <td>65</td>\n",
              "    </tr>\n",
              "  </tbody>\n",
              "</table>\n",
              "</div>"
            ],
            "text/plain": [
              "                     dogecoin\n",
              "date                         \n",
              "2021-10-04 18:00:00        51\n",
              "2021-10-04 19:00:00        56\n",
              "2021-10-04 20:00:00       100\n",
              "2021-10-04 21:00:00        80\n",
              "2021-10-04 22:00:00        65"
            ]
          },
          "metadata": {},
          "execution_count": 39
        }
      ]
    },
    {
      "cell_type": "code",
      "metadata": {
        "id": "6RhxHyqrPqAh",
        "colab": {
          "base_uri": "https://localhost:8080/"
        },
        "outputId": "5503d714-51b8-42f5-9264-c1c969be07ca"
      },
      "source": [
        "df2.shape"
      ],
      "execution_count": 40,
      "outputs": [
        {
          "output_type": "execute_result",
          "data": {
            "text/plain": [
              "(1293, 1)"
            ]
          },
          "metadata": {},
          "execution_count": 40
        }
      ]
    },
    {
      "cell_type": "code",
      "metadata": {
        "id": "75yOs0kZ1CLM"
      },
      "source": [
        "df_final_doge = df[[\"price\"]].join(df2, how= \"outer\")\n",
        "df_final_doge.drop(df_final_doge[df_final_doge.price.isnull()].index, inplace= True)\n",
        "df_final_doge.fillna(-1, inplace= True)"
      ],
      "execution_count": 41,
      "outputs": []
    },
    {
      "cell_type": "code",
      "metadata": {
        "id": "fMCn5hTmjZoR"
      },
      "source": [
        "df_final_doge.rename(columns={\"dogecoin\": \"Google_Trends\"}, inplace= True)"
      ],
      "execution_count": 42,
      "outputs": []
    },
    {
      "cell_type": "code",
      "metadata": {
        "colab": {
          "base_uri": "https://localhost:8080/"
        },
        "id": "Hnn36m-QjlKa",
        "outputId": "db519292-29bf-43ed-ca22-c8f540f27112"
      },
      "source": [
        "df_final_doge.shape"
      ],
      "execution_count": 43,
      "outputs": [
        {
          "output_type": "execute_result",
          "data": {
            "text/plain": [
              "(2187, 2)"
            ]
          },
          "metadata": {},
          "execution_count": 43
        }
      ]
    },
    {
      "cell_type": "code",
      "metadata": {
        "colab": {
          "base_uri": "https://localhost:8080/",
          "height": 488
        },
        "id": "rHnPX3OkjuW4",
        "outputId": "4b57988b-5907-49df-b7b2-809d070742e6"
      },
      "source": [
        "df_final_doge[:14]"
      ],
      "execution_count": 44,
      "outputs": [
        {
          "output_type": "execute_result",
          "data": {
            "text/html": [
              "<div>\n",
              "<style scoped>\n",
              "    .dataframe tbody tr th:only-of-type {\n",
              "        vertical-align: middle;\n",
              "    }\n",
              "\n",
              "    .dataframe tbody tr th {\n",
              "        vertical-align: top;\n",
              "    }\n",
              "\n",
              "    .dataframe thead th {\n",
              "        text-align: right;\n",
              "    }\n",
              "</style>\n",
              "<table border=\"1\" class=\"dataframe\">\n",
              "  <thead>\n",
              "    <tr style=\"text-align: right;\">\n",
              "      <th></th>\n",
              "      <th>price</th>\n",
              "      <th>Google_Trends</th>\n",
              "    </tr>\n",
              "  </thead>\n",
              "  <tbody>\n",
              "    <tr>\n",
              "      <th>2021-08-28 00:00:00</th>\n",
              "      <td>0.249013</td>\n",
              "      <td>-1.0</td>\n",
              "    </tr>\n",
              "    <tr>\n",
              "      <th>2021-08-28 01:00:00</th>\n",
              "      <td>0.253279</td>\n",
              "      <td>-1.0</td>\n",
              "    </tr>\n",
              "    <tr>\n",
              "      <th>2021-08-28 02:00:00</th>\n",
              "      <td>0.250394</td>\n",
              "      <td>-1.0</td>\n",
              "    </tr>\n",
              "    <tr>\n",
              "      <th>2021-08-28 03:00:00</th>\n",
              "      <td>0.248032</td>\n",
              "      <td>-1.0</td>\n",
              "    </tr>\n",
              "    <tr>\n",
              "      <th>2021-08-28 04:00:00</th>\n",
              "      <td>0.247505</td>\n",
              "      <td>-1.0</td>\n",
              "    </tr>\n",
              "    <tr>\n",
              "      <th>2021-08-28 05:00:00</th>\n",
              "      <td>0.248283</td>\n",
              "      <td>-1.0</td>\n",
              "    </tr>\n",
              "    <tr>\n",
              "      <th>2021-08-28 06:00:00</th>\n",
              "      <td>0.246374</td>\n",
              "      <td>-1.0</td>\n",
              "    </tr>\n",
              "    <tr>\n",
              "      <th>2021-08-28 07:00:00</th>\n",
              "      <td>0.245981</td>\n",
              "      <td>-1.0</td>\n",
              "    </tr>\n",
              "    <tr>\n",
              "      <th>2021-08-28 08:00:00</th>\n",
              "      <td>0.244395</td>\n",
              "      <td>-1.0</td>\n",
              "    </tr>\n",
              "    <tr>\n",
              "      <th>2021-08-28 09:00:00</th>\n",
              "      <td>0.244905</td>\n",
              "      <td>-1.0</td>\n",
              "    </tr>\n",
              "    <tr>\n",
              "      <th>2021-08-28 10:00:00</th>\n",
              "      <td>0.246027</td>\n",
              "      <td>-1.0</td>\n",
              "    </tr>\n",
              "    <tr>\n",
              "      <th>2021-08-28 11:00:00</th>\n",
              "      <td>0.244756</td>\n",
              "      <td>-1.0</td>\n",
              "    </tr>\n",
              "    <tr>\n",
              "      <th>2021-08-28 12:00:00</th>\n",
              "      <td>0.243070</td>\n",
              "      <td>-1.0</td>\n",
              "    </tr>\n",
              "    <tr>\n",
              "      <th>2021-08-28 13:00:00</th>\n",
              "      <td>0.245187</td>\n",
              "      <td>-1.0</td>\n",
              "    </tr>\n",
              "  </tbody>\n",
              "</table>\n",
              "</div>"
            ],
            "text/plain": [
              "                        price  Google_Trends\n",
              "2021-08-28 00:00:00  0.249013           -1.0\n",
              "2021-08-28 01:00:00  0.253279           -1.0\n",
              "2021-08-28 02:00:00  0.250394           -1.0\n",
              "2021-08-28 03:00:00  0.248032           -1.0\n",
              "2021-08-28 04:00:00  0.247505           -1.0\n",
              "2021-08-28 05:00:00  0.248283           -1.0\n",
              "2021-08-28 06:00:00  0.246374           -1.0\n",
              "2021-08-28 07:00:00  0.245981           -1.0\n",
              "2021-08-28 08:00:00  0.244395           -1.0\n",
              "2021-08-28 09:00:00  0.244905           -1.0\n",
              "2021-08-28 10:00:00  0.246027           -1.0\n",
              "2021-08-28 11:00:00  0.244756           -1.0\n",
              "2021-08-28 12:00:00  0.243070           -1.0\n",
              "2021-08-28 13:00:00  0.245187           -1.0"
            ]
          },
          "metadata": {},
          "execution_count": 44
        }
      ]
    },
    {
      "cell_type": "markdown",
      "metadata": {
        "id": "qkwsc-57Fjem"
      },
      "source": [
        "# Importing Samoyedcoin data"
      ]
    },
    {
      "cell_type": "code",
      "metadata": {
        "colab": {
          "base_uri": "https://localhost:8080/",
          "height": 237
        },
        "id": "PJ3rCwIPFnOm",
        "outputId": "cbd4b074-d0d0-4acb-9500-aa562ced5686"
      },
      "source": [
        "df_s=pd.read_csv('/content/gdrive/MyDrive/samoyedcoin_history_1h_2021-08-28T00_00_00Z---2021-11-26T00_00_00Z.csv')\n",
        "df_s[\"datetime\"] = pd.to_datetime(df_s[\"datetime\"], infer_datetime_format= True)\n",
        "df_s[\"datetime\"] = df_s.datetime.apply(lambda x: hour_rounder(x))\n",
        "df_s = df_s.set_index(\"datetime\")\n",
        "df_s.interpolate(method= \"linear\", inplace= True)\n",
        "#df_s.rename(columns= {\"price\": \"samoyedcoin\"})\n",
        "df_s = df_s[[\"price\"]]\n",
        "df_s.head()\n"
      ],
      "execution_count": 45,
      "outputs": [
        {
          "output_type": "execute_result",
          "data": {
            "text/html": [
              "<div>\n",
              "<style scoped>\n",
              "    .dataframe tbody tr th:only-of-type {\n",
              "        vertical-align: middle;\n",
              "    }\n",
              "\n",
              "    .dataframe tbody tr th {\n",
              "        vertical-align: top;\n",
              "    }\n",
              "\n",
              "    .dataframe thead th {\n",
              "        text-align: right;\n",
              "    }\n",
              "</style>\n",
              "<table border=\"1\" class=\"dataframe\">\n",
              "  <thead>\n",
              "    <tr style=\"text-align: right;\">\n",
              "      <th></th>\n",
              "      <th>price</th>\n",
              "    </tr>\n",
              "    <tr>\n",
              "      <th>datetime</th>\n",
              "      <th></th>\n",
              "    </tr>\n",
              "  </thead>\n",
              "  <tbody>\n",
              "    <tr>\n",
              "      <th>2021-08-28 00:00:00</th>\n",
              "      <td>0.004132</td>\n",
              "    </tr>\n",
              "    <tr>\n",
              "      <th>2021-08-28 01:00:00</th>\n",
              "      <td>0.004122</td>\n",
              "    </tr>\n",
              "    <tr>\n",
              "      <th>2021-08-28 02:00:00</th>\n",
              "      <td>0.004105</td>\n",
              "    </tr>\n",
              "    <tr>\n",
              "      <th>2021-08-28 03:00:00</th>\n",
              "      <td>0.004155</td>\n",
              "    </tr>\n",
              "    <tr>\n",
              "      <th>2021-08-28 04:00:00</th>\n",
              "      <td>0.004198</td>\n",
              "    </tr>\n",
              "  </tbody>\n",
              "</table>\n",
              "</div>"
            ],
            "text/plain": [
              "                        price\n",
              "datetime                     \n",
              "2021-08-28 00:00:00  0.004132\n",
              "2021-08-28 01:00:00  0.004122\n",
              "2021-08-28 02:00:00  0.004105\n",
              "2021-08-28 03:00:00  0.004155\n",
              "2021-08-28 04:00:00  0.004198"
            ]
          },
          "metadata": {},
          "execution_count": 45
        }
      ]
    },
    {
      "cell_type": "code",
      "metadata": {
        "colab": {
          "base_uri": "https://localhost:8080/",
          "height": 237
        },
        "id": "4MtAccGjGTT9",
        "outputId": "64638748-c313-45f6-9351-5ee5248c38ae"
      },
      "source": [
        "df2 = pd.read_csv('/content/gdrive/MyDrive/gt_doge_samo_0410-2611')\n",
        "df2[\"date\"] = pd.to_datetime(df2[\"date\"], infer_datetime_format= True)\n",
        "df2 = df2.set_index(\"date\")\n",
        "df2.interpolate(method= \"linear\", inplace= True)\n",
        "df2 = df2[[\"samoyedcoin\"]]\n",
        "df2.head()"
      ],
      "execution_count": 46,
      "outputs": [
        {
          "output_type": "execute_result",
          "data": {
            "text/html": [
              "<div>\n",
              "<style scoped>\n",
              "    .dataframe tbody tr th:only-of-type {\n",
              "        vertical-align: middle;\n",
              "    }\n",
              "\n",
              "    .dataframe tbody tr th {\n",
              "        vertical-align: top;\n",
              "    }\n",
              "\n",
              "    .dataframe thead th {\n",
              "        text-align: right;\n",
              "    }\n",
              "</style>\n",
              "<table border=\"1\" class=\"dataframe\">\n",
              "  <thead>\n",
              "    <tr style=\"text-align: right;\">\n",
              "      <th></th>\n",
              "      <th>samoyedcoin</th>\n",
              "    </tr>\n",
              "    <tr>\n",
              "      <th>date</th>\n",
              "      <th></th>\n",
              "    </tr>\n",
              "  </thead>\n",
              "  <tbody>\n",
              "    <tr>\n",
              "      <th>2021-10-04 18:00:00</th>\n",
              "      <td>0</td>\n",
              "    </tr>\n",
              "    <tr>\n",
              "      <th>2021-10-04 19:00:00</th>\n",
              "      <td>0</td>\n",
              "    </tr>\n",
              "    <tr>\n",
              "      <th>2021-10-04 20:00:00</th>\n",
              "      <td>0</td>\n",
              "    </tr>\n",
              "    <tr>\n",
              "      <th>2021-10-04 21:00:00</th>\n",
              "      <td>0</td>\n",
              "    </tr>\n",
              "    <tr>\n",
              "      <th>2021-10-04 22:00:00</th>\n",
              "      <td>0</td>\n",
              "    </tr>\n",
              "  </tbody>\n",
              "</table>\n",
              "</div>"
            ],
            "text/plain": [
              "                     samoyedcoin\n",
              "date                            \n",
              "2021-10-04 18:00:00            0\n",
              "2021-10-04 19:00:00            0\n",
              "2021-10-04 20:00:00            0\n",
              "2021-10-04 21:00:00            0\n",
              "2021-10-04 22:00:00            0"
            ]
          },
          "metadata": {},
          "execution_count": 46
        }
      ]
    },
    {
      "cell_type": "code",
      "metadata": {
        "id": "SofT1uSOG8Y1"
      },
      "source": [
        "df_final_samo = df_s[[\"price\"]].join(df2, how= \"outer\")\n",
        "df_final_samo.drop(df_final_samo[df_final_samo.price.isnull()].index, inplace= True)\n",
        "df_final_samo.fillna(-1, inplace= True)"
      ],
      "execution_count": 47,
      "outputs": []
    },
    {
      "cell_type": "code",
      "metadata": {
        "colab": {
          "base_uri": "https://localhost:8080/",
          "height": 424
        },
        "id": "HY1m7bqXHDDo",
        "outputId": "2d2e42b5-5267-4773-d37f-0e31c56cb331"
      },
      "source": [
        "df_final_samo"
      ],
      "execution_count": 48,
      "outputs": [
        {
          "output_type": "execute_result",
          "data": {
            "text/html": [
              "<div>\n",
              "<style scoped>\n",
              "    .dataframe tbody tr th:only-of-type {\n",
              "        vertical-align: middle;\n",
              "    }\n",
              "\n",
              "    .dataframe tbody tr th {\n",
              "        vertical-align: top;\n",
              "    }\n",
              "\n",
              "    .dataframe thead th {\n",
              "        text-align: right;\n",
              "    }\n",
              "</style>\n",
              "<table border=\"1\" class=\"dataframe\">\n",
              "  <thead>\n",
              "    <tr style=\"text-align: right;\">\n",
              "      <th></th>\n",
              "      <th>price</th>\n",
              "      <th>samoyedcoin</th>\n",
              "    </tr>\n",
              "  </thead>\n",
              "  <tbody>\n",
              "    <tr>\n",
              "      <th>2021-08-28 00:00:00</th>\n",
              "      <td>0.004132</td>\n",
              "      <td>-1.0</td>\n",
              "    </tr>\n",
              "    <tr>\n",
              "      <th>2021-08-28 01:00:00</th>\n",
              "      <td>0.004122</td>\n",
              "      <td>-1.0</td>\n",
              "    </tr>\n",
              "    <tr>\n",
              "      <th>2021-08-28 02:00:00</th>\n",
              "      <td>0.004105</td>\n",
              "      <td>-1.0</td>\n",
              "    </tr>\n",
              "    <tr>\n",
              "      <th>2021-08-28 03:00:00</th>\n",
              "      <td>0.004155</td>\n",
              "      <td>-1.0</td>\n",
              "    </tr>\n",
              "    <tr>\n",
              "      <th>2021-08-28 04:00:00</th>\n",
              "      <td>0.004198</td>\n",
              "      <td>-1.0</td>\n",
              "    </tr>\n",
              "    <tr>\n",
              "      <th>...</th>\n",
              "      <td>...</td>\n",
              "      <td>...</td>\n",
              "    </tr>\n",
              "    <tr>\n",
              "      <th>2021-11-25 19:00:00</th>\n",
              "      <td>0.074394</td>\n",
              "      <td>68.0</td>\n",
              "    </tr>\n",
              "    <tr>\n",
              "      <th>2021-11-25 20:00:00</th>\n",
              "      <td>0.073352</td>\n",
              "      <td>45.0</td>\n",
              "    </tr>\n",
              "    <tr>\n",
              "      <th>2021-11-25 21:00:00</th>\n",
              "      <td>0.073492</td>\n",
              "      <td>97.0</td>\n",
              "    </tr>\n",
              "    <tr>\n",
              "      <th>2021-11-25 22:00:00</th>\n",
              "      <td>0.073442</td>\n",
              "      <td>0.0</td>\n",
              "    </tr>\n",
              "    <tr>\n",
              "      <th>2021-11-25 23:00:00</th>\n",
              "      <td>0.073907</td>\n",
              "      <td>20.0</td>\n",
              "    </tr>\n",
              "  </tbody>\n",
              "</table>\n",
              "<p>2188 rows × 2 columns</p>\n",
              "</div>"
            ],
            "text/plain": [
              "                        price  samoyedcoin\n",
              "2021-08-28 00:00:00  0.004132         -1.0\n",
              "2021-08-28 01:00:00  0.004122         -1.0\n",
              "2021-08-28 02:00:00  0.004105         -1.0\n",
              "2021-08-28 03:00:00  0.004155         -1.0\n",
              "2021-08-28 04:00:00  0.004198         -1.0\n",
              "...                       ...          ...\n",
              "2021-11-25 19:00:00  0.074394         68.0\n",
              "2021-11-25 20:00:00  0.073352         45.0\n",
              "2021-11-25 21:00:00  0.073492         97.0\n",
              "2021-11-25 22:00:00  0.073442          0.0\n",
              "2021-11-25 23:00:00  0.073907         20.0\n",
              "\n",
              "[2188 rows x 2 columns]"
            ]
          },
          "metadata": {},
          "execution_count": 48
        }
      ]
    },
    {
      "cell_type": "markdown",
      "metadata": {
        "id": "vXjkzFNfHYCd"
      },
      "source": [
        "# Log-transformation"
      ]
    },
    {
      "cell_type": "code",
      "metadata": {
        "id": "ywWszgfxHhfw"
      },
      "source": [
        "df_final_doge[\"price\"] = np.log(df_final_doge[\"price\"])\n",
        "df_final_samo[\"price\"] = np.log(df_final_samo[\"price\"])"
      ],
      "execution_count": 49,
      "outputs": []
    },
    {
      "cell_type": "markdown",
      "metadata": {
        "id": "ATwZ6gdUQGWa"
      },
      "source": [
        "# Reshaping Data"
      ]
    },
    {
      "cell_type": "code",
      "metadata": {
        "id": "4STFvMWVNTYj"
      },
      "source": [
        "## creating train_test_split and scaling values\n",
        "\n",
        "horizon = 24\n",
        "\n",
        "history_size = 48\n",
        "\n",
        "def get_X_y(history_size, horizon, dataset):\n",
        "\n",
        "  X = []\n",
        "  y = []\n",
        "\n",
        "  for i in range(0, dataset.shape[0]-history_size-horizon):\n",
        "    X.append(dataset[i:i+history_size,:])\n",
        "    y.append(dataset[i+history_size: i+history_size+horizon,0]) # should be series of next 24 values for 24h forecast\n",
        "\n",
        "  return np.array(X), np.array(y)\n",
        "\n",
        "def reshape_data(df_final_doge, df_final_samo, history_size):\n",
        "\n",
        "  dataset_doge = df_final_doge.values\n",
        "  dataset_samo = df_final_samo.values\n",
        "\n",
        "  #train_test_split\n",
        "  \n",
        "  split_doge = int(df_final_doge.shape[0]*0.8)\n",
        "  split_samo = int(df_final_samo.shape[0]*0.8)\n",
        "\n",
        "  train_doge, test_doge = dataset_doge[:split_doge], dataset_doge[split_doge:]\n",
        "  train_samo, test_samo = dataset_samo[:split_samo], dataset_samo[split_samo:]\n",
        "\n",
        "  # scaling the data\n",
        "  scaler_doge = MinMaxScaler()\n",
        "\n",
        "  scaler_doge.fit(train_doge)\n",
        "  train_doge = scaler_doge.transform(train_doge)\n",
        "  test_doge = scaler_doge.transform(test_doge)\n",
        "\n",
        "  scaler_samo = MinMaxScaler()\n",
        "\n",
        "  scaler_samo.fit(train_samo)\n",
        "  train_samo = scaler_samo.transform(train_samo)\n",
        "  test_samo = scaler_samo.transform(test_samo)\n",
        "\n",
        "  # get_X_y for doge & samo datasets\n",
        "  X_train_doge, y_train_doge = get_X_y(history_size, horizon, train_doge)\n",
        "  X_train_samo, y_train_samo = get_X_y(history_size, horizon, train_samo)\n",
        "\n",
        "  X_test_doge, y_test_doge = get_X_y(history_size, horizon, test_doge)\n",
        "  X_test_samo, y_test_samo = get_X_y(history_size, horizon, test_samo)\n",
        "\n",
        "  # creating multi-coin model with multiple features\n",
        "  X_train_multi = [X_train_doge, X_train_samo]\n",
        "  X_train_multi = np.array(X_train_multi, dtype='object')\n",
        "\n",
        "  X_test_multi = [X_test_doge, X_test_samo]\n",
        "  X_test_multi = np.array(X_test_multi, dtype='object')\n",
        "\n",
        "  y_train_multi = [y_train_doge, y_train_samo]\n",
        "  y_train_multi = np.array(y_train_multi, dtype='object')\n",
        "\n",
        "  y_test_multi = [y_test_doge, y_test_samo] # order important for inverse transform\n",
        "  y_test_multi = np.array(y_test_multi, dtype='object')\n",
        "\n",
        "  # padding the data\n",
        "  ## padding= post ???\n",
        "  X_pad_train = pad_sequences(X_train_multi, dtype='float32', value=-1)\n",
        "  X_pad_train = np.asarray(X_pad_train).astype('float32')\n",
        "\n",
        "  X_pad_test = pad_sequences(X_test_multi, dtype='float32', value=-1)\n",
        "  X_pad_test = np.asarray(X_pad_test).astype('float32')\n",
        "\n",
        "  y_pad_train = pad_sequences(y_train_multi, dtype='float32', value=-1)\n",
        "  y_pad_train = np.asarray(y_pad_train).astype('float32')\n",
        "\n",
        "  y_pad_test = pad_sequences(y_test_multi, dtype='float32', value=-1)\n",
        "  y_pad_test = np.asarray(y_pad_test).astype('float32')\n",
        "\n",
        "  return X_pad_train, X_pad_test, y_pad_train, y_pad_test, scaler_doge, scaler_samo\n",
        "  "
      ],
      "execution_count": 50,
      "outputs": []
    },
    {
      "cell_type": "code",
      "metadata": {
        "id": "lmiIsDLoTrs6"
      },
      "source": [
        "X_pad_train, X_pad_test, y_pad_train, y_pad_test, scaler_doge, scaler_samo = reshape_data(df_final_doge, df_final_samo, history_size=14)"
      ],
      "execution_count": 51,
      "outputs": []
    },
    {
      "cell_type": "code",
      "metadata": {
        "colab": {
          "base_uri": "https://localhost:8080/"
        },
        "id": "pyySeRJMaHMj",
        "outputId": "cda04900-2d96-42d1-da9c-cb3264d6a399"
      },
      "source": [
        "X_pad_train.shape"
      ],
      "execution_count": 52,
      "outputs": [
        {
          "output_type": "execute_result",
          "data": {
            "text/plain": [
              "(2, 1712, 14, 2)"
            ]
          },
          "metadata": {},
          "execution_count": 52
        }
      ]
    },
    {
      "cell_type": "code",
      "metadata": {
        "colab": {
          "base_uri": "https://localhost:8080/"
        },
        "id": "wW8EOrpJdwWA",
        "outputId": "3eb61870-98f6-48a3-bfad-d6a27ba062ff"
      },
      "source": [
        "y_pad_test.shape"
      ],
      "execution_count": 53,
      "outputs": [
        {
          "output_type": "execute_result",
          "data": {
            "text/plain": [
              "(2, 400, 24)"
            ]
          },
          "metadata": {},
          "execution_count": 53
        }
      ]
    },
    {
      "cell_type": "code",
      "metadata": {
        "colab": {
          "base_uri": "https://localhost:8080/"
        },
        "id": "8oQynu-1mAvv",
        "outputId": "bda32782-ba18-486d-8c35-29f1202ac0bb"
      },
      "source": [
        "X_pad_train[1], y_pad_train[1]"
      ],
      "execution_count": 57,
      "outputs": [
        {
          "output_type": "execute_result",
          "data": {
            "text/plain": [
              "(array([[[0.11867125, 0.        ],\n",
              "         [0.11811972, 0.        ],\n",
              "         [0.11715909, 0.        ],\n",
              "         ...,\n",
              "         [0.12522474, 0.        ],\n",
              "         [0.12828028, 0.        ],\n",
              "         [0.13261095, 0.        ]],\n",
              " \n",
              "        [[0.11811972, 0.        ],\n",
              "         [0.11715909, 0.        ],\n",
              "         [0.11991992, 0.        ],\n",
              "         ...,\n",
              "         [0.12828028, 0.        ],\n",
              "         [0.13261095, 0.        ],\n",
              "         [0.12790267, 0.        ]],\n",
              " \n",
              "        [[0.11715909, 0.        ],\n",
              "         [0.11991992, 0.        ],\n",
              "         [0.12224789, 0.        ],\n",
              "         ...,\n",
              "         [0.13261095, 0.        ],\n",
              "         [0.12790267, 0.        ],\n",
              "         [0.12838113, 0.        ]],\n",
              " \n",
              "        ...,\n",
              " \n",
              "        [[0.9395758 , 0.5346535 ],\n",
              "         [0.9308017 , 0.3069307 ],\n",
              "         [0.9398662 , 0.36633664],\n",
              "         ...,\n",
              "         [0.96022415, 0.38613862],\n",
              "         [0.9649095 , 0.8613861 ],\n",
              "         [0.96711296, 0.3960396 ]],\n",
              " \n",
              "        [[0.9308017 , 0.3069307 ],\n",
              "         [0.9398662 , 0.36633664],\n",
              "         [0.94855195, 0.17821783],\n",
              "         ...,\n",
              "         [0.9649095 , 0.8613861 ],\n",
              "         [0.96711296, 0.3960396 ],\n",
              "         [0.9521598 , 0.36633664]],\n",
              " \n",
              "        [[0.9398662 , 0.36633664],\n",
              "         [0.94855195, 0.17821783],\n",
              "         [0.94322187, 0.42574257],\n",
              "         ...,\n",
              "         [0.96711296, 0.3960396 ],\n",
              "         [0.9521598 , 0.36633664],\n",
              "         [0.95595145, 0.16831683]]], dtype=float32),\n",
              " array([[0.12790267, 0.12838113, 0.1534351 , ..., 0.17344561, 0.17645286,\n",
              "         0.17820543],\n",
              "        [0.12838113, 0.1534351 , 0.15414508, ..., 0.17645286, 0.17820543,\n",
              "         0.18367258],\n",
              "        [0.1534351 , 0.15414508, 0.16127849, ..., 0.17820543, 0.18367258,\n",
              "         0.16988316],\n",
              "        ...,\n",
              "        [0.9521598 , 0.95595145, 0.958949  , ..., 0.9249045 , 0.9278649 ,\n",
              "         0.9343203 ],\n",
              "        [0.95595145, 0.958949  , 0.9614598 , ..., 0.9278649 , 0.9343203 ,\n",
              "         0.91682905],\n",
              "        [0.958949  , 0.9614598 , 0.95965666, ..., 0.9343203 , 0.91682905,\n",
              "         0.9135236 ]], dtype=float32))"
            ]
          },
          "metadata": {},
          "execution_count": 57
        }
      ]
    },
    {
      "cell_type": "code",
      "metadata": {
        "id": "_Z-2YJrLp8z8"
      },
      "source": [
        "X_pad_train = X_pad_train.reshape(2,1712,14*2)"
      ],
      "execution_count": 60,
      "outputs": []
    },
    {
      "cell_type": "code",
      "metadata": {
        "id": "JZDAuKO3oFYD"
      },
      "source": [
        "X_pad_test = X_pad_test.reshape(2,400,14*2)"
      ],
      "execution_count": 61,
      "outputs": []
    },
    {
      "cell_type": "code",
      "metadata": {
        "colab": {
          "base_uri": "https://localhost:8080/"
        },
        "id": "IUSCKK1VUjAW",
        "outputId": "c988a9d7-e28f-4fc2-ea4d-9b08e664cd34"
      },
      "source": [
        "y_pad_train.shape"
      ],
      "execution_count": 62,
      "outputs": [
        {
          "output_type": "execute_result",
          "data": {
            "text/plain": [
              "(2, 1712, 24)"
            ]
          },
          "metadata": {},
          "execution_count": 62
        }
      ]
    },
    {
      "cell_type": "markdown",
      "metadata": {
        "id": "j28re1zTYPDm"
      },
      "source": [
        "# Modeling"
      ]
    },
    {
      "cell_type": "code",
      "metadata": {
        "id": "P_XwTl8KgSKd"
      },
      "source": [
        "## add tanh activation for LSTM layers"
      ],
      "execution_count": 63,
      "outputs": []
    },
    {
      "cell_type": "code",
      "metadata": {
        "id": "UKDD7ScvYP20"
      },
      "source": [
        "# instantiating a model\n",
        "model = Sequential()\n",
        "\n",
        "# first network layer\n",
        "model.add(Masking(mask_value=-1, input_shape = X_pad_train.shape[1:]))\n",
        "model.add(LSTM(units = 50, activation= \"tanh\", return_sequences= True))\n",
        "model.add(Dropout(0.2))\n",
        "\n",
        "# network layer's 2 - 5\n",
        "model.add(LSTM(units= 50, activation= \"tanh\", return_sequences= True))\n",
        "model.add(Dropout(0.2))\n",
        "#model.add(LSTM(units = 20, return_sequences= True))\n",
        "#model.add(Dropout(0.2))\n",
        "#model.add(LSTM(units= 50, return_sequences= True))\n",
        "#model.add(Dropout(0.2))\n",
        "#model.add(LSTM(units= 50, return_sequences= True))\n",
        "#model.add(Dropout(0.2))\n",
        "model.add(LSTM(units= 10, activation= \"tanh\", return_sequences= False))\n",
        "model.add(Dropout(0.2))\n",
        "\n",
        "# network output layer\n",
        "model.add(Dense(1, activation= \"relu\")) # should be 24 for 24h forecast\n",
        "\n",
        "model.compile(optimizer= \"adam\", loss= \"mse\")"
      ],
      "execution_count": 64,
      "outputs": []
    },
    {
      "cell_type": "code",
      "metadata": {
        "id": "nH6uIPS5qk7j",
        "colab": {
          "base_uri": "https://localhost:8080/"
        },
        "outputId": "b20569de-89f0-44f2-8c6a-091affbce1b6"
      },
      "source": [
        "model"
      ],
      "execution_count": 65,
      "outputs": [
        {
          "output_type": "execute_result",
          "data": {
            "text/plain": [
              "<keras.engine.sequential.Sequential at 0x7fceea361610>"
            ]
          },
          "metadata": {},
          "execution_count": 65
        }
      ]
    },
    {
      "cell_type": "code",
      "metadata": {
        "id": "vAVKEK8pZddM",
        "colab": {
          "base_uri": "https://localhost:8080/"
        },
        "outputId": "87043be0-a4c0-4ff0-e242-8eaecd112d57"
      },
      "source": [
        "es = EarlyStopping(patience = 50, restore_best_weights= True)\n",
        "\n",
        "model.fit(X_pad_train, \n",
        "          y_pad_train,\n",
        "          validation_split= 0.2,\n",
        "          epochs = 1000,\n",
        "          batch_size= 32,\n",
        "          callbacks= [es],\n",
        "          verbose= 1)"
      ],
      "execution_count": 66,
      "outputs": [
        {
          "output_type": "stream",
          "name": "stdout",
          "text": [
            "Epoch 1/1000\n",
            "1/1 [==============================] - 20s 20s/step - loss: 0.2328 - val_loss: 0.1971\n",
            "Epoch 2/1000\n",
            "1/1 [==============================] - 3s 3s/step - loss: 0.2043 - val_loss: 0.1583\n",
            "Epoch 3/1000\n",
            "1/1 [==============================] - 3s 3s/step - loss: 0.1085 - val_loss: 0.0862\n",
            "Epoch 4/1000\n",
            "1/1 [==============================] - 3s 3s/step - loss: 0.1053 - val_loss: 0.0831\n",
            "Epoch 5/1000\n",
            "1/1 [==============================] - 3s 3s/step - loss: 0.0478 - val_loss: 0.0944\n",
            "Epoch 6/1000\n",
            "1/1 [==============================] - 3s 3s/step - loss: 0.0459 - val_loss: 0.1044\n",
            "Epoch 7/1000\n",
            "1/1 [==============================] - 3s 3s/step - loss: 0.0908 - val_loss: 0.0952\n",
            "Epoch 8/1000\n",
            "1/1 [==============================] - 3s 3s/step - loss: 0.0618 - val_loss: 0.0826\n",
            "Epoch 9/1000\n",
            "1/1 [==============================] - 3s 3s/step - loss: 0.2328 - val_loss: 0.0792\n",
            "Epoch 10/1000\n",
            "1/1 [==============================] - 3s 3s/step - loss: 0.0446 - val_loss: 0.0830\n",
            "Epoch 11/1000\n",
            "1/1 [==============================] - 3s 3s/step - loss: 0.2219 - val_loss: 0.0798\n",
            "Epoch 12/1000\n",
            "1/1 [==============================] - 3s 3s/step - loss: 0.0475 - val_loss: 0.0794\n",
            "Epoch 13/1000\n",
            "1/1 [==============================] - 3s 3s/step - loss: 0.0460 - val_loss: 0.0807\n",
            "Epoch 14/1000\n",
            "1/1 [==============================] - 3s 3s/step - loss: 0.0444 - val_loss: 0.0831\n",
            "Epoch 15/1000\n",
            "1/1 [==============================] - 3s 3s/step - loss: 0.0534 - val_loss: 0.0845\n",
            "Epoch 16/1000\n",
            "1/1 [==============================] - 3s 3s/step - loss: 0.0714 - val_loss: 0.0876\n",
            "Epoch 17/1000\n",
            "1/1 [==============================] - 3s 3s/step - loss: 0.0465 - val_loss: 0.0904\n",
            "Epoch 18/1000\n",
            "1/1 [==============================] - 3s 3s/step - loss: 0.0507 - val_loss: 0.0945\n",
            "Epoch 19/1000\n",
            "1/1 [==============================] - 3s 3s/step - loss: 0.0546 - val_loss: 0.0959\n",
            "Epoch 20/1000\n",
            "1/1 [==============================] - 3s 3s/step - loss: 0.0521 - val_loss: 0.0951\n",
            "Epoch 21/1000\n",
            "1/1 [==============================] - 3s 3s/step - loss: 0.0558 - val_loss: 0.0926\n",
            "Epoch 22/1000\n",
            "1/1 [==============================] - 3s 3s/step - loss: 0.0549 - val_loss: 0.0889\n",
            "Epoch 23/1000\n",
            "1/1 [==============================] - 3s 3s/step - loss: 0.0649 - val_loss: 0.0843\n",
            "Epoch 24/1000\n",
            "1/1 [==============================] - 3s 3s/step - loss: 0.0441 - val_loss: 0.0816\n",
            "Epoch 25/1000\n",
            "1/1 [==============================] - 3s 3s/step - loss: 0.0491 - val_loss: 0.0798\n",
            "Epoch 26/1000\n",
            "1/1 [==============================] - 3s 3s/step - loss: 0.0586 - val_loss: 0.0792\n",
            "Epoch 27/1000\n",
            "1/1 [==============================] - 3s 3s/step - loss: 0.0480 - val_loss: 0.0804\n",
            "Epoch 28/1000\n",
            "1/1 [==============================] - 3s 3s/step - loss: 0.0598 - val_loss: 0.0822\n",
            "Epoch 29/1000\n",
            "1/1 [==============================] - 3s 3s/step - loss: 0.0613 - val_loss: 0.0834\n",
            "Epoch 30/1000\n",
            "1/1 [==============================] - 3s 3s/step - loss: 0.0483 - val_loss: 0.0837\n",
            "Epoch 31/1000\n",
            "1/1 [==============================] - 3s 3s/step - loss: 0.0585 - val_loss: 0.0829\n",
            "Epoch 32/1000\n",
            "1/1 [==============================] - 3s 3s/step - loss: 0.0460 - val_loss: 0.0826\n",
            "Epoch 33/1000\n",
            "1/1 [==============================] - 3s 3s/step - loss: 0.0914 - val_loss: 0.0810\n",
            "Epoch 34/1000\n",
            "1/1 [==============================] - 3s 3s/step - loss: 0.0565 - val_loss: 0.0798\n",
            "Epoch 35/1000\n",
            "1/1 [==============================] - 3s 3s/step - loss: 0.0762 - val_loss: 0.0792\n",
            "Epoch 36/1000\n",
            "1/1 [==============================] - 3s 3s/step - loss: 0.0433 - val_loss: 0.0796\n",
            "Epoch 37/1000\n",
            "1/1 [==============================] - 3s 3s/step - loss: 0.0634 - val_loss: 0.0811\n",
            "Epoch 38/1000\n",
            "1/1 [==============================] - 3s 3s/step - loss: 0.0515 - val_loss: 0.0826\n",
            "Epoch 39/1000\n",
            "1/1 [==============================] - 3s 3s/step - loss: 0.0550 - val_loss: 0.0850\n",
            "Epoch 40/1000\n",
            "1/1 [==============================] - 3s 3s/step - loss: 0.0555 - val_loss: 0.0886\n",
            "Epoch 41/1000\n",
            "1/1 [==============================] - 3s 3s/step - loss: 0.0502 - val_loss: 0.0932\n",
            "Epoch 42/1000\n",
            "1/1 [==============================] - 3s 3s/step - loss: 0.0489 - val_loss: 0.0989\n",
            "Epoch 43/1000\n",
            "1/1 [==============================] - 3s 3s/step - loss: 0.0768 - val_loss: 0.1017\n",
            "Epoch 44/1000\n",
            "1/1 [==============================] - 3s 3s/step - loss: 0.0711 - val_loss: 0.1019\n",
            "Epoch 45/1000\n",
            "1/1 [==============================] - 3s 3s/step - loss: 0.0432 - val_loss: 0.1019\n",
            "Epoch 46/1000\n",
            "1/1 [==============================] - 3s 3s/step - loss: 0.0535 - val_loss: 0.1008\n",
            "Epoch 47/1000\n",
            "1/1 [==============================] - 3s 3s/step - loss: 0.0736 - val_loss: 0.1014\n",
            "Epoch 48/1000\n",
            "1/1 [==============================] - 3s 3s/step - loss: 0.0464 - val_loss: 0.1027\n",
            "Epoch 49/1000\n",
            "1/1 [==============================] - 3s 3s/step - loss: 0.0489 - val_loss: 0.1028\n",
            "Epoch 50/1000\n",
            "1/1 [==============================] - 3s 3s/step - loss: 0.1159 - val_loss: 0.1045\n",
            "Epoch 51/1000\n",
            "1/1 [==============================] - 3s 3s/step - loss: 0.0490 - val_loss: 0.1050\n",
            "Epoch 52/1000\n",
            "1/1 [==============================] - 3s 3s/step - loss: 0.0468 - val_loss: 0.1061\n",
            "Epoch 53/1000\n",
            "1/1 [==============================] - 3s 3s/step - loss: 0.0984 - val_loss: 0.1090\n",
            "Epoch 54/1000\n",
            "1/1 [==============================] - 3s 3s/step - loss: 0.0817 - val_loss: 0.1133\n",
            "Epoch 55/1000\n",
            "1/1 [==============================] - 3s 3s/step - loss: 0.0459 - val_loss: 0.1165\n",
            "Epoch 56/1000\n",
            "1/1 [==============================] - 3s 3s/step - loss: 0.0506 - val_loss: 0.1184\n",
            "Epoch 57/1000\n",
            "1/1 [==============================] - 3s 3s/step - loss: 0.0553 - val_loss: 0.1187\n",
            "Epoch 58/1000\n",
            "1/1 [==============================] - 3s 3s/step - loss: 0.0441 - val_loss: 0.1185\n",
            "Epoch 59/1000\n",
            "1/1 [==============================] - 3s 3s/step - loss: 0.0528 - val_loss: 0.1166\n",
            "Epoch 60/1000\n",
            "1/1 [==============================] - 3s 3s/step - loss: 0.0736 - val_loss: 0.1121\n",
            "Epoch 61/1000\n",
            "1/1 [==============================] - 3s 3s/step - loss: 0.0549 - val_loss: 0.1069\n",
            "Epoch 62/1000\n",
            "1/1 [==============================] - 3s 3s/step - loss: 0.0646 - val_loss: 0.1004\n",
            "Epoch 63/1000\n",
            "1/1 [==============================] - 3s 3s/step - loss: 0.0493 - val_loss: 0.0948\n",
            "Epoch 64/1000\n",
            "1/1 [==============================] - 3s 3s/step - loss: 0.0451 - val_loss: 0.0908\n",
            "Epoch 65/1000\n",
            "1/1 [==============================] - 4s 4s/step - loss: 0.0556 - val_loss: 0.0869\n",
            "Epoch 66/1000\n",
            "1/1 [==============================] - 4s 4s/step - loss: 0.0436 - val_loss: 0.0840\n",
            "Epoch 67/1000\n",
            "1/1 [==============================] - 4s 4s/step - loss: 0.0629 - val_loss: 0.0824\n",
            "Epoch 68/1000\n",
            "1/1 [==============================] - 3s 3s/step - loss: 0.0436 - val_loss: 0.0813\n",
            "Epoch 69/1000\n",
            "1/1 [==============================] - 3s 3s/step - loss: 0.0563 - val_loss: 0.0806\n",
            "Epoch 70/1000\n",
            "1/1 [==============================] - 3s 3s/step - loss: 0.0457 - val_loss: 0.0803\n",
            "Epoch 71/1000\n",
            "1/1 [==============================] - 3s 3s/step - loss: 0.0771 - val_loss: 0.0803\n",
            "Epoch 72/1000\n",
            "1/1 [==============================] - 3s 3s/step - loss: 0.0474 - val_loss: 0.0804\n",
            "Epoch 73/1000\n",
            "1/1 [==============================] - 3s 3s/step - loss: 0.0489 - val_loss: 0.0808\n",
            "Epoch 74/1000\n",
            "1/1 [==============================] - 3s 3s/step - loss: 0.0677 - val_loss: 0.0817\n",
            "Epoch 75/1000\n",
            "1/1 [==============================] - 3s 3s/step - loss: 0.0975 - val_loss: 0.0835\n",
            "Epoch 76/1000\n",
            "1/1 [==============================] - 3s 3s/step - loss: 0.0492 - val_loss: 0.0858\n",
            "Epoch 77/1000\n",
            "1/1 [==============================] - 3s 3s/step - loss: 0.0458 - val_loss: 0.0878\n",
            "Epoch 78/1000\n",
            "1/1 [==============================] - 3s 3s/step - loss: 0.0439 - val_loss: 0.0897\n",
            "Epoch 79/1000\n",
            "1/1 [==============================] - 3s 3s/step - loss: 0.0503 - val_loss: 0.0907\n",
            "Epoch 80/1000\n",
            "1/1 [==============================] - 3s 3s/step - loss: 0.0435 - val_loss: 0.0917\n",
            "Epoch 81/1000\n",
            "1/1 [==============================] - 3s 3s/step - loss: 0.0432 - val_loss: 0.0925\n",
            "Epoch 82/1000\n",
            "1/1 [==============================] - 3s 3s/step - loss: 0.0586 - val_loss: 0.0920\n",
            "Epoch 83/1000\n",
            "1/1 [==============================] - 3s 3s/step - loss: 0.0432 - val_loss: 0.0915\n",
            "Epoch 84/1000\n",
            "1/1 [==============================] - 3s 3s/step - loss: 0.0513 - val_loss: 0.0916\n",
            "Epoch 85/1000\n",
            "1/1 [==============================] - 3s 3s/step - loss: 0.0849 - val_loss: 0.0923\n"
          ]
        },
        {
          "output_type": "execute_result",
          "data": {
            "text/plain": [
              "<keras.callbacks.History at 0x7fcee66cdb90>"
            ]
          },
          "metadata": {},
          "execution_count": 66
        }
      ]
    },
    {
      "cell_type": "markdown",
      "metadata": {
        "id": "eN2-X4m0IgT-"
      },
      "source": [
        "# Inverse Transform"
      ]
    },
    {
      "cell_type": "code",
      "metadata": {
        "colab": {
          "base_uri": "https://localhost:8080/"
        },
        "id": "jfWj5er19iwm",
        "outputId": "bbd42db6-77ff-4c21-e966-97b43ff24196"
      },
      "source": [
        "X_pad_test.shape"
      ],
      "execution_count": 67,
      "outputs": [
        {
          "output_type": "execute_result",
          "data": {
            "text/plain": [
              "(2, 400, 28)"
            ]
          },
          "metadata": {},
          "execution_count": 67
        }
      ]
    },
    {
      "cell_type": "code",
      "metadata": {
        "colab": {
          "base_uri": "https://localhost:8080/"
        },
        "id": "a0I7NAxHTCUs",
        "outputId": "9197a0dc-3eec-401e-aa47-d56db0b1a9f8"
      },
      "source": [
        "y_pad_test.shape"
      ],
      "execution_count": 74,
      "outputs": [
        {
          "output_type": "execute_result",
          "data": {
            "text/plain": [
              "(2, 400, 24)"
            ]
          },
          "metadata": {},
          "execution_count": 74
        }
      ]
    },
    {
      "cell_type": "code",
      "metadata": {
        "colab": {
          "base_uri": "https://localhost:8080/"
        },
        "id": "-REo2q0KS126",
        "outputId": "ded69376-ee50-4d95-a41c-03782508b93c"
      },
      "source": [
        "y_pad_test[1].shape"
      ],
      "execution_count": 77,
      "outputs": [
        {
          "output_type": "execute_result",
          "data": {
            "text/plain": [
              "(400, 24)"
            ]
          },
          "metadata": {},
          "execution_count": 77
        }
      ]
    },
    {
      "cell_type": "code",
      "metadata": {
        "id": "Qiv4wv0bIi00"
      },
      "source": [
        "def inverse_transformer(y, scaler):\n",
        "  '''takes a one-dimensional input array (y_test or y_hat) and inverse transforms it.'''\n",
        "  y = np.c_[y, np.ones(len(y))]\n",
        "  y = scaler.inverse_transform(y)\n",
        "  y= y[:,0]\n",
        "  return y"
      ],
      "execution_count": 71,
      "outputs": []
    },
    {
      "cell_type": "code",
      "metadata": {
        "id": "gLvKTZ-f_QNv",
        "colab": {
          "base_uri": "https://localhost:8080/",
          "height": 380
        },
        "outputId": "85a548ce-2f60-4b43-81e6-4a0a9c93da36"
      },
      "source": [
        "real_stock_price_doge = inverse_transformer(y_pad_test[0],scaler_doge)\n",
        "real_stock_price_samo = inverse_transformer(y_pad_test[1],scaler_samo)\n",
        "\n",
        "\n",
        "predicted_stock_price = inverse_transformer(model.predict(X_pad_test), scaler_doge)"
      ],
      "execution_count": 69,
      "outputs": [
        {
          "output_type": "error",
          "ename": "ValueError",
          "evalue": "ignored",
          "traceback": [
            "\u001b[0;31m---------------------------------------------------------------------------\u001b[0m",
            "\u001b[0;31mValueError\u001b[0m                                Traceback (most recent call last)",
            "\u001b[0;32m<ipython-input-69-b18efb953176>\u001b[0m in \u001b[0;36m<module>\u001b[0;34m()\u001b[0m\n\u001b[0;32m----> 1\u001b[0;31m \u001b[0mreal_stock_price_doge\u001b[0m \u001b[0;34m=\u001b[0m \u001b[0minverse_transformer\u001b[0m\u001b[0;34m(\u001b[0m\u001b[0my_pad_test\u001b[0m\u001b[0;34m[\u001b[0m\u001b[0;36m0\u001b[0m\u001b[0;34m]\u001b[0m\u001b[0;34m,\u001b[0m\u001b[0mscaler_doge\u001b[0m\u001b[0;34m)\u001b[0m\u001b[0;34m\u001b[0m\u001b[0;34m\u001b[0m\u001b[0m\n\u001b[0m\u001b[1;32m      2\u001b[0m \u001b[0mreal_stock_price_samo\u001b[0m \u001b[0;34m=\u001b[0m \u001b[0minverse_transformer\u001b[0m\u001b[0;34m(\u001b[0m\u001b[0my_pad_test\u001b[0m\u001b[0;34m[\u001b[0m\u001b[0;36m1\u001b[0m\u001b[0;34m]\u001b[0m\u001b[0;34m,\u001b[0m\u001b[0mscaler_samo\u001b[0m\u001b[0;34m)\u001b[0m\u001b[0;34m\u001b[0m\u001b[0;34m\u001b[0m\u001b[0m\n\u001b[1;32m      3\u001b[0m \u001b[0;34m\u001b[0m\u001b[0m\n\u001b[1;32m      4\u001b[0m \u001b[0;34m\u001b[0m\u001b[0m\n\u001b[1;32m      5\u001b[0m \u001b[0mpredicted_stock_price\u001b[0m \u001b[0;34m=\u001b[0m \u001b[0minverse_transformer\u001b[0m\u001b[0;34m(\u001b[0m\u001b[0mmodel\u001b[0m\u001b[0;34m.\u001b[0m\u001b[0mpredict\u001b[0m\u001b[0;34m(\u001b[0m\u001b[0mX_pad_test\u001b[0m\u001b[0;34m)\u001b[0m\u001b[0;34m,\u001b[0m \u001b[0mscaler_doge\u001b[0m\u001b[0;34m)\u001b[0m\u001b[0;34m\u001b[0m\u001b[0;34m\u001b[0m\u001b[0m\n",
            "\u001b[0;32m<ipython-input-68-507a71401cad>\u001b[0m in \u001b[0;36minverse_transformer\u001b[0;34m(y, scaler)\u001b[0m\n\u001b[1;32m      2\u001b[0m   \u001b[0;34m'''takes a one-dimensional input array (y_test or y_hat) and inverse transforms it.'''\u001b[0m\u001b[0;34m\u001b[0m\u001b[0;34m\u001b[0m\u001b[0m\n\u001b[1;32m      3\u001b[0m   \u001b[0my\u001b[0m \u001b[0;34m=\u001b[0m \u001b[0mnp\u001b[0m\u001b[0;34m.\u001b[0m\u001b[0mc_\u001b[0m\u001b[0;34m[\u001b[0m\u001b[0my\u001b[0m\u001b[0;34m,\u001b[0m \u001b[0mnp\u001b[0m\u001b[0;34m.\u001b[0m\u001b[0mones\u001b[0m\u001b[0;34m(\u001b[0m\u001b[0mlen\u001b[0m\u001b[0;34m(\u001b[0m\u001b[0my\u001b[0m\u001b[0;34m)\u001b[0m\u001b[0;34m)\u001b[0m\u001b[0;34m]\u001b[0m\u001b[0;34m\u001b[0m\u001b[0;34m\u001b[0m\u001b[0m\n\u001b[0;32m----> 4\u001b[0;31m   \u001b[0my\u001b[0m \u001b[0;34m=\u001b[0m \u001b[0mscaler\u001b[0m\u001b[0;34m.\u001b[0m\u001b[0minverse_transform\u001b[0m\u001b[0;34m(\u001b[0m\u001b[0my\u001b[0m\u001b[0;34m)\u001b[0m\u001b[0;34m\u001b[0m\u001b[0;34m\u001b[0m\u001b[0m\n\u001b[0m\u001b[1;32m      5\u001b[0m   \u001b[0my\u001b[0m\u001b[0;34m=\u001b[0m \u001b[0my\u001b[0m\u001b[0;34m[\u001b[0m\u001b[0;34m:\u001b[0m\u001b[0;34m,\u001b[0m\u001b[0;36m0\u001b[0m\u001b[0;34m]\u001b[0m\u001b[0;34m\u001b[0m\u001b[0;34m\u001b[0m\u001b[0m\n\u001b[1;32m      6\u001b[0m   \u001b[0;32mreturn\u001b[0m \u001b[0my\u001b[0m\u001b[0;34m\u001b[0m\u001b[0;34m\u001b[0m\u001b[0m\n",
            "\u001b[0;32m/usr/local/lib/python3.7/dist-packages/sklearn/preprocessing/_data.py\u001b[0m in \u001b[0;36minverse_transform\u001b[0;34m(self, X)\u001b[0m\n\u001b[1;32m    527\u001b[0m         )\n\u001b[1;32m    528\u001b[0m \u001b[0;34m\u001b[0m\u001b[0m\n\u001b[0;32m--> 529\u001b[0;31m         \u001b[0mX\u001b[0m \u001b[0;34m-=\u001b[0m \u001b[0mself\u001b[0m\u001b[0;34m.\u001b[0m\u001b[0mmin_\u001b[0m\u001b[0;34m\u001b[0m\u001b[0;34m\u001b[0m\u001b[0m\n\u001b[0m\u001b[1;32m    530\u001b[0m         \u001b[0mX\u001b[0m \u001b[0;34m/=\u001b[0m \u001b[0mself\u001b[0m\u001b[0;34m.\u001b[0m\u001b[0mscale_\u001b[0m\u001b[0;34m\u001b[0m\u001b[0;34m\u001b[0m\u001b[0m\n\u001b[1;32m    531\u001b[0m         \u001b[0;32mreturn\u001b[0m \u001b[0mX\u001b[0m\u001b[0;34m\u001b[0m\u001b[0;34m\u001b[0m\u001b[0m\n",
            "\u001b[0;31mValueError\u001b[0m: operands could not be broadcast together with shapes (400,25) (2,) (400,25) "
          ]
        }
      ]
    },
    {
      "cell_type": "code",
      "metadata": {
        "colab": {
          "base_uri": "https://localhost:8080/"
        },
        "id": "0wdwV-_7AOKw",
        "outputId": "2b71d1fb-6b3b-4eb6-89c9-14316265a1cb"
      },
      "source": [
        "np.exp(real_stock_price_doge)"
      ],
      "execution_count": null,
      "outputs": [
        {
          "output_type": "execute_result",
          "data": {
            "text/plain": [
              "array([0.24197062, 0.24172319, 0.24043454, 0.24333331, 0.24150567,\n",
              "       0.24033273, 0.24148357, 0.24361593, 0.24441122, 0.244376  ,\n",
              "       0.24763014, 0.24690418, 0.24537234, 0.24808335, 0.24490902,\n",
              "       0.24224358, 0.243218  , 0.24278063, 0.24182562, 0.23777433,\n",
              "       0.23956081, 0.24064378, 0.23736386, 0.23709758, 0.23863447,\n",
              "       0.23834137, 0.23750503, 0.23813729, 0.23847493, 0.23785059,\n",
              "       0.23829816, 0.23647024, 0.23629104, 0.23648822, 0.23682728,\n",
              "       0.23342749, 0.23451334, 0.23430756, 0.23564888, 0.23624131,\n",
              "       0.2364944 , 0.2363959 , 0.23749521, 0.23648024, 0.23445497,\n",
              "       0.24101471, 0.23759193, 0.23647772, 0.2361615 , 0.23534915,\n",
              "       0.23352389, 0.23012467, 0.22613638, 0.21902978, 0.22292838,\n",
              "       0.22261667, 0.22261667, 0.22261667, 0.22261667, 0.22448395,\n",
              "       0.22476254, 0.22650018, 0.22817552, 0.22997623, 0.22738303,\n",
              "       0.22870318, 0.23024204, 0.22808765, 0.22893845, 0.22808788,\n",
              "       0.22725289, 0.22746049, 0.22716153, 0.23028719, 0.23193559,\n",
              "       0.23103569, 0.23007567, 0.22891297, 0.23014456, 0.22885397,\n",
              "       0.22931653, 0.23080789, 0.22834803, 0.23027783, 0.23190596,\n",
              "       0.2312792 , 0.23107047, 0.23163351, 0.2299987 , 0.22979957,\n",
              "       0.22826711, 0.22991392, 0.22434653, 0.22352159, 0.22321348,\n",
              "       0.22482093, 0.226041  , 0.22480593, 0.22361559, 0.21859237,\n",
              "       0.22451096, 0.22479755, 0.2244164 , 0.22716386, 0.22741425,\n",
              "       0.22678317, 0.22734339, 0.2277373 , 0.22511893, 0.22445231,\n",
              "       0.22492511, 0.22425276, 0.22379538, 0.22529003, 0.22579797,\n",
              "       0.22535681, 0.22454971, 0.22621942, 0.2259482 , 0.22548757,\n",
              "       0.22523191, 0.22768479, 0.22706878, 0.22746593, 0.22825567,\n",
              "       0.22682472, 0.22710915, 0.22821217, 0.22887422, 0.22885896,\n",
              "       0.2293249 , 0.22942149, 0.22890656, 0.22945114, 0.2288083 ,\n",
              "       0.22933936, 0.22850045, 0.22906591, 0.22839184, 0.23334544,\n",
              "       0.23318654, 0.22995729, 0.231184  , 0.23044568, 0.231187  ,\n",
              "       0.22895033, 0.22926564, 0.22846786, 0.23036753, 0.22862195,\n",
              "       0.22903144, 0.22905118, 0.22959687, 0.23006242, 0.231145  ,\n",
              "       0.23118216, 0.23005577, 0.22941669, 0.22958204, 0.2308159 ,\n",
              "       0.2304715 , 0.23023178, 0.22993278, 0.23042567, 0.23006285,\n",
              "       0.23028305, 0.22953466, 0.23005097, 0.22934942, 0.22831322,\n",
              "       0.22703414, 0.22709656, 0.22800521, 0.22656436, 0.22833838,\n",
              "       0.22699489, 0.22843334, 0.2277909 , 0.22701782, 0.22363795,\n",
              "       0.2228843 , 0.21992204, 0.21700289, 0.21830002, 0.21906044,\n",
              "       0.21918204, 0.21680185, 0.21697227, 0.21228533, 0.20853136,\n",
              "       0.21095594, 0.2104836 , 0.21261121, 0.21721625, 0.21316767,\n",
              "       0.21423032, 0.21289154, 0.21140977, 0.21058875, 0.20662158,\n",
              "       0.21223945, 0.21321707, 0.21022854, 0.20877345, 0.20770971,\n",
              "       0.20772955, 0.20877071, 0.20755271, 0.20920011, 0.20904948,\n",
              "       0.21156155, 0.20977183, 0.20781514, 0.21192815, 0.21222771,\n",
              "       0.21202324, 0.21243442, 0.20946885, 0.21000004, 0.21233115,\n",
              "       0.21122135, 0.21125853, 0.20934324, 0.21098868, 0.20936065,\n",
              "       0.20992153, 0.21105402, 0.21105402, 0.21105402, 0.21105402,\n",
              "       0.21240492, 0.21316884, 0.21281431, 0.21037025, 0.20960955,\n",
              "       0.2080258 , 0.20792703, 0.20786839, 0.20649811, 0.20621856,\n",
              "       0.20726427, 0.20499041, 0.20320879, 0.2021776 , 0.20075995,\n",
              "       0.19888969, 0.1964282 , 0.19751411, 0.20062178, 0.19963659,\n",
              "       0.19993719, 0.19653178, 0.19474358, 0.19496774, 0.19772764,\n",
              "       0.1943411 , 0.19166586, 0.19193435, 0.19525403, 0.19664075,\n",
              "       0.19623442, 0.19575569, 0.20048183, 0.20042463, 0.19980833,\n",
              "       0.2000038 , 0.20171079, 0.20638678, 0.20640944, 0.20939381,\n",
              "       0.20824445, 0.20787247, 0.20730528, 0.20679651, 0.20622462,\n",
              "       0.20672456, 0.20677279, 0.20754626, 0.20759767, 0.20920752,\n",
              "       0.20811659, 0.20702833, 0.2076857 , 0.20650436, 0.20666615,\n",
              "       0.20657917, 0.20727083, 0.20729242, 0.20670308, 0.20743456,\n",
              "       0.20744005, 0.20676685, 0.20557162, 0.20159648, 0.20131604,\n",
              "       0.20108601, 0.20613249, 0.20536973, 0.20536972, 0.20685727,\n",
              "       0.20791649, 0.20790193, 0.20559681, 0.20547848, 0.20456846,\n",
              "       0.2031497 , 0.20305774, 0.20453251, 0.20473229, 0.20431456,\n",
              "       0.20347602, 0.20396622, 0.20272959, 0.20381325, 0.20400574,\n",
              "       0.2031895 , 0.20324577, 0.20462113, 0.20510024, 0.20380336,\n",
              "       0.20399695, 0.20291276, 0.20428169, 0.20379879, 0.20282559,\n",
              "       0.20277462, 0.19895939, 0.19969129, 0.19860701, 0.19769119,\n",
              "       0.19711841, 0.1975653 , 0.19755913, 0.19823253, 0.19835649,\n",
              "       0.19765298, 0.19805939, 0.19865787, 0.19753055, 0.20090163,\n",
              "       0.19858263, 0.19884905, 0.1986091 , 0.19732188, 0.19470998,\n",
              "       0.19367489, 0.19432807, 0.19603263, 0.19716847, 0.19586696,\n",
              "       0.19626401, 0.19657704, 0.19723034, 0.19847479, 0.19849888,\n",
              "       0.19677056, 0.19571204, 0.19471576, 0.19483374, 0.19418863,\n",
              "       0.20626206, 0.19756785, 0.19799768, 0.20098014, 0.20614229,\n",
              "       0.20478146, 0.20430835, 0.20277294, 0.20143895, 0.2008371 ,\n",
              "       0.20109045, 0.20058641, 0.1997045 , 0.20148778, 0.20100483,\n",
              "       0.20074785, 0.19754556, 0.1981344 , 0.19843065, 0.19840667,\n",
              "       0.1974023 , 0.19663623, 0.19831606, 0.19721626, 0.19470418,\n",
              "       0.19628671, 0.19474203, 0.19292422, 0.19078111, 0.19434649,\n",
              "       0.19199916, 0.1938368 , 0.19309058, 0.19307088, 0.1947041 ,\n",
              "       0.19478206, 0.19391813, 0.19481502, 0.19481502, 0.19481502,\n",
              "       0.19481502, 0.19492302, 0.19578518, 0.19675299, 0.19619719,\n",
              "       0.19424846, 0.19389081, 0.19385969, 0.19440165, 0.19395442,\n",
              "       0.19309619, 0.19536541, 0.19569781, 0.19909398, 0.1976725 ,\n",
              "       0.19906789, 0.19799149, 0.19853473, 0.20111254, 0.20099529,\n",
              "       0.19953416, 0.20021519, 0.19819588, 0.19867494])"
            ]
          },
          "metadata": {},
          "execution_count": 115
        }
      ]
    },
    {
      "cell_type": "markdown",
      "metadata": {
        "id": "IPsoRZ6FIbJ4"
      },
      "source": [
        "# Inverse Log Transform"
      ]
    },
    {
      "cell_type": "code",
      "metadata": {
        "id": "bMD4m8MJIbT-"
      },
      "source": [
        "real_stock_price_doge = np.exp(real_stock_price_doge)\n",
        "real_stock_price_samo = np.exp(real_stock_price_samo)\n",
        "\n",
        "#predicted_stock_price = np.exp(predicted_stock_price)\n",
        "\n",
        "#predicted_stock_price.shape"
      ],
      "execution_count": null,
      "outputs": []
    },
    {
      "cell_type": "code",
      "metadata": {
        "id": "1zvQYbIp46-m"
      },
      "source": [
        ""
      ],
      "execution_count": null,
      "outputs": []
    },
    {
      "cell_type": "markdown",
      "metadata": {
        "id": "9zbtqDkQIsFi"
      },
      "source": [
        "# Evaluate"
      ]
    },
    {
      "cell_type": "code",
      "metadata": {
        "colab": {
          "base_uri": "https://localhost:8080/",
          "height": 476
        },
        "id": "96hv9_sWxkuk",
        "outputId": "0e4a4818-3dc3-43e5-8de5-0569ad737098"
      },
      "source": [
        "rmse = np.sqrt(mean_squared_error(real_stock_price, predicted_stock_price))\n",
        "\n",
        "print(f\"RMSE = {rmse}\")\n",
        "\n",
        "plt.figure(figsize= (15,7))\n",
        "plt.plot(real_stock_price, color = 'blue', label = \"Real Price\")\n",
        "plt.plot(predicted_stock_price, color = 'red', label = \"Predicted Price\")\n",
        "plt.title(\"Dogecoin Price Prediction\")\n",
        "plt.xlabel(\"Time\")\n",
        "plt.ylabel(\"Dogecoin Price\")\n",
        "plt.legend()\n",
        "\n",
        "plt.show()"
      ],
      "execution_count": null,
      "outputs": [
        {
          "output_type": "stream",
          "name": "stdout",
          "text": [
            "RMSE = 0.006987121585922938\n"
          ]
        },
        {
          "output_type": "display_data",
          "data": {
            "image/png": "[encoded data removed]",
            "text/plain": [
              "<Figure size 1080x504 with 1 Axes>"
            ]
          },
          "metadata": {
            "needs_background": "light"
          }
        }
      ]
    },
    {
      "cell_type": "markdown",
      "metadata": {
        "id": "WETr6hj7KduS"
      },
      "source": [
        "# Notes on different model performances"
      ]
    },
    {
      "cell_type": "code",
      "metadata": {
        "colab": {
          "base_uri": "https://localhost:8080/",
          "height": 457
        },
        "id": "pX7ar8prKgfE",
        "outputId": "37d17ec4-88e1-4b82-88ce-3ff518d41c28"
      },
      "source": [
        "eval_dict = {\"optimizer\": [\"adam\",\"adam\",\"adam\",\"adam\",\"adam\",\"adam\",\"adam\",\"adam\",\"adam\", \"adam\", \"rmsprop\", \"rmsprop\", \"adam\"],\n",
        "             \"loss\": [\"mse\",\"mse\",\"mse\",\"mse\",\"mse\",\"mse\",\"mse\",\"mse\",\"mse\", \"mse\", \"mse\", \"mse\", \"mse\"],\n",
        "              \"history_size\": [14, 14, 3, 3, 2, 1, 2, 2, 2, 2, 2, 2, 2],\n",
        "             \"epochs\": [500, 500, 500, 500, 500, 500, 500, 500, 500, 500, 500, 500, 500],\n",
        "             \"layer0\": [50,50,50,50,50,50, 50, 50, 50, 50, 50, 100, 100],\n",
        "            \"layer1\": [10, 20, 20, 20, 50, 50, 0, 50, 20, 20, 50, 10, 10],\n",
        "           \"layer2\": [10, 10, 10, 20, 10, 10, 0, 50, 0, 10, 10, 0, 0],\n",
        "           \"layer3\": [0, 0, 0, 10, 0, 0, 0, 0, 0, 0, 0, 0, 0],\n",
        "           \"layer4\": [0, 0, 0, 0, 0, 0, 0, 0, 0, 0, 0, 0, 0],\n",
        "           \"layer5\": [0, 0, 0, 0, 0, 0,0, 0, 0, 0, 0, 0, 0],\n",
        "            \"output\": [1, 1, 1, 1, 1, 1, 1, 1, 1, 1, 1, 1, 1],\n",
        "             \"batch_size\": [32,32,32,32,32,32,32,32,32,32,32,32,32],\n",
        "           \"rmse\": [0.051, 0.037, 0.017, 0.018, 0.014, 0.021, 0.020, 0.023, np.NaN, 0.023, np.NaN, 0.020, 0.022]}\n",
        "\n",
        "eval_df = pd.DataFrame.from_dict(eval_dict)\n",
        "\n",
        "#for k,v in eval_dict.items():\n",
        "  #print(f\"{k} : {len(v)}\")\n",
        "\n",
        "eval_df"
      ],
      "execution_count": null,
      "outputs": [
        {
          "output_type": "execute_result",
          "data": {
            "text/html": [
              "<div>\n",
              "<style scoped>\n",
              "    .dataframe tbody tr th:only-of-type {\n",
              "        vertical-align: middle;\n",
              "    }\n",
              "\n",
              "    .dataframe tbody tr th {\n",
              "        vertical-align: top;\n",
              "    }\n",
              "\n",
              "    .dataframe thead th {\n",
              "        text-align: right;\n",
              "    }\n",
              "</style>\n",
              "<table border=\"1\" class=\"dataframe\">\n",
              "  <thead>\n",
              "    <tr style=\"text-align: right;\">\n",
              "      <th></th>\n",
              "      <th>optimizer</th>\n",
              "      <th>loss</th>\n",
              "      <th>history_size</th>\n",
              "      <th>epochs</th>\n",
              "      <th>layer0</th>\n",
              "      <th>layer1</th>\n",
              "      <th>layer2</th>\n",
              "      <th>layer3</th>\n",
              "      <th>layer4</th>\n",
              "      <th>layer5</th>\n",
              "      <th>output</th>\n",
              "      <th>batch_size</th>\n",
              "      <th>rmse</th>\n",
              "    </tr>\n",
              "  </thead>\n",
              "  <tbody>\n",
              "    <tr>\n",
              "      <th>0</th>\n",
              "      <td>adam</td>\n",
              "      <td>mse</td>\n",
              "      <td>14</td>\n",
              "      <td>500</td>\n",
              "      <td>50</td>\n",
              "      <td>10</td>\n",
              "      <td>10</td>\n",
              "      <td>0</td>\n",
              "      <td>0</td>\n",
              "      <td>0</td>\n",
              "      <td>1</td>\n",
              "      <td>32</td>\n",
              "      <td>0.051</td>\n",
              "    </tr>\n",
              "    <tr>\n",
              "      <th>1</th>\n",
              "      <td>adam</td>\n",
              "      <td>mse</td>\n",
              "      <td>14</td>\n",
              "      <td>500</td>\n",
              "      <td>50</td>\n",
              "      <td>20</td>\n",
              "      <td>10</td>\n",
              "      <td>0</td>\n",
              "      <td>0</td>\n",
              "      <td>0</td>\n",
              "      <td>1</td>\n",
              "      <td>32</td>\n",
              "      <td>0.037</td>\n",
              "    </tr>\n",
              "    <tr>\n",
              "      <th>2</th>\n",
              "      <td>adam</td>\n",
              "      <td>mse</td>\n",
              "      <td>3</td>\n",
              "      <td>500</td>\n",
              "      <td>50</td>\n",
              "      <td>20</td>\n",
              "      <td>10</td>\n",
              "      <td>0</td>\n",
              "      <td>0</td>\n",
              "      <td>0</td>\n",
              "      <td>1</td>\n",
              "      <td>32</td>\n",
              "      <td>0.017</td>\n",
              "    </tr>\n",
              "    <tr>\n",
              "      <th>3</th>\n",
              "      <td>adam</td>\n",
              "      <td>mse</td>\n",
              "      <td>3</td>\n",
              "      <td>500</td>\n",
              "      <td>50</td>\n",
              "      <td>20</td>\n",
              "      <td>20</td>\n",
              "      <td>10</td>\n",
              "      <td>0</td>\n",
              "      <td>0</td>\n",
              "      <td>1</td>\n",
              "      <td>32</td>\n",
              "      <td>0.018</td>\n",
              "    </tr>\n",
              "    <tr>\n",
              "      <th>4</th>\n",
              "      <td>adam</td>\n",
              "      <td>mse</td>\n",
              "      <td>2</td>\n",
              "      <td>500</td>\n",
              "      <td>50</td>\n",
              "      <td>50</td>\n",
              "      <td>10</td>\n",
              "      <td>0</td>\n",
              "      <td>0</td>\n",
              "      <td>0</td>\n",
              "      <td>1</td>\n",
              "      <td>32</td>\n",
              "      <td>0.014</td>\n",
              "    </tr>\n",
              "    <tr>\n",
              "      <th>5</th>\n",
              "      <td>adam</td>\n",
              "      <td>mse</td>\n",
              "      <td>1</td>\n",
              "      <td>500</td>\n",
              "      <td>50</td>\n",
              "      <td>50</td>\n",
              "      <td>10</td>\n",
              "      <td>0</td>\n",
              "      <td>0</td>\n",
              "      <td>0</td>\n",
              "      <td>1</td>\n",
              "      <td>32</td>\n",
              "      <td>0.021</td>\n",
              "    </tr>\n",
              "    <tr>\n",
              "      <th>6</th>\n",
              "      <td>adam</td>\n",
              "      <td>mse</td>\n",
              "      <td>2</td>\n",
              "      <td>500</td>\n",
              "      <td>50</td>\n",
              "      <td>0</td>\n",
              "      <td>0</td>\n",
              "      <td>0</td>\n",
              "      <td>0</td>\n",
              "      <td>0</td>\n",
              "      <td>1</td>\n",
              "      <td>32</td>\n",
              "      <td>0.020</td>\n",
              "    </tr>\n",
              "    <tr>\n",
              "      <th>7</th>\n",
              "      <td>adam</td>\n",
              "      <td>mse</td>\n",
              "      <td>2</td>\n",
              "      <td>500</td>\n",
              "      <td>50</td>\n",
              "      <td>50</td>\n",
              "      <td>50</td>\n",
              "      <td>0</td>\n",
              "      <td>0</td>\n",
              "      <td>0</td>\n",
              "      <td>1</td>\n",
              "      <td>32</td>\n",
              "      <td>0.023</td>\n",
              "    </tr>\n",
              "    <tr>\n",
              "      <th>8</th>\n",
              "      <td>adam</td>\n",
              "      <td>mse</td>\n",
              "      <td>2</td>\n",
              "      <td>500</td>\n",
              "      <td>50</td>\n",
              "      <td>20</td>\n",
              "      <td>0</td>\n",
              "      <td>0</td>\n",
              "      <td>0</td>\n",
              "      <td>0</td>\n",
              "      <td>1</td>\n",
              "      <td>32</td>\n",
              "      <td>NaN</td>\n",
              "    </tr>\n",
              "    <tr>\n",
              "      <th>9</th>\n",
              "      <td>adam</td>\n",
              "      <td>mse</td>\n",
              "      <td>2</td>\n",
              "      <td>500</td>\n",
              "      <td>50</td>\n",
              "      <td>20</td>\n",
              "      <td>10</td>\n",
              "      <td>0</td>\n",
              "      <td>0</td>\n",
              "      <td>0</td>\n",
              "      <td>1</td>\n",
              "      <td>32</td>\n",
              "      <td>0.023</td>\n",
              "    </tr>\n",
              "    <tr>\n",
              "      <th>10</th>\n",
              "      <td>rmsprop</td>\n",
              "      <td>mse</td>\n",
              "      <td>2</td>\n",
              "      <td>500</td>\n",
              "      <td>50</td>\n",
              "      <td>50</td>\n",
              "      <td>10</td>\n",
              "      <td>0</td>\n",
              "      <td>0</td>\n",
              "      <td>0</td>\n",
              "      <td>1</td>\n",
              "      <td>32</td>\n",
              "      <td>NaN</td>\n",
              "    </tr>\n",
              "    <tr>\n",
              "      <th>11</th>\n",
              "      <td>rmsprop</td>\n",
              "      <td>mse</td>\n",
              "      <td>2</td>\n",
              "      <td>500</td>\n",
              "      <td>100</td>\n",
              "      <td>10</td>\n",
              "      <td>0</td>\n",
              "      <td>0</td>\n",
              "      <td>0</td>\n",
              "      <td>0</td>\n",
              "      <td>1</td>\n",
              "      <td>32</td>\n",
              "      <td>0.020</td>\n",
              "    </tr>\n",
              "    <tr>\n",
              "      <th>12</th>\n",
              "      <td>adam</td>\n",
              "      <td>mse</td>\n",
              "      <td>2</td>\n",
              "      <td>500</td>\n",
              "      <td>100</td>\n",
              "      <td>10</td>\n",
              "      <td>0</td>\n",
              "      <td>0</td>\n",
              "      <td>0</td>\n",
              "      <td>0</td>\n",
              "      <td>1</td>\n",
              "      <td>32</td>\n",
              "      <td>0.022</td>\n",
              "    </tr>\n",
              "  </tbody>\n",
              "</table>\n",
              "</div>"
            ],
            "text/plain": [
              "   optimizer loss  history_size  epochs  ...  layer5  output  batch_size   rmse\n",
              "0       adam  mse            14     500  ...       0       1          32  0.051\n",
              "1       adam  mse            14     500  ...       0       1          32  0.037\n",
              "2       adam  mse             3     500  ...       0       1          32  0.017\n",
              "3       adam  mse             3     500  ...       0       1          32  0.018\n",
              "4       adam  mse             2     500  ...       0       1          32  0.014\n",
              "5       adam  mse             1     500  ...       0       1          32  0.021\n",
              "6       adam  mse             2     500  ...       0       1          32  0.020\n",
              "7       adam  mse             2     500  ...       0       1          32  0.023\n",
              "8       adam  mse             2     500  ...       0       1          32    NaN\n",
              "9       adam  mse             2     500  ...       0       1          32  0.023\n",
              "10   rmsprop  mse             2     500  ...       0       1          32    NaN\n",
              "11   rmsprop  mse             2     500  ...       0       1          32  0.020\n",
              "12      adam  mse             2     500  ...       0       1          32  0.022\n",
              "\n",
              "[13 rows x 13 columns]"
            ]
          },
          "metadata": {},
          "execution_count": 185
        }
      ]
    },
    {
      "cell_type": "code",
      "metadata": {
        "colab": {
          "base_uri": "https://localhost:8080/",
          "height": 206
        },
        "id": "daEMhsJwaWtu",
        "outputId": "dd8c9236-0b44-4d3e-fd13-6076b892a4da"
      },
      "source": [
        "df_final.head()"
      ],
      "execution_count": null,
      "outputs": [
        {
          "output_type": "execute_result",
          "data": {
            "text/html": [
              "<div>\n",
              "<style scoped>\n",
              "    .dataframe tbody tr th:only-of-type {\n",
              "        vertical-align: middle;\n",
              "    }\n",
              "\n",
              "    .dataframe tbody tr th {\n",
              "        vertical-align: top;\n",
              "    }\n",
              "\n",
              "    .dataframe thead th {\n",
              "        text-align: right;\n",
              "    }\n",
              "</style>\n",
              "<table border=\"1\" class=\"dataframe\">\n",
              "  <thead>\n",
              "    <tr style=\"text-align: right;\">\n",
              "      <th></th>\n",
              "      <th>price</th>\n",
              "      <th>Google_Trends</th>\n",
              "    </tr>\n",
              "  </thead>\n",
              "  <tbody>\n",
              "    <tr>\n",
              "      <th>2021-08-28 00:00:00</th>\n",
              "      <td>-1.390250</td>\n",
              "      <td>-1.0</td>\n",
              "    </tr>\n",
              "    <tr>\n",
              "      <th>2021-08-28 01:00:00</th>\n",
              "      <td>-1.373264</td>\n",
              "      <td>-1.0</td>\n",
              "    </tr>\n",
              "    <tr>\n",
              "      <th>2021-08-28 02:00:00</th>\n",
              "      <td>-1.384719</td>\n",
              "      <td>-1.0</td>\n",
              "    </tr>\n",
              "    <tr>\n",
              "      <th>2021-08-28 03:00:00</th>\n",
              "      <td>-1.394196</td>\n",
              "      <td>-1.0</td>\n",
              "    </tr>\n",
              "    <tr>\n",
              "      <th>2021-08-28 04:00:00</th>\n",
              "      <td>-1.396323</td>\n",
              "      <td>-1.0</td>\n",
              "    </tr>\n",
              "  </tbody>\n",
              "</table>\n",
              "</div>"
            ],
            "text/plain": [
              "                        price  Google_Trends\n",
              "2021-08-28 00:00:00 -1.390250           -1.0\n",
              "2021-08-28 01:00:00 -1.373264           -1.0\n",
              "2021-08-28 02:00:00 -1.384719           -1.0\n",
              "2021-08-28 03:00:00 -1.394196           -1.0\n",
              "2021-08-28 04:00:00 -1.396323           -1.0"
            ]
          },
          "metadata": {},
          "execution_count": 173
        }
      ]
    },
    {
      "cell_type": "code",
      "metadata": {
        "colab": {
          "base_uri": "https://localhost:8080/",
          "height": 488
        },
        "id": "Gt68pUaHcyPg",
        "outputId": "7e90b6de-a959-44b4-8d7a-9b3fce3c7408"
      },
      "source": [
        "df_pred = pd.DataFrame(X_test[0], columns= [\"high\", \"Google_trends\"])\n",
        "df_pred"
      ],
      "execution_count": null,
      "outputs": [
        {
          "output_type": "execute_result",
          "data": {
            "text/html": [
              "<div>\n",
              "<style scoped>\n",
              "    .dataframe tbody tr th:only-of-type {\n",
              "        vertical-align: middle;\n",
              "    }\n",
              "\n",
              "    .dataframe tbody tr th {\n",
              "        vertical-align: top;\n",
              "    }\n",
              "\n",
              "    .dataframe thead th {\n",
              "        text-align: right;\n",
              "    }\n",
              "</style>\n",
              "<table border=\"1\" class=\"dataframe\">\n",
              "  <thead>\n",
              "    <tr style=\"text-align: right;\">\n",
              "      <th></th>\n",
              "      <th>high</th>\n",
              "      <th>Google_trends</th>\n",
              "    </tr>\n",
              "  </thead>\n",
              "  <tbody>\n",
              "    <tr>\n",
              "      <th>0</th>\n",
              "      <td>0.623125</td>\n",
              "      <td>0.722772</td>\n",
              "    </tr>\n",
              "    <tr>\n",
              "      <th>1</th>\n",
              "      <td>0.640528</td>\n",
              "      <td>0.693069</td>\n",
              "    </tr>\n",
              "    <tr>\n",
              "      <th>2</th>\n",
              "      <td>0.651518</td>\n",
              "      <td>0.623762</td>\n",
              "    </tr>\n",
              "    <tr>\n",
              "      <th>3</th>\n",
              "      <td>0.647062</td>\n",
              "      <td>0.574257</td>\n",
              "    </tr>\n",
              "    <tr>\n",
              "      <th>4</th>\n",
              "      <td>0.648080</td>\n",
              "      <td>1.000000</td>\n",
              "    </tr>\n",
              "    <tr>\n",
              "      <th>5</th>\n",
              "      <td>0.750242</td>\n",
              "      <td>0.841584</td>\n",
              "    </tr>\n",
              "    <tr>\n",
              "      <th>6</th>\n",
              "      <td>0.772567</td>\n",
              "      <td>0.841584</td>\n",
              "    </tr>\n",
              "    <tr>\n",
              "      <th>7</th>\n",
              "      <td>0.733399</td>\n",
              "      <td>0.663366</td>\n",
              "    </tr>\n",
              "    <tr>\n",
              "      <th>8</th>\n",
              "      <td>0.718805</td>\n",
              "      <td>0.683168</td>\n",
              "    </tr>\n",
              "    <tr>\n",
              "      <th>9</th>\n",
              "      <td>0.714355</td>\n",
              "      <td>0.673267</td>\n",
              "    </tr>\n",
              "    <tr>\n",
              "      <th>10</th>\n",
              "      <td>0.691785</td>\n",
              "      <td>0.653465</td>\n",
              "    </tr>\n",
              "    <tr>\n",
              "      <th>11</th>\n",
              "      <td>0.674956</td>\n",
              "      <td>0.663366</td>\n",
              "    </tr>\n",
              "    <tr>\n",
              "      <th>12</th>\n",
              "      <td>0.679194</td>\n",
              "      <td>0.693069</td>\n",
              "    </tr>\n",
              "    <tr>\n",
              "      <th>13</th>\n",
              "      <td>0.701493</td>\n",
              "      <td>0.712871</td>\n",
              "    </tr>\n",
              "  </tbody>\n",
              "</table>\n",
              "</div>"
            ],
            "text/plain": [
              "        high  Google_trends\n",
              "0   0.623125       0.722772\n",
              "1   0.640528       0.693069\n",
              "2   0.651518       0.623762\n",
              "3   0.647062       0.574257\n",
              "4   0.648080       1.000000\n",
              "5   0.750242       0.841584\n",
              "6   0.772567       0.841584\n",
              "7   0.733399       0.663366\n",
              "8   0.718805       0.683168\n",
              "9   0.714355       0.673267\n",
              "10  0.691785       0.653465\n",
              "11  0.674956       0.663366\n",
              "12  0.679194       0.693069\n",
              "13  0.701493       0.712871"
            ]
          },
          "metadata": {},
          "execution_count": 174
        }
      ]
    },
    {
      "cell_type": "code",
      "metadata": {
        "id": "VHDIkR-GNVr_"
      },
      "source": [
        "def preprocess(df, scaler):\n",
        "    \"\"\"method that pre-process the data\"\"\"\n",
        "\n",
        "    # log transforming the data\n",
        "    df[\"high\"] = np.log(df[\"high\"])\n",
        "\n",
        "    # selecting relevant column from df\n",
        "    dataset = df.values\n",
        "\n",
        "    # scaling the data\n",
        "    dataset_scaled = scaler.fit_transform(dataset)\n",
        "\n",
        "    dataset_scaled = dataset_scaled.reshape(1,dataset.shape[0],dataset.shape[1])\n",
        "\n",
        "    return dataset_scaled, scaler\n",
        "\n",
        "\n",
        "def inverse_scaler(pred, scaler):\n",
        "\n",
        "  pred = inverse_transformer(pred)\n",
        "\n",
        "  pred = np.exp(pred)\n",
        "\n",
        "  return pred"
      ],
      "execution_count": null,
      "outputs": []
    },
    {
      "cell_type": "code",
      "metadata": {
        "id": "inOyBVSOkKrc"
      },
      "source": [
        "df_pred_preproc, scaler = preprocess(df_pred, scaler)"
      ],
      "execution_count": null,
      "outputs": []
    },
    {
      "cell_type": "code",
      "metadata": {
        "colab": {
          "base_uri": "https://localhost:8080/",
          "height": 217
        },
        "id": "Llsx2R8TkRGX",
        "outputId": "01f5219e-ce4f-42c5-bcc6-796d64d1b336"
      },
      "source": [
        "pred = model.predict(df_pred_preproc)\n",
        "prediction = inverse_scaler(pred, scaler)[0][0]\n",
        "\n",
        "prediction"
      ],
      "execution_count": null,
      "outputs": [
        {
          "output_type": "error",
          "ename": "IndexError",
          "evalue": "ignored",
          "traceback": [
            "\u001b[0;31m---------------------------------------------------------------------------\u001b[0m",
            "\u001b[0;31mIndexError\u001b[0m                                Traceback (most recent call last)",
            "\u001b[0;32m<ipython-input-177-d96fc5c33514>\u001b[0m in \u001b[0;36m<module>\u001b[0;34m()\u001b[0m\n\u001b[1;32m      1\u001b[0m \u001b[0mpred\u001b[0m \u001b[0;34m=\u001b[0m \u001b[0mmodel\u001b[0m\u001b[0;34m.\u001b[0m\u001b[0mpredict\u001b[0m\u001b[0;34m(\u001b[0m\u001b[0mdf_pred_preproc\u001b[0m\u001b[0;34m)\u001b[0m\u001b[0;34m\u001b[0m\u001b[0;34m\u001b[0m\u001b[0m\n\u001b[0;32m----> 2\u001b[0;31m \u001b[0mprediction\u001b[0m \u001b[0;34m=\u001b[0m \u001b[0minverse_scaler\u001b[0m\u001b[0;34m(\u001b[0m\u001b[0mpred\u001b[0m\u001b[0;34m,\u001b[0m \u001b[0mscaler\u001b[0m\u001b[0;34m)\u001b[0m\u001b[0;34m[\u001b[0m\u001b[0;36m0\u001b[0m\u001b[0;34m]\u001b[0m\u001b[0;34m[\u001b[0m\u001b[0;36m0\u001b[0m\u001b[0;34m]\u001b[0m\u001b[0;34m\u001b[0m\u001b[0;34m\u001b[0m\u001b[0m\n\u001b[0m\u001b[1;32m      3\u001b[0m \u001b[0;34m\u001b[0m\u001b[0m\n\u001b[1;32m      4\u001b[0m \u001b[0mprediction\u001b[0m\u001b[0;34m\u001b[0m\u001b[0;34m\u001b[0m\u001b[0m\n",
            "\u001b[0;31mIndexError\u001b[0m: invalid index to scalar variable."
          ]
        }
      ]
    },
    {
      "cell_type": "code",
      "metadata": {
        "id": "3-qF-_3Uj2Yn"
      },
      "source": [
        "df_pred_preproc.shape"
      ],
      "execution_count": null,
      "outputs": []
    },
    {
      "cell_type": "code",
      "metadata": {
        "id": "4u1CyNRcdI23"
      },
      "source": [
        "pred = model.predict(df_pred_preproc)[0][0]\n",
        "pred"
      ],
      "execution_count": null,
      "outputs": []
    },
    {
      "cell_type": "code",
      "metadata": {
        "id": "4LgHP7wPjp7B"
      },
      "source": [
        ""
      ],
      "execution_count": null,
      "outputs": []
    },
    {
      "cell_type": "markdown",
      "metadata": {
        "id": "vchgMrky-uKx"
      },
      "source": [
        "# Features"
      ]
    },
    {
      "cell_type": "markdown",
      "metadata": {
        "id": "BXcsR92k-wKj"
      },
      "source": [
        "- historical price data\n",
        "- google price data\n",
        "- rendite (calculate daily return)\n",
        "- kumulierte rendite (z.b. letzte 5 Tage)\n",
        "- short term moving average (letzte 10 Tage)\n",
        "- long term moving average (letzte 30 Tage)\n",
        "- alternativ: binäres feature (liegt kurzfristiger MA über langfristigen MA)\n",
        "- talib (financial indicators inkludieren)\n",
        "- talib RSI (relative strength index)\n",
        "- volumen inkludieren\n",
        "\n",
        "- evtl. auf Klassifikationsproblem umsteigen"
      ]
    },
    {
      "cell_type": "code",
      "metadata": {
        "id": "YUdF_ipZdnND"
      },
      "source": [
        ""
      ],
      "execution_count": null,
      "outputs": []
    }
  ]
}