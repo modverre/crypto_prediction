{
  "nbformat": 4,
  "nbformat_minor": 5,
  "metadata": {
    "kernelspec": {
      "display_name": "Python 3 (ipykernel)",
      "language": "python",
      "name": "python3"
    },
    "language_info": {
      "codemirror_mode": {
        "name": "ipython",
        "version": 3
      },
      "file_extension": ".py",
      "mimetype": "text/x-python",
      "name": "python",
      "nbconvert_exporter": "python",
      "pygments_lexer": "ipython3",
      "version": "3.8.12"
    },
    "toc": {
      "base_numbering": 1,
      "nav_menu": {},
      "number_sections": true,
      "sideBar": true,
      "skip_h1_title": false,
      "title_cell": "Table of Contents",
      "title_sidebar": "Contents",
      "toc_cell": false,
      "toc_position": {},
      "toc_section_display": true,
      "toc_window_display": false
    },
    "colab": {
      "name": "RNN-Model_Env.ipynb",
      "provenance": [],
      "collapsed_sections": []
    }
  },
  "cells": [
    {
      "cell_type": "markdown",
      "metadata": {
        "id": "bb3ac838"
      },
      "source": [
        "# RNN - Model"
      ],
      "id": "bb3ac838"
    },
    {
      "cell_type": "markdown",
      "metadata": {
        "id": "d9eee833"
      },
      "source": [
        "This Notebook will be used to create and iterate over our RNN - Model to predict Memecoin Prices."
      ],
      "id": "d9eee833"
    },
    {
      "cell_type": "markdown",
      "metadata": {
        "id": "d222da83"
      },
      "source": [
        "### Imports"
      ],
      "id": "d222da83"
    },
    {
      "cell_type": "code",
      "metadata": {
        "id": "c2f77186"
      },
      "source": [
        "import pandas as pd\n",
        "import numpy as np\n",
        "import matplotlib.pyplot as plt"
      ],
      "id": "c2f77186",
      "execution_count": 1,
      "outputs": []
    },
    {
      "cell_type": "code",
      "metadata": {
        "id": "NpeaJ-XddWOF"
      },
      "source": [
        "from sklearn.preprocessing import MinMaxScaler"
      ],
      "id": "NpeaJ-XddWOF",
      "execution_count": 9,
      "outputs": []
    },
    {
      "cell_type": "code",
      "metadata": {
        "id": "e453965e"
      },
      "source": [
        "from tensorflow.keras.models import Sequential\n",
        "from tensorflow.keras.layers import Dense\n",
        "from tensorflow.keras.layers import LSTM\n",
        "from tensorflow.keras.layers import Dropout\n",
        "from tensorflow.keras.callbacks import EarlyStopping"
      ],
      "id": "e453965e",
      "execution_count": 24,
      "outputs": []
    },
    {
      "cell_type": "markdown",
      "metadata": {
        "id": "332098c5"
      },
      "source": [
        "### Data"
      ],
      "id": "332098c5"
    },
    {
      "cell_type": "code",
      "metadata": {
        "id": "91a102f9"
      },
      "source": [
        "url_train = 'https://raw.githubusercontent.com/TatevKaren/recurrent-neural-network-pricing-model/main/bitcoin_data/Bitcoin_Stock_Price_Trainset.csv'\n",
        "url_test = 'https://raw.githubusercontent.com/TatevKaren/recurrent-neural-network-pricing-model/main/bitcoin_data/Bitcoin_Stock_Price_Testset.csv'\n",
        "\n",
        "df_train = pd.read_csv(url_train,index_col=0,parse_dates=[0])\n",
        "df_test = pd.read_csv(url_test,index_col=0,parse_dates=[0])"
      ],
      "id": "91a102f9",
      "execution_count": 4,
      "outputs": []
    },
    {
      "cell_type": "code",
      "metadata": {
        "colab": {
          "base_uri": "https://localhost:8080/",
          "height": 235
        },
        "id": "da03e955",
        "outputId": "d164e8f2-fb9f-44b8-f11b-7a07f9873c4b"
      },
      "source": [
        "df_train.head()"
      ],
      "id": "da03e955",
      "execution_count": 5,
      "outputs": [
        {
          "output_type": "execute_result",
          "data": {
            "text/html": [
              "<div>\n",
              "<style scoped>\n",
              "    .dataframe tbody tr th:only-of-type {\n",
              "        vertical-align: middle;\n",
              "    }\n",
              "\n",
              "    .dataframe tbody tr th {\n",
              "        vertical-align: top;\n",
              "    }\n",
              "\n",
              "    .dataframe thead th {\n",
              "        text-align: right;\n",
              "    }\n",
              "</style>\n",
              "<table border=\"1\" class=\"dataframe\">\n",
              "  <thead>\n",
              "    <tr style=\"text-align: right;\">\n",
              "      <th></th>\n",
              "      <th>Open</th>\n",
              "      <th>High</th>\n",
              "      <th>Low</th>\n",
              "      <th>Close</th>\n",
              "      <th>Adj Close</th>\n",
              "      <th>Volume</th>\n",
              "    </tr>\n",
              "    <tr>\n",
              "      <th>Date</th>\n",
              "      <th></th>\n",
              "      <th></th>\n",
              "      <th></th>\n",
              "      <th></th>\n",
              "      <th></th>\n",
              "      <th></th>\n",
              "    </tr>\n",
              "  </thead>\n",
              "  <tbody>\n",
              "    <tr>\n",
              "      <th>2016-01-01</th>\n",
              "      <td>430.721008</td>\n",
              "      <td>436.246002</td>\n",
              "      <td>427.515015</td>\n",
              "      <td>434.334015</td>\n",
              "      <td>434.334015</td>\n",
              "      <td>36278900</td>\n",
              "    </tr>\n",
              "    <tr>\n",
              "      <th>2016-01-02</th>\n",
              "      <td>434.622009</td>\n",
              "      <td>436.062012</td>\n",
              "      <td>431.869995</td>\n",
              "      <td>433.437988</td>\n",
              "      <td>433.437988</td>\n",
              "      <td>30096600</td>\n",
              "    </tr>\n",
              "    <tr>\n",
              "      <th>2016-01-03</th>\n",
              "      <td>433.578003</td>\n",
              "      <td>433.743011</td>\n",
              "      <td>424.705994</td>\n",
              "      <td>430.010986</td>\n",
              "      <td>430.010986</td>\n",
              "      <td>39633800</td>\n",
              "    </tr>\n",
              "    <tr>\n",
              "      <th>2016-01-04</th>\n",
              "      <td>430.061005</td>\n",
              "      <td>434.516998</td>\n",
              "      <td>429.084015</td>\n",
              "      <td>433.091003</td>\n",
              "      <td>433.091003</td>\n",
              "      <td>38477500</td>\n",
              "    </tr>\n",
              "    <tr>\n",
              "      <th>2016-01-05</th>\n",
              "      <td>433.069000</td>\n",
              "      <td>434.182007</td>\n",
              "      <td>429.675995</td>\n",
              "      <td>431.959991</td>\n",
              "      <td>431.959991</td>\n",
              "      <td>34522600</td>\n",
              "    </tr>\n",
              "  </tbody>\n",
              "</table>\n",
              "</div>"
            ],
            "text/plain": [
              "                  Open        High  ...   Adj Close    Volume\n",
              "Date                                ...                      \n",
              "2016-01-01  430.721008  436.246002  ...  434.334015  36278900\n",
              "2016-01-02  434.622009  436.062012  ...  433.437988  30096600\n",
              "2016-01-03  433.578003  433.743011  ...  430.010986  39633800\n",
              "2016-01-04  430.061005  434.516998  ...  433.091003  38477500\n",
              "2016-01-05  433.069000  434.182007  ...  431.959991  34522600\n",
              "\n",
              "[5 rows x 6 columns]"
            ]
          },
          "metadata": {},
          "execution_count": 5
        }
      ]
    },
    {
      "cell_type": "code",
      "metadata": {
        "colab": {
          "base_uri": "https://localhost:8080/"
        },
        "id": "f323e714",
        "outputId": "631afaf9-acb6-4283-a766-f778c856f24c"
      },
      "source": [
        "df_train.info()"
      ],
      "id": "f323e714",
      "execution_count": 6,
      "outputs": [
        {
          "output_type": "stream",
          "name": "stdout",
          "text": [
            "<class 'pandas.core.frame.DataFrame'>\n",
            "DatetimeIndex: 1823 entries, 2016-01-01 to 2020-12-31\n",
            "Data columns (total 6 columns):\n",
            " #   Column     Non-Null Count  Dtype  \n",
            "---  ------     --------------  -----  \n",
            " 0   Open       1823 non-null   float64\n",
            " 1   High       1823 non-null   float64\n",
            " 2   Low        1823 non-null   float64\n",
            " 3   Close      1823 non-null   float64\n",
            " 4   Adj Close  1823 non-null   float64\n",
            " 5   Volume     1823 non-null   int64  \n",
            "dtypes: float64(5), int64(1)\n",
            "memory usage: 99.7 KB\n"
          ]
        }
      ]
    },
    {
      "cell_type": "code",
      "metadata": {
        "id": "lAnPAoG_eD3y"
      },
      "source": [
        "training_set = df_train.iloc[:,1:2].values"
      ],
      "id": "lAnPAoG_eD3y",
      "execution_count": 17,
      "outputs": []
    },
    {
      "cell_type": "code",
      "metadata": {
        "id": "5C8dVnqEdQW5"
      },
      "source": [
        "# Feature scaling\n",
        "sc = MinMaxScaler(feature_range=(0,1))\n",
        "training_set_scaled = sc.fit_transform(training_set)\n",
        "#print(training_set_scaled[0,:])\n",
        "\n",
        "#creating a data structure with 60 timesteps and 1 output\n",
        "X_train = []\n",
        "y_train = []\n",
        "\n",
        "for i in range(90,training_set_scaled.size):\n",
        "    # appending the 60 previous stock prices to the list for i\n",
        "    # we need to specify the rows and simply pick the first and only column\n",
        "    X_train.append(training_set_scaled[i-90:i, 0])\n",
        "    # appending the 60th stock price to the list for i\n",
        "    y_train.append(training_set_scaled[i, 0])\n",
        "# transforming pandas lists to numpy arrays required for the RNN\n",
        "X_train, y_train = np.array(X_train), np.array(y_train)\n",
        "#print(X_train)\n"
      ],
      "id": "5C8dVnqEdQW5",
      "execution_count": 20,
      "outputs": []
    },
    {
      "cell_type": "markdown",
      "metadata": {
        "id": "Nzn5tpVzdRhN"
      },
      "source": [
        "## Scaling"
      ],
      "id": "Nzn5tpVzdRhN"
    },
    {
      "cell_type": "code",
      "metadata": {
        "id": "gML8DcehdIix"
      },
      "source": [
        "X_train = np.reshape(X_train, [X_train.shape[0], X_train.shape[1], 1])"
      ],
      "id": "gML8DcehdIix",
      "execution_count": 22,
      "outputs": []
    },
    {
      "cell_type": "code",
      "metadata": {
        "colab": {
          "base_uri": "https://localhost:8080/",
          "height": 232
        },
        "id": "cW5ftjkld6eQ",
        "outputId": "350fd636-3235-4eae-afa7-7937e1b269e1"
      },
      "source": [
        "X_train = []\n",
        "y_train = []\n",
        "X_test  = []\n",
        "for i in range(90,training_set_scaled.size):\n",
        "    X_train.append(training_set_scaled[i-90:i, 0])\n",
        "    y_train.append(training_set_scaled[i, 0])\n",
        "X_train, y_train = np.array(X_train), np.array(y_train)\n",
        "for i in range(90,inputs.size):\n",
        "    X_test.append(inputs[i-90:i, 0])\n",
        "X_test = np.array(X_test)"
      ],
      "id": "cW5ftjkld6eQ",
      "execution_count": 15,
      "outputs": [
        {
          "output_type": "error",
          "ename": "IndexError",
          "evalue": "ignored",
          "traceback": [
            "\u001b[0;31m---------------------------------------------------------------------------\u001b[0m",
            "\u001b[0;31mIndexError\u001b[0m                                Traceback (most recent call last)",
            "\u001b[0;32m<ipython-input-15-2fa6c2bb921e>\u001b[0m in \u001b[0;36m<module>\u001b[0;34m()\u001b[0m\n\u001b[1;32m      4\u001b[0m \u001b[0;32mfor\u001b[0m \u001b[0mi\u001b[0m \u001b[0;32min\u001b[0m \u001b[0mrange\u001b[0m\u001b[0;34m(\u001b[0m\u001b[0;36m90\u001b[0m\u001b[0;34m,\u001b[0m\u001b[0mtraining_set_scaled\u001b[0m\u001b[0;34m.\u001b[0m\u001b[0msize\u001b[0m\u001b[0;34m)\u001b[0m\u001b[0;34m:\u001b[0m\u001b[0;34m\u001b[0m\u001b[0;34m\u001b[0m\u001b[0m\n\u001b[1;32m      5\u001b[0m     \u001b[0mX_train\u001b[0m\u001b[0;34m.\u001b[0m\u001b[0mappend\u001b[0m\u001b[0;34m(\u001b[0m\u001b[0mtraining_set_scaled\u001b[0m\u001b[0;34m[\u001b[0m\u001b[0mi\u001b[0m\u001b[0;34m-\u001b[0m\u001b[0;36m90\u001b[0m\u001b[0;34m:\u001b[0m\u001b[0mi\u001b[0m\u001b[0;34m,\u001b[0m \u001b[0;36m0\u001b[0m\u001b[0;34m]\u001b[0m\u001b[0;34m)\u001b[0m\u001b[0;34m\u001b[0m\u001b[0;34m\u001b[0m\u001b[0m\n\u001b[0;32m----> 6\u001b[0;31m     \u001b[0my_train\u001b[0m\u001b[0;34m.\u001b[0m\u001b[0mappend\u001b[0m\u001b[0;34m(\u001b[0m\u001b[0mtraining_set_scaled\u001b[0m\u001b[0;34m[\u001b[0m\u001b[0mi\u001b[0m\u001b[0;34m,\u001b[0m \u001b[0;36m0\u001b[0m\u001b[0;34m]\u001b[0m\u001b[0;34m)\u001b[0m\u001b[0;34m\u001b[0m\u001b[0;34m\u001b[0m\u001b[0m\n\u001b[0m\u001b[1;32m      7\u001b[0m \u001b[0mX_train\u001b[0m\u001b[0;34m,\u001b[0m \u001b[0my_train\u001b[0m \u001b[0;34m=\u001b[0m \u001b[0mnp\u001b[0m\u001b[0;34m.\u001b[0m\u001b[0marray\u001b[0m\u001b[0;34m(\u001b[0m\u001b[0mX_train\u001b[0m\u001b[0;34m)\u001b[0m\u001b[0;34m,\u001b[0m \u001b[0mnp\u001b[0m\u001b[0;34m.\u001b[0m\u001b[0marray\u001b[0m\u001b[0;34m(\u001b[0m\u001b[0my_train\u001b[0m\u001b[0;34m)\u001b[0m\u001b[0;34m\u001b[0m\u001b[0;34m\u001b[0m\u001b[0m\n\u001b[1;32m      8\u001b[0m \u001b[0;32mfor\u001b[0m \u001b[0mi\u001b[0m \u001b[0;32min\u001b[0m \u001b[0mrange\u001b[0m\u001b[0;34m(\u001b[0m\u001b[0;36m90\u001b[0m\u001b[0;34m,\u001b[0m\u001b[0minputs\u001b[0m\u001b[0;34m.\u001b[0m\u001b[0msize\u001b[0m\u001b[0;34m)\u001b[0m\u001b[0;34m:\u001b[0m\u001b[0;34m\u001b[0m\u001b[0;34m\u001b[0m\u001b[0m\n",
            "\u001b[0;31mIndexError\u001b[0m: index 1823 is out of bounds for axis 0 with size 1823"
          ]
        }
      ]
    },
    {
      "cell_type": "markdown",
      "metadata": {
        "id": "560545cc"
      },
      "source": [
        "# Modeling"
      ],
      "id": "560545cc"
    },
    {
      "cell_type": "code",
      "metadata": {
        "colab": {
          "base_uri": "https://localhost:8080/"
        },
        "id": "2ee02d92",
        "outputId": "cf3a7fe4-e8f3-4325-db69-9422c163ff42"
      },
      "source": [
        "regressor = Sequential()\n",
        "\n",
        "# LSTM layer 1\n",
        "regressor.add(LSTM(units = 50, return_sequences=True, input_shape = (X_train.shape[1], 1)))\n",
        "regressor.add(Dropout(0.2))\n",
        "\n",
        "# LSTM layer 2,3,4\n",
        "regressor.add(LSTM(units = 50, return_sequences=True))\n",
        "regressor.add(Dropout(0.2))\n",
        "regressor.add(LSTM(units = 50, return_sequences=True))\n",
        "regressor.add(Dropout(0.2))\n",
        "regressor.add(LSTM(units = 50, return_sequences=True))\n",
        "regressor.add(Dropout(0.2))\n",
        "regressor.add(LSTM(units = 50, return_sequences=True))\n",
        "regressor.add(Dropout(0.2))\n",
        "\n",
        "# LSTM layer 5\n",
        "regressor.add(LSTM(units = 50))\n",
        "regressor.add(Dropout(0.2))\n",
        "\n",
        "# Fully connected layer\n",
        "regressor.add(Dense(units = 1))\n",
        "\n",
        "# Compiling the RNN\n",
        "regressor.compile(optimizer = 'adam', loss = 'mean_squared_error')\n",
        "\n",
        "# Specifying Early Stopping Criterion\n",
        "es = EarlyStopping(patience= 4, restore_best_weights=True)\n",
        "\n",
        "#Fitting the RNN model\n",
        "regressor.fit(X_train, \n",
        "              y_train, \n",
        "              epochs = 20, \n",
        "              batch_size = 32,\n",
        "              callbacks= [es])"
      ],
      "id": "2ee02d92",
      "execution_count": null,
      "outputs": [
        {
          "output_type": "stream",
          "name": "stdout",
          "text": [
            "Epoch 1/20\n",
            "55/55 [==============================] - ETA: 0s - loss: 0.0109WARNING:tensorflow:Early stopping conditioned on metric `val_loss` which is not available. Available metrics are: loss\n",
            "55/55 [==============================] - 26s 292ms/step - loss: 0.0109\n",
            "Epoch 2/20\n",
            "55/55 [==============================] - ETA: 0s - loss: 0.0045WARNING:tensorflow:Early stopping conditioned on metric `val_loss` which is not available. Available metrics are: loss\n",
            "55/55 [==============================] - 16s 291ms/step - loss: 0.0045\n",
            "Epoch 3/20\n",
            "55/55 [==============================] - ETA: 0s - loss: 0.0034WARNING:tensorflow:Early stopping conditioned on metric `val_loss` which is not available. Available metrics are: loss\n",
            "55/55 [==============================] - 16s 299ms/step - loss: 0.0034\n",
            "Epoch 4/20\n",
            "55/55 [==============================] - ETA: 0s - loss: 0.0032WARNING:tensorflow:Early stopping conditioned on metric `val_loss` which is not available. Available metrics are: loss\n",
            "55/55 [==============================] - 16s 291ms/step - loss: 0.0032\n",
            "Epoch 5/20\n",
            "55/55 [==============================] - ETA: 0s - loss: 0.0027WARNING:tensorflow:Early stopping conditioned on metric `val_loss` which is not available. Available metrics are: loss\n",
            "55/55 [==============================] - 16s 293ms/step - loss: 0.0027\n",
            "Epoch 6/20\n",
            "55/55 [==============================] - ETA: 0s - loss: 0.0026WARNING:tensorflow:Early stopping conditioned on metric `val_loss` which is not available. Available metrics are: loss\n",
            "55/55 [==============================] - 16s 294ms/step - loss: 0.0026\n",
            "Epoch 7/20\n",
            "55/55 [==============================] - ETA: 0s - loss: 0.0024WARNING:tensorflow:Early stopping conditioned on metric `val_loss` which is not available. Available metrics are: loss\n",
            "55/55 [==============================] - 16s 287ms/step - loss: 0.0024\n",
            "Epoch 8/20\n",
            "55/55 [==============================] - ETA: 0s - loss: 0.0020WARNING:tensorflow:Early stopping conditioned on metric `val_loss` which is not available. Available metrics are: loss\n",
            "55/55 [==============================] - 16s 291ms/step - loss: 0.0020\n",
            "Epoch 9/20\n",
            "55/55 [==============================] - ETA: 0s - loss: 0.0020WARNING:tensorflow:Early stopping conditioned on metric `val_loss` which is not available. Available metrics are: loss\n",
            "55/55 [==============================] - 16s 294ms/step - loss: 0.0020\n",
            "Epoch 10/20\n",
            "55/55 [==============================] - ETA: 0s - loss: 0.0018WARNING:tensorflow:Early stopping conditioned on metric `val_loss` which is not available. Available metrics are: loss\n",
            "55/55 [==============================] - 16s 291ms/step - loss: 0.0018\n",
            "Epoch 11/20\n",
            "55/55 [==============================] - ETA: 0s - loss: 0.0016WARNING:tensorflow:Early stopping conditioned on metric `val_loss` which is not available. Available metrics are: loss\n",
            "55/55 [==============================] - 16s 294ms/step - loss: 0.0016\n",
            "Epoch 12/20\n",
            "55/55 [==============================] - ETA: 0s - loss: 0.0018WARNING:tensorflow:Early stopping conditioned on metric `val_loss` which is not available. Available metrics are: loss\n",
            "55/55 [==============================] - 16s 298ms/step - loss: 0.0018\n",
            "Epoch 13/20\n",
            "55/55 [==============================] - ETA: 0s - loss: 0.0019WARNING:tensorflow:Early stopping conditioned on metric `val_loss` which is not available. Available metrics are: loss\n",
            "55/55 [==============================] - 16s 294ms/step - loss: 0.0019\n",
            "Epoch 14/20\n",
            "55/55 [==============================] - ETA: 0s - loss: 0.0018WARNING:tensorflow:Early stopping conditioned on metric `val_loss` which is not available. Available metrics are: loss\n",
            "55/55 [==============================] - 16s 296ms/step - loss: 0.0018\n",
            "Epoch 15/20\n",
            "55/55 [==============================] - ETA: 0s - loss: 0.0015WARNING:tensorflow:Early stopping conditioned on metric `val_loss` which is not available. Available metrics are: loss\n",
            "55/55 [==============================] - 17s 301ms/step - loss: 0.0015\n",
            "Epoch 16/20\n",
            "55/55 [==============================] - ETA: 0s - loss: 0.0015WARNING:tensorflow:Early stopping conditioned on metric `val_loss` which is not available. Available metrics are: loss\n",
            "55/55 [==============================] - 16s 286ms/step - loss: 0.0015\n",
            "Epoch 17/20\n",
            "55/55 [==============================] - ETA: 0s - loss: 0.0015WARNING:tensorflow:Early stopping conditioned on metric `val_loss` which is not available. Available metrics are: loss\n",
            "55/55 [==============================] - 17s 303ms/step - loss: 0.0015\n",
            "Epoch 18/20\n",
            "55/55 [==============================] - ETA: 0s - loss: 0.0015WARNING:tensorflow:Early stopping conditioned on metric `val_loss` which is not available. Available metrics are: loss\n",
            "55/55 [==============================] - 16s 298ms/step - loss: 0.0015\n",
            "Epoch 19/20\n",
            "55/55 [==============================] - ETA: 0s - loss: 0.0014WARNING:tensorflow:Early stopping conditioned on metric `val_loss` which is not available. Available metrics are: loss\n",
            "55/55 [==============================] - 16s 295ms/step - loss: 0.0014\n",
            "Epoch 20/20\n",
            "55/55 [==============================] - ETA: 0s - loss: 0.0013WARNING:tensorflow:Early stopping conditioned on metric `val_loss` which is not available. Available metrics are: loss\n",
            "55/55 [==============================] - 16s 296ms/step - loss: 0.0013\n"
          ]
        }
      ]
    },
    {
      "cell_type": "code",
      "metadata": {
        "id": "U5XbowyVdEpg"
      },
      "source": [
        "real_stock_price = df_test.iloc[:,1:2].values\n",
        "# predicting the stock prices using X_test\n",
        "# we need the original training data (vertical concatination 0, horizontal 1)\n",
        "dataset_total = pd.concat((dataset_train['Open'], dataset_test['Open']), axis = 0)\n",
        "print(real_stock_price)\n",
        "\n",
        "# for the consistence of the model we need to have the same scaling on the test as on the training\n",
        "# for the first test day we need the previous 60 days data from train\n",
        "print(\"First Financial day in 2021, when testing period begins\",len(dataset_total)- len(dataset_test))\n",
        "print(\"First Financial day in 2021 minus 60 days\",len(dataset_total)- len(dataset_test) - 90)\n",
        "inputs = dataset_total[len(dataset_total) - len(dataset_test) - 90:].values\n",
        "\n",
        "# reshaping,normalizing the inputs\n",
        "inputs = inputs.reshape(-1,1)\n",
        "# no longer fitting but just transforming\n",
        "inputs = sc.transform(inputs)\n",
        "\n",
        "\n",
        "#storing test data as we did in teh training\n",
        "X_test = []\n",
        "for i in range(90,inputs.size):\n",
        "    X_test.append(inputs[i-90:i, 0])\n",
        "X_test = np.array(X_test)\n",
        "#adding extra dimension\n",
        "X_test = np.reshape(X_test, [X_test.shape[0], X_test.shape[1], 1])\n",
        "\n",
        "#obtaining predicted values\n",
        "predicted_stock_price = regressor.predict(X_test)\n",
        "predicted_stock_price = sc.inverse_transform(predicted_stock_price)\n",
        "\n",
        "#--------------------- Visualizing the RNN model results--------------------#\n",
        "plt.plot(real_stock_price, color = '#ffd700', label = \"Real Price January - March 2021\")\n",
        "plt.plot(predicted_stock_price, color = '#4782B4', label = \"Predicted Price January - March 2021\")\n",
        "plt.title(\"Bitcoin Price Prediction\")\n",
        "plt.xlabel(\"Time\")\n",
        "plt.ylabel(\"Bitcoin Price\")\n",
        "plt.legend()\n",
        "plt.show()\n"
      ],
      "id": "U5XbowyVdEpg",
      "execution_count": null,
      "outputs": []
    },
    {
      "cell_type": "code",
      "metadata": {
        "id": "bOFJpJpafB3f"
      },
      "source": [
        ""
      ],
      "id": "bOFJpJpafB3f",
      "execution_count": null,
      "outputs": []
    }
  ]
}