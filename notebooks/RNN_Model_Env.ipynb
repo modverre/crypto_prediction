{
  "nbformat": 4,
  "nbformat_minor": 0,
  "metadata": {
    "colab": {
      "name": "RNN_Model_Env.ipynb",
      "provenance": [],
      "collapsed_sections": []
    },
    "kernelspec": {
      "name": "python3",
      "display_name": "Python 3"
    },
    "language_info": {
      "name": "python"
    },
    "accelerator": "GPU"
  },
  "cells": [
    {
      "cell_type": "markdown",
      "metadata": {
        "id": "8onIoqchOmYN"
      },
      "source": [
        "# RNN Model Development"
      ]
    },
    {
      "cell_type": "code",
      "metadata": {
        "id": "yk6R3jNYOo9q"
      },
      "source": [
        "import io\n",
        "import pandas as pd\n",
        "import numpy as np\n",
        "import matplotlib.pyplot as plt\n",
        "\n",
        "from google.colab import files\n",
        "from tensorflow.keras.models import Sequential\n",
        "from tensorflow.keras.layers import Dense, LSTM, Dropout\n",
        "from tensorflow.keras.callbacks import EarlyStopping\n",
        "from tensorflow.keras.preprocessing.sequence import TimeseriesGenerator\n",
        "\n",
        "from sklearn.preprocessing import MinMaxScaler, RobustScaler\n",
        "from sklearn.model_selection import GridSearchCV, RandomizedSearchCV\n",
        "from sklearn.model_selection import train_test_split"
      ],
      "execution_count": 1,
      "outputs": []
    },
    {
      "cell_type": "code",
      "metadata": {
        "colab": {
          "resources": {
            "http://localhost:8080/nbextensions/google.colab/files.js": {
              "data": "Ly8gQ29weXJpZ2h0IDIwMTcgR29vZ2xlIExMQwovLwovLyBMaWNlbnNlZCB1bmRlciB0aGUgQXBhY2hlIExpY2Vuc2UsIFZlcnNpb24gMi4wICh0aGUgIkxpY2Vuc2UiKTsKLy8geW91IG1heSBub3QgdXNlIHRoaXMgZmlsZSBleGNlcHQgaW4gY29tcGxpYW5jZSB3aXRoIHRoZSBMaWNlbnNlLgovLyBZb3UgbWF5IG9idGFpbiBhIGNvcHkgb2YgdGhlIExpY2Vuc2UgYXQKLy8KLy8gICAgICBodHRwOi8vd3d3LmFwYWNoZS5vcmcvbGljZW5zZXMvTElDRU5TRS0yLjAKLy8KLy8gVW5sZXNzIHJlcXVpcmVkIGJ5IGFwcGxpY2FibGUgbGF3IG9yIGFncmVlZCB0byBpbiB3cml0aW5nLCBzb2Z0d2FyZQovLyBkaXN0cmlidXRlZCB1bmRlciB0aGUgTGljZW5zZSBpcyBkaXN0cmlidXRlZCBvbiBhbiAiQVMgSVMiIEJBU0lTLAovLyBXSVRIT1VUIFdBUlJBTlRJRVMgT1IgQ09ORElUSU9OUyBPRiBBTlkgS0lORCwgZWl0aGVyIGV4cHJlc3Mgb3IgaW1wbGllZC4KLy8gU2VlIHRoZSBMaWNlbnNlIGZvciB0aGUgc3BlY2lmaWMgbGFuZ3VhZ2UgZ292ZXJuaW5nIHBlcm1pc3Npb25zIGFuZAovLyBsaW1pdGF0aW9ucyB1bmRlciB0aGUgTGljZW5zZS4KCi8qKgogKiBAZmlsZW92ZXJ2aWV3IEhlbHBlcnMgZm9yIGdvb2dsZS5jb2xhYiBQeXRob24gbW9kdWxlLgogKi8KKGZ1bmN0aW9uKHNjb3BlKSB7CmZ1bmN0aW9uIHNwYW4odGV4dCwgc3R5bGVBdHRyaWJ1dGVzID0ge30pIHsKICBjb25zdCBlbGVtZW50ID0gZG9jdW1lbnQuY3JlYXRlRWxlbWVudCgnc3BhbicpOwogIGVsZW1lbnQudGV4dENvbnRlbnQgPSB0ZXh0OwogIGZvciAoY29uc3Qga2V5IG9mIE9iamVjdC5rZXlzKHN0eWxlQXR0cmlidXRlcykpIHsKICAgIGVsZW1lbnQuc3R5bGVba2V5XSA9IHN0eWxlQXR0cmlidXRlc1trZXldOwogIH0KICByZXR1cm4gZWxlbWVudDsKfQoKLy8gTWF4IG51bWJlciBvZiBieXRlcyB3aGljaCB3aWxsIGJlIHVwbG9hZGVkIGF0IGEgdGltZS4KY29uc3QgTUFYX1BBWUxPQURfU0laRSA9IDEwMCAqIDEwMjQ7CgpmdW5jdGlvbiBfdXBsb2FkRmlsZXMoaW5wdXRJZCwgb3V0cHV0SWQpIHsKICBjb25zdCBzdGVwcyA9IHVwbG9hZEZpbGVzU3RlcChpbnB1dElkLCBvdXRwdXRJZCk7CiAgY29uc3Qgb3V0cHV0RWxlbWVudCA9IGRvY3VtZW50LmdldEVsZW1lbnRCeUlkKG91dHB1dElkKTsKICAvLyBDYWNoZSBzdGVwcyBvbiB0aGUgb3V0cHV0RWxlbWVudCB0byBtYWtlIGl0IGF2YWlsYWJsZSBmb3IgdGhlIG5leHQgY2FsbAogIC8vIHRvIHVwbG9hZEZpbGVzQ29udGludWUgZnJvbSBQeXRob24uCiAgb3V0cHV0RWxlbWVudC5zdGVwcyA9IHN0ZXBzOwoKICByZXR1cm4gX3VwbG9hZEZpbGVzQ29udGludWUob3V0cHV0SWQpOwp9CgovLyBUaGlzIGlzIHJvdWdobHkgYW4gYXN5bmMgZ2VuZXJhdG9yIChub3Qgc3VwcG9ydGVkIGluIHRoZSBicm93c2VyIHlldCksCi8vIHdoZXJlIHRoZXJlIGFyZSBtdWx0aXBsZSBhc3luY2hyb25vdXMgc3RlcHMgYW5kIHRoZSBQeXRob24gc2lkZSBpcyBnb2luZwovLyB0byBwb2xsIGZvciBjb21wbGV0aW9uIG9mIGVhY2ggc3RlcC4KLy8gVGhpcyB1c2VzIGEgUHJvbWlzZSB0byBibG9jayB0aGUgcHl0aG9uIHNpZGUgb24gY29tcGxldGlvbiBvZiBlYWNoIHN0ZXAsCi8vIHRoZW4gcGFzc2VzIHRoZSByZXN1bHQgb2YgdGhlIHByZXZpb3VzIHN0ZXAgYXMgdGhlIGlucHV0IHRvIHRoZSBuZXh0IHN0ZXAuCmZ1bmN0aW9uIF91cGxvYWRGaWxlc0NvbnRpbnVlKG91dHB1dElkKSB7CiAgY29uc3Qgb3V0cHV0RWxlbWVudCA9IGRvY3VtZW50LmdldEVsZW1lbnRCeUlkKG91dHB1dElkKTsKICBjb25zdCBzdGVwcyA9IG91dHB1dEVsZW1lbnQuc3RlcHM7CgogIGNvbnN0IG5leHQgPSBzdGVwcy5uZXh0KG91dHB1dEVsZW1lbnQubGFzdFByb21pc2VWYWx1ZSk7CiAgcmV0dXJuIFByb21pc2UucmVzb2x2ZShuZXh0LnZhbHVlLnByb21pc2UpLnRoZW4oKHZhbHVlKSA9PiB7CiAgICAvLyBDYWNoZSB0aGUgbGFzdCBwcm9taXNlIHZhbHVlIHRvIG1ha2UgaXQgYXZhaWxhYmxlIHRvIHRoZSBuZXh0CiAgICAvLyBzdGVwIG9mIHRoZSBnZW5lcmF0b3IuCiAgICBvdXRwdXRFbGVtZW50Lmxhc3RQcm9taXNlVmFsdWUgPSB2YWx1ZTsKICAgIHJldHVybiBuZXh0LnZhbHVlLnJlc3BvbnNlOwogIH0pOwp9CgovKioKICogR2VuZXJhdG9yIGZ1bmN0aW9uIHdoaWNoIGlzIGNhbGxlZCBiZXR3ZWVuIGVhY2ggYXN5bmMgc3RlcCBvZiB0aGUgdXBsb2FkCiAqIHByb2Nlc3MuCiAqIEBwYXJhbSB7c3RyaW5nfSBpbnB1dElkIEVsZW1lbnQgSUQgb2YgdGhlIGlucHV0IGZpbGUgcGlja2VyIGVsZW1lbnQuCiAqIEBwYXJhbSB7c3RyaW5nfSBvdXRwdXRJZCBFbGVtZW50IElEIG9mIHRoZSBvdXRwdXQgZGlzcGxheS4KICogQHJldHVybiB7IUl0ZXJhYmxlPCFPYmplY3Q+fSBJdGVyYWJsZSBvZiBuZXh0IHN0ZXBzLgogKi8KZnVuY3Rpb24qIHVwbG9hZEZpbGVzU3RlcChpbnB1dElkLCBvdXRwdXRJZCkgewogIGNvbnN0IGlucHV0RWxlbWVudCA9IGRvY3VtZW50LmdldEVsZW1lbnRCeUlkKGlucHV0SWQpOwogIGlucHV0RWxlbWVudC5kaXNhYmxlZCA9IGZhbHNlOwoKICBjb25zdCBvdXRwdXRFbGVtZW50ID0gZG9jdW1lbnQuZ2V0RWxlbWVudEJ5SWQob3V0cHV0SWQpOwogIG91dHB1dEVsZW1lbnQuaW5uZXJIVE1MID0gJyc7CgogIGNvbnN0IHBpY2tlZFByb21pc2UgPSBuZXcgUHJvbWlzZSgocmVzb2x2ZSkgPT4gewogICAgaW5wdXRFbGVtZW50LmFkZEV2ZW50TGlzdGVuZXIoJ2NoYW5nZScsIChlKSA9PiB7CiAgICAgIHJlc29sdmUoZS50YXJnZXQuZmlsZXMpOwogICAgfSk7CiAgfSk7CgogIGNvbnN0IGNhbmNlbCA9IGRvY3VtZW50LmNyZWF0ZUVsZW1lbnQoJ2J1dHRvbicpOwogIGlucHV0RWxlbWVudC5wYXJlbnRFbGVtZW50LmFwcGVuZENoaWxkKGNhbmNlbCk7CiAgY2FuY2VsLnRleHRDb250ZW50ID0gJ0NhbmNlbCB1cGxvYWQnOwogIGNvbnN0IGNhbmNlbFByb21pc2UgPSBuZXcgUHJvbWlzZSgocmVzb2x2ZSkgPT4gewogICAgY2FuY2VsLm9uY2xpY2sgPSAoKSA9PiB7CiAgICAgIHJlc29sdmUobnVsbCk7CiAgICB9OwogIH0pOwoKICAvLyBXYWl0IGZvciB0aGUgdXNlciB0byBwaWNrIHRoZSBmaWxlcy4KICBjb25zdCBmaWxlcyA9IHlpZWxkIHsKICAgIHByb21pc2U6IFByb21pc2UucmFjZShbcGlja2VkUHJvbWlzZSwgY2FuY2VsUHJvbWlzZV0pLAogICAgcmVzcG9uc2U6IHsKICAgICAgYWN0aW9uOiAnc3RhcnRpbmcnLAogICAgfQogIH07CgogIGNhbmNlbC5yZW1vdmUoKTsKCiAgLy8gRGlzYWJsZSB0aGUgaW5wdXQgZWxlbWVudCBzaW5jZSBmdXJ0aGVyIHBpY2tzIGFyZSBub3QgYWxsb3dlZC4KICBpbnB1dEVsZW1lbnQuZGlzYWJsZWQgPSB0cnVlOwoKICBpZiAoIWZpbGVzKSB7CiAgICByZXR1cm4gewogICAgICByZXNwb25zZTogewogICAgICAgIGFjdGlvbjogJ2NvbXBsZXRlJywKICAgICAgfQogICAgfTsKICB9CgogIGZvciAoY29uc3QgZmlsZSBvZiBmaWxlcykgewogICAgY29uc3QgbGkgPSBkb2N1bWVudC5jcmVhdGVFbGVtZW50KCdsaScpOwogICAgbGkuYXBwZW5kKHNwYW4oZmlsZS5uYW1lLCB7Zm9udFdlaWdodDogJ2JvbGQnfSkpOwogICAgbGkuYXBwZW5kKHNwYW4oCiAgICAgICAgYCgke2ZpbGUudHlwZSB8fCAnbi9hJ30pIC0gJHtmaWxlLnNpemV9IGJ5dGVzLCBgICsKICAgICAgICBgbGFzdCBtb2RpZmllZDogJHsKICAgICAgICAgICAgZmlsZS5sYXN0TW9kaWZpZWREYXRlID8gZmlsZS5sYXN0TW9kaWZpZWREYXRlLnRvTG9jYWxlRGF0ZVN0cmluZygpIDoKICAgICAgICAgICAgICAgICAgICAgICAgICAgICAgICAgICAgJ24vYSd9IC0gYCkpOwogICAgY29uc3QgcGVyY2VudCA9IHNwYW4oJzAlIGRvbmUnKTsKICAgIGxpLmFwcGVuZENoaWxkKHBlcmNlbnQpOwoKICAgIG91dHB1dEVsZW1lbnQuYXBwZW5kQ2hpbGQobGkpOwoKICAgIGNvbnN0IGZpbGVEYXRhUHJvbWlzZSA9IG5ldyBQcm9taXNlKChyZXNvbHZlKSA9PiB7CiAgICAgIGNvbnN0IHJlYWRlciA9IG5ldyBGaWxlUmVhZGVyKCk7CiAgICAgIHJlYWRlci5vbmxvYWQgPSAoZSkgPT4gewogICAgICAgIHJlc29sdmUoZS50YXJnZXQucmVzdWx0KTsKICAgICAgfTsKICAgICAgcmVhZGVyLnJlYWRBc0FycmF5QnVmZmVyKGZpbGUpOwogICAgfSk7CiAgICAvLyBXYWl0IGZvciB0aGUgZGF0YSB0byBiZSByZWFkeS4KICAgIGxldCBmaWxlRGF0YSA9IHlpZWxkIHsKICAgICAgcHJvbWlzZTogZmlsZURhdGFQcm9taXNlLAogICAgICByZXNwb25zZTogewogICAgICAgIGFjdGlvbjogJ2NvbnRpbnVlJywKICAgICAgfQogICAgfTsKCiAgICAvLyBVc2UgYSBjaHVua2VkIHNlbmRpbmcgdG8gYXZvaWQgbWVzc2FnZSBzaXplIGxpbWl0cy4gU2VlIGIvNjIxMTU2NjAuCiAgICBsZXQgcG9zaXRpb24gPSAwOwogICAgZG8gewogICAgICBjb25zdCBsZW5ndGggPSBNYXRoLm1pbihmaWxlRGF0YS5ieXRlTGVuZ3RoIC0gcG9zaXRpb24sIE1BWF9QQVlMT0FEX1NJWkUpOwogICAgICBjb25zdCBjaHVuayA9IG5ldyBVaW50OEFycmF5KGZpbGVEYXRhLCBwb3NpdGlvbiwgbGVuZ3RoKTsKICAgICAgcG9zaXRpb24gKz0gbGVuZ3RoOwoKICAgICAgY29uc3QgYmFzZTY0ID0gYnRvYShTdHJpbmcuZnJvbUNoYXJDb2RlLmFwcGx5KG51bGwsIGNodW5rKSk7CiAgICAgIHlpZWxkIHsKICAgICAgICByZXNwb25zZTogewogICAgICAgICAgYWN0aW9uOiAnYXBwZW5kJywKICAgICAgICAgIGZpbGU6IGZpbGUubmFtZSwKICAgICAgICAgIGRhdGE6IGJhc2U2NCwKICAgICAgICB9LAogICAgICB9OwoKICAgICAgbGV0IHBlcmNlbnREb25lID0gZmlsZURhdGEuYnl0ZUxlbmd0aCA9PT0gMCA/CiAgICAgICAgICAxMDAgOgogICAgICAgICAgTWF0aC5yb3VuZCgocG9zaXRpb24gLyBmaWxlRGF0YS5ieXRlTGVuZ3RoKSAqIDEwMCk7CiAgICAgIHBlcmNlbnQudGV4dENvbnRlbnQgPSBgJHtwZXJjZW50RG9uZX0lIGRvbmVgOwoKICAgIH0gd2hpbGUgKHBvc2l0aW9uIDwgZmlsZURhdGEuYnl0ZUxlbmd0aCk7CiAgfQoKICAvLyBBbGwgZG9uZS4KICB5aWVsZCB7CiAgICByZXNwb25zZTogewogICAgICBhY3Rpb246ICdjb21wbGV0ZScsCiAgICB9CiAgfTsKfQoKc2NvcGUuZ29vZ2xlID0gc2NvcGUuZ29vZ2xlIHx8IHt9OwpzY29wZS5nb29nbGUuY29sYWIgPSBzY29wZS5nb29nbGUuY29sYWIgfHwge307CnNjb3BlLmdvb2dsZS5jb2xhYi5fZmlsZXMgPSB7CiAgX3VwbG9hZEZpbGVzLAogIF91cGxvYWRGaWxlc0NvbnRpbnVlLAp9Owp9KShzZWxmKTsK",
              "ok": true,
              "headers": [
                [
                  "content-type",
                  "application/javascript"
                ]
              ],
              "status": 200,
              "status_text": ""
            }
          },
          "base_uri": "https://localhost:8080/",
          "height": 70
        },
        "id": "fp9Vi9OrOus9",
        "outputId": "46a47b47-9a35-4714-dc9e-24dc153b9700"
      },
      "source": [
        "df = files.upload()"
      ],
      "execution_count": 2,
      "outputs": [
        {
          "output_type": "display_data",
          "data": {
            "text/html": [
              "\n",
              "     <input type=\"file\" id=\"files-7553faff-6be0-4ffd-a4c0-f3a1ddac70db\" name=\"files[]\" multiple disabled\n",
              "        style=\"border:none\" />\n",
              "     <output id=\"result-7553faff-6be0-4ffd-a4c0-f3a1ddac70db\">\n",
              "      Upload widget is only available when the cell has been executed in the\n",
              "      current browser session. Please rerun this cell to enable.\n",
              "      </output>\n",
              "      <script src=\"/nbextensions/google.colab/files.js\"></script> "
            ],
            "text/plain": [
              "<IPython.core.display.HTML object>"
            ]
          },
          "metadata": {}
        },
        {
          "output_type": "stream",
          "name": "stdout",
          "text": [
            "Saving doge-hist-2y Kopie.csv to doge-hist-2y Kopie.csv\n"
          ]
        }
      ]
    },
    {
      "cell_type": "code",
      "metadata": {
        "id": "7e5nokWJO1jg"
      },
      "source": [
        "df = pd.read_csv(io.BytesIO(df[\"doge-hist-2y Kopie.csv\"]))"
      ],
      "execution_count": 3,
      "outputs": []
    },
    {
      "cell_type": "code",
      "metadata": {
        "id": "hR3dyRlmPu7U"
      },
      "source": [
        "df.rename(columns= {\"Unnamed: 0\": \"Date\"}, inplace= True)\n",
        "df[\"Date\"] = pd.to_datetime(df[\"Date\"], infer_datetime_format= True)"
      ],
      "execution_count": 4,
      "outputs": []
    },
    {
      "cell_type": "code",
      "metadata": {
        "id": "6RhxHyqrPqAh"
      },
      "source": [
        "df = df.set_index(\"Date\")"
      ],
      "execution_count": 5,
      "outputs": []
    },
    {
      "cell_type": "code",
      "metadata": {
        "colab": {
          "base_uri": "https://localhost:8080/",
          "height": 230
        },
        "id": "vgVMEOTBO-tN",
        "outputId": "9c40e1b4-c482-4f53-b6dd-2eaee834daa9"
      },
      "source": [
        "df.head()"
      ],
      "execution_count": 6,
      "outputs": [
        {
          "output_type": "execute_result",
          "data": {
            "text/html": [
              "<div>\n",
              "<style scoped>\n",
              "    .dataframe tbody tr th:only-of-type {\n",
              "        vertical-align: middle;\n",
              "    }\n",
              "\n",
              "    .dataframe tbody tr th {\n",
              "        vertical-align: top;\n",
              "    }\n",
              "\n",
              "    .dataframe thead th {\n",
              "        text-align: right;\n",
              "    }\n",
              "</style>\n",
              "<table border=\"1\" class=\"dataframe\">\n",
              "  <thead>\n",
              "    <tr style=\"text-align: right;\">\n",
              "      <th></th>\n",
              "      <th>open</th>\n",
              "      <th>high</th>\n",
              "      <th>low</th>\n",
              "      <th>close</th>\n",
              "      <th>adjclose</th>\n",
              "      <th>volume</th>\n",
              "      <th>ticker</th>\n",
              "    </tr>\n",
              "    <tr>\n",
              "      <th>Date</th>\n",
              "      <th></th>\n",
              "      <th></th>\n",
              "      <th></th>\n",
              "      <th></th>\n",
              "      <th></th>\n",
              "      <th></th>\n",
              "      <th></th>\n",
              "    </tr>\n",
              "  </thead>\n",
              "  <tbody>\n",
              "    <tr>\n",
              "      <th>2019-11-23</th>\n",
              "      <td>0.002145</td>\n",
              "      <td>0.002275</td>\n",
              "      <td>0.002112</td>\n",
              "      <td>0.002273</td>\n",
              "      <td>0.002273</td>\n",
              "      <td>101846258.0</td>\n",
              "      <td>DOGE-EUR</td>\n",
              "    </tr>\n",
              "    <tr>\n",
              "      <th>2019-11-24</th>\n",
              "      <td>0.002276</td>\n",
              "      <td>0.002278</td>\n",
              "      <td>0.002085</td>\n",
              "      <td>0.002146</td>\n",
              "      <td>0.002146</td>\n",
              "      <td>92059493.0</td>\n",
              "      <td>DOGE-EUR</td>\n",
              "    </tr>\n",
              "    <tr>\n",
              "      <th>2019-11-25</th>\n",
              "      <td>0.002149</td>\n",
              "      <td>0.002151</td>\n",
              "      <td>0.001932</td>\n",
              "      <td>0.002076</td>\n",
              "      <td>0.002076</td>\n",
              "      <td>117692529.0</td>\n",
              "      <td>DOGE-EUR</td>\n",
              "    </tr>\n",
              "    <tr>\n",
              "      <th>2019-11-26</th>\n",
              "      <td>0.002077</td>\n",
              "      <td>0.002124</td>\n",
              "      <td>0.002054</td>\n",
              "      <td>0.002078</td>\n",
              "      <td>0.002078</td>\n",
              "      <td>90963851.0</td>\n",
              "      <td>DOGE-EUR</td>\n",
              "    </tr>\n",
              "    <tr>\n",
              "      <th>2019-11-27</th>\n",
              "      <td>0.002078</td>\n",
              "      <td>0.002143</td>\n",
              "      <td>0.002025</td>\n",
              "      <td>0.002126</td>\n",
              "      <td>0.002126</td>\n",
              "      <td>91194004.0</td>\n",
              "      <td>DOGE-EUR</td>\n",
              "    </tr>\n",
              "  </tbody>\n",
              "</table>\n",
              "</div>"
            ],
            "text/plain": [
              "                open      high       low  ...  adjclose       volume    ticker\n",
              "Date                                      ...                                 \n",
              "2019-11-23  0.002145  0.002275  0.002112  ...  0.002273  101846258.0  DOGE-EUR\n",
              "2019-11-24  0.002276  0.002278  0.002085  ...  0.002146   92059493.0  DOGE-EUR\n",
              "2019-11-25  0.002149  0.002151  0.001932  ...  0.002076  117692529.0  DOGE-EUR\n",
              "2019-11-26  0.002077  0.002124  0.002054  ...  0.002078   90963851.0  DOGE-EUR\n",
              "2019-11-27  0.002078  0.002143  0.002025  ...  0.002126   91194004.0  DOGE-EUR\n",
              "\n",
              "[5 rows x 7 columns]"
            ]
          },
          "metadata": {},
          "execution_count": 6
        }
      ]
    },
    {
      "cell_type": "code",
      "metadata": {
        "id": "75yOs0kZ1CLM"
      },
      "source": [
        "df.interpolate(method= \"linear\", inplace= True)"
      ],
      "execution_count": 7,
      "outputs": []
    },
    {
      "cell_type": "code",
      "metadata": {
        "colab": {
          "base_uri": "https://localhost:8080/"
        },
        "id": "3yTTnhtZPgC4",
        "outputId": "5c322c87-dd27-4f16-ad14-65ccff595d32"
      },
      "source": [
        "df.info()"
      ],
      "execution_count": 8,
      "outputs": [
        {
          "output_type": "stream",
          "name": "stdout",
          "text": [
            "<class 'pandas.core.frame.DataFrame'>\n",
            "DatetimeIndex: 732 entries, 2019-11-23 to 2021-11-23\n",
            "Data columns (total 7 columns):\n",
            " #   Column    Non-Null Count  Dtype  \n",
            "---  ------    --------------  -----  \n",
            " 0   open      732 non-null    float64\n",
            " 1   high      732 non-null    float64\n",
            " 2   low       732 non-null    float64\n",
            " 3   close     732 non-null    float64\n",
            " 4   adjclose  732 non-null    float64\n",
            " 5   volume    732 non-null    float64\n",
            " 6   ticker    732 non-null    object \n",
            "dtypes: float64(6), object(1)\n",
            "memory usage: 45.8+ KB\n"
          ]
        }
      ]
    },
    {
      "cell_type": "code",
      "metadata": {
        "colab": {
          "base_uri": "https://localhost:8080/"
        },
        "id": "cWCSVYUYQD9i",
        "outputId": "0acf35cb-0e5d-47a5-c6d1-14cc301d5bfb"
      },
      "source": [
        "df.shape"
      ],
      "execution_count": 9,
      "outputs": [
        {
          "output_type": "execute_result",
          "data": {
            "text/plain": [
              "(732, 7)"
            ]
          },
          "metadata": {},
          "execution_count": 9
        }
      ]
    },
    {
      "cell_type": "markdown",
      "metadata": {
        "id": "ATwZ6gdUQGWa"
      },
      "source": [
        "# Reshaping Data"
      ]
    },
    {
      "cell_type": "code",
      "metadata": {
        "id": "RU-aR9kGQIaI"
      },
      "source": [
        "## creating train_test_split and scaling values\n",
        "\n",
        "# instantiating a scaler\n",
        "scaler = MinMaxScaler()\n",
        "\n",
        "# selecting relevant column from df\n",
        "dataset = df.iloc[:,1:2].values\n",
        "\n",
        "# scaling the data\n",
        "dataset_scaled = scaler.fit_transform(dataset)\n",
        "\n",
        "# splitting into train and test data\n",
        "train, test = train_test_split(dataset_scaled, shuffle = False)\n",
        "\n",
        "# selecting nr. of days used to predict next value\n",
        "history_size = 14\n",
        "\n",
        "# creating arrays X, y for train and test data \n",
        "X_train = []\n",
        "y_train = []\n",
        "\n",
        "for i in range(history_size, train.size):\n",
        "  X_train.append(train[i-history_size:i,0])\n",
        "  y_train.append(train[i,0])\n",
        "\n",
        "X_train, y_train = np.array(X_train), np.array(y_train)\n",
        "\n",
        "X_test = []\n",
        "y_test = []\n",
        "\n",
        "for i in range(history_size, test.size):\n",
        "  X_test.append(test[i-history_size:i,0])\n",
        "  y_test.append(test[i,0])\n",
        "\n",
        "X_test, y_test = np.array(X_test), np.array(y_test)"
      ],
      "execution_count": 25,
      "outputs": []
    },
    {
      "cell_type": "code",
      "metadata": {
        "id": "x8-ju6BXj2Ok"
      },
      "source": [
        "X_train = X_train.reshape((X_train.shape[0], X_train.shape[1],1))"
      ],
      "execution_count": 26,
      "outputs": []
    },
    {
      "cell_type": "code",
      "metadata": {
        "colab": {
          "base_uri": "https://localhost:8080/"
        },
        "id": "taz5HMaUsbMs",
        "outputId": "d0fe525f-18d2-458d-ba2f-0a008f1a46b3"
      },
      "source": [
        "X_train.shape"
      ],
      "execution_count": 27,
      "outputs": [
        {
          "output_type": "execute_result",
          "data": {
            "text/plain": [
              "(535, 14, 1)"
            ]
          },
          "metadata": {},
          "execution_count": 27
        }
      ]
    },
    {
      "cell_type": "code",
      "metadata": {
        "id": "6H6db0wJPGxe"
      },
      "source": [
        ""
      ],
      "execution_count": 27,
      "outputs": []
    },
    {
      "cell_type": "markdown",
      "metadata": {
        "id": "j28re1zTYPDm"
      },
      "source": [
        "# Modeling"
      ]
    },
    {
      "cell_type": "code",
      "metadata": {
        "id": "UKDD7ScvYP20"
      },
      "source": [
        "# instantiating a model\n",
        "model = Sequential()\n",
        "\n",
        "# first network layer\n",
        "model.add(LSTM(units = 50, return_sequences= True, input_shape = (history_size, 1)))\n",
        "model.add(Dropout(0.2))\n",
        "\n",
        "# network layer's 2 - 5\n",
        "model.add(LSTM(units= 50, return_sequences= True))\n",
        "model.add(Dropout(0.2))\n",
        "model.add(LSTM(units = 50, return_sequences= True))\n",
        "model.add(Dropout(0.2))\n",
        "model.add(LSTM(units= 50, return_sequences= True))\n",
        "model.add(Dropout(0.2))\n",
        "model.add(LSTM(units= 50, return_sequences= True))\n",
        "model.add(Dropout(0.2))\n",
        "model.add(LSTM(units= 20, return_sequences= False))\n",
        "model.add(Dropout(0.2))\n",
        "\n",
        "# network output layer\n",
        "model.add(Dense(units= 1))\n",
        "\n",
        "model.compile(optimizer= \"rmsprop\", loss= \"mse\")"
      ],
      "execution_count": 28,
      "outputs": []
    },
    {
      "cell_type": "code",
      "metadata": {
        "id": "nH6uIPS5qk7j",
        "colab": {
          "base_uri": "https://localhost:8080/"
        },
        "outputId": "36d62735-a888-47c6-afc8-85888e69a04f"
      },
      "source": [
        "model"
      ],
      "execution_count": 29,
      "outputs": [
        {
          "output_type": "execute_result",
          "data": {
            "text/plain": [
              "<keras.engine.sequential.Sequential at 0x7f4c4e8fbcd0>"
            ]
          },
          "metadata": {},
          "execution_count": 29
        }
      ]
    },
    {
      "cell_type": "code",
      "metadata": {
        "colab": {
          "base_uri": "https://localhost:8080/"
        },
        "id": "vAVKEK8pZddM",
        "outputId": "582a5d7e-3716-4c9e-e718-a5cdd90fbb33"
      },
      "source": [
        "es = EarlyStopping(patience = 20, restore_best_weights= True)\n",
        "\n",
        "model.fit(X_train, \n",
        "          y_train,\n",
        "          validation_split= 0.2,\n",
        "          epochs = 150,\n",
        "          batch_size= 16,\n",
        "          callbacks= [es],\n",
        "          verbose= 1)"
      ],
      "execution_count": 30,
      "outputs": [
        {
          "output_type": "stream",
          "name": "stdout",
          "text": [
            "Epoch 1/150\n",
            "27/27 [==============================] - 17s 132ms/step - loss: 2.3759e-04 - val_loss: 0.1607\n",
            "Epoch 2/150\n",
            "27/27 [==============================] - 1s 38ms/step - loss: 1.2390e-04 - val_loss: 0.1613\n",
            "Epoch 3/150\n",
            "27/27 [==============================] - 1s 39ms/step - loss: 1.3082e-04 - val_loss: 0.1571\n",
            "Epoch 4/150\n",
            "27/27 [==============================] - 1s 38ms/step - loss: 1.2382e-04 - val_loss: 0.1621\n",
            "Epoch 5/150\n",
            "27/27 [==============================] - 1s 37ms/step - loss: 1.2468e-04 - val_loss: 0.1611\n",
            "Epoch 6/150\n",
            "27/27 [==============================] - 1s 37ms/step - loss: 1.1877e-04 - val_loss: 0.1601\n",
            "Epoch 7/150\n",
            "27/27 [==============================] - 1s 38ms/step - loss: 1.1637e-04 - val_loss: 0.1562\n",
            "Epoch 8/150\n",
            "27/27 [==============================] - 1s 38ms/step - loss: 1.1664e-04 - val_loss: 0.1599\n",
            "Epoch 9/150\n",
            "27/27 [==============================] - 1s 38ms/step - loss: 1.1391e-04 - val_loss: 0.1591\n",
            "Epoch 10/150\n",
            "27/27 [==============================] - 1s 39ms/step - loss: 1.1612e-04 - val_loss: 0.1592\n",
            "Epoch 11/150\n",
            "27/27 [==============================] - 1s 38ms/step - loss: 1.1216e-04 - val_loss: 0.1583\n",
            "Epoch 12/150\n",
            "27/27 [==============================] - 1s 36ms/step - loss: 1.1537e-04 - val_loss: 0.1584\n",
            "Epoch 13/150\n",
            "27/27 [==============================] - 1s 39ms/step - loss: 1.0706e-04 - val_loss: 0.1590\n",
            "Epoch 14/150\n",
            "27/27 [==============================] - 1s 38ms/step - loss: 1.0957e-04 - val_loss: 0.1600\n",
            "Epoch 15/150\n",
            "27/27 [==============================] - 1s 38ms/step - loss: 1.1304e-04 - val_loss: 0.1594\n",
            "Epoch 16/150\n",
            "27/27 [==============================] - 1s 38ms/step - loss: 1.1170e-04 - val_loss: 0.1589\n",
            "Epoch 17/150\n",
            "27/27 [==============================] - 1s 39ms/step - loss: 1.1057e-04 - val_loss: 0.1553\n",
            "Epoch 18/150\n",
            "27/27 [==============================] - 1s 38ms/step - loss: 1.0885e-04 - val_loss: 0.1566\n",
            "Epoch 19/150\n",
            "27/27 [==============================] - 1s 38ms/step - loss: 1.0989e-04 - val_loss: 0.1581\n",
            "Epoch 20/150\n",
            "27/27 [==============================] - 1s 38ms/step - loss: 1.1065e-04 - val_loss: 0.1594\n",
            "Epoch 21/150\n",
            "27/27 [==============================] - 1s 39ms/step - loss: 1.0990e-04 - val_loss: 0.1562\n",
            "Epoch 22/150\n",
            "27/27 [==============================] - 1s 37ms/step - loss: 1.0843e-04 - val_loss: 0.1575\n",
            "Epoch 23/150\n",
            "27/27 [==============================] - 1s 39ms/step - loss: 1.1076e-04 - val_loss: 0.1564\n",
            "Epoch 24/150\n",
            "27/27 [==============================] - 1s 37ms/step - loss: 1.0864e-04 - val_loss: 0.1536\n",
            "Epoch 25/150\n",
            "27/27 [==============================] - 1s 38ms/step - loss: 1.0547e-04 - val_loss: 0.1497\n",
            "Epoch 26/150\n",
            "27/27 [==============================] - 1s 37ms/step - loss: 1.0364e-04 - val_loss: 0.1409\n",
            "Epoch 27/150\n",
            "27/27 [==============================] - 1s 38ms/step - loss: 1.0677e-04 - val_loss: 0.1367\n",
            "Epoch 28/150\n",
            "27/27 [==============================] - 1s 39ms/step - loss: 9.2837e-05 - val_loss: 0.1196\n",
            "Epoch 29/150\n",
            "27/27 [==============================] - 1s 37ms/step - loss: 1.0206e-04 - val_loss: 0.1105\n",
            "Epoch 30/150\n",
            "27/27 [==============================] - 1s 38ms/step - loss: 8.6240e-05 - val_loss: 0.1094\n",
            "Epoch 31/150\n",
            "27/27 [==============================] - 1s 38ms/step - loss: 8.6526e-05 - val_loss: 0.0857\n",
            "Epoch 32/150\n",
            "27/27 [==============================] - 1s 37ms/step - loss: 8.5635e-05 - val_loss: 0.0888\n",
            "Epoch 33/150\n",
            "27/27 [==============================] - 1s 37ms/step - loss: 8.2238e-05 - val_loss: 0.0987\n",
            "Epoch 34/150\n",
            "27/27 [==============================] - 1s 38ms/step - loss: 8.3775e-05 - val_loss: 0.0807\n",
            "Epoch 35/150\n",
            "27/27 [==============================] - 1s 37ms/step - loss: 7.6578e-05 - val_loss: 0.0884\n",
            "Epoch 36/150\n",
            "27/27 [==============================] - 1s 38ms/step - loss: 6.9019e-05 - val_loss: 0.0797\n",
            "Epoch 37/150\n",
            "27/27 [==============================] - 1s 38ms/step - loss: 7.2510e-05 - val_loss: 0.0749\n",
            "Epoch 38/150\n",
            "27/27 [==============================] - 1s 38ms/step - loss: 7.5546e-05 - val_loss: 0.0863\n",
            "Epoch 39/150\n",
            "27/27 [==============================] - 1s 38ms/step - loss: 7.0675e-05 - val_loss: 0.0776\n",
            "Epoch 40/150\n",
            "27/27 [==============================] - 1s 37ms/step - loss: 7.0303e-05 - val_loss: 0.0777\n",
            "Epoch 41/150\n",
            "27/27 [==============================] - 1s 39ms/step - loss: 8.3264e-05 - val_loss: 0.0762\n",
            "Epoch 42/150\n",
            "27/27 [==============================] - 1s 38ms/step - loss: 8.1574e-05 - val_loss: 0.0944\n",
            "Epoch 43/150\n",
            "27/27 [==============================] - 1s 37ms/step - loss: 5.8614e-05 - val_loss: 0.0741\n",
            "Epoch 44/150\n",
            "27/27 [==============================] - 1s 39ms/step - loss: 5.7326e-05 - val_loss: 0.0734\n",
            "Epoch 45/150\n",
            "27/27 [==============================] - 1s 38ms/step - loss: 5.8891e-05 - val_loss: 0.0745\n",
            "Epoch 46/150\n",
            "27/27 [==============================] - 1s 37ms/step - loss: 1.8671e-04 - val_loss: 0.0810\n",
            "Epoch 47/150\n",
            "27/27 [==============================] - 1s 38ms/step - loss: 5.6198e-05 - val_loss: 0.0779\n",
            "Epoch 48/150\n",
            "27/27 [==============================] - 1s 39ms/step - loss: 5.1122e-05 - val_loss: 0.0739\n",
            "Epoch 49/150\n",
            "27/27 [==============================] - 1s 37ms/step - loss: 9.3600e-05 - val_loss: 0.1020\n",
            "Epoch 50/150\n",
            "27/27 [==============================] - 1s 38ms/step - loss: 4.7917e-05 - val_loss: 0.0907\n",
            "Epoch 51/150\n",
            "27/27 [==============================] - 1s 38ms/step - loss: 6.0819e-05 - val_loss: 0.0966\n",
            "Epoch 52/150\n",
            "27/27 [==============================] - 1s 38ms/step - loss: 5.9813e-05 - val_loss: 0.0768\n",
            "Epoch 53/150\n",
            "27/27 [==============================] - 1s 38ms/step - loss: 5.9917e-05 - val_loss: 0.0778\n",
            "Epoch 54/150\n",
            "27/27 [==============================] - 1s 38ms/step - loss: 6.2196e-05 - val_loss: 0.1107\n",
            "Epoch 55/150\n",
            "27/27 [==============================] - 1s 38ms/step - loss: 5.4084e-05 - val_loss: 0.0901\n",
            "Epoch 56/150\n",
            "27/27 [==============================] - 1s 37ms/step - loss: 5.6564e-05 - val_loss: 0.0886\n",
            "Epoch 57/150\n",
            "27/27 [==============================] - 1s 38ms/step - loss: 5.8992e-05 - val_loss: 0.0858\n",
            "Epoch 58/150\n",
            "27/27 [==============================] - 1s 38ms/step - loss: 6.9237e-05 - val_loss: 0.0891\n",
            "Epoch 59/150\n",
            "27/27 [==============================] - 1s 37ms/step - loss: 7.0784e-05 - val_loss: 0.0902\n",
            "Epoch 60/150\n",
            "27/27 [==============================] - 1s 38ms/step - loss: 6.1663e-05 - val_loss: 0.0937\n",
            "Epoch 61/150\n",
            "27/27 [==============================] - 1s 39ms/step - loss: 5.8141e-05 - val_loss: 0.0962\n",
            "Epoch 62/150\n",
            "27/27 [==============================] - 1s 39ms/step - loss: 4.8762e-05 - val_loss: 0.0942\n",
            "Epoch 63/150\n",
            "27/27 [==============================] - 1s 38ms/step - loss: 5.4771e-05 - val_loss: 0.0902\n",
            "Epoch 64/150\n",
            "27/27 [==============================] - 1s 38ms/step - loss: 6.5149e-05 - val_loss: 0.1158\n"
          ]
        },
        {
          "output_type": "execute_result",
          "data": {
            "text/plain": [
              "<keras.callbacks.History at 0x7f4bd1f8fe90>"
            ]
          },
          "metadata": {},
          "execution_count": 30
        }
      ]
    },
    {
      "cell_type": "code",
      "metadata": {
        "colab": {
          "base_uri": "https://localhost:8080/"
        },
        "id": "GUrldtDQbqPL",
        "outputId": "f11230af-deff-4324-d426-c5411ec224b8"
      },
      "source": [
        "score = model.evaluate(X_test, y_test, verbose= 0)\n",
        "\n",
        "print(f\"RMSE = {np.sqrt(score)}\")"
      ],
      "execution_count": null,
      "outputs": [
        {
          "output_type": "stream",
          "name": "stdout",
          "text": [
            "RMSE = 0.07868941985553812\n"
          ]
        }
      ]
    },
    {
      "cell_type": "code",
      "metadata": {
        "colab": {
          "base_uri": "https://localhost:8080/",
          "height": 457
        },
        "id": "d3KBzp7W53PK",
        "outputId": "7d4b9002-b084-40ef-a2c4-62dd15e91cac"
      },
      "source": [
        "real_stock_price = y_test\n",
        "\n",
        "predicted_stock_price = model.predict(X_test)\n",
        "predicted_stock_price = scaler.inverse_transform(predicted_stock_price)\n",
        "\n",
        "plt.figure(figsize= (15,7))\n",
        "plt.plot(real_stock_price, color = '#ffd700', label = \"Real Price\")\n",
        "plt.plot(predicted_stock_price, color = '#4782B4', label = \"Predicted Price\")\n",
        "plt.title(\"Doge Price Prediction\")\n",
        "plt.xlabel(\"Time\")\n",
        "plt.ylabel(\"Bitcoin Price\")\n",
        "plt.legend()\n",
        "plt.show()"
      ],
      "execution_count": null,
      "outputs": [
        {
          "output_type": "display_data",
          "data": {
            "image/png": "[encoded data removed]",
            "text/plain": [
              "<Figure size 1080x504 with 1 Axes>"
            ]
          },
          "metadata": {
            "needs_background": "light"
          }
        }
      ]
    },
    {
      "cell_type": "code",
      "metadata": {
        "id": "rfQQhL0q7uJC"
      },
      "source": [
        ""
      ],
      "execution_count": null,
      "outputs": []
    },
    {
      "cell_type": "markdown",
      "metadata": {
        "id": "8PR1b3RdMspw"
      },
      "source": [
        "# New Preprocessing procedure Test"
      ]
    },
    {
      "cell_type": "code",
      "metadata": {
        "colab": {
          "base_uri": "https://localhost:8080/"
        },
        "id": "03QMdYPlMuu9",
        "outputId": "c15dea58-7257-4ea9-df49-3692b6da15cf"
      },
      "source": [
        "from tensorflow.keras.preprocessing.sequence import TimeseriesGenerator\n",
        "\n",
        "series = train\n",
        "\n",
        "n_features= 1\n",
        "\n",
        "series = series.reshape((len(series), n_features))\n",
        "\n",
        "n_input = 2\n",
        "\n",
        "generator = TimeseriesGenerator(series, series, length=14, batch_size=8)\n",
        "\n",
        "model.fit_generator(generator, steps_per_epoch=1, epochs=200, verbose=1)"
      ],
      "execution_count": null,
      "outputs": [
        {
          "output_type": "stream",
          "name": "stdout",
          "text": [
            "Epoch 1/200\n",
            "1/1 [==============================] - 0s 52ms/step - loss: 1.7237e-04\n"
          ]
        },
        {
          "output_type": "stream",
          "name": "stderr",
          "text": [
            "/usr/local/lib/python3.7/dist-packages/ipykernel_launcher.py:13: UserWarning: `Model.fit_generator` is deprecated and will be removed in a future version. Please use `Model.fit`, which supports generators.\n",
            "  del sys.path[0]\n"
          ]
        },
        {
          "output_type": "stream",
          "name": "stdout",
          "text": [
            "Epoch 2/200\n",
            "1/1 [==============================] - 0s 64ms/step - loss: 1.7547e-04\n",
            "Epoch 3/200\n",
            "1/1 [==============================] - 0s 69ms/step - loss: 1.7812e-04\n",
            "Epoch 4/200\n",
            "1/1 [==============================] - 0s 62ms/step - loss: 3.7792e-05\n",
            "Epoch 5/200\n",
            "1/1 [==============================] - 0s 65ms/step - loss: 9.7917e-05\n",
            "Epoch 6/200\n",
            "1/1 [==============================] - 0s 60ms/step - loss: 5.2635e-05\n",
            "Epoch 7/200\n",
            "1/1 [==============================] - 0s 62ms/step - loss: 5.3342e-05\n",
            "Epoch 8/200\n",
            "1/1 [==============================] - 0s 62ms/step - loss: 7.5202e-05\n",
            "Epoch 9/200\n",
            "1/1 [==============================] - 0s 56ms/step - loss: 4.2089e-05\n",
            "Epoch 10/200\n",
            "1/1 [==============================] - 0s 60ms/step - loss: 5.4072e-05\n",
            "Epoch 11/200\n",
            "1/1 [==============================] - 0s 57ms/step - loss: 0.0022\n",
            "Epoch 12/200\n",
            "1/1 [==============================] - 0s 63ms/step - loss: 9.2173e-05\n",
            "Epoch 13/200\n",
            "1/1 [==============================] - 0s 64ms/step - loss: 5.6270e-05\n",
            "Epoch 14/200\n",
            "1/1 [==============================] - 0s 63ms/step - loss: 0.0201\n",
            "Epoch 15/200\n",
            "1/1 [==============================] - 0s 55ms/step - loss: 1.0727e-04\n",
            "Epoch 16/200\n",
            "1/1 [==============================] - 0s 61ms/step - loss: 0.4359\n",
            "Epoch 17/200\n",
            "1/1 [==============================] - 0s 60ms/step - loss: 1.3420e-04\n",
            "Epoch 18/200\n",
            "1/1 [==============================] - 0s 59ms/step - loss: 2.5503e-05\n",
            "Epoch 19/200\n",
            "1/1 [==============================] - 0s 68ms/step - loss: 6.3018e-05\n",
            "Epoch 20/200\n",
            "1/1 [==============================] - 0s 57ms/step - loss: 4.6531e-05\n",
            "Epoch 21/200\n",
            "1/1 [==============================] - 0s 60ms/step - loss: 1.3408e-04\n",
            "Epoch 22/200\n",
            "1/1 [==============================] - 0s 62ms/step - loss: 2.3988e-05\n",
            "Epoch 23/200\n",
            "1/1 [==============================] - 0s 59ms/step - loss: 7.3501e-05\n",
            "Epoch 24/200\n",
            "1/1 [==============================] - 0s 56ms/step - loss: 4.1802e-05\n",
            "Epoch 25/200\n",
            "1/1 [==============================] - 0s 68ms/step - loss: 4.7985e-05\n",
            "Epoch 26/200\n",
            "1/1 [==============================] - 0s 57ms/step - loss: 5.4477e-05\n",
            "Epoch 27/200\n",
            "1/1 [==============================] - 0s 59ms/step - loss: 2.9008e-04\n",
            "Epoch 28/200\n",
            "1/1 [==============================] - 0s 59ms/step - loss: 4.8937e-05\n",
            "Epoch 29/200\n",
            "1/1 [==============================] - 0s 66ms/step - loss: 2.0076e-05\n",
            "Epoch 30/200\n",
            "1/1 [==============================] - 0s 58ms/step - loss: 1.5292e-05\n",
            "Epoch 31/200\n",
            "1/1 [==============================] - 0s 67ms/step - loss: 0.0291\n",
            "Epoch 32/200\n",
            "1/1 [==============================] - 0s 62ms/step - loss: 4.0323e-05\n",
            "Epoch 33/200\n",
            "1/1 [==============================] - 0s 61ms/step - loss: 5.4154e-05\n",
            "Epoch 34/200\n",
            "1/1 [==============================] - 0s 55ms/step - loss: 1.7207e-05\n",
            "Epoch 35/200\n",
            "1/1 [==============================] - 0s 54ms/step - loss: 7.0377e-05\n",
            "Epoch 36/200\n",
            "1/1 [==============================] - 0s 57ms/step - loss: 3.3250e-05\n",
            "Epoch 37/200\n",
            "1/1 [==============================] - 0s 56ms/step - loss: 2.4191e-05\n",
            "Epoch 38/200\n",
            "1/1 [==============================] - 0s 59ms/step - loss: 2.1682e-05\n",
            "Epoch 39/200\n",
            "1/1 [==============================] - 0s 53ms/step - loss: 2.6770e-05\n",
            "Epoch 40/200\n",
            "1/1 [==============================] - 0s 59ms/step - loss: 3.0689e-04\n",
            "Epoch 41/200\n",
            "1/1 [==============================] - 0s 60ms/step - loss: 2.7029e-05\n",
            "Epoch 42/200\n",
            "1/1 [==============================] - 0s 55ms/step - loss: 1.0499e-04\n",
            "Epoch 43/200\n",
            "1/1 [==============================] - 0s 56ms/step - loss: 8.9361e-05\n",
            "Epoch 44/200\n",
            "1/1 [==============================] - 0s 58ms/step - loss: 4.1976e-05\n",
            "Epoch 45/200\n",
            "1/1 [==============================] - 0s 56ms/step - loss: 1.7072e-05\n",
            "Epoch 46/200\n",
            "1/1 [==============================] - 0s 60ms/step - loss: 0.0156\n",
            "Epoch 47/200\n",
            "1/1 [==============================] - 0s 58ms/step - loss: 2.2488e-05\n",
            "Epoch 48/200\n",
            "1/1 [==============================] - 0s 66ms/step - loss: 1.9728e-05\n",
            "Epoch 49/200\n",
            "1/1 [==============================] - 0s 68ms/step - loss: 1.6414e-05\n",
            "Epoch 50/200\n",
            "1/1 [==============================] - 0s 60ms/step - loss: 0.0044\n",
            "Epoch 51/200\n",
            "1/1 [==============================] - 0s 55ms/step - loss: 1.5446e-04\n",
            "Epoch 52/200\n",
            "1/1 [==============================] - 0s 52ms/step - loss: 8.7118e-05\n",
            "Epoch 53/200\n",
            "1/1 [==============================] - 0s 66ms/step - loss: 0.0024\n",
            "Epoch 54/200\n",
            "1/1 [==============================] - 0s 63ms/step - loss: 0.0330\n",
            "Epoch 55/200\n",
            "1/1 [==============================] - 0s 55ms/step - loss: 6.9015e-05\n",
            "Epoch 56/200\n",
            "1/1 [==============================] - 0s 59ms/step - loss: 3.6815e-05\n",
            "Epoch 57/200\n",
            "1/1 [==============================] - 0s 58ms/step - loss: 3.0709e-05\n",
            "Epoch 58/200\n",
            "1/1 [==============================] - 0s 68ms/step - loss: 5.5594e-05\n",
            "Epoch 59/200\n",
            "1/1 [==============================] - 0s 53ms/step - loss: 8.0208e-06\n",
            "Epoch 60/200\n",
            "1/1 [==============================] - 0s 62ms/step - loss: 0.0233\n",
            "Epoch 61/200\n",
            "1/1 [==============================] - 0s 59ms/step - loss: 0.0217\n",
            "Epoch 62/200\n",
            "1/1 [==============================] - 0s 64ms/step - loss: 4.0645e-04\n",
            "Epoch 63/200\n",
            "1/1 [==============================] - 0s 56ms/step - loss: 1.0313e-04\n",
            "Epoch 64/200\n",
            "1/1 [==============================] - 0s 60ms/step - loss: 9.6279e-05\n",
            "Epoch 65/200\n",
            "1/1 [==============================] - 0s 64ms/step - loss: 5.1882e-05\n",
            "Epoch 66/200\n",
            "1/1 [==============================] - 0s 59ms/step - loss: 1.2061e-04\n",
            "Epoch 67/200\n",
            "1/1 [==============================] - 0s 58ms/step - loss: 3.3434e-05\n",
            "Epoch 68/200\n",
            "1/1 [==============================] - 0s 49ms/step - loss: 3.5582e-05\n",
            "Epoch 69/200\n",
            "1/1 [==============================] - 0s 62ms/step - loss: 4.9084e-05\n",
            "Epoch 70/200\n",
            "1/1 [==============================] - 0s 59ms/step - loss: 5.2806e-05\n",
            "Epoch 71/200\n",
            "1/1 [==============================] - 0s 61ms/step - loss: 1.7640e-05\n",
            "Epoch 72/200\n",
            "1/1 [==============================] - 0s 55ms/step - loss: 0.0533\n",
            "Epoch 73/200\n",
            "1/1 [==============================] - 0s 60ms/step - loss: 5.9904e-05\n",
            "Epoch 74/200\n",
            "1/1 [==============================] - 0s 54ms/step - loss: 7.8131e-05\n",
            "Epoch 75/200\n",
            "1/1 [==============================] - 0s 56ms/step - loss: 3.2928e-05\n",
            "Epoch 76/200\n",
            "1/1 [==============================] - 0s 59ms/step - loss: 0.1177\n",
            "Epoch 77/200\n",
            "1/1 [==============================] - 0s 59ms/step - loss: 0.0036\n",
            "Epoch 78/200\n",
            "1/1 [==============================] - 0s 65ms/step - loss: 3.3185e-04\n",
            "Epoch 79/200\n",
            "1/1 [==============================] - 0s 62ms/step - loss: 4.6952e-05\n",
            "Epoch 80/200\n",
            "1/1 [==============================] - 0s 58ms/step - loss: 7.7774e-05\n",
            "Epoch 81/200\n",
            "1/1 [==============================] - 0s 58ms/step - loss: 2.8300e-05\n",
            "Epoch 82/200\n",
            "1/1 [==============================] - 0s 68ms/step - loss: 6.2248e-05\n",
            "Epoch 83/200\n",
            "1/1 [==============================] - 0s 63ms/step - loss: 4.3148e-05\n",
            "Epoch 84/200\n",
            "1/1 [==============================] - 0s 52ms/step - loss: 2.7292e-05\n",
            "Epoch 85/200\n",
            "1/1 [==============================] - 0s 58ms/step - loss: 1.6597e-05\n",
            "Epoch 86/200\n",
            "1/1 [==============================] - 0s 67ms/step - loss: 3.6726e-05\n",
            "Epoch 87/200\n",
            "1/1 [==============================] - 0s 62ms/step - loss: 1.9124e-05\n",
            "Epoch 88/200\n",
            "1/1 [==============================] - 0s 61ms/step - loss: 1.5783e-05\n",
            "Epoch 89/200\n",
            "1/1 [==============================] - 0s 64ms/step - loss: 6.4167e-05\n",
            "Epoch 90/200\n",
            "1/1 [==============================] - 0s 53ms/step - loss: 4.7130e-05\n",
            "Epoch 91/200\n",
            "1/1 [==============================] - 0s 62ms/step - loss: 1.6106e-05\n",
            "Epoch 92/200\n",
            "1/1 [==============================] - 0s 64ms/step - loss: 0.0580\n",
            "Epoch 93/200\n",
            "1/1 [==============================] - 0s 57ms/step - loss: 4.0037e-05\n",
            "Epoch 94/200\n",
            "1/1 [==============================] - 0s 65ms/step - loss: 1.6654e-05\n",
            "Epoch 95/200\n",
            "1/1 [==============================] - 0s 61ms/step - loss: 3.5146e-05\n",
            "Epoch 96/200\n",
            "1/1 [==============================] - 0s 60ms/step - loss: 0.0361\n",
            "Epoch 97/200\n",
            "1/1 [==============================] - 0s 57ms/step - loss: 2.4409e-05\n",
            "Epoch 98/200\n",
            "1/1 [==============================] - 0s 53ms/step - loss: 2.1390e-05\n",
            "Epoch 99/200\n",
            "1/1 [==============================] - 0s 62ms/step - loss: 6.2025e-05\n",
            "Epoch 100/200\n",
            "1/1 [==============================] - 0s 63ms/step - loss: 8.5742e-05\n",
            "Epoch 101/200\n",
            "1/1 [==============================] - 0s 61ms/step - loss: 0.0171\n",
            "Epoch 102/200\n",
            "1/1 [==============================] - 0s 67ms/step - loss: 1.4676e-04\n",
            "Epoch 103/200\n",
            "1/1 [==============================] - 0s 63ms/step - loss: 0.0019\n",
            "Epoch 104/200\n",
            "1/1 [==============================] - 0s 57ms/step - loss: 4.8029e-05\n",
            "Epoch 105/200\n",
            "1/1 [==============================] - 0s 55ms/step - loss: 3.7806e-05\n",
            "Epoch 106/200\n",
            "1/1 [==============================] - 0s 67ms/step - loss: 0.1299\n",
            "Epoch 107/200\n",
            "1/1 [==============================] - 0s 59ms/step - loss: 5.0774e-05\n",
            "Epoch 108/200\n",
            "1/1 [==============================] - 0s 58ms/step - loss: 4.0039e-05\n",
            "Epoch 109/200\n",
            "1/1 [==============================] - 0s 67ms/step - loss: 2.1294e-05\n",
            "Epoch 110/200\n",
            "1/1 [==============================] - 0s 61ms/step - loss: 2.1687e-04\n",
            "Epoch 111/200\n",
            "1/1 [==============================] - 0s 54ms/step - loss: 2.5234e-05\n",
            "Epoch 112/200\n",
            "1/1 [==============================] - 0s 58ms/step - loss: 0.0030\n",
            "Epoch 113/200\n",
            "1/1 [==============================] - 0s 60ms/step - loss: 1.3804e-04\n",
            "Epoch 114/200\n",
            "1/1 [==============================] - 0s 60ms/step - loss: 9.1039e-05\n",
            "Epoch 115/200\n",
            "1/1 [==============================] - 0s 79ms/step - loss: 7.9309e-05\n",
            "Epoch 116/200\n",
            "1/1 [==============================] - 0s 61ms/step - loss: 2.8622e-05\n",
            "Epoch 117/200\n",
            "1/1 [==============================] - 0s 54ms/step - loss: 5.5208e-05\n",
            "Epoch 118/200\n",
            "1/1 [==============================] - 0s 72ms/step - loss: 1.7111e-05\n",
            "Epoch 119/200\n",
            "1/1 [==============================] - 0s 56ms/step - loss: 4.3565e-05\n",
            "Epoch 120/200\n",
            "1/1 [==============================] - 0s 55ms/step - loss: 1.4660e-04\n",
            "Epoch 121/200\n",
            "1/1 [==============================] - 0s 66ms/step - loss: 8.9701e-05\n",
            "Epoch 122/200\n",
            "1/1 [==============================] - 0s 57ms/step - loss: 3.8708e-05\n",
            "Epoch 123/200\n",
            "1/1 [==============================] - 0s 55ms/step - loss: 5.4811e-05\n",
            "Epoch 124/200\n",
            "1/1 [==============================] - 0s 59ms/step - loss: 5.1050e-05\n",
            "Epoch 125/200\n",
            "1/1 [==============================] - 0s 65ms/step - loss: 1.0840e-04\n",
            "Epoch 126/200\n",
            "1/1 [==============================] - 0s 63ms/step - loss: 6.5345e-05\n",
            "Epoch 127/200\n",
            "1/1 [==============================] - 0s 58ms/step - loss: 1.0673e-04\n",
            "Epoch 128/200\n",
            "1/1 [==============================] - 0s 56ms/step - loss: 5.7535e-05\n",
            "Epoch 129/200\n",
            "1/1 [==============================] - 0s 55ms/step - loss: 8.4813e-05\n",
            "Epoch 130/200\n",
            "1/1 [==============================] - 0s 49ms/step - loss: 2.3515e-04\n",
            "Epoch 131/200\n",
            "1/1 [==============================] - 0s 68ms/step - loss: 2.4116e-05\n",
            "Epoch 132/200\n",
            "1/1 [==============================] - 0s 61ms/step - loss: 6.1586e-05\n",
            "Epoch 133/200\n",
            "1/1 [==============================] - 0s 65ms/step - loss: 3.0273e-05\n",
            "Epoch 134/200\n",
            "1/1 [==============================] - 0s 55ms/step - loss: 1.7100e-04\n",
            "Epoch 135/200\n",
            "1/1 [==============================] - 0s 63ms/step - loss: 1.3740e-05\n",
            "Epoch 136/200\n",
            "1/1 [==============================] - 0s 56ms/step - loss: 2.2700e-05\n",
            "Epoch 137/200\n",
            "1/1 [==============================] - 0s 68ms/step - loss: 6.6741e-05\n",
            "Epoch 138/200\n",
            "1/1 [==============================] - 0s 59ms/step - loss: 6.2153e-05\n",
            "Epoch 139/200\n",
            "1/1 [==============================] - 0s 57ms/step - loss: 4.6614e-05\n",
            "Epoch 140/200\n",
            "1/1 [==============================] - 0s 61ms/step - loss: 6.1842e-05\n",
            "Epoch 141/200\n",
            "1/1 [==============================] - 0s 61ms/step - loss: 3.4826e-05\n",
            "Epoch 142/200\n",
            "1/1 [==============================] - 0s 53ms/step - loss: 2.1842e-05\n",
            "Epoch 143/200\n",
            "1/1 [==============================] - 0s 50ms/step - loss: 4.7857e-05\n",
            "Epoch 144/200\n",
            "1/1 [==============================] - 0s 56ms/step - loss: 2.6957e-05\n",
            "Epoch 145/200\n",
            "1/1 [==============================] - 0s 54ms/step - loss: 2.0886e-04\n",
            "Epoch 146/200\n",
            "1/1 [==============================] - 0s 55ms/step - loss: 4.4897e-05\n",
            "Epoch 147/200\n",
            "1/1 [==============================] - 0s 55ms/step - loss: 9.9035e-06\n",
            "Epoch 148/200\n",
            "1/1 [==============================] - 0s 63ms/step - loss: 2.5515e-05\n",
            "Epoch 149/200\n",
            "1/1 [==============================] - 0s 58ms/step - loss: 4.6412e-05\n",
            "Epoch 150/200\n",
            "1/1 [==============================] - 0s 71ms/step - loss: 6.6402e-05\n",
            "Epoch 151/200\n",
            "1/1 [==============================] - 0s 65ms/step - loss: 2.7145e-05\n",
            "Epoch 152/200\n",
            "1/1 [==============================] - 0s 58ms/step - loss: 1.8809e-05\n",
            "Epoch 153/200\n",
            "1/1 [==============================] - 0s 54ms/step - loss: 3.9035e-05\n",
            "Epoch 154/200\n",
            "1/1 [==============================] - 0s 55ms/step - loss: 1.8937e-05\n",
            "Epoch 155/200\n",
            "1/1 [==============================] - 0s 63ms/step - loss: 1.0955e-04\n",
            "Epoch 156/200\n",
            "1/1 [==============================] - 0s 54ms/step - loss: 1.0843e-04\n",
            "Epoch 157/200\n",
            "1/1 [==============================] - 0s 56ms/step - loss: 8.8597e-05\n",
            "Epoch 158/200\n",
            "1/1 [==============================] - 0s 61ms/step - loss: 8.9460e-05\n",
            "Epoch 159/200\n",
            "1/1 [==============================] - 0s 54ms/step - loss: 2.1366e-04\n",
            "Epoch 160/200\n",
            "1/1 [==============================] - 0s 54ms/step - loss: 1.1579e-05\n",
            "Epoch 161/200\n",
            "1/1 [==============================] - 0s 66ms/step - loss: 8.4703e-04\n",
            "Epoch 162/200\n",
            "1/1 [==============================] - 0s 57ms/step - loss: 4.1428e-04\n",
            "Epoch 163/200\n",
            "1/1 [==============================] - 0s 63ms/step - loss: 1.1859e-04\n",
            "Epoch 164/200\n",
            "1/1 [==============================] - 0s 55ms/step - loss: 1.6952e-04\n",
            "Epoch 165/200\n",
            "1/1 [==============================] - 0s 57ms/step - loss: 4.2464e-04\n",
            "Epoch 166/200\n",
            "1/1 [==============================] - 0s 67ms/step - loss: 0.0285\n",
            "Epoch 167/200\n",
            "1/1 [==============================] - 0s 63ms/step - loss: 3.4777e-05\n",
            "Epoch 168/200\n",
            "1/1 [==============================] - 0s 62ms/step - loss: 3.4132e-05\n",
            "Epoch 169/200\n",
            "1/1 [==============================] - 0s 56ms/step - loss: 5.1470e-05\n",
            "Epoch 170/200\n",
            "1/1 [==============================] - 0s 60ms/step - loss: 4.4263e-05\n",
            "Epoch 171/200\n",
            "1/1 [==============================] - 0s 66ms/step - loss: 2.5432e-05\n",
            "Epoch 172/200\n",
            "1/1 [==============================] - 0s 55ms/step - loss: 7.7023e-05\n",
            "Epoch 173/200\n",
            "1/1 [==============================] - 0s 68ms/step - loss: 3.6484e-04\n",
            "Epoch 174/200\n",
            "1/1 [==============================] - 0s 59ms/step - loss: 0.0014\n",
            "Epoch 175/200\n",
            "1/1 [==============================] - 0s 60ms/step - loss: 0.0021\n",
            "Epoch 176/200\n",
            "1/1 [==============================] - 0s 70ms/step - loss: 2.7767e-04\n",
            "Epoch 177/200\n",
            "1/1 [==============================] - 0s 54ms/step - loss: 1.8757e-04\n",
            "Epoch 178/200\n",
            "1/1 [==============================] - 0s 58ms/step - loss: 1.3829e-04\n",
            "Epoch 179/200\n",
            "1/1 [==============================] - 0s 62ms/step - loss: 1.4956e-05\n",
            "Epoch 180/200\n",
            "1/1 [==============================] - 0s 55ms/step - loss: 1.8889e-04\n",
            "Epoch 181/200\n",
            "1/1 [==============================] - 0s 57ms/step - loss: 7.5132e-05\n",
            "Epoch 182/200\n",
            "1/1 [==============================] - 0s 66ms/step - loss: 4.8353e-04\n",
            "Epoch 183/200\n",
            "1/1 [==============================] - 0s 59ms/step - loss: 6.7395e-05\n",
            "Epoch 184/200\n",
            "1/1 [==============================] - 0s 74ms/step - loss: 1.1228e-04\n",
            "Epoch 185/200\n",
            "1/1 [==============================] - 0s 54ms/step - loss: 7.3933e-05\n",
            "Epoch 186/200\n",
            "1/1 [==============================] - 0s 61ms/step - loss: 4.5584e-05\n",
            "Epoch 187/200\n",
            "1/1 [==============================] - 0s 67ms/step - loss: 6.3452e-05\n",
            "Epoch 188/200\n",
            "1/1 [==============================] - 0s 69ms/step - loss: 5.8207e-05\n",
            "Epoch 189/200\n",
            "1/1 [==============================] - 0s 64ms/step - loss: 4.5998e-05\n",
            "Epoch 190/200\n",
            "1/1 [==============================] - 0s 59ms/step - loss: 4.4419e-04\n",
            "Epoch 191/200\n",
            "1/1 [==============================] - 0s 63ms/step - loss: 1.4799e-04\n",
            "Epoch 192/200\n",
            "1/1 [==============================] - 0s 62ms/step - loss: 9.3808e-05\n",
            "Epoch 193/200\n",
            "1/1 [==============================] - 0s 59ms/step - loss: 4.3142e-05\n",
            "Epoch 194/200\n",
            "1/1 [==============================] - 0s 61ms/step - loss: 1.0594e-04\n",
            "Epoch 195/200\n",
            "1/1 [==============================] - 0s 63ms/step - loss: 9.2208e-05\n",
            "Epoch 196/200\n",
            "1/1 [==============================] - 0s 63ms/step - loss: 1.3586e-04\n",
            "Epoch 197/200\n",
            "1/1 [==============================] - 0s 62ms/step - loss: 2.7850e-05\n",
            "Epoch 198/200\n",
            "1/1 [==============================] - 0s 51ms/step - loss: 7.9153e-05\n",
            "Epoch 199/200\n",
            "1/1 [==============================] - 0s 59ms/step - loss: 1.0271e-05\n",
            "Epoch 200/200\n",
            "1/1 [==============================] - 0s 55ms/step - loss: 3.2626e-05\n"
          ]
        },
        {
          "output_type": "execute_result",
          "data": {
            "text/plain": [
              "<keras.callbacks.History at 0x7f53d63a6a10>"
            ]
          },
          "metadata": {},
          "execution_count": 228
        }
      ]
    },
    {
      "cell_type": "code",
      "metadata": {
        "id": "jCotoVEIM8KW"
      },
      "source": [
        ""
      ],
      "execution_count": null,
      "outputs": []
    }
  ]
}