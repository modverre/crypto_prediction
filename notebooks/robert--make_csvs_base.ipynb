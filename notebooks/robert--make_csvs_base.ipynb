{
 "cells": [
  {
   "cell_type": "code",
   "execution_count": 2,
   "id": "f5982b08",
   "metadata": {},
   "outputs": [],
   "source": [
    "%load_ext autoreload\n",
    "%autoreload 2\n",
    "#%reload_ext autoreload"
   ]
  },
  {
   "cell_type": "code",
   "execution_count": 3,
   "id": "c70f8bda",
   "metadata": {},
   "outputs": [
    {
     "name": "stderr",
     "output_type": "stream",
     "text": [
      "/home/rob/.pyenv/versions/3.8.12/envs/crypto_prediction/lib/python3.8/site-packages/pandas/compat/__init__.py:124: UserWarning: Could not import the lzma module. Your installed Python is incomplete. Attempting to use lzma compression will result in a RuntimeError.\n",
      "  warnings.warn(msg)\n"
     ]
    }
   ],
   "source": [
    "from crypto_prediction.data import prediction_ready_df\n",
    "import pandas as pd"
   ]
  },
  {
   "cell_type": "code",
   "execution_count": 19,
   "id": "e3ccf142",
   "metadata": {},
   "outputs": [],
   "source": [
    "\n",
    "l1 = ['doge','shib','elon','samo','hoge','mona','dogedash','erc20','ban','cummies']\n",
    "l2 = ['doggy','smi','doe','pepecash','wow','dinu','yummy','shibx','lowb','grlc']"
   ]
  },
  {
   "cell_type": "code",
   "execution_count": null,
   "id": "a61cb95b",
   "metadata": {},
   "outputs": [],
   "source": []
  },
  {
   "cell_type": "code",
   "execution_count": 20,
   "id": "e17e656d",
   "metadata": {},
   "outputs": [],
   "source": [
    "#df_list = prediction_ready_df(, 2160)"
   ]
  },
  {
   "cell_type": "code",
   "execution_count": 68,
   "id": "30d0ccf2",
   "metadata": {},
   "outputs": [],
   "source": [
    "#coins_dict, trends_df = prediction_ready_df(['doggy'], 2160)\n",
    "l1_list = prediction_ready_df(l1, 2160)"
   ]
  },
  {
   "cell_type": "code",
   "execution_count": 73,
   "id": "c4d6f8f9",
   "metadata": {},
   "outputs": [],
   "source": [
    "for element, ticker in zip(l1_list, l1):\n",
    "    element.to_csv(ticker+'_2160.csv')"
   ]
  },
  {
   "cell_type": "code",
   "execution_count": null,
   "id": "23613538",
   "metadata": {},
   "outputs": [],
   "source": []
  },
  {
   "cell_type": "code",
   "execution_count": null,
   "id": "4d7ca614",
   "metadata": {},
   "outputs": [],
   "source": []
  },
  {
   "cell_type": "code",
   "execution_count": 79,
   "id": "0347ba36",
   "metadata": {},
   "outputs": [],
   "source": [
    "l2_1=['doggy', 'smi']"
   ]
  },
  {
   "cell_type": "code",
   "execution_count": 77,
   "id": "e47ad559",
   "metadata": {},
   "outputs": [],
   "source": [
    "l2_list = prediction_ready_df(['doggy', 'smi'], 2160)"
   ]
  },
  {
   "cell_type": "code",
   "execution_count": 80,
   "id": "ba2aa43d",
   "metadata": {},
   "outputs": [],
   "source": [
    "for element, ticker in zip(l2_list, l2_1):\n",
    "    element.to_csv(ticker+'_2160.csv')"
   ]
  },
  {
   "cell_type": "code",
   "execution_count": 81,
   "id": "a8d0c858",
   "metadata": {},
   "outputs": [],
   "source": [
    "l2_2=['doe','pepecash','wow','dinu']\n",
    "l2_list_2 = prediction_ready_df(l2_2, 2160)"
   ]
  },
  {
   "cell_type": "code",
   "execution_count": 82,
   "id": "5c9df97b",
   "metadata": {},
   "outputs": [],
   "source": [
    "for element, ticker in zip(l2_list_2, l2_2):\n",
    "    element.to_csv(ticker+'_2160.csv')"
   ]
  },
  {
   "cell_type": "code",
   "execution_count": null,
   "id": "2497b8e9",
   "metadata": {},
   "outputs": [],
   "source": []
  },
  {
   "cell_type": "code",
   "execution_count": 83,
   "id": "28775b0e",
   "metadata": {},
   "outputs": [],
   "source": [
    "l2_3=['yummy','shibx','lowb','grlc']\n",
    "l2_list_3 = prediction_ready_df(l2_3, 2160)"
   ]
  },
  {
   "cell_type": "code",
   "execution_count": 84,
   "id": "c3f7469f",
   "metadata": {},
   "outputs": [],
   "source": [
    "for element, ticker in zip(l2_list_3, l2_3):\n",
    "    element.to_csv(ticker+'_2160.csv')"
   ]
  },
  {
   "cell_type": "code",
   "execution_count": null,
   "id": "a6228474",
   "metadata": {},
   "outputs": [],
   "source": []
  },
  {
   "cell_type": "code",
   "execution_count": 85,
   "id": "fb722b56",
   "metadata": {},
   "outputs": [],
   "source": [
    "l2_4=['dogedash']\n",
    "l2_list_4 = prediction_ready_df(l2_4, 2160)"
   ]
  },
  {
   "cell_type": "code",
   "execution_count": 86,
   "id": "6a09b3f0",
   "metadata": {},
   "outputs": [],
   "source": [
    "for element, ticker in zip(l2_list_4, l2_4):\n",
    "    element.to_csv(ticker+'_2160.csv')"
   ]
  },
  {
   "cell_type": "code",
   "execution_count": null,
   "id": "5783040a",
   "metadata": {},
   "outputs": [],
   "source": []
  },
  {
   "cell_type": "code",
   "execution_count": 87,
   "id": "b3b3316d",
   "metadata": {},
   "outputs": [],
   "source": [
    "l2_5=['doe','pepecash']\n",
    "l2_list_5 = prediction_ready_df(l2_5, 2160)"
   ]
  },
  {
   "cell_type": "code",
   "execution_count": 88,
   "id": "9546f31b",
   "metadata": {},
   "outputs": [],
   "source": [
    "for element, ticker in zip(l2_list_5, l2_5):\n",
    "    element.to_csv(ticker+'_2160.csv')"
   ]
  },
  {
   "cell_type": "code",
   "execution_count": null,
   "id": "bee8bc5f",
   "metadata": {},
   "outputs": [],
   "source": [
    "l1 = ['doge','shib','elon','samo'\n",
    "      ,'hoge','mona','dogedash',\n",
    "      'erc20','cummies']"
   ]
  },
  {
   "cell_type": "code",
   "execution_count": 12,
   "id": "7efdfeb5",
   "metadata": {},
   "outputs": [
    {
     "name": "stdout",
     "output_type": "stream",
     "text": [
      "HTTPSConnectionPool(host='trends.google.com', port=443): Read timed out. (read timeout=5)\n"
     ]
    },
    {
     "ename": "KeyboardInterrupt",
     "evalue": "",
     "output_type": "error",
     "traceback": [
      "\u001b[0;31m---------------------------------------------------------------------------\u001b[0m",
      "\u001b[0;31mKeyboardInterrupt\u001b[0m                         Traceback (most recent call last)",
      "\u001b[0;32m/tmp/ipykernel_59221/3443607774.py\u001b[0m in \u001b[0;36m<module>\u001b[0;34m\u001b[0m\n\u001b[1;32m      1\u001b[0m \u001b[0ml2_6\u001b[0m\u001b[0;34m=\u001b[0m\u001b[0;34m[\u001b[0m\u001b[0;34m'doge'\u001b[0m\u001b[0;34m,\u001b[0m\u001b[0;34m'shib'\u001b[0m\u001b[0;34m,\u001b[0m\u001b[0;34m'elon'\u001b[0m\u001b[0;34m,\u001b[0m\u001b[0;34m'samo'\u001b[0m\u001b[0;34m]\u001b[0m\u001b[0;34m\u001b[0m\u001b[0;34m\u001b[0m\u001b[0m\n\u001b[1;32m      2\u001b[0m \u001b[0;34m\u001b[0m\u001b[0m\n\u001b[0;32m----> 3\u001b[0;31m \u001b[0ml2_list_6\u001b[0m \u001b[0;34m=\u001b[0m \u001b[0mprediction_ready_df\u001b[0m\u001b[0;34m(\u001b[0m\u001b[0ml2_6\u001b[0m\u001b[0;34m,\u001b[0m \u001b[0;36m2150\u001b[0m\u001b[0;34m)\u001b[0m\u001b[0;34m\u001b[0m\u001b[0;34m\u001b[0m\u001b[0m\n\u001b[0m",
      "\u001b[0;32m~/code/riotsnotdiets/modverre/crypto_prediction/crypto_prediction/data.py\u001b[0m in \u001b[0;36mprediction_ready_df\u001b[0;34m(tickerlist, model_history_size)\u001b[0m\n\u001b[1;32m    195\u001b[0m \u001b[0;34m\u001b[0m\u001b[0m\n\u001b[1;32m    196\u001b[0m     \u001b[0;31m# get the trend data for the coins\u001b[0m\u001b[0;34m\u001b[0m\u001b[0;34m\u001b[0m\u001b[0;34m\u001b[0m\u001b[0m\n\u001b[0;32m--> 197\u001b[0;31m     \u001b[0mtrends_df\u001b[0m \u001b[0;34m=\u001b[0m \u001b[0mgoogletrend_history\u001b[0m\u001b[0;34m(\u001b[0m\u001b[0mtickerlist\u001b[0m\u001b[0;34m,\u001b[0m \u001b[0mmodel_history_size\u001b[0m\u001b[0;34m)\u001b[0m\u001b[0;34m\u001b[0m\u001b[0;34m\u001b[0m\u001b[0m\n\u001b[0m\u001b[1;32m    198\u001b[0m \u001b[0;34m\u001b[0m\u001b[0m\n\u001b[1;32m    199\u001b[0m     \u001b[0;31m# loop over each coin\u001b[0m\u001b[0;34m\u001b[0m\u001b[0;34m\u001b[0m\u001b[0;34m\u001b[0m\u001b[0m\n",
      "\u001b[0;32m~/code/riotsnotdiets/modverre/crypto_prediction/crypto_prediction/data.py\u001b[0m in \u001b[0;36mgoogletrend_history\u001b[0;34m(tickerlist, start, end)\u001b[0m\n\u001b[1;32m    140\u001b[0m \u001b[0;34m\u001b[0m\u001b[0m\n\u001b[1;32m    141\u001b[0m         data.append(\n\u001b[0;32m--> 142\u001b[0;31m             pytrends.get_historical_interest([searchname],\n\u001b[0m\u001b[1;32m    143\u001b[0m                                              \u001b[0myear_start\u001b[0m\u001b[0;34m=\u001b[0m\u001b[0mstart_dt\u001b[0m\u001b[0;34m.\u001b[0m\u001b[0myear\u001b[0m\u001b[0;34m,\u001b[0m\u001b[0;34m\u001b[0m\u001b[0;34m\u001b[0m\u001b[0m\n\u001b[1;32m    144\u001b[0m                                              \u001b[0mmonth_start\u001b[0m\u001b[0;34m=\u001b[0m\u001b[0mstart_dt\u001b[0m\u001b[0;34m.\u001b[0m\u001b[0mmonth\u001b[0m\u001b[0;34m,\u001b[0m\u001b[0;34m\u001b[0m\u001b[0;34m\u001b[0m\u001b[0m\n",
      "\u001b[0;32m~/.pyenv/versions/3.8.12/envs/crypto_prediction/lib/python3.8/site-packages/pytrends/request.py\u001b[0m in \u001b[0;36mget_historical_interest\u001b[0;34m(self, keywords, year_start, month_start, day_start, hour_start, year_end, month_end, day_end, hour_end, cat, geo, gprop, sleep)\u001b[0m\n\u001b[1;32m    531\u001b[0m             \u001b[0;31m# just in case you are rate-limited by Google. Recommended is 60 if you are.\u001b[0m\u001b[0;34m\u001b[0m\u001b[0;34m\u001b[0m\u001b[0;34m\u001b[0m\u001b[0m\n\u001b[1;32m    532\u001b[0m             \u001b[0;32mif\u001b[0m \u001b[0msleep\u001b[0m \u001b[0;34m>\u001b[0m \u001b[0;36m0\u001b[0m\u001b[0;34m:\u001b[0m\u001b[0;34m\u001b[0m\u001b[0;34m\u001b[0m\u001b[0m\n\u001b[0;32m--> 533\u001b[0;31m                 \u001b[0mtime\u001b[0m\u001b[0;34m.\u001b[0m\u001b[0msleep\u001b[0m\u001b[0;34m(\u001b[0m\u001b[0msleep\u001b[0m\u001b[0;34m)\u001b[0m\u001b[0;34m\u001b[0m\u001b[0;34m\u001b[0m\u001b[0m\n\u001b[0m\u001b[1;32m    534\u001b[0m \u001b[0;34m\u001b[0m\u001b[0m\n\u001b[1;32m    535\u001b[0m         \u001b[0;31m# Return the dataframe with results from our timeframe\u001b[0m\u001b[0;34m\u001b[0m\u001b[0;34m\u001b[0m\u001b[0;34m\u001b[0m\u001b[0m\n",
      "\u001b[0;31mKeyboardInterrupt\u001b[0m: "
     ]
    }
   ],
   "source": [
    "l2_6=['doge','shib','elon','samo']\n",
    "\n",
    "l2_list_6 = prediction_ready_df(l2_6, 2150)"
   ]
  },
  {
   "cell_type": "code",
   "execution_count": 11,
   "id": "73a6476b",
   "metadata": {},
   "outputs": [],
   "source": [
    "for element, ticker in zip(l2_list_6, l2_6):\n",
    "    element.to_csv('2150_'+ticker+'.csv')"
   ]
  },
  {
   "cell_type": "code",
   "execution_count": null,
   "id": "e01a372b",
   "metadata": {},
   "outputs": [],
   "source": []
  },
  {
   "cell_type": "code",
   "execution_count": 13,
   "id": "fd02ff79",
   "metadata": {},
   "outputs": [
    {
     "name": "stdout",
     "output_type": "stream",
     "text": [
      "/home/rob/code/riotsnotdiets/modverre/crypto_prediction/notebooks\r\n"
     ]
    }
   ],
   "source": [
    "!pwd"
   ]
  },
  {
   "cell_type": "code",
   "execution_count": null,
   "id": "7ddf7721",
   "metadata": {},
   "outputs": [],
   "source": []
  },
  {
   "cell_type": "code",
   "execution_count": null,
   "id": "5b44ecbd",
   "metadata": {},
   "outputs": [],
   "source": []
  }
 ],
 "metadata": {
  "kernelspec": {
   "display_name": "Python 3 (ipykernel)",
   "language": "python",
   "name": "python3"
  },
  "language_info": {
   "codemirror_mode": {
    "name": "ipython",
    "version": 3
   },
   "file_extension": ".py",
   "mimetype": "text/x-python",
   "name": "python",
   "nbconvert_exporter": "python",
   "pygments_lexer": "ipython3",
   "version": "3.8.12"
  },
  "toc": {
   "base_numbering": 1,
   "nav_menu": {},
   "number_sections": true,
   "sideBar": true,
   "skip_h1_title": false,
   "title_cell": "Table of Contents",
   "title_sidebar": "Contents",
   "toc_cell": false,
   "toc_position": {},
   "toc_section_display": true,
   "toc_window_display": false
  }
 },
 "nbformat": 4,
 "nbformat_minor": 5
}
