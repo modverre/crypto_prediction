{
 "cells": [
  {
   "cell_type": "code",
   "execution_count": 1,
   "id": "f1605231",
   "metadata": {},
   "outputs": [
    {
     "name": "stderr",
     "output_type": "stream",
     "text": [
      "/home/rob/.pyenv/versions/3.8.12/envs/crypto_prediction/lib/python3.8/site-packages/pandas/compat/__init__.py:124: UserWarning: Could not import the lzma module. Your installed Python is incomplete. Attempting to use lzma compression will result in a RuntimeError.\n",
      "  warnings.warn(msg)\n"
     ]
    }
   ],
   "source": [
    "import requests\n",
    "import pandas as pd"
   ]
  },
  {
   "cell_type": "markdown",
   "id": "1c70a177",
   "metadata": {},
   "source": [
    "# get coingeckos coin-id"
   ]
  },
  {
   "cell_type": "code",
   "execution_count": 3,
   "id": "f630f4ee",
   "metadata": {},
   "outputs": [],
   "source": [
    "api_url = 'https://api.coingecko.com/api/v3'\n",
    "api_endpoint = '/coins/list'"
   ]
  },
  {
   "cell_type": "code",
   "execution_count": 4,
   "id": "abfeab0a",
   "metadata": {},
   "outputs": [],
   "source": [
    "request = requests.get(f'{api_url}{api_endpoint}')"
   ]
  },
  {
   "cell_type": "code",
   "execution_count": 5,
   "id": "e688276e",
   "metadata": {},
   "outputs": [],
   "source": [
    "coins = request.json()"
   ]
  },
  {
   "cell_type": "code",
   "execution_count": 7,
   "id": "32e31e16",
   "metadata": {},
   "outputs": [
    {
     "name": "stdout",
     "output_type": "stream",
     "text": [
      "{'id': '0-5x-long-dogecoin-token', 'symbol': 'dogehalf', 'name': '0.5X Long Dogecoin Token'}\n",
      "{'id': '1doge', 'symbol': '1doge', 'name': '1Doge'}\n",
      "{'id': '1x-short-dogecoin-token', 'symbol': 'dogehedge', 'name': '1X Short Dogecoin Token'}\n",
      "{'id': '3x-long-dogecoin-token', 'symbol': 'dogebull', 'name': '3X Long Dogecoin Token'}\n",
      "{'id': '8bit-doge', 'symbol': 'bitd', 'name': '8Bit Doge'}\n",
      "{'id': 'arbidoge', 'symbol': 'adoge', 'name': 'ArbiDoge'}\n",
      "{'id': 'babybackdoge', 'symbol': 'bbdoge', 'name': 'BabyBackDOGE'}\n",
      "{'id': 'baby-doge-billionaire', 'symbol': 'babydb', 'name': 'Baby Doge Billionaire'}\n",
      "{'id': 'babydogecake', 'symbol': 'bdc', 'name': 'BabyDogeCake'}\n",
      "{'id': 'baby-doge-cash', 'symbol': 'babydogecash', 'name': 'Baby Doge Cash'}\n",
      "{'id': 'baby-doge-coin', 'symbol': 'babydoge', 'name': 'Baby Doge Coin'}\n",
      "{'id': 'babydoge-coin-eth', 'symbol': 'babydoge', 'name': 'BabyDoge ETH'}\n",
      "{'id': 'baby-doge-inu', 'symbol': '$babydogeinu', 'name': 'Baby Doge Inu'}\n",
      "{'id': 'baby-doge-money-maker', 'symbol': 'BABYDOGEMM', 'name': 'Baby Doge Money Maker'}\n",
      "{'id': 'babydogex', 'symbol': 'BDOGEX', 'name': 'BabyDogeX'}\n",
      "{'id': 'babydogezilla', 'symbol': 'babydogezilla', 'name': 'BabyDogeZilla'}\n",
      "{'id': 'baby-everdoge', 'symbol': 'baby everdoge', 'name': 'Baby EverDoge'}\n",
      "{'id': 'baby-falcon-doge', 'symbol': 'bfdoge', 'name': 'Baby Falcon Doge'}\n",
      "{'id': 'baby-floki-doge', 'symbol': 'babyfd', 'name': 'Baby Floki Doge'}\n",
      "{'id': 'baby-starlink-doge', 'symbol': 'starlinkdoge', 'name': 'Baby Starlink Doge'}\n",
      "{'id': 'bankerdoge', 'symbol': 'banker', 'name': 'BankerDoge'}\n",
      "{'id': 'binance-peg-dogecoin', 'symbol': 'doge', 'name': 'Binance-Peg Dogecoin'}\n",
      "{'id': 'blue-eyes-white-doge', 'symbol': 'bdoge', 'name': 'Blue Eyes White Doge'}\n",
      "{'id': 'bobadoge', 'symbol': 'bdoge', 'name': 'BobaDoge'}\n",
      "{'id': 'boozedoge', 'symbol': 'BODO', 'name': 'BoozeDoge'}\n",
      "{'id': 'boringdao-doge', 'symbol': 'odoge', 'name': 'BoringDAO DOGE'}\n",
      "{'id': 'boxerdoge', 'symbol': 'boxerdoge', 'name': 'BoxerDOGE'}\n",
      "{'id': 'buff-doge', 'symbol': 'buffdoge', 'name': 'Buff Doge'}\n",
      "{'id': 'buff-doge-coin', 'symbol': 'dogecoin', 'name': 'Buff Doge Coin'}\n",
      "{'id': 'bulldoge-inu', 'symbol': 'bulld', 'name': 'Bulldoge Inu'}\n",
      "{'id': 'burndoge', 'symbol': 'burndoge', 'name': 'BurnDoge'}\n",
      "{'id': 'chubbydoge', 'symbol': 'cdoge', 'name': 'ChubbyDoge'}\n",
      "{'id': 'classicdoge', 'symbol': 'xdoge', 'name': 'ClassicDoge'}\n",
      "{'id': 'community-doge-coin', 'symbol': 'ccdoge', 'name': 'Community Doge Coin'}\n",
      "{'id': 'corgidoge', 'symbol': 'corgi', 'name': 'Corgidoge'}\n",
      "{'id': 'cousin-doge', 'symbol': 'cousindoge', 'name': 'Cousin Doge'}\n",
      "{'id': 'cyberdoge', 'symbol': 'cybrrrdoge', 'name': 'CyberDoge'}\n",
      "{'id': 'cyber-doge', 'symbol': 'cyberd', 'name': 'Cyber Doge'}\n",
      "{'id': 'daddy-doge', 'symbol': 'daddydoge', 'name': 'Daddy Doge'}\n",
      "{'id': 'daddy-dogeback', 'symbol': 'daddydb', 'name': 'Daddy Dogeback'}\n",
      "{'id': 'daughter-doge', 'symbol': 'ddoge', 'name': 'Daughter Doge'}\n",
      "{'id': 'doge-army-token', 'symbol': 'dgat', 'name': 'Doge Army Token'}\n",
      "{'id': 'doge-back', 'symbol': 'dogeback', 'name': 'Doge Back'}\n",
      "{'id': 'dogebnb-org', 'symbol': 'dogebnb', 'name': 'DogeBNB.org'}\n",
      "{'id': 'dogebonk', 'symbol': 'dobo', 'name': 'Dogebonk'}\n",
      "{'id': 'dogebtc', 'symbol': 'dogebtc', 'name': 'DogeBTC'}\n",
      "{'id': 'dogebull', 'symbol': 'DOGEBULL', 'name': 'DogeBull'}\n",
      "{'id': 'dogecash', 'symbol': 'dogec', 'name': 'DogeCash'}\n",
      "{'id': 'dogecoin', 'symbol': 'doge', 'name': 'Dogecoin'}\n",
      "{'id': 'dogecoin-2', 'symbol': 'doge2', 'name': 'Dogecoin 2.0'}\n",
      "{'id': 'dogecola', 'symbol': 'dogecola', 'name': 'DogeCola'}\n",
      "{'id': 'dogedao', 'symbol': 'dogedao', 'name': 'DogeDao'}\n",
      "{'id': 'doge-dash', 'symbol': 'DogeDash', 'name': 'Doge Dash'}\n",
      "{'id': 'dogedealer', 'symbol': 'dogedealer', 'name': 'DogeDealer'}\n",
      "{'id': 'dogedrinks', 'symbol': 'dogedrinks', 'name': 'DogeDrinks'}\n",
      "{'id': 'dogefather', 'symbol': 'dogefather', 'name': 'Dogefather'}\n",
      "{'id': 'dogefather-ecosystem', 'symbol': 'dogefather', 'name': 'Dogefather Ecosystem'}\n",
      "{'id': 'dogefi', 'symbol': 'dogefi', 'name': 'DogeFi'}\n",
      "{'id': 'doge-floki-coin', 'symbol': 'dofi', 'name': 'Doge Floki Coin'}\n",
      "{'id': 'dogegamer', 'symbol': 'dga', 'name': 'Doge Gamer'}\n",
      "{'id': 'dogegayson', 'symbol': 'GOGE', 'name': 'DogeGaySon'}\n",
      "{'id': 'dogegf', 'symbol': 'dogegf', 'name': 'DogeGF'}\n",
      "{'id': 'dogehouse-capital', 'symbol': 'DOGEX', 'name': 'DogeHouse Capital'}\n",
      "{'id': 'doge-king', 'symbol': 'dogek', 'name': 'Doge King'}\n",
      "{'id': 'dogekongzilla', 'symbol': 'dogekongzilla', 'name': 'DogeKongZilla'}\n",
      "{'id': 'dogekwon-terra', 'symbol': 'dkwon', 'name': 'DogeKwon Terra'}\n",
      "{'id': 'dogelon-mars', 'symbol': 'elon', 'name': 'Dogelon Mars'}\n",
      "{'id': 'dogeman', 'symbol': 'dgman', 'name': 'DogeMan'}\n",
      "{'id': 'dogematic', 'symbol': 'dm', 'name': 'Dogematic'}\n",
      "{'id': 'dogemon-go', 'symbol': 'dogo', 'name': 'DogemonGo'}\n",
      "{'id': 'dogemongo-solana', 'symbol': 'dogo', 'name': 'DogemonGo Solana'}\n",
      "{'id': 'dogemoon', 'symbol': 'dogemoon', 'name': 'Dogemoon'}\n",
      "{'id': 'dogen-finance', 'symbol': 'dogen', 'name': 'Dogen Finance'}\n",
      "{'id': 'doge-of-woof-street', 'symbol': 'wsdoge', 'name': 'Doge of Woof Street'}\n",
      "{'id': 'dogepepsi', 'symbol': 'DOGEPEPSI', 'name': 'DogePepsi'}\n",
      "{'id': 'dogepot', 'symbol': 'dogepot', 'name': 'DogePot'}\n",
      "{'id': 'doge-reloaded', 'symbol': 'reloaded', 'name': 'Doge Reloaded'}\n",
      "{'id': 'dogerise', 'symbol': 'dogerise', 'name': 'Dogerise'}\n",
      "{'id': 'dogerocket', 'symbol': 'dogerkt', 'name': 'DogeRocket'}\n",
      "{'id': 'doge-strap', 'symbol': 'drap', 'name': 'Doge Strap'}\n",
      "{'id': 'dogestribute', 'symbol': 'dgstb', 'name': 'Dogestribute'}\n",
      "{'id': 'doge-superbowl', 'symbol': 'DSBOWL', 'name': 'Doge Superbowl'}\n",
      "{'id': 'dogeswap', 'symbol': 'doges', 'name': 'Dogeswap'}\n",
      "{'id': 'dogethefloki', 'symbol': 'dtf', 'name': 'DogeTheFloki'}\n",
      "{'id': 'doge-token', 'symbol': 'doget', 'name': 'Doge Token'}\n",
      "{'id': 'doge-universe', 'symbol': 'SPACExDOGE', 'name': 'Doge Universe'}\n",
      "{'id': 'dogevillage', 'symbol': 'dogev', 'name': 'DogeVillage'}\n",
      "{'id': 'dogewarrior', 'symbol': 'dwr', 'name': 'DogeWarrior'}\n",
      "{'id': 'doge-yellow-coin', 'symbol': 'dogey', 'name': 'Doge Yellow Coin'}\n",
      "{'id': 'dogeyield', 'symbol': 'dogy', 'name': 'DogeYield'}\n",
      "{'id': 'dogey-inu', 'symbol': 'dinu', 'name': 'Dogey-Inu'}\n",
      "{'id': 'dogezero', 'symbol': 'doge0', 'name': 'DogeZero'}\n",
      "{'id': 'dogezilla', 'symbol': 'dogezilla', 'name': 'DogeZilla'}\n",
      "{'id': 'doge-zilla', 'symbol': 'DOGEZ', 'name': 'DogeZilla Token'}\n",
      "{'id': 'dogezoo', 'symbol': 'dzoo', 'name': 'DogeZoo'}\n",
      "{'id': 'dogswap-token', 'symbol': 'dog', 'name': 'Dogeswap Token (HECO)'}\n",
      "{'id': 'drdoge', 'symbol': 'drdoge', 'name': 'DrDoge'}\n",
      "{'id': 'drunkdoge', 'symbol': 'drunk', 'name': 'DrunkDoge'}\n",
      "{'id': 'dry-doge-metaverse', 'symbol': 'drydoge', 'name': 'Dry Doge Metaverse'}\n",
      "{'id': 'duxdoge', 'symbol': 'ddc', 'name': 'DuxDoge'}\n",
      "{'id': 'elondoge-dao', 'symbol': 'edao', 'name': 'ElonDoge DAO'}\n",
      "{'id': 'elon-doge-token', 'symbol': 'edoge', 'name': 'ElonDoge Token'}\n",
      "{'id': 'fans-of-doge', 'symbol': 'DogeFans', 'name': 'Fans of Doge'}\n",
      "{'id': 'fantom-doge', 'symbol': 'rip', 'name': 'Fantom Doge'}\n",
      "{'id': 'farmerdoge', 'symbol': 'crop', 'name': 'FarmerDoge'}\n",
      "{'id': 'fat-doge', 'symbol': 'foge', 'name': 'Fat Doge'}\n",
      "{'id': 'feisty-doge-nft', 'symbol': 'nfd', 'name': 'Feisty Doge NFT'}\n",
      "{'id': 'first-doge-finance', 'symbol': 'fdoge', 'name': 'First Doge Finance'}\n",
      "{'id': 'flokidoge', 'symbol': '$floge', 'name': 'Flokidoge'}\n",
      "{'id': 'gaming-doge', 'symbol': 'gamingdoge', 'name': 'Gaming Doge'}\n",
      "{'id': 'gangster-doge', 'symbol': 'gangstadoge', 'name': 'Gangster Doge'}\n",
      "{'id': 'gdoge-finance', 'symbol': 'gdoge', 'name': 'GDOGE Finance'}\n",
      "{'id': 'generic-doge', 'symbol': 'gdoge', 'name': 'Generic Doge'}\n",
      "{'id': 'get-doge', 'symbol': 'getdoge', 'name': 'Get Doge'}\n",
      "{'id': 'glorydoge', 'symbol': 'gloryd', 'name': 'GloryDoge'}\n",
      "{'id': 'golden-doge', 'symbol': 'gdoge', 'name': 'Golden Doge'}\n",
      "{'id': 'goofydoge', 'symbol': 'GoofyDoge', 'name': 'GoofyDoge'}\n",
      "{'id': 'grandma-doge', 'symbol': 'gdoge', 'name': 'Grandma Doge'}\n",
      "{'id': 'grandpa-doge', 'symbol': 'grandpadoge', 'name': 'Grandpa Doge'}\n",
      "{'id': 'grumpydoge-punks', 'symbol': 'gpunks', 'name': 'GrumpyDoge Punks'}\n",
      "{'id': 'herodoge', 'symbol': 'herodoge', 'name': 'HeroDoge'}\n",
      "{'id': 'holographic-doge', 'symbol': 'hodo', 'name': 'Holographic Doge'}\n",
      "{'id': 'holydoge', 'symbol': 'hdoge', 'name': 'HolyDoge'}\n",
      "{'id': 'horny-doge', 'symbol': 'horny', 'name': 'Horny Doge'}\n",
      "{'id': 'hot-doge', 'symbol': 'hotdoge', 'name': 'HotDoge'}\n",
      "{'id': 'hunger-doge', 'symbol': 'hungrydoge', 'name': 'Hunger Doge'}\n",
      "{'id': 'hunterdoge', 'symbol': '$hd', 'name': 'HunterDoge'}\n",
      "{'id': 'influencer-doge', 'symbol': 'idoge', 'name': 'Influencer Doge'}\n",
      "{'id': 'island-doges', 'symbol': 'island', 'name': 'Island Doges'}\n",
      "{'id': 'jejudoge', 'symbol': 'jejudoge', 'name': 'Jejudoge'}\n",
      "{'id': 'jejudoge-bsc', 'symbol': 'jejudoge', 'name': 'Jejudoge BSC'}\n",
      "{'id': 'jindoge', 'symbol': 'jindoge', 'name': 'Jindoge'}\n",
      "{'id': 'king-baby-doge', 'symbol': 'kbd', 'name': 'King Baby Doge'}\n",
      "{'id': 'kingdoge', 'symbol': 'kdoge', 'name': 'KingDoge'}\n",
      "{'id': 'king-of-the-doge', 'symbol': 'kotdoge', 'name': 'King Of The Doge'}\n",
      "{'id': 'koreadoge', 'symbol': 'kdoge', 'name': 'Koreadoge'}\n",
      "{'id': 'kudoge', 'symbol': 'kudo', 'name': 'KuDoge'}\n",
      "{'id': 'la-doge-de-papel', 'symbol': 'lddp', 'name': 'La Doge de Papel'}\n",
      "{'id': 'lazydoge', 'symbol': 'lazydoge', 'name': 'LazyDoge'}\n",
      "{'id': 'leash', 'symbol': 'leash', 'name': 'Doge Killer'}\n",
      "{'id': 'lildoge', 'symbol': 'lildoge', 'name': 'LilDoge'}\n",
      "{'id': 'lil-doge-floki-token', 'symbol': 'ldf', 'name': 'Lil Doge Floki Token'}\n",
      "{'id': 'litedoge', 'symbol': 'ldoge', 'name': 'LiteDoge'}\n",
      "{'id': 'littledoge', 'symbol': 'littledoge', 'name': 'LittleDoge'}\n",
      "{'id': 'love-doge', 'symbol': 'lovedoge', 'name': 'Love Doge'}\n",
      "{'id': 'lunadoge', 'symbol': 'loge', 'name': 'LunaDoge'}\n",
      "{'id': 'mage-doge', 'symbol': 'mgdg', 'name': 'Mage Doge'}\n",
      "{'id': 'magicdoge', 'symbol': 'magicdoge', 'name': 'MagicDOGE'}\n",
      "{'id': 'mamadoge', 'symbol': 'mamadoge', 'name': 'MamaDoge'}\n",
      "{'id': 'mars-doge', 'symbol': 'MarsDoge', 'name': 'Mars Doge'}\n",
      "{'id': 'mars-dogecoin', 'symbol': 'mdc', 'name': 'Mars DogeCoin'}\n",
      "{'id': 'martiandoge', 'symbol': 'martiandoge', 'name': 'MartianDoge'}\n",
      "{'id': 'maskdoge', 'symbol': 'MaskDoge', 'name': 'MaskDoge'}\n",
      "{'id': 'metadoge', 'symbol': 'metadoge', 'name': 'MetaDoge'}\n",
      "{'id': 'meta-doge', 'symbol': 'metadoge', 'name': 'Meta Doge'}\n",
      "{'id': 'mini-baby-doge', 'symbol': 'minibabydoge', 'name': 'Mini Baby Doge'}\n",
      "{'id': 'minidoge', 'symbol': 'minidoge', 'name': 'MiniDOGE'}\n",
      "{'id': 'mini-doge-pro', 'symbol': 'minidogepro', 'name': 'Mini Doge Pro'}\n",
      "{'id': 'minieverdoge', 'symbol': 'med', 'name': 'MiniEverDoge'}\n",
      "{'id': 'mini-hollywood-doge', 'symbol': 'mollydoge⭐', 'name': 'Mini Hollywood Doge'}\n",
      "{'id': 'miss-doge', 'symbol': 'mdoge', 'name': 'Miss Doge'}\n",
      "{'id': 'mommy-doge', 'symbol': 'mommydoge', 'name': 'Mommy Doge'}\n",
      "{'id': 'nano-doge', 'symbol': 'nanodoge', 'name': 'Nano Doge Token'}\n",
      "{'id': 'nano-dogecoin', 'symbol': 'indc', 'name': 'Nano Dogecoin'}\n",
      "{'id': 'nasa-doge', 'symbol': 'nasadoge', 'name': 'Nasa Doge'}\n",
      "{'id': 'naughtydoge', 'symbol': 'ndoge', 'name': 'NaughtyDoge'}\n",
      "{'id': 'ninja-doge', 'symbol': '$ninjadoge', 'name': 'Ninja Doge'}\n",
      "{'id': 'olympic-doge', 'symbol': 'olympic doge', 'name': 'Olympic Doge'}\n",
      "{'id': 'papa-doge', 'symbol': 'papadoge', 'name': 'Papa Doge'}\n",
      "{'id': 'pocket-doge', 'symbol': 'pdoge', 'name': 'Pocket Doge'}\n",
      "{'id': 'policedoge', 'symbol': 'policedoge', 'name': 'PoliceDOGE'}\n",
      "{'id': 'polydoge', 'symbol': 'polydoge', 'name': 'PolyDoge'}\n",
      "{'id': 'polygon-babydoge', 'symbol': 'polybabydoge', 'name': 'Polygon BabyDoge'}\n",
      "{'id': 'poordoge', 'symbol': 'poordoge', 'name': 'PoorDoge'}\n",
      "{'id': 'president-doge', 'symbol': 'presidentdoge', 'name': 'President Doge'}\n",
      "{'id': 'project-dogex', 'symbol': 'dogex', 'name': 'Project DogeX'}\n",
      "{'id': 'psycho-doge', 'symbol': 'psychodoge', 'name': 'Psycho Doge'}\n",
      "{'id': 'pulsedoge', 'symbol': 'pulsedoge', 'name': 'PulseDoge'}\n",
      "{'id': 'pup-doge', 'symbol': 'pupdoge', 'name': 'Pup Doge'}\n",
      "{'id': 'puppy-doge', 'symbol': 'puppy', 'name': 'Puppy Doge'}\n",
      "{'id': 'rapdoge', 'symbol': 'rapdoge', 'name': 'RapDoge'}\n",
      "{'id': 'reddoge', 'symbol': 'reddoge', 'name': 'RedDoge'}\n",
      "{'id': 'rendoge', 'symbol': 'rendoge', 'name': 'renDOGE'}\n",
      "{'id': 'rich-doge-coin', 'symbol': 'richdoge 💲', 'name': 'Rich Doge Coin'}\n",
      "{'id': 'rivrdoge', 'symbol': 'rivrdoge', 'name': 'RivrDoge'}\n",
      "{'id': 'robin-doge', 'symbol': 'rdoge', 'name': 'Robin Doge'}\n",
      "{'id': 'robodoge-coin', 'symbol': 'robodoge', 'name': 'RoboDoge Coin'}\n",
      "{'id': 'rocketdoge', 'symbol': 'rd', 'name': 'RocketDoge'}\n",
      "{'id': 'rockstar-doge', 'symbol': 'rockstar', 'name': 'Rockstar Doge'}\n",
      "{'id': 'roge', 'symbol': 'roge', 'name': 'Rogue Doge'}\n",
      "{'id': 'romeo-doge', 'symbol': 'romeodoge', 'name': 'Romeo Doge'}\n",
      "{'id': 'royal-doge', 'symbol': 'rdoge', 'name': 'Royal Doge'}\n",
      "{'id': 'safedoge', 'symbol': 'safedoge', 'name': 'SafeDoge'}\n",
      "{'id': 'safedoge-token', 'symbol': 'safedoge', 'name': 'SafeDoge Token'}\n",
      "{'id': 'santadoge', 'symbol': 'santa', 'name': 'SantaDoge'}\n",
      "{'id': 'save-baby-doge', 'symbol': 'babydoge', 'name': 'Save Baby Doge'}\n",
      "{'id': 'scoobi-doge', 'symbol': 'scoobi', 'name': 'Scoobi Doge'}\n",
      "{'id': 'small-doge', 'symbol': 'sdog', 'name': 'Small Doge'}\n",
      "{'id': 'smugdoge', 'symbol': 'smug', 'name': 'SmugDoge'}\n",
      "{'id': 'snoopdoge', 'symbol': 'snoop', 'name': 'SnoopDoge'}\n",
      "{'id': 'snoop-doge', 'symbol': 'snoge', 'name': 'Snoop Doge'}\n",
      "{'id': 'soldoge', 'symbol': 'sdoge', 'name': 'SolDoge'}\n",
      "{'id': 'space-doge', 'symbol': 'spacedoge', 'name': 'Space Doge'}\n",
      "{'id': 'stoner-doge', 'symbol': 'stoge', 'name': 'Stoner Doge Finance'}\n",
      "{'id': 'sunglassesdoge', 'symbol': 'sunglassesdoge', 'name': 'SunglassesDoge'}\n",
      "{'id': 'superdoge', 'symbol': 'SUPDOG', 'name': 'SuperDoge'}\n",
      "{'id': 'support-doge', 'symbol': 'supd', 'name': 'Support Doge'}\n",
      "{'id': 'swole-doge', 'symbol': 'swole', 'name': 'Swole Doge'}\n",
      "{'id': 'tdoge', 'symbol': 'tdoge', 'name': 'τDoge'}\n",
      "{'id': 'the-batdoge', 'symbol': 'batdoge', 'name': 'The Batdoge'}\n",
      "{'id': 'the-doge-nft', 'symbol': 'dog', 'name': 'The Doge NFT'}\n",
      "{'id': 'the-doge-world', 'symbol': 'tdw', 'name': 'The Doge World'}\n",
      "{'id': 'thor-doge', 'symbol': 'thoge', 'name': 'Thor Doge'}\n",
      "{'id': 'toydoge', 'symbol': 'tdg', 'name': 'ToyDOGE'}\n",
      "{'id': 'uncle-doge', 'symbol': 'udoge', 'name': 'Uncle Doge'}\n",
      "{'id': 'united-doge-finance', 'symbol': 'udog', 'name': 'United Doge Finance'}\n",
      "{'id': 'vegasdoge', 'symbol': 'vegas', 'name': 'VegasDoge'}\n",
      "{'id': 'venus-doge', 'symbol': 'vdoge', 'name': 'Venus DOGE'}\n",
      "{'id': 'wifedoge', 'symbol': 'wifedoge', 'name': 'Wifedoge'}\n",
      "{'id': 'windoge95', 'symbol': 'wndg95', 'name': 'Windoge95'}\n",
      "{'id': 'xdoge', 'symbol': 'xdoge', 'name': 'Xdoge'}\n",
      "{'id': 'xrdoge', 'symbol': 'xrdoge', 'name': 'XRdoge'}\n"
     ]
    }
   ],
   "source": [
    "question = 'doge'\n",
    "for coin in coins:\n",
    "    if question.lower() in coin['name'].lower():\n",
    "        print(coin)"
   ]
  },
  {
   "cell_type": "markdown",
   "id": "8f23fca1",
   "metadata": {},
   "source": [
    "# test local functions"
   ]
  },
  {
   "cell_type": "code",
   "execution_count": 8,
   "id": "b3cf1ce7",
   "metadata": {},
   "outputs": [],
   "source": [
    "from crypto_prediction.data import *"
   ]
  },
  {
   "cell_type": "code",
   "execution_count": 12,
   "id": "71a1c332",
   "metadata": {},
   "outputs": [
    {
     "name": "stdout",
     "output_type": "stream",
     "text": [
      "The request failed: Google returned a response with code 400.\n",
      "The request failed: Google returned a response with code 400.\n",
      "The request failed: Google returned a response with code 400.\n"
     ]
    },
    {
     "name": "stderr",
     "output_type": "stream",
     "text": [
      "/home/rob/.pyenv/versions/3.8.12/envs/crypto_prediction/lib/python3.8/site-packages/pandas/core/frame.py:5039: SettingWithCopyWarning: \n",
      "A value is trying to be set on a copy of a slice from a DataFrame\n",
      "\n",
      "See the caveats in the documentation: https://pandas.pydata.org/pandas-docs/stable/user_guide/indexing.html#returning-a-view-versus-a-copy\n",
      "  return super().rename(\n",
      "/home/rob/code/riotsnotdiets/modverre/crypto_prediction/crypto_prediction/data.py:212: SettingWithCopyWarning: \n",
      "A value is trying to be set on a copy of a slice from a DataFrame.\n",
      "Try using .loc[row_indexer,col_indexer] = value instead\n",
      "\n",
      "See the caveats in the documentation: https://pandas.pydata.org/pandas-docs/stable/user_guide/indexing.html#returning-a-view-versus-a-copy\n",
      "  df['trend_'+ticker] = trends_df[ticker]\n"
     ]
    }
   ],
   "source": [
    "df = prediction_ready_df(['samo', 'yummy', 'grlc'], 2)"
   ]
  },
  {
   "cell_type": "code",
   "execution_count": 13,
   "id": "7060be42",
   "metadata": {},
   "outputs": [
    {
     "data": {
      "text/plain": [
       "[                     price_samo  trend_samo\n",
       " datetime                                   \n",
       " 2021-11-29 13:00:00    0.058725         100\n",
       " 2021-11-29 14:00:00    0.058741          42,\n",
       "                      price_yummy  trend_yummy\n",
       " datetime                                     \n",
       " 2021-11-29 13:00:00     0.000008          100\n",
       " 2021-11-29 14:00:00     0.000007            0,\n",
       "                      price_grlc  trend_grlc\n",
       " datetime                                   \n",
       " 2021-11-29 13:00:00    0.047741          84\n",
       " 2021-11-29 14:00:00    0.047629         100]"
      ]
     },
     "execution_count": 13,
     "metadata": {},
     "output_type": "execute_result"
    }
   ],
   "source": [
    "df"
   ]
  },
  {
   "cell_type": "code",
   "execution_count": 14,
   "id": "fb9aa9fa",
   "metadata": {},
   "outputs": [
    {
     "data": {
      "text/html": [
       "<div>\n",
       "<style scoped>\n",
       "    .dataframe tbody tr th:only-of-type {\n",
       "        vertical-align: middle;\n",
       "    }\n",
       "\n",
       "    .dataframe tbody tr th {\n",
       "        vertical-align: top;\n",
       "    }\n",
       "\n",
       "    .dataframe thead th {\n",
       "        text-align: right;\n",
       "    }\n",
       "</style>\n",
       "<table border=\"1\" class=\"dataframe\">\n",
       "  <thead>\n",
       "    <tr style=\"text-align: right;\">\n",
       "      <th></th>\n",
       "      <th>price_samo</th>\n",
       "      <th>trend_samo</th>\n",
       "    </tr>\n",
       "    <tr>\n",
       "      <th>datetime</th>\n",
       "      <th></th>\n",
       "      <th></th>\n",
       "    </tr>\n",
       "  </thead>\n",
       "  <tbody>\n",
       "    <tr>\n",
       "      <th>2021-11-29 13:00:00</th>\n",
       "      <td>0.058725</td>\n",
       "      <td>100</td>\n",
       "    </tr>\n",
       "    <tr>\n",
       "      <th>2021-11-29 14:00:00</th>\n",
       "      <td>0.058741</td>\n",
       "      <td>42</td>\n",
       "    </tr>\n",
       "  </tbody>\n",
       "</table>\n",
       "</div>"
      ],
      "text/plain": [
       "                     price_samo  trend_samo\n",
       "datetime                                   \n",
       "2021-11-29 13:00:00    0.058725         100\n",
       "2021-11-29 14:00:00    0.058741          42"
      ]
     },
     "execution_count": 14,
     "metadata": {},
     "output_type": "execute_result"
    }
   ],
   "source": [
    "df[0]"
   ]
  },
  {
   "cell_type": "code",
   "execution_count": 15,
   "id": "eed9b525",
   "metadata": {},
   "outputs": [
    {
     "data": {
      "text/html": [
       "<div>\n",
       "<style scoped>\n",
       "    .dataframe tbody tr th:only-of-type {\n",
       "        vertical-align: middle;\n",
       "    }\n",
       "\n",
       "    .dataframe tbody tr th {\n",
       "        vertical-align: top;\n",
       "    }\n",
       "\n",
       "    .dataframe thead th {\n",
       "        text-align: right;\n",
       "    }\n",
       "</style>\n",
       "<table border=\"1\" class=\"dataframe\">\n",
       "  <thead>\n",
       "    <tr style=\"text-align: right;\">\n",
       "      <th></th>\n",
       "      <th>price_yummy</th>\n",
       "      <th>trend_yummy</th>\n",
       "    </tr>\n",
       "    <tr>\n",
       "      <th>datetime</th>\n",
       "      <th></th>\n",
       "      <th></th>\n",
       "    </tr>\n",
       "  </thead>\n",
       "  <tbody>\n",
       "    <tr>\n",
       "      <th>2021-11-29 13:00:00</th>\n",
       "      <td>0.000008</td>\n",
       "      <td>100</td>\n",
       "    </tr>\n",
       "    <tr>\n",
       "      <th>2021-11-29 14:00:00</th>\n",
       "      <td>0.000007</td>\n",
       "      <td>0</td>\n",
       "    </tr>\n",
       "  </tbody>\n",
       "</table>\n",
       "</div>"
      ],
      "text/plain": [
       "                     price_yummy  trend_yummy\n",
       "datetime                                     \n",
       "2021-11-29 13:00:00     0.000008          100\n",
       "2021-11-29 14:00:00     0.000007            0"
      ]
     },
     "execution_count": 15,
     "metadata": {},
     "output_type": "execute_result"
    }
   ],
   "source": [
    "df[1]"
   ]
  },
  {
   "cell_type": "code",
   "execution_count": 16,
   "id": "dc7e880a",
   "metadata": {},
   "outputs": [
    {
     "data": {
      "text/html": [
       "<div>\n",
       "<style scoped>\n",
       "    .dataframe tbody tr th:only-of-type {\n",
       "        vertical-align: middle;\n",
       "    }\n",
       "\n",
       "    .dataframe tbody tr th {\n",
       "        vertical-align: top;\n",
       "    }\n",
       "\n",
       "    .dataframe thead th {\n",
       "        text-align: right;\n",
       "    }\n",
       "</style>\n",
       "<table border=\"1\" class=\"dataframe\">\n",
       "  <thead>\n",
       "    <tr style=\"text-align: right;\">\n",
       "      <th></th>\n",
       "      <th>price_grlc</th>\n",
       "      <th>trend_grlc</th>\n",
       "    </tr>\n",
       "    <tr>\n",
       "      <th>datetime</th>\n",
       "      <th></th>\n",
       "      <th></th>\n",
       "    </tr>\n",
       "  </thead>\n",
       "  <tbody>\n",
       "    <tr>\n",
       "      <th>2021-11-29 13:00:00</th>\n",
       "      <td>0.047741</td>\n",
       "      <td>84</td>\n",
       "    </tr>\n",
       "    <tr>\n",
       "      <th>2021-11-29 14:00:00</th>\n",
       "      <td>0.047629</td>\n",
       "      <td>100</td>\n",
       "    </tr>\n",
       "  </tbody>\n",
       "</table>\n",
       "</div>"
      ],
      "text/plain": [
       "                     price_grlc  trend_grlc\n",
       "datetime                                   \n",
       "2021-11-29 13:00:00    0.047741          84\n",
       "2021-11-29 14:00:00    0.047629         100"
      ]
     },
     "execution_count": 16,
     "metadata": {},
     "output_type": "execute_result"
    }
   ],
   "source": [
    "df[2]"
   ]
  },
  {
   "cell_type": "code",
   "execution_count": null,
   "id": "ab593451",
   "metadata": {},
   "outputs": [],
   "source": []
  }
 ],
 "metadata": {
  "kernelspec": {
   "display_name": "Python 3 (ipykernel)",
   "language": "python",
   "name": "python3"
  },
  "language_info": {
   "codemirror_mode": {
    "name": "ipython",
    "version": 3
   },
   "file_extension": ".py",
   "mimetype": "text/x-python",
   "name": "python",
   "nbconvert_exporter": "python",
   "pygments_lexer": "ipython3",
   "version": "3.8.12"
  },
  "toc": {
   "base_numbering": 1,
   "nav_menu": {},
   "number_sections": true,
   "sideBar": true,
   "skip_h1_title": false,
   "title_cell": "Table of Contents",
   "title_sidebar": "Contents",
   "toc_cell": false,
   "toc_position": {},
   "toc_section_display": true,
   "toc_window_display": false
  }
 },
 "nbformat": 4,
 "nbformat_minor": 5
}
