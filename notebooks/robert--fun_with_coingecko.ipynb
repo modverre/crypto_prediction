{
 "cells": [
  {
   "cell_type": "code",
   "execution_count": 2,
   "id": "f1605231",
   "metadata": {},
   "outputs": [
    {
     "name": "stderr",
     "output_type": "stream",
     "text": [
      "/home/rob/.pyenv/versions/3.8.12/envs/crypto_prediction/lib/python3.8/site-packages/pandas/compat/__init__.py:124: UserWarning: Could not import the lzma module. Your installed Python is incomplete. Attempting to use lzma compression will result in a RuntimeError.\n",
      "  warnings.warn(msg)\n"
     ]
    }
   ],
   "source": [
    "import requests\n",
    "import pandas as pd"
   ]
  },
  {
   "cell_type": "markdown",
   "id": "1c70a177",
   "metadata": {},
   "source": [
    "# get coingeckos coin-id"
   ]
  },
  {
   "cell_type": "code",
   "execution_count": 3,
   "id": "f630f4ee",
   "metadata": {},
   "outputs": [],
   "source": [
    "api_url = 'https://api.coingecko.com/api/v3'\n",
    "api_endpoint = '/coins/list'"
   ]
  },
  {
   "cell_type": "code",
   "execution_count": 4,
   "id": "abfeab0a",
   "metadata": {},
   "outputs": [],
   "source": [
    "request = requests.get(f'{api_url}{api_endpoint}')"
   ]
  },
  {
   "cell_type": "code",
   "execution_count": 5,
   "id": "e688276e",
   "metadata": {},
   "outputs": [],
   "source": [
    "coins = request.json()"
   ]
  },
  {
   "cell_type": "code",
   "execution_count": 7,
   "id": "32e31e16",
   "metadata": {},
   "outputs": [
    {
     "name": "stdout",
     "output_type": "stream",
     "text": [
      "{'id': '0-5x-long-dogecoin-token', 'symbol': 'dogehalf', 'name': '0.5X Long Dogecoin Token'}\n",
      "{'id': '1doge', 'symbol': '1doge', 'name': '1Doge'}\n",
      "{'id': '1x-short-dogecoin-token', 'symbol': 'dogehedge', 'name': '1X Short Dogecoin Token'}\n",
      "{'id': '3x-long-dogecoin-token', 'symbol': 'dogebull', 'name': '3X Long Dogecoin Token'}\n",
      "{'id': '8bit-doge', 'symbol': 'bitd', 'name': '8Bit Doge'}\n",
      "{'id': 'arbidoge', 'symbol': 'adoge', 'name': 'ArbiDoge'}\n",
      "{'id': 'babybackdoge', 'symbol': 'bbdoge', 'name': 'BabyBackDOGE'}\n",
      "{'id': 'baby-doge-billionaire', 'symbol': 'babydb', 'name': 'Baby Doge Billionaire'}\n",
      "{'id': 'babydogecake', 'symbol': 'bdc', 'name': 'BabyDogeCake'}\n",
      "{'id': 'baby-doge-cash', 'symbol': 'babydogecash', 'name': 'Baby Doge Cash'}\n",
      "{'id': 'baby-doge-coin', 'symbol': 'babydoge', 'name': 'Baby Doge Coin'}\n",
      "{'id': 'babydoge-coin-eth', 'symbol': 'babydoge', 'name': 'BabyDoge ETH'}\n",
      "{'id': 'baby-doge-inu', 'symbol': '$babydogeinu', 'name': 'Baby Doge Inu'}\n",
      "{'id': 'baby-doge-money-maker', 'symbol': 'BABYDOGEMM', 'name': 'Baby Doge Money Maker'}\n",
      "{'id': 'babydogex', 'symbol': 'BDOGEX', 'name': 'BabyDogeX'}\n",
      "{'id': 'babydogezilla', 'symbol': 'babydogezilla', 'name': 'BabyDogeZilla'}\n",
      "{'id': 'baby-everdoge', 'symbol': 'baby everdoge', 'name': 'Baby EverDoge'}\n",
      "{'id': 'baby-falcon-doge', 'symbol': 'bfdoge', 'name': 'Baby Falcon Doge'}\n",
      "{'id': 'baby-floki-doge', 'symbol': 'babyfd', 'name': 'Baby Floki Doge'}\n",
      "{'id': 'baby-starlink-doge', 'symbol': 'starlinkdoge', 'name': 'Baby Starlink Doge'}\n",
      "{'id': 'bankerdoge', 'symbol': 'banker', 'name': 'BankerDoge'}\n",
      "{'id': 'binance-peg-dogecoin', 'symbol': 'doge', 'name': 'Binance-Peg Dogecoin'}\n",
      "{'id': 'blue-eyes-white-doge', 'symbol': 'bdoge', 'name': 'Blue Eyes White Doge'}\n",
      "{'id': 'bobadoge', 'symbol': 'bdoge', 'name': 'BobaDoge'}\n",
      "{'id': 'boozedoge', 'symbol': 'BODO', 'name': 'BoozeDoge'}\n",
      "{'id': 'boringdao-doge', 'symbol': 'odoge', 'name': 'BoringDAO DOGE'}\n",
      "{'id': 'boxerdoge', 'symbol': 'boxerdoge', 'name': 'BoxerDOGE'}\n",
      "{'id': 'buff-doge', 'symbol': 'buffdoge', 'name': 'Buff Doge'}\n",
      "{'id': 'buff-doge-coin', 'symbol': 'dogecoin', 'name': 'Buff Doge Coin'}\n",
      "{'id': 'bulldoge-inu', 'symbol': 'bulld', 'name': 'Bulldoge Inu'}\n",
      "{'id': 'burndoge', 'symbol': 'burndoge', 'name': 'BurnDoge'}\n",
      "{'id': 'chubbydoge', 'symbol': 'cdoge', 'name': 'ChubbyDoge'}\n",
      "{'id': 'classicdoge', 'symbol': 'xdoge', 'name': 'ClassicDoge'}\n",
      "{'id': 'community-doge-coin', 'symbol': 'ccdoge', 'name': 'Community Doge Coin'}\n",
      "{'id': 'corgidoge', 'symbol': 'corgi', 'name': 'Corgidoge'}\n",
      "{'id': 'cousin-doge', 'symbol': 'cousindoge', 'name': 'Cousin Doge'}\n",
      "{'id': 'cyberdoge', 'symbol': 'cybrrrdoge', 'name': 'CyberDoge'}\n",
      "{'id': 'cyber-doge', 'symbol': 'cyberd', 'name': 'Cyber Doge'}\n",
      "{'id': 'daddy-doge', 'symbol': 'daddydoge', 'name': 'Daddy Doge'}\n",
      "{'id': 'daddy-dogeback', 'symbol': 'daddydb', 'name': 'Daddy Dogeback'}\n",
      "{'id': 'daughter-doge', 'symbol': 'ddoge', 'name': 'Daughter Doge'}\n",
      "{'id': 'doge-army-token', 'symbol': 'dgat', 'name': 'Doge Army Token'}\n",
      "{'id': 'doge-back', 'symbol': 'dogeback', 'name': 'Doge Back'}\n",
      "{'id': 'dogebnb-org', 'symbol': 'dogebnb', 'name': 'DogeBNB.org'}\n",
      "{'id': 'dogebonk', 'symbol': 'dobo', 'name': 'Dogebonk'}\n",
      "{'id': 'dogebtc', 'symbol': 'dogebtc', 'name': 'DogeBTC'}\n",
      "{'id': 'dogebull', 'symbol': 'DOGEBULL', 'name': 'DogeBull'}\n",
      "{'id': 'dogecash', 'symbol': 'dogec', 'name': 'DogeCash'}\n",
      "{'id': 'dogecoin', 'symbol': 'doge', 'name': 'Dogecoin'}\n",
      "{'id': 'dogecoin-2', 'symbol': 'doge2', 'name': 'Dogecoin 2.0'}\n",
      "{'id': 'dogecola', 'symbol': 'dogecola', 'name': 'DogeCola'}\n",
      "{'id': 'dogedao', 'symbol': 'dogedao', 'name': 'DogeDao'}\n",
      "{'id': 'doge-dash', 'symbol': 'DogeDash', 'name': 'Doge Dash'}\n",
      "{'id': 'dogedealer', 'symbol': 'dogedealer', 'name': 'DogeDealer'}\n",
      "{'id': 'dogedrinks', 'symbol': 'dogedrinks', 'name': 'DogeDrinks'}\n",
      "{'id': 'dogefather', 'symbol': 'dogefather', 'name': 'Dogefather'}\n",
      "{'id': 'dogefather-ecosystem', 'symbol': 'dogefather', 'name': 'Dogefather Ecosystem'}\n",
      "{'id': 'dogefi', 'symbol': 'dogefi', 'name': 'DogeFi'}\n",
      "{'id': 'doge-floki-coin', 'symbol': 'dofi', 'name': 'Doge Floki Coin'}\n",
      "{'id': 'dogegamer', 'symbol': 'dga', 'name': 'Doge Gamer'}\n",
      "{'id': 'dogegayson', 'symbol': 'GOGE', 'name': 'DogeGaySon'}\n",
      "{'id': 'dogegf', 'symbol': 'dogegf', 'name': 'DogeGF'}\n",
      "{'id': 'dogehouse-capital', 'symbol': 'DOGEX', 'name': 'DogeHouse Capital'}\n",
      "{'id': 'doge-king', 'symbol': 'dogek', 'name': 'Doge King'}\n",
      "{'id': 'dogekongzilla', 'symbol': 'dogekongzilla', 'name': 'DogeKongZilla'}\n",
      "{'id': 'dogekwon-terra', 'symbol': 'dkwon', 'name': 'DogeKwon Terra'}\n",
      "{'id': 'dogelon-mars', 'symbol': 'elon', 'name': 'Dogelon Mars'}\n",
      "{'id': 'dogeman', 'symbol': 'dgman', 'name': 'DogeMan'}\n",
      "{'id': 'dogematic', 'symbol': 'dm', 'name': 'Dogematic'}\n",
      "{'id': 'dogemon-go', 'symbol': 'dogo', 'name': 'DogemonGo'}\n",
      "{'id': 'dogemongo-solana', 'symbol': 'dogo', 'name': 'DogemonGo Solana'}\n",
      "{'id': 'dogemoon', 'symbol': 'dogemoon', 'name': 'Dogemoon'}\n",
      "{'id': 'dogen-finance', 'symbol': 'dogen', 'name': 'Dogen Finance'}\n",
      "{'id': 'doge-of-woof-street', 'symbol': 'wsdoge', 'name': 'Doge of Woof Street'}\n",
      "{'id': 'dogepepsi', 'symbol': 'DOGEPEPSI', 'name': 'DogePepsi'}\n",
      "{'id': 'dogepot', 'symbol': 'dogepot', 'name': 'DogePot'}\n",
      "{'id': 'doge-reloaded', 'symbol': 'reloaded', 'name': 'Doge Reloaded'}\n",
      "{'id': 'dogerise', 'symbol': 'dogerise', 'name': 'Dogerise'}\n",
      "{'id': 'dogerocket', 'symbol': 'dogerkt', 'name': 'DogeRocket'}\n",
      "{'id': 'doge-strap', 'symbol': 'drap', 'name': 'Doge Strap'}\n",
      "{'id': 'dogestribute', 'symbol': 'dgstb', 'name': 'Dogestribute'}\n",
      "{'id': 'doge-superbowl', 'symbol': 'DSBOWL', 'name': 'Doge Superbowl'}\n",
      "{'id': 'dogeswap', 'symbol': 'doges', 'name': 'Dogeswap'}\n",
      "{'id': 'dogethefloki', 'symbol': 'dtf', 'name': 'DogeTheFloki'}\n",
      "{'id': 'doge-token', 'symbol': 'doget', 'name': 'Doge Token'}\n",
      "{'id': 'doge-universe', 'symbol': 'SPACExDOGE', 'name': 'Doge Universe'}\n",
      "{'id': 'dogevillage', 'symbol': 'dogev', 'name': 'DogeVillage'}\n",
      "{'id': 'dogewarrior', 'symbol': 'dwr', 'name': 'DogeWarrior'}\n",
      "{'id': 'doge-yellow-coin', 'symbol': 'dogey', 'name': 'Doge Yellow Coin'}\n",
      "{'id': 'dogeyield', 'symbol': 'dogy', 'name': 'DogeYield'}\n",
      "{'id': 'dogey-inu', 'symbol': 'dinu', 'name': 'Dogey-Inu'}\n",
      "{'id': 'dogezero', 'symbol': 'doge0', 'name': 'DogeZero'}\n",
      "{'id': 'dogezilla', 'symbol': 'dogezilla', 'name': 'DogeZilla'}\n",
      "{'id': 'doge-zilla', 'symbol': 'DOGEZ', 'name': 'DogeZilla Token'}\n",
      "{'id': 'dogezoo', 'symbol': 'dzoo', 'name': 'DogeZoo'}\n",
      "{'id': 'dogswap-token', 'symbol': 'dog', 'name': 'Dogeswap Token (HECO)'}\n",
      "{'id': 'drdoge', 'symbol': 'drdoge', 'name': 'DrDoge'}\n",
      "{'id': 'drunkdoge', 'symbol': 'drunk', 'name': 'DrunkDoge'}\n",
      "{'id': 'dry-doge-metaverse', 'symbol': 'drydoge', 'name': 'Dry Doge Metaverse'}\n",
      "{'id': 'duxdoge', 'symbol': 'ddc', 'name': 'DuxDoge'}\n",
      "{'id': 'elondoge-dao', 'symbol': 'edao', 'name': 'ElonDoge DAO'}\n",
      "{'id': 'elon-doge-token', 'symbol': 'edoge', 'name': 'ElonDoge Token'}\n",
      "{'id': 'fans-of-doge', 'symbol': 'DogeFans', 'name': 'Fans of Doge'}\n",
      "{'id': 'fantom-doge', 'symbol': 'rip', 'name': 'Fantom Doge'}\n",
      "{'id': 'farmerdoge', 'symbol': 'crop', 'name': 'FarmerDoge'}\n",
      "{'id': 'fat-doge', 'symbol': 'foge', 'name': 'Fat Doge'}\n",
      "{'id': 'feisty-doge-nft', 'symbol': 'nfd', 'name': 'Feisty Doge NFT'}\n",
      "{'id': 'first-doge-finance', 'symbol': 'fdoge', 'name': 'First Doge Finance'}\n",
      "{'id': 'flokidoge', 'symbol': '$floge', 'name': 'Flokidoge'}\n",
      "{'id': 'gaming-doge', 'symbol': 'gamingdoge', 'name': 'Gaming Doge'}\n",
      "{'id': 'gangster-doge', 'symbol': 'gangstadoge', 'name': 'Gangster Doge'}\n",
      "{'id': 'gdoge-finance', 'symbol': 'gdoge', 'name': 'GDOGE Finance'}\n",
      "{'id': 'generic-doge', 'symbol': 'gdoge', 'name': 'Generic Doge'}\n",
      "{'id': 'get-doge', 'symbol': 'getdoge', 'name': 'Get Doge'}\n",
      "{'id': 'glorydoge', 'symbol': 'gloryd', 'name': 'GloryDoge'}\n",
      "{'id': 'golden-doge', 'symbol': 'gdoge', 'name': 'Golden Doge'}\n",
      "{'id': 'goofydoge', 'symbol': 'GoofyDoge', 'name': 'GoofyDoge'}\n",
      "{'id': 'grandma-doge', 'symbol': 'gdoge', 'name': 'Grandma Doge'}\n",
      "{'id': 'grandpa-doge', 'symbol': 'grandpadoge', 'name': 'Grandpa Doge'}\n",
      "{'id': 'grumpydoge-punks', 'symbol': 'gpunks', 'name': 'GrumpyDoge Punks'}\n",
      "{'id': 'herodoge', 'symbol': 'herodoge', 'name': 'HeroDoge'}\n",
      "{'id': 'holographic-doge', 'symbol': 'hodo', 'name': 'Holographic Doge'}\n",
      "{'id': 'holydoge', 'symbol': 'hdoge', 'name': 'HolyDoge'}\n",
      "{'id': 'horny-doge', 'symbol': 'horny', 'name': 'Horny Doge'}\n",
      "{'id': 'hot-doge', 'symbol': 'hotdoge', 'name': 'HotDoge'}\n",
      "{'id': 'hunger-doge', 'symbol': 'hungrydoge', 'name': 'Hunger Doge'}\n",
      "{'id': 'hunterdoge', 'symbol': '$hd', 'name': 'HunterDoge'}\n",
      "{'id': 'influencer-doge', 'symbol': 'idoge', 'name': 'Influencer Doge'}\n",
      "{'id': 'island-doges', 'symbol': 'island', 'name': 'Island Doges'}\n",
      "{'id': 'jejudoge', 'symbol': 'jejudoge', 'name': 'Jejudoge'}\n",
      "{'id': 'jejudoge-bsc', 'symbol': 'jejudoge', 'name': 'Jejudoge BSC'}\n",
      "{'id': 'jindoge', 'symbol': 'jindoge', 'name': 'Jindoge'}\n",
      "{'id': 'king-baby-doge', 'symbol': 'kbd', 'name': 'King Baby Doge'}\n",
      "{'id': 'kingdoge', 'symbol': 'kdoge', 'name': 'KingDoge'}\n",
      "{'id': 'king-of-the-doge', 'symbol': 'kotdoge', 'name': 'King Of The Doge'}\n",
      "{'id': 'koreadoge', 'symbol': 'kdoge', 'name': 'Koreadoge'}\n",
      "{'id': 'kudoge', 'symbol': 'kudo', 'name': 'KuDoge'}\n",
      "{'id': 'la-doge-de-papel', 'symbol': 'lddp', 'name': 'La Doge de Papel'}\n",
      "{'id': 'lazydoge', 'symbol': 'lazydoge', 'name': 'LazyDoge'}\n",
      "{'id': 'leash', 'symbol': 'leash', 'name': 'Doge Killer'}\n",
      "{'id': 'lildoge', 'symbol': 'lildoge', 'name': 'LilDoge'}\n",
      "{'id': 'lil-doge-floki-token', 'symbol': 'ldf', 'name': 'Lil Doge Floki Token'}\n",
      "{'id': 'litedoge', 'symbol': 'ldoge', 'name': 'LiteDoge'}\n",
      "{'id': 'littledoge', 'symbol': 'littledoge', 'name': 'LittleDoge'}\n",
      "{'id': 'love-doge', 'symbol': 'lovedoge', 'name': 'Love Doge'}\n",
      "{'id': 'lunadoge', 'symbol': 'loge', 'name': 'LunaDoge'}\n",
      "{'id': 'mage-doge', 'symbol': 'mgdg', 'name': 'Mage Doge'}\n",
      "{'id': 'magicdoge', 'symbol': 'magicdoge', 'name': 'MagicDOGE'}\n",
      "{'id': 'mamadoge', 'symbol': 'mamadoge', 'name': 'MamaDoge'}\n",
      "{'id': 'mars-doge', 'symbol': 'MarsDoge', 'name': 'Mars Doge'}\n",
      "{'id': 'mars-dogecoin', 'symbol': 'mdc', 'name': 'Mars DogeCoin'}\n",
      "{'id': 'martiandoge', 'symbol': 'martiandoge', 'name': 'MartianDoge'}\n",
      "{'id': 'maskdoge', 'symbol': 'MaskDoge', 'name': 'MaskDoge'}\n",
      "{'id': 'metadoge', 'symbol': 'metadoge', 'name': 'MetaDoge'}\n",
      "{'id': 'meta-doge', 'symbol': 'metadoge', 'name': 'Meta Doge'}\n",
      "{'id': 'mini-baby-doge', 'symbol': 'minibabydoge', 'name': 'Mini Baby Doge'}\n",
      "{'id': 'minidoge', 'symbol': 'minidoge', 'name': 'MiniDOGE'}\n",
      "{'id': 'mini-doge-pro', 'symbol': 'minidogepro', 'name': 'Mini Doge Pro'}\n",
      "{'id': 'minieverdoge', 'symbol': 'med', 'name': 'MiniEverDoge'}\n",
      "{'id': 'mini-hollywood-doge', 'symbol': 'mollydoge⭐', 'name': 'Mini Hollywood Doge'}\n",
      "{'id': 'miss-doge', 'symbol': 'mdoge', 'name': 'Miss Doge'}\n",
      "{'id': 'mommy-doge', 'symbol': 'mommydoge', 'name': 'Mommy Doge'}\n",
      "{'id': 'nano-doge', 'symbol': 'nanodoge', 'name': 'Nano Doge Token'}\n",
      "{'id': 'nano-dogecoin', 'symbol': 'indc', 'name': 'Nano Dogecoin'}\n",
      "{'id': 'nasa-doge', 'symbol': 'nasadoge', 'name': 'Nasa Doge'}\n",
      "{'id': 'naughtydoge', 'symbol': 'ndoge', 'name': 'NaughtyDoge'}\n",
      "{'id': 'ninja-doge', 'symbol': '$ninjadoge', 'name': 'Ninja Doge'}\n",
      "{'id': 'olympic-doge', 'symbol': 'olympic doge', 'name': 'Olympic Doge'}\n",
      "{'id': 'papa-doge', 'symbol': 'papadoge', 'name': 'Papa Doge'}\n",
      "{'id': 'pocket-doge', 'symbol': 'pdoge', 'name': 'Pocket Doge'}\n",
      "{'id': 'policedoge', 'symbol': 'policedoge', 'name': 'PoliceDOGE'}\n",
      "{'id': 'polydoge', 'symbol': 'polydoge', 'name': 'PolyDoge'}\n",
      "{'id': 'polygon-babydoge', 'symbol': 'polybabydoge', 'name': 'Polygon BabyDoge'}\n",
      "{'id': 'poordoge', 'symbol': 'poordoge', 'name': 'PoorDoge'}\n",
      "{'id': 'president-doge', 'symbol': 'presidentdoge', 'name': 'President Doge'}\n",
      "{'id': 'project-dogex', 'symbol': 'dogex', 'name': 'Project DogeX'}\n",
      "{'id': 'psycho-doge', 'symbol': 'psychodoge', 'name': 'Psycho Doge'}\n",
      "{'id': 'pulsedoge', 'symbol': 'pulsedoge', 'name': 'PulseDoge'}\n",
      "{'id': 'pup-doge', 'symbol': 'pupdoge', 'name': 'Pup Doge'}\n",
      "{'id': 'puppy-doge', 'symbol': 'puppy', 'name': 'Puppy Doge'}\n",
      "{'id': 'rapdoge', 'symbol': 'rapdoge', 'name': 'RapDoge'}\n",
      "{'id': 'reddoge', 'symbol': 'reddoge', 'name': 'RedDoge'}\n",
      "{'id': 'rendoge', 'symbol': 'rendoge', 'name': 'renDOGE'}\n",
      "{'id': 'rich-doge-coin', 'symbol': 'richdoge 💲', 'name': 'Rich Doge Coin'}\n",
      "{'id': 'rivrdoge', 'symbol': 'rivrdoge', 'name': 'RivrDoge'}\n",
      "{'id': 'robin-doge', 'symbol': 'rdoge', 'name': 'Robin Doge'}\n",
      "{'id': 'robodoge-coin', 'symbol': 'robodoge', 'name': 'RoboDoge Coin'}\n",
      "{'id': 'rocketdoge', 'symbol': 'rd', 'name': 'RocketDoge'}\n",
      "{'id': 'rockstar-doge', 'symbol': 'rockstar', 'name': 'Rockstar Doge'}\n",
      "{'id': 'roge', 'symbol': 'roge', 'name': 'Rogue Doge'}\n",
      "{'id': 'romeo-doge', 'symbol': 'romeodoge', 'name': 'Romeo Doge'}\n",
      "{'id': 'royal-doge', 'symbol': 'rdoge', 'name': 'Royal Doge'}\n",
      "{'id': 'safedoge', 'symbol': 'safedoge', 'name': 'SafeDoge'}\n",
      "{'id': 'safedoge-token', 'symbol': 'safedoge', 'name': 'SafeDoge Token'}\n",
      "{'id': 'santadoge', 'symbol': 'santa', 'name': 'SantaDoge'}\n",
      "{'id': 'save-baby-doge', 'symbol': 'babydoge', 'name': 'Save Baby Doge'}\n",
      "{'id': 'scoobi-doge', 'symbol': 'scoobi', 'name': 'Scoobi Doge'}\n",
      "{'id': 'small-doge', 'symbol': 'sdog', 'name': 'Small Doge'}\n",
      "{'id': 'smugdoge', 'symbol': 'smug', 'name': 'SmugDoge'}\n",
      "{'id': 'snoopdoge', 'symbol': 'snoop', 'name': 'SnoopDoge'}\n",
      "{'id': 'snoop-doge', 'symbol': 'snoge', 'name': 'Snoop Doge'}\n",
      "{'id': 'soldoge', 'symbol': 'sdoge', 'name': 'SolDoge'}\n",
      "{'id': 'space-doge', 'symbol': 'spacedoge', 'name': 'Space Doge'}\n",
      "{'id': 'stoner-doge', 'symbol': 'stoge', 'name': 'Stoner Doge Finance'}\n",
      "{'id': 'sunglassesdoge', 'symbol': 'sunglassesdoge', 'name': 'SunglassesDoge'}\n",
      "{'id': 'superdoge', 'symbol': 'SUPDOG', 'name': 'SuperDoge'}\n",
      "{'id': 'support-doge', 'symbol': 'supd', 'name': 'Support Doge'}\n",
      "{'id': 'swole-doge', 'symbol': 'swole', 'name': 'Swole Doge'}\n",
      "{'id': 'tdoge', 'symbol': 'tdoge', 'name': 'τDoge'}\n",
      "{'id': 'the-batdoge', 'symbol': 'batdoge', 'name': 'The Batdoge'}\n",
      "{'id': 'the-doge-nft', 'symbol': 'dog', 'name': 'The Doge NFT'}\n",
      "{'id': 'the-doge-world', 'symbol': 'tdw', 'name': 'The Doge World'}\n",
      "{'id': 'thor-doge', 'symbol': 'thoge', 'name': 'Thor Doge'}\n",
      "{'id': 'toydoge', 'symbol': 'tdg', 'name': 'ToyDOGE'}\n",
      "{'id': 'uncle-doge', 'symbol': 'udoge', 'name': 'Uncle Doge'}\n",
      "{'id': 'united-doge-finance', 'symbol': 'udog', 'name': 'United Doge Finance'}\n",
      "{'id': 'vegasdoge', 'symbol': 'vegas', 'name': 'VegasDoge'}\n",
      "{'id': 'venus-doge', 'symbol': 'vdoge', 'name': 'Venus DOGE'}\n",
      "{'id': 'wifedoge', 'symbol': 'wifedoge', 'name': 'Wifedoge'}\n",
      "{'id': 'windoge95', 'symbol': 'wndg95', 'name': 'Windoge95'}\n",
      "{'id': 'xdoge', 'symbol': 'xdoge', 'name': 'Xdoge'}\n",
      "{'id': 'xrdoge', 'symbol': 'xrdoge', 'name': 'XRdoge'}\n"
     ]
    }
   ],
   "source": [
    "question = 'doge'\n",
    "for coin in coins:\n",
    "    if question.lower() in coin['name'].lower():\n",
    "        print(coin)"
   ]
  },
  {
   "cell_type": "code",
   "execution_count": null,
   "id": "0eb46ebd",
   "metadata": {},
   "outputs": [],
   "source": []
  },
  {
   "cell_type": "code",
   "execution_count": 22,
   "id": "b3cf1ce7",
   "metadata": {},
   "outputs": [],
   "source": [
    "from crypto_prediction.data import prediction_ready_df"
   ]
  },
  {
   "cell_type": "code",
   "execution_count": 30,
   "id": "e1578380",
   "metadata": {},
   "outputs": [],
   "source": [
    "l = ['doge','shib','elon','samo','hoge','mona','dogedash','erc20','ban','cummies','doggy','smi','doe','pepecash','wow','dinu','yummy','shibx','lowb','grlc']\n",
    "l1 = ['doge','shib','elon','samo','hoge','mona','dogedash','erc20','ban','cummies']\n",
    "l2 = ['doggy','smi','doe','pepecash','wow','dinu','yummy','shibx','lowb','grlc']"
   ]
  },
  {
   "cell_type": "code",
   "execution_count": 31,
   "id": "080db546",
   "metadata": {},
   "outputs": [
    {
     "name": "stdout",
     "output_type": "stream",
     "text": [
      "The request failed: Google returned a response with code 400.\n",
      "The request failed: Google returned a response with code 400.\n",
      "The request failed: Google returned a response with code 400.\n",
      "The request failed: Google returned a response with code 400.\n",
      "The request failed: Google returned a response with code 400.\n",
      "The request failed: Google returned a response with code 400.\n",
      "The request failed: Google returned a response with code 400.\n",
      "The request failed: Google returned a response with code 400.\n",
      "The request failed: Google returned a response with code 400.\n",
      "The request failed: Google returned a response with code 400.\n",
      "The request failed: Google returned a response with code 400.\n",
      "The request failed: Google returned a response with code 400.\n",
      "The request failed: Google returned a response with code 400.\n",
      "The request failed: Google returned a response with code 400.\n",
      "The request failed: Google returned a response with code 400.\n",
      "The request failed: Google returned a response with code 400.\n",
      "The request failed: Google returned a response with code 400.\n",
      "The request failed: Google returned a response with code 400.\n",
      "The request failed: Google returned a response with code 400.\n",
      "The request failed: Google returned a response with code 400.\n"
     ]
    },
    {
     "name": "stderr",
     "output_type": "stream",
     "text": [
      "/home/rob/.pyenv/versions/3.8.12/envs/crypto_prediction/lib/python3.8/site-packages/pandas/core/frame.py:5039: SettingWithCopyWarning: \n",
      "A value is trying to be set on a copy of a slice from a DataFrame\n",
      "\n",
      "See the caveats in the documentation: https://pandas.pydata.org/pandas-docs/stable/user_guide/indexing.html#returning-a-view-versus-a-copy\n",
      "  return super().rename(\n",
      "/home/rob/code/riotsnotdiets/modverre/crypto_prediction/crypto_prediction/data.py:212: SettingWithCopyWarning: \n",
      "A value is trying to be set on a copy of a slice from a DataFrame.\n",
      "Try using .loc[row_indexer,col_indexer] = value instead\n",
      "\n",
      "See the caveats in the documentation: https://pandas.pydata.org/pandas-docs/stable/user_guide/indexing.html#returning-a-view-versus-a-copy\n",
      "  #df = googletrend_history(['dogecoin', 'samoyedcoin'], '2021-11-20T00:00:00Z', '2021-11-26T00:00:00Z')\n"
     ]
    }
   ],
   "source": [
    "df1_list = prediction_ready_df(l, 100)"
   ]
  },
  {
   "cell_type": "code",
   "execution_count": 33,
   "id": "2ecf1ebb",
   "metadata": {},
   "outputs": [
    {
     "data": {
      "text/plain": [
       "20"
      ]
     },
     "execution_count": 33,
     "metadata": {},
     "output_type": "execute_result"
    }
   ],
   "source": [
    "len(df1_list)"
   ]
  },
  {
   "cell_type": "code",
   "execution_count": 36,
   "id": "9293c680",
   "metadata": {},
   "outputs": [
    {
     "ename": "KeyboardInterrupt",
     "evalue": "",
     "output_type": "error",
     "traceback": [
      "\u001b[0;31m---------------------------------------------------------------------------\u001b[0m",
      "\u001b[0;31mKeyboardInterrupt\u001b[0m                         Traceback (most recent call last)",
      "\u001b[0;32m/tmp/ipykernel_31786/3683769822.py\u001b[0m in \u001b[0;36m<module>\u001b[0;34m\u001b[0m\n\u001b[0;32m----> 1\u001b[0;31m \u001b[0mcoins_dict\u001b[0m\u001b[0;34m,\u001b[0m \u001b[0mtrends_df\u001b[0m \u001b[0;34m=\u001b[0m \u001b[0mprediction_ready_df\u001b[0m\u001b[0;34m(\u001b[0m\u001b[0;34m[\u001b[0m\u001b[0;34m'doggy'\u001b[0m\u001b[0;34m]\u001b[0m\u001b[0;34m,\u001b[0m \u001b[0;36m2160\u001b[0m\u001b[0;34m)\u001b[0m\u001b[0;34m\u001b[0m\u001b[0;34m\u001b[0m\u001b[0m\n\u001b[0m",
      "\u001b[0;32m~/code/riotsnotdiets/modverre/crypto_prediction/crypto_prediction/data.py\u001b[0m in \u001b[0;36mprediction_ready_df\u001b[0;34m(tickerlist, model_history_size)\u001b[0m\n\u001b[1;32m    203\u001b[0m     \u001b[0mpredict_me\u001b[0m \u001b[0;34m=\u001b[0m \u001b[0;34m[\u001b[0m\u001b[0;34m]\u001b[0m\u001b[0;34m\u001b[0m\u001b[0;34m\u001b[0m\u001b[0m\n\u001b[1;32m    204\u001b[0m     \u001b[0;32mfor\u001b[0m \u001b[0mticker\u001b[0m \u001b[0;32min\u001b[0m \u001b[0mtickerlist\u001b[0m\u001b[0;34m:\u001b[0m\u001b[0;34m\u001b[0m\u001b[0;34m\u001b[0m\u001b[0m\n\u001b[0;32m--> 205\u001b[0;31m         \u001b[0mdf\u001b[0m \u001b[0;34m=\u001b[0m \u001b[0mcoins_dict\u001b[0m\u001b[0;34m[\u001b[0m\u001b[0mticker\u001b[0m\u001b[0;34m]\u001b[0m\u001b[0;34m[\u001b[0m\u001b[0;34m[\u001b[0m\u001b[0;34m'price'\u001b[0m\u001b[0;34m]\u001b[0m\u001b[0;34m]\u001b[0m\u001b[0;34m\u001b[0m\u001b[0;34m\u001b[0m\u001b[0m\n\u001b[0m\u001b[1;32m    206\u001b[0m         \u001b[0mdf\u001b[0m\u001b[0;34m.\u001b[0m\u001b[0mrename\u001b[0m\u001b[0;34m(\u001b[0m\u001b[0mcolumns\u001b[0m \u001b[0;34m=\u001b[0m \u001b[0;34m{\u001b[0m\u001b[0;34m'price'\u001b[0m\u001b[0;34m:\u001b[0m\u001b[0;34m'price_'\u001b[0m\u001b[0;34m+\u001b[0m\u001b[0mticker\u001b[0m\u001b[0;34m}\u001b[0m\u001b[0;34m,\u001b[0m \u001b[0minplace\u001b[0m \u001b[0;34m=\u001b[0m \u001b[0;32mTrue\u001b[0m\u001b[0;34m)\u001b[0m\u001b[0;34m\u001b[0m\u001b[0;34m\u001b[0m\u001b[0m\n\u001b[1;32m    207\u001b[0m         \u001b[0mdf\u001b[0m\u001b[0;34m[\u001b[0m\u001b[0;34m'trend_'\u001b[0m\u001b[0;34m+\u001b[0m\u001b[0mticker\u001b[0m\u001b[0;34m]\u001b[0m \u001b[0;34m=\u001b[0m \u001b[0mtrends_df\u001b[0m\u001b[0;34m[\u001b[0m\u001b[0mticker\u001b[0m\u001b[0;34m]\u001b[0m\u001b[0;34m\u001b[0m\u001b[0;34m\u001b[0m\u001b[0m\n",
      "\u001b[0;32m~/code/riotsnotdiets/modverre/crypto_prediction/crypto_prediction/data.py\u001b[0m in \u001b[0;36mgoogletrend_history\u001b[0;34m(tickerlist, start, end)\u001b[0m\n\u001b[1;32m    140\u001b[0m \u001b[0;34m\u001b[0m\u001b[0m\n\u001b[1;32m    141\u001b[0m         data.append(\n\u001b[0;32m--> 142\u001b[0;31m             pytrends.get_historical_interest([searchname],\n\u001b[0m\u001b[1;32m    143\u001b[0m                                              \u001b[0myear_start\u001b[0m\u001b[0;34m=\u001b[0m\u001b[0mstart_dt\u001b[0m\u001b[0;34m.\u001b[0m\u001b[0myear\u001b[0m\u001b[0;34m,\u001b[0m\u001b[0;34m\u001b[0m\u001b[0;34m\u001b[0m\u001b[0m\n\u001b[1;32m    144\u001b[0m                                              \u001b[0mmonth_start\u001b[0m\u001b[0;34m=\u001b[0m\u001b[0mstart_dt\u001b[0m\u001b[0;34m.\u001b[0m\u001b[0mmonth\u001b[0m\u001b[0;34m,\u001b[0m\u001b[0;34m\u001b[0m\u001b[0;34m\u001b[0m\u001b[0m\n",
      "\u001b[0;32m~/.pyenv/versions/3.8.12/envs/crypto_prediction/lib/python3.8/site-packages/pytrends/request.py\u001b[0m in \u001b[0;36mget_historical_interest\u001b[0;34m(self, keywords, year_start, month_start, day_start, hour_start, year_end, month_end, day_end, hour_end, cat, geo, gprop, sleep)\u001b[0m\n\u001b[1;32m    502\u001b[0m \u001b[0;34m\u001b[0m\u001b[0m\n\u001b[1;32m    503\u001b[0m             \u001b[0;32mtry\u001b[0m\u001b[0;34m:\u001b[0m\u001b[0;34m\u001b[0m\u001b[0;34m\u001b[0m\u001b[0m\n\u001b[0;32m--> 504\u001b[0;31m                 \u001b[0mself\u001b[0m\u001b[0;34m.\u001b[0m\u001b[0mbuild_payload\u001b[0m\u001b[0;34m(\u001b[0m\u001b[0mkeywords\u001b[0m\u001b[0;34m,\u001b[0m \u001b[0mcat\u001b[0m\u001b[0;34m,\u001b[0m \u001b[0mtf\u001b[0m\u001b[0;34m,\u001b[0m \u001b[0mgeo\u001b[0m\u001b[0;34m,\u001b[0m \u001b[0mgprop\u001b[0m\u001b[0;34m)\u001b[0m\u001b[0;34m\u001b[0m\u001b[0;34m\u001b[0m\u001b[0m\n\u001b[0m\u001b[1;32m    505\u001b[0m                 \u001b[0mweek_df\u001b[0m \u001b[0;34m=\u001b[0m \u001b[0mself\u001b[0m\u001b[0;34m.\u001b[0m\u001b[0minterest_over_time\u001b[0m\u001b[0;34m(\u001b[0m\u001b[0;34m)\u001b[0m\u001b[0;34m\u001b[0m\u001b[0;34m\u001b[0m\u001b[0m\n\u001b[1;32m    506\u001b[0m                 \u001b[0mdf\u001b[0m \u001b[0;34m=\u001b[0m \u001b[0mdf\u001b[0m\u001b[0;34m.\u001b[0m\u001b[0mappend\u001b[0m\u001b[0;34m(\u001b[0m\u001b[0mweek_df\u001b[0m\u001b[0;34m)\u001b[0m\u001b[0;34m\u001b[0m\u001b[0;34m\u001b[0m\u001b[0m\n",
      "\u001b[0;32m~/.pyenv/versions/3.8.12/envs/crypto_prediction/lib/python3.8/site-packages/pytrends/request.py\u001b[0m in \u001b[0;36mbuild_payload\u001b[0;34m(self, kw_list, cat, timeframe, geo, gprop)\u001b[0m\n\u001b[1;32m    167\u001b[0m         \u001b[0mself\u001b[0m\u001b[0;34m.\u001b[0m\u001b[0mtoken_payload\u001b[0m\u001b[0;34m[\u001b[0m\u001b[0;34m'req'\u001b[0m\u001b[0;34m]\u001b[0m \u001b[0;34m=\u001b[0m \u001b[0mjson\u001b[0m\u001b[0;34m.\u001b[0m\u001b[0mdumps\u001b[0m\u001b[0;34m(\u001b[0m\u001b[0mself\u001b[0m\u001b[0;34m.\u001b[0m\u001b[0mtoken_payload\u001b[0m\u001b[0;34m[\u001b[0m\u001b[0;34m'req'\u001b[0m\u001b[0;34m]\u001b[0m\u001b[0;34m)\u001b[0m\u001b[0;34m\u001b[0m\u001b[0;34m\u001b[0m\u001b[0m\n\u001b[1;32m    168\u001b[0m         \u001b[0;31m# get tokens\u001b[0m\u001b[0;34m\u001b[0m\u001b[0;34m\u001b[0m\u001b[0;34m\u001b[0m\u001b[0m\n\u001b[0;32m--> 169\u001b[0;31m         \u001b[0mself\u001b[0m\u001b[0;34m.\u001b[0m\u001b[0m_tokens\u001b[0m\u001b[0;34m(\u001b[0m\u001b[0;34m)\u001b[0m\u001b[0;34m\u001b[0m\u001b[0;34m\u001b[0m\u001b[0m\n\u001b[0m\u001b[1;32m    170\u001b[0m         \u001b[0;32mreturn\u001b[0m\u001b[0;34m\u001b[0m\u001b[0;34m\u001b[0m\u001b[0m\n\u001b[1;32m    171\u001b[0m \u001b[0;34m\u001b[0m\u001b[0m\n",
      "\u001b[0;32m~/.pyenv/versions/3.8.12/envs/crypto_prediction/lib/python3.8/site-packages/pytrends/request.py\u001b[0m in \u001b[0;36m_tokens\u001b[0;34m(self)\u001b[0m\n\u001b[1;32m    173\u001b[0m         \u001b[0;34m\"\"\"Makes request to Google to get API tokens for interest over time, interest by region and related queries\"\"\"\u001b[0m\u001b[0;34m\u001b[0m\u001b[0;34m\u001b[0m\u001b[0m\n\u001b[1;32m    174\u001b[0m         \u001b[0;31m# make the request and parse the returned json\u001b[0m\u001b[0;34m\u001b[0m\u001b[0;34m\u001b[0m\u001b[0;34m\u001b[0m\u001b[0m\n\u001b[0;32m--> 175\u001b[0;31m         widget_dict = self._get_data(\n\u001b[0m\u001b[1;32m    176\u001b[0m             \u001b[0murl\u001b[0m\u001b[0;34m=\u001b[0m\u001b[0mTrendReq\u001b[0m\u001b[0;34m.\u001b[0m\u001b[0mGENERAL_URL\u001b[0m\u001b[0;34m,\u001b[0m\u001b[0;34m\u001b[0m\u001b[0;34m\u001b[0m\u001b[0m\n\u001b[1;32m    177\u001b[0m             \u001b[0mmethod\u001b[0m\u001b[0;34m=\u001b[0m\u001b[0mTrendReq\u001b[0m\u001b[0;34m.\u001b[0m\u001b[0mGET_METHOD\u001b[0m\u001b[0;34m,\u001b[0m\u001b[0;34m\u001b[0m\u001b[0;34m\u001b[0m\u001b[0m\n",
      "\u001b[0;32m~/.pyenv/versions/3.8.12/envs/crypto_prediction/lib/python3.8/site-packages/pytrends/request.py\u001b[0m in \u001b[0;36m_get_data\u001b[0;34m(self, url, method, trim_chars, **kwargs)\u001b[0m\n\u001b[1;32m    124\u001b[0m                               cookies=self.cookies, **kwargs, **self.requests_args)  # DO NOT USE retries or backoff_factor here\n\u001b[1;32m    125\u001b[0m         \u001b[0;32melse\u001b[0m\u001b[0;34m:\u001b[0m\u001b[0;34m\u001b[0m\u001b[0;34m\u001b[0m\u001b[0m\n\u001b[0;32m--> 126\u001b[0;31m             response = s.get(url, timeout=self.timeout, cookies=self.cookies,\n\u001b[0m\u001b[1;32m    127\u001b[0m                              **kwargs, **self.requests_args)   # DO NOT USE retries or backoff_factor here\n\u001b[1;32m    128\u001b[0m         \u001b[0;31m# check if the response contains json and throw an exception otherwise\u001b[0m\u001b[0;34m\u001b[0m\u001b[0;34m\u001b[0m\u001b[0;34m\u001b[0m\u001b[0m\n",
      "\u001b[0;32m~/.pyenv/versions/3.8.12/envs/crypto_prediction/lib/python3.8/site-packages/requests/sessions.py\u001b[0m in \u001b[0;36mget\u001b[0;34m(self, url, **kwargs)\u001b[0m\n\u001b[1;32m    553\u001b[0m \u001b[0;34m\u001b[0m\u001b[0m\n\u001b[1;32m    554\u001b[0m         \u001b[0mkwargs\u001b[0m\u001b[0;34m.\u001b[0m\u001b[0msetdefault\u001b[0m\u001b[0;34m(\u001b[0m\u001b[0;34m'allow_redirects'\u001b[0m\u001b[0;34m,\u001b[0m \u001b[0;32mTrue\u001b[0m\u001b[0;34m)\u001b[0m\u001b[0;34m\u001b[0m\u001b[0;34m\u001b[0m\u001b[0m\n\u001b[0;32m--> 555\u001b[0;31m         \u001b[0;32mreturn\u001b[0m \u001b[0mself\u001b[0m\u001b[0;34m.\u001b[0m\u001b[0mrequest\u001b[0m\u001b[0;34m(\u001b[0m\u001b[0;34m'GET'\u001b[0m\u001b[0;34m,\u001b[0m \u001b[0murl\u001b[0m\u001b[0;34m,\u001b[0m \u001b[0;34m**\u001b[0m\u001b[0mkwargs\u001b[0m\u001b[0;34m)\u001b[0m\u001b[0;34m\u001b[0m\u001b[0;34m\u001b[0m\u001b[0m\n\u001b[0m\u001b[1;32m    556\u001b[0m \u001b[0;34m\u001b[0m\u001b[0m\n\u001b[1;32m    557\u001b[0m     \u001b[0;32mdef\u001b[0m \u001b[0moptions\u001b[0m\u001b[0;34m(\u001b[0m\u001b[0mself\u001b[0m\u001b[0;34m,\u001b[0m \u001b[0murl\u001b[0m\u001b[0;34m,\u001b[0m \u001b[0;34m**\u001b[0m\u001b[0mkwargs\u001b[0m\u001b[0;34m)\u001b[0m\u001b[0;34m:\u001b[0m\u001b[0;34m\u001b[0m\u001b[0;34m\u001b[0m\u001b[0m\n",
      "\u001b[0;32m~/.pyenv/versions/3.8.12/envs/crypto_prediction/lib/python3.8/site-packages/requests/sessions.py\u001b[0m in \u001b[0;36mrequest\u001b[0;34m(self, method, url, params, data, headers, cookies, files, auth, timeout, allow_redirects, proxies, hooks, stream, verify, cert, json)\u001b[0m\n\u001b[1;32m    540\u001b[0m         }\n\u001b[1;32m    541\u001b[0m         \u001b[0msend_kwargs\u001b[0m\u001b[0;34m.\u001b[0m\u001b[0mupdate\u001b[0m\u001b[0;34m(\u001b[0m\u001b[0msettings\u001b[0m\u001b[0;34m)\u001b[0m\u001b[0;34m\u001b[0m\u001b[0;34m\u001b[0m\u001b[0m\n\u001b[0;32m--> 542\u001b[0;31m         \u001b[0mresp\u001b[0m \u001b[0;34m=\u001b[0m \u001b[0mself\u001b[0m\u001b[0;34m.\u001b[0m\u001b[0msend\u001b[0m\u001b[0;34m(\u001b[0m\u001b[0mprep\u001b[0m\u001b[0;34m,\u001b[0m \u001b[0;34m**\u001b[0m\u001b[0msend_kwargs\u001b[0m\u001b[0;34m)\u001b[0m\u001b[0;34m\u001b[0m\u001b[0;34m\u001b[0m\u001b[0m\n\u001b[0m\u001b[1;32m    543\u001b[0m \u001b[0;34m\u001b[0m\u001b[0m\n\u001b[1;32m    544\u001b[0m         \u001b[0;32mreturn\u001b[0m \u001b[0mresp\u001b[0m\u001b[0;34m\u001b[0m\u001b[0;34m\u001b[0m\u001b[0m\n",
      "\u001b[0;32m~/.pyenv/versions/3.8.12/envs/crypto_prediction/lib/python3.8/site-packages/requests/sessions.py\u001b[0m in \u001b[0;36msend\u001b[0;34m(self, request, **kwargs)\u001b[0m\n\u001b[1;32m    653\u001b[0m \u001b[0;34m\u001b[0m\u001b[0m\n\u001b[1;32m    654\u001b[0m         \u001b[0;31m# Send the request\u001b[0m\u001b[0;34m\u001b[0m\u001b[0;34m\u001b[0m\u001b[0;34m\u001b[0m\u001b[0m\n\u001b[0;32m--> 655\u001b[0;31m         \u001b[0mr\u001b[0m \u001b[0;34m=\u001b[0m \u001b[0madapter\u001b[0m\u001b[0;34m.\u001b[0m\u001b[0msend\u001b[0m\u001b[0;34m(\u001b[0m\u001b[0mrequest\u001b[0m\u001b[0;34m,\u001b[0m \u001b[0;34m**\u001b[0m\u001b[0mkwargs\u001b[0m\u001b[0;34m)\u001b[0m\u001b[0;34m\u001b[0m\u001b[0;34m\u001b[0m\u001b[0m\n\u001b[0m\u001b[1;32m    656\u001b[0m \u001b[0;34m\u001b[0m\u001b[0m\n\u001b[1;32m    657\u001b[0m         \u001b[0;31m# Total elapsed time of the request (approximately)\u001b[0m\u001b[0;34m\u001b[0m\u001b[0;34m\u001b[0m\u001b[0;34m\u001b[0m\u001b[0m\n",
      "\u001b[0;32m~/.pyenv/versions/3.8.12/envs/crypto_prediction/lib/python3.8/site-packages/requests/adapters.py\u001b[0m in \u001b[0;36msend\u001b[0;34m(self, request, stream, timeout, verify, cert, proxies)\u001b[0m\n\u001b[1;32m    437\u001b[0m         \u001b[0;32mtry\u001b[0m\u001b[0;34m:\u001b[0m\u001b[0;34m\u001b[0m\u001b[0;34m\u001b[0m\u001b[0m\n\u001b[1;32m    438\u001b[0m             \u001b[0;32mif\u001b[0m \u001b[0;32mnot\u001b[0m \u001b[0mchunked\u001b[0m\u001b[0;34m:\u001b[0m\u001b[0;34m\u001b[0m\u001b[0;34m\u001b[0m\u001b[0m\n\u001b[0;32m--> 439\u001b[0;31m                 resp = conn.urlopen(\n\u001b[0m\u001b[1;32m    440\u001b[0m                     \u001b[0mmethod\u001b[0m\u001b[0;34m=\u001b[0m\u001b[0mrequest\u001b[0m\u001b[0;34m.\u001b[0m\u001b[0mmethod\u001b[0m\u001b[0;34m,\u001b[0m\u001b[0;34m\u001b[0m\u001b[0;34m\u001b[0m\u001b[0m\n\u001b[1;32m    441\u001b[0m                     \u001b[0murl\u001b[0m\u001b[0;34m=\u001b[0m\u001b[0murl\u001b[0m\u001b[0;34m,\u001b[0m\u001b[0;34m\u001b[0m\u001b[0;34m\u001b[0m\u001b[0m\n",
      "\u001b[0;32m~/.pyenv/versions/3.8.12/envs/crypto_prediction/lib/python3.8/site-packages/urllib3/connectionpool.py\u001b[0m in \u001b[0;36murlopen\u001b[0;34m(self, method, url, body, headers, retries, redirect, assert_same_host, timeout, pool_timeout, release_conn, chunked, body_pos, **response_kw)\u001b[0m\n\u001b[1;32m    697\u001b[0m \u001b[0;34m\u001b[0m\u001b[0m\n\u001b[1;32m    698\u001b[0m             \u001b[0;31m# Make the request on the httplib connection object.\u001b[0m\u001b[0;34m\u001b[0m\u001b[0;34m\u001b[0m\u001b[0;34m\u001b[0m\u001b[0m\n\u001b[0;32m--> 699\u001b[0;31m             httplib_response = self._make_request(\n\u001b[0m\u001b[1;32m    700\u001b[0m                 \u001b[0mconn\u001b[0m\u001b[0;34m,\u001b[0m\u001b[0;34m\u001b[0m\u001b[0;34m\u001b[0m\u001b[0m\n\u001b[1;32m    701\u001b[0m                 \u001b[0mmethod\u001b[0m\u001b[0;34m,\u001b[0m\u001b[0;34m\u001b[0m\u001b[0;34m\u001b[0m\u001b[0m\n",
      "\u001b[0;32m~/.pyenv/versions/3.8.12/envs/crypto_prediction/lib/python3.8/site-packages/urllib3/connectionpool.py\u001b[0m in \u001b[0;36m_make_request\u001b[0;34m(self, conn, method, url, timeout, chunked, **httplib_request_kw)\u001b[0m\n\u001b[1;32m    380\u001b[0m         \u001b[0;31m# Trigger any extra validation we need to do.\u001b[0m\u001b[0;34m\u001b[0m\u001b[0;34m\u001b[0m\u001b[0;34m\u001b[0m\u001b[0m\n\u001b[1;32m    381\u001b[0m         \u001b[0;32mtry\u001b[0m\u001b[0;34m:\u001b[0m\u001b[0;34m\u001b[0m\u001b[0;34m\u001b[0m\u001b[0m\n\u001b[0;32m--> 382\u001b[0;31m             \u001b[0mself\u001b[0m\u001b[0;34m.\u001b[0m\u001b[0m_validate_conn\u001b[0m\u001b[0;34m(\u001b[0m\u001b[0mconn\u001b[0m\u001b[0;34m)\u001b[0m\u001b[0;34m\u001b[0m\u001b[0;34m\u001b[0m\u001b[0m\n\u001b[0m\u001b[1;32m    383\u001b[0m         \u001b[0;32mexcept\u001b[0m \u001b[0;34m(\u001b[0m\u001b[0mSocketTimeout\u001b[0m\u001b[0;34m,\u001b[0m \u001b[0mBaseSSLError\u001b[0m\u001b[0;34m)\u001b[0m \u001b[0;32mas\u001b[0m \u001b[0me\u001b[0m\u001b[0;34m:\u001b[0m\u001b[0;34m\u001b[0m\u001b[0;34m\u001b[0m\u001b[0m\n\u001b[1;32m    384\u001b[0m             \u001b[0;31m# Py2 raises this as a BaseSSLError, Py3 raises it as socket timeout.\u001b[0m\u001b[0;34m\u001b[0m\u001b[0;34m\u001b[0m\u001b[0;34m\u001b[0m\u001b[0m\n",
      "\u001b[0;32m~/.pyenv/versions/3.8.12/envs/crypto_prediction/lib/python3.8/site-packages/urllib3/connectionpool.py\u001b[0m in \u001b[0;36m_validate_conn\u001b[0;34m(self, conn)\u001b[0m\n\u001b[1;32m   1008\u001b[0m         \u001b[0;31m# Force connect early to allow us to validate the connection.\u001b[0m\u001b[0;34m\u001b[0m\u001b[0;34m\u001b[0m\u001b[0;34m\u001b[0m\u001b[0m\n\u001b[1;32m   1009\u001b[0m         \u001b[0;32mif\u001b[0m \u001b[0;32mnot\u001b[0m \u001b[0mgetattr\u001b[0m\u001b[0;34m(\u001b[0m\u001b[0mconn\u001b[0m\u001b[0;34m,\u001b[0m \u001b[0;34m\"sock\"\u001b[0m\u001b[0;34m,\u001b[0m \u001b[0;32mNone\u001b[0m\u001b[0;34m)\u001b[0m\u001b[0;34m:\u001b[0m  \u001b[0;31m# AppEngine might not have  `.sock`\u001b[0m\u001b[0;34m\u001b[0m\u001b[0;34m\u001b[0m\u001b[0m\n\u001b[0;32m-> 1010\u001b[0;31m             \u001b[0mconn\u001b[0m\u001b[0;34m.\u001b[0m\u001b[0mconnect\u001b[0m\u001b[0;34m(\u001b[0m\u001b[0;34m)\u001b[0m\u001b[0;34m\u001b[0m\u001b[0;34m\u001b[0m\u001b[0m\n\u001b[0m\u001b[1;32m   1011\u001b[0m \u001b[0;34m\u001b[0m\u001b[0m\n\u001b[1;32m   1012\u001b[0m         \u001b[0;32mif\u001b[0m \u001b[0;32mnot\u001b[0m \u001b[0mconn\u001b[0m\u001b[0;34m.\u001b[0m\u001b[0mis_verified\u001b[0m\u001b[0;34m:\u001b[0m\u001b[0;34m\u001b[0m\u001b[0;34m\u001b[0m\u001b[0m\n",
      "\u001b[0;32m~/.pyenv/versions/3.8.12/envs/crypto_prediction/lib/python3.8/site-packages/urllib3/connection.py\u001b[0m in \u001b[0;36mconnect\u001b[0;34m(self)\u001b[0m\n\u001b[1;32m    414\u001b[0m             \u001b[0mcontext\u001b[0m\u001b[0;34m.\u001b[0m\u001b[0mload_default_certs\u001b[0m\u001b[0;34m(\u001b[0m\u001b[0;34m)\u001b[0m\u001b[0;34m\u001b[0m\u001b[0;34m\u001b[0m\u001b[0m\n\u001b[1;32m    415\u001b[0m \u001b[0;34m\u001b[0m\u001b[0m\n\u001b[0;32m--> 416\u001b[0;31m         self.sock = ssl_wrap_socket(\n\u001b[0m\u001b[1;32m    417\u001b[0m             \u001b[0msock\u001b[0m\u001b[0;34m=\u001b[0m\u001b[0mconn\u001b[0m\u001b[0;34m,\u001b[0m\u001b[0;34m\u001b[0m\u001b[0;34m\u001b[0m\u001b[0m\n\u001b[1;32m    418\u001b[0m             \u001b[0mkeyfile\u001b[0m\u001b[0;34m=\u001b[0m\u001b[0mself\u001b[0m\u001b[0;34m.\u001b[0m\u001b[0mkey_file\u001b[0m\u001b[0;34m,\u001b[0m\u001b[0;34m\u001b[0m\u001b[0;34m\u001b[0m\u001b[0m\n",
      "\u001b[0;32m~/.pyenv/versions/3.8.12/envs/crypto_prediction/lib/python3.8/site-packages/urllib3/util/ssl_.py\u001b[0m in \u001b[0;36mssl_wrap_socket\u001b[0;34m(sock, keyfile, certfile, cert_reqs, ca_certs, server_hostname, ssl_version, ciphers, ssl_context, ca_cert_dir, key_password, ca_cert_data, tls_in_tls)\u001b[0m\n\u001b[1;32m    447\u001b[0m \u001b[0;34m\u001b[0m\u001b[0m\n\u001b[1;32m    448\u001b[0m     \u001b[0;32mif\u001b[0m \u001b[0msend_sni\u001b[0m\u001b[0;34m:\u001b[0m\u001b[0;34m\u001b[0m\u001b[0;34m\u001b[0m\u001b[0m\n\u001b[0;32m--> 449\u001b[0;31m         ssl_sock = _ssl_wrap_socket_impl(\n\u001b[0m\u001b[1;32m    450\u001b[0m             \u001b[0msock\u001b[0m\u001b[0;34m,\u001b[0m \u001b[0mcontext\u001b[0m\u001b[0;34m,\u001b[0m \u001b[0mtls_in_tls\u001b[0m\u001b[0;34m,\u001b[0m \u001b[0mserver_hostname\u001b[0m\u001b[0;34m=\u001b[0m\u001b[0mserver_hostname\u001b[0m\u001b[0;34m\u001b[0m\u001b[0;34m\u001b[0m\u001b[0m\n\u001b[1;32m    451\u001b[0m         )\n",
      "\u001b[0;32m~/.pyenv/versions/3.8.12/envs/crypto_prediction/lib/python3.8/site-packages/urllib3/util/ssl_.py\u001b[0m in \u001b[0;36m_ssl_wrap_socket_impl\u001b[0;34m(sock, ssl_context, tls_in_tls, server_hostname)\u001b[0m\n\u001b[1;32m    491\u001b[0m \u001b[0;34m\u001b[0m\u001b[0m\n\u001b[1;32m    492\u001b[0m     \u001b[0;32mif\u001b[0m \u001b[0mserver_hostname\u001b[0m\u001b[0;34m:\u001b[0m\u001b[0;34m\u001b[0m\u001b[0;34m\u001b[0m\u001b[0m\n\u001b[0;32m--> 493\u001b[0;31m         \u001b[0;32mreturn\u001b[0m \u001b[0mssl_context\u001b[0m\u001b[0;34m.\u001b[0m\u001b[0mwrap_socket\u001b[0m\u001b[0;34m(\u001b[0m\u001b[0msock\u001b[0m\u001b[0;34m,\u001b[0m \u001b[0mserver_hostname\u001b[0m\u001b[0;34m=\u001b[0m\u001b[0mserver_hostname\u001b[0m\u001b[0;34m)\u001b[0m\u001b[0;34m\u001b[0m\u001b[0;34m\u001b[0m\u001b[0m\n\u001b[0m\u001b[1;32m    494\u001b[0m     \u001b[0;32melse\u001b[0m\u001b[0;34m:\u001b[0m\u001b[0;34m\u001b[0m\u001b[0;34m\u001b[0m\u001b[0m\n\u001b[1;32m    495\u001b[0m         \u001b[0;32mreturn\u001b[0m \u001b[0mssl_context\u001b[0m\u001b[0;34m.\u001b[0m\u001b[0mwrap_socket\u001b[0m\u001b[0;34m(\u001b[0m\u001b[0msock\u001b[0m\u001b[0;34m)\u001b[0m\u001b[0;34m\u001b[0m\u001b[0;34m\u001b[0m\u001b[0m\n",
      "\u001b[0;32m~/.pyenv/versions/3.8.12/lib/python3.8/ssl.py\u001b[0m in \u001b[0;36mwrap_socket\u001b[0;34m(self, sock, server_side, do_handshake_on_connect, suppress_ragged_eofs, server_hostname, session)\u001b[0m\n\u001b[1;32m    498\u001b[0m         \u001b[0;31m# SSLSocket class handles server_hostname encoding before it calls\u001b[0m\u001b[0;34m\u001b[0m\u001b[0;34m\u001b[0m\u001b[0;34m\u001b[0m\u001b[0m\n\u001b[1;32m    499\u001b[0m         \u001b[0;31m# ctx._wrap_socket()\u001b[0m\u001b[0;34m\u001b[0m\u001b[0;34m\u001b[0m\u001b[0;34m\u001b[0m\u001b[0m\n\u001b[0;32m--> 500\u001b[0;31m         return self.sslsocket_class._create(\n\u001b[0m\u001b[1;32m    501\u001b[0m             \u001b[0msock\u001b[0m\u001b[0;34m=\u001b[0m\u001b[0msock\u001b[0m\u001b[0;34m,\u001b[0m\u001b[0;34m\u001b[0m\u001b[0;34m\u001b[0m\u001b[0m\n\u001b[1;32m    502\u001b[0m             \u001b[0mserver_side\u001b[0m\u001b[0;34m=\u001b[0m\u001b[0mserver_side\u001b[0m\u001b[0;34m,\u001b[0m\u001b[0;34m\u001b[0m\u001b[0;34m\u001b[0m\u001b[0m\n",
      "\u001b[0;32m~/.pyenv/versions/3.8.12/lib/python3.8/ssl.py\u001b[0m in \u001b[0;36m_create\u001b[0;34m(cls, sock, server_side, do_handshake_on_connect, suppress_ragged_eofs, server_hostname, context, session)\u001b[0m\n\u001b[1;32m   1038\u001b[0m                         \u001b[0;31m# non-blocking\u001b[0m\u001b[0;34m\u001b[0m\u001b[0;34m\u001b[0m\u001b[0;34m\u001b[0m\u001b[0m\n\u001b[1;32m   1039\u001b[0m                         \u001b[0;32mraise\u001b[0m \u001b[0mValueError\u001b[0m\u001b[0;34m(\u001b[0m\u001b[0;34m\"do_handshake_on_connect should not be specified for non-blocking sockets\"\u001b[0m\u001b[0;34m)\u001b[0m\u001b[0;34m\u001b[0m\u001b[0;34m\u001b[0m\u001b[0m\n\u001b[0;32m-> 1040\u001b[0;31m                     \u001b[0mself\u001b[0m\u001b[0;34m.\u001b[0m\u001b[0mdo_handshake\u001b[0m\u001b[0;34m(\u001b[0m\u001b[0;34m)\u001b[0m\u001b[0;34m\u001b[0m\u001b[0;34m\u001b[0m\u001b[0m\n\u001b[0m\u001b[1;32m   1041\u001b[0m             \u001b[0;32mexcept\u001b[0m \u001b[0;34m(\u001b[0m\u001b[0mOSError\u001b[0m\u001b[0;34m,\u001b[0m \u001b[0mValueError\u001b[0m\u001b[0;34m)\u001b[0m\u001b[0;34m:\u001b[0m\u001b[0;34m\u001b[0m\u001b[0;34m\u001b[0m\u001b[0m\n\u001b[1;32m   1042\u001b[0m                 \u001b[0mself\u001b[0m\u001b[0;34m.\u001b[0m\u001b[0mclose\u001b[0m\u001b[0;34m(\u001b[0m\u001b[0;34m)\u001b[0m\u001b[0;34m\u001b[0m\u001b[0;34m\u001b[0m\u001b[0m\n",
      "\u001b[0;32m~/.pyenv/versions/3.8.12/lib/python3.8/ssl.py\u001b[0m in \u001b[0;36mdo_handshake\u001b[0;34m(self, block)\u001b[0m\n\u001b[1;32m   1307\u001b[0m             \u001b[0;32mif\u001b[0m \u001b[0mtimeout\u001b[0m \u001b[0;34m==\u001b[0m \u001b[0;36m0.0\u001b[0m \u001b[0;32mand\u001b[0m \u001b[0mblock\u001b[0m\u001b[0;34m:\u001b[0m\u001b[0;34m\u001b[0m\u001b[0;34m\u001b[0m\u001b[0m\n\u001b[1;32m   1308\u001b[0m                 \u001b[0mself\u001b[0m\u001b[0;34m.\u001b[0m\u001b[0msettimeout\u001b[0m\u001b[0;34m(\u001b[0m\u001b[0;32mNone\u001b[0m\u001b[0;34m)\u001b[0m\u001b[0;34m\u001b[0m\u001b[0;34m\u001b[0m\u001b[0m\n\u001b[0;32m-> 1309\u001b[0;31m             \u001b[0mself\u001b[0m\u001b[0;34m.\u001b[0m\u001b[0m_sslobj\u001b[0m\u001b[0;34m.\u001b[0m\u001b[0mdo_handshake\u001b[0m\u001b[0;34m(\u001b[0m\u001b[0;34m)\u001b[0m\u001b[0;34m\u001b[0m\u001b[0;34m\u001b[0m\u001b[0m\n\u001b[0m\u001b[1;32m   1310\u001b[0m         \u001b[0;32mfinally\u001b[0m\u001b[0;34m:\u001b[0m\u001b[0;34m\u001b[0m\u001b[0;34m\u001b[0m\u001b[0m\n\u001b[1;32m   1311\u001b[0m             \u001b[0mself\u001b[0m\u001b[0;34m.\u001b[0m\u001b[0msettimeout\u001b[0m\u001b[0;34m(\u001b[0m\u001b[0mtimeout\u001b[0m\u001b[0;34m)\u001b[0m\u001b[0;34m\u001b[0m\u001b[0;34m\u001b[0m\u001b[0m\n",
      "\u001b[0;31mKeyboardInterrupt\u001b[0m: "
     ]
    }
   ],
   "source": [
    "coins_dict, trends_df = prediction_ready_df(['doggy'], 2160)"
   ]
  },
  {
   "cell_type": "code",
   "execution_count": null,
   "id": "84b1eab0",
   "metadata": {},
   "outputs": [],
   "source": []
  }
 ],
 "metadata": {
  "kernelspec": {
   "display_name": "Python 3 (ipykernel)",
   "language": "python",
   "name": "python3"
  },
  "language_info": {
   "codemirror_mode": {
    "name": "ipython",
    "version": 3
   },
   "file_extension": ".py",
   "mimetype": "text/x-python",
   "name": "python",
   "nbconvert_exporter": "python",
   "pygments_lexer": "ipython3",
   "version": "3.8.12"
  },
  "toc": {
   "base_numbering": 1,
   "nav_menu": {},
   "number_sections": true,
   "sideBar": true,
   "skip_h1_title": false,
   "title_cell": "Table of Contents",
   "title_sidebar": "Contents",
   "toc_cell": false,
   "toc_position": {},
   "toc_section_display": true,
   "toc_window_display": false
  }
 },
 "nbformat": 4,
 "nbformat_minor": 5
}
