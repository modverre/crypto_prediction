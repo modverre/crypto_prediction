{
 "cells": [
  {
   "cell_type": "code",
   "execution_count": 1,
   "id": "66d5b139",
   "metadata": {},
   "outputs": [],
   "source": [
    "from pytrends.request import TrendReq\n",
    "import pandas as pd\n",
    "from datetime import datetime"
   ]
  },
  {
   "cell_type": "code",
   "execution_count": 2,
   "id": "fc54210d",
   "metadata": {},
   "outputs": [],
   "source": [
    "pytrends = TrendReq(hl='en-US', tz=0) # 60 = CET 0 = UTC\n",
    "\n",
    "# specifies current time as end date of results\n",
    "\n",
    "now = datetime.now().strftime(\"%d/%m/%Y %H:%M:%S\")\n",
    "now_d = int(now[:2])\n",
    "now_m = int(now[3:5])\n",
    "now_y = int(now[6:10])\n",
    "now_h = int(now[11:13])"
   ]
  },
  {
   "cell_type": "code",
   "execution_count": 3,
   "id": "a452e7bb",
   "metadata": {
    "collapsed": true
   },
   "outputs": [
    {
     "data": {
      "text/plain": [
       "[                     Dogecoin isPartial\n",
       " date                                   \n",
       " 2021-07-31 00:00:00       100     False\n",
       " 2021-07-31 01:00:00        96     False\n",
       " 2021-07-31 02:00:00        96     False\n",
       " 2021-07-31 03:00:00        92     False\n",
       " 2021-07-31 04:00:00        92     False\n",
       " ...                       ...       ...\n",
       " 2021-11-29 12:00:00        58     False\n",
       " 2021-11-29 13:00:00       100     False\n",
       " 2021-11-29 14:00:00        91     False\n",
       " 2021-11-29 15:00:00        92     False\n",
       " 2021-11-29 16:00:00        78      True\n",
       " \n",
       " [1586 rows x 2 columns],\n",
       "                      Samoyedcoin isPartial\n",
       " date                                      \n",
       " 2021-10-02 00:00:00            0     False\n",
       " 2021-10-02 01:00:00            0     False\n",
       " 2021-10-02 02:00:00            0     False\n",
       " 2021-10-02 03:00:00            0     False\n",
       " 2021-10-02 04:00:00            0     False\n",
       " ...                          ...       ...\n",
       " 2021-11-29 12:00:00           35     False\n",
       " 2021-11-29 13:00:00           59     False\n",
       " 2021-11-29 14:00:00           21     False\n",
       " 2021-11-29 15:00:00           43     False\n",
       " 2021-11-29 16:00:00           33      True\n",
       " \n",
       " [1417 rows x 2 columns]]"
      ]
     },
     "execution_count": 3,
     "metadata": {},
     "output_type": "execute_result"
    }
   ],
   "source": [
    "kw_list = ['Dogecoin', 'Samoyedcoin']\n",
    "coin_list = []\n",
    "data = []\n",
    "\n",
    "#data now\n",
    "for kw in kw_list:\n",
    "    coin_list = [kw]\n",
    "    data.append(pytrends.get_historical_interest(\n",
    "            coin_list, year_start=now_y, month_start=10, day_start=4,\n",
    "            hour_start=18, year_end=now_y, month_end=now_m, day_end=now_d,\n",
    "            hour_end=now_h, cat=0, sleep=0))\n",
    "data"
   ]
  },
  {
   "cell_type": "code",
   "execution_count": 5,
   "id": "228371e8",
   "metadata": {},
   "outputs": [
    {
     "data": {
      "text/html": [
       "<div>\n",
       "<style scoped>\n",
       "    .dataframe tbody tr th:only-of-type {\n",
       "        vertical-align: middle;\n",
       "    }\n",
       "\n",
       "    .dataframe tbody tr th {\n",
       "        vertical-align: top;\n",
       "    }\n",
       "\n",
       "    .dataframe thead th {\n",
       "        text-align: right;\n",
       "    }\n",
       "</style>\n",
       "<table border=\"1\" class=\"dataframe\">\n",
       "  <thead>\n",
       "    <tr style=\"text-align: right;\">\n",
       "      <th></th>\n",
       "      <th>Dogecoin</th>\n",
       "      <th>Samoyedcoin</th>\n",
       "    </tr>\n",
       "    <tr>\n",
       "      <th>date</th>\n",
       "      <th></th>\n",
       "      <th></th>\n",
       "    </tr>\n",
       "  </thead>\n",
       "  <tbody>\n",
       "    <tr>\n",
       "      <th>2021-07-31 00:00:00</th>\n",
       "      <td>100</td>\n",
       "      <td>0.25</td>\n",
       "    </tr>\n",
       "    <tr>\n",
       "      <th>2021-07-31 01:00:00</th>\n",
       "      <td>96</td>\n",
       "      <td>0.25</td>\n",
       "    </tr>\n",
       "    <tr>\n",
       "      <th>2021-07-31 02:00:00</th>\n",
       "      <td>96</td>\n",
       "      <td>0.25</td>\n",
       "    </tr>\n",
       "    <tr>\n",
       "      <th>2021-07-31 03:00:00</th>\n",
       "      <td>92</td>\n",
       "      <td>0.25</td>\n",
       "    </tr>\n",
       "    <tr>\n",
       "      <th>2021-07-31 04:00:00</th>\n",
       "      <td>92</td>\n",
       "      <td>0.25</td>\n",
       "    </tr>\n",
       "    <tr>\n",
       "      <th>...</th>\n",
       "      <td>...</td>\n",
       "      <td>...</td>\n",
       "    </tr>\n",
       "    <tr>\n",
       "      <th>2021-11-29 12:00:00</th>\n",
       "      <td>58</td>\n",
       "      <td>35.00</td>\n",
       "    </tr>\n",
       "    <tr>\n",
       "      <th>2021-11-29 13:00:00</th>\n",
       "      <td>100</td>\n",
       "      <td>59.00</td>\n",
       "    </tr>\n",
       "    <tr>\n",
       "      <th>2021-11-29 14:00:00</th>\n",
       "      <td>91</td>\n",
       "      <td>21.00</td>\n",
       "    </tr>\n",
       "    <tr>\n",
       "      <th>2021-11-29 15:00:00</th>\n",
       "      <td>92</td>\n",
       "      <td>43.00</td>\n",
       "    </tr>\n",
       "    <tr>\n",
       "      <th>2021-11-29 16:00:00</th>\n",
       "      <td>78</td>\n",
       "      <td>33.00</td>\n",
       "    </tr>\n",
       "  </tbody>\n",
       "</table>\n",
       "<p>1602 rows × 2 columns</p>\n",
       "</div>"
      ],
      "text/plain": [
       "                     Dogecoin  Samoyedcoin\n",
       "date                                      \n",
       "2021-07-31 00:00:00       100         0.25\n",
       "2021-07-31 01:00:00        96         0.25\n",
       "2021-07-31 02:00:00        96         0.25\n",
       "2021-07-31 03:00:00        92         0.25\n",
       "2021-07-31 04:00:00        92         0.25\n",
       "...                       ...          ...\n",
       "2021-11-29 12:00:00        58        35.00\n",
       "2021-11-29 13:00:00       100        59.00\n",
       "2021-11-29 14:00:00        91        21.00\n",
       "2021-11-29 15:00:00        92        43.00\n",
       "2021-11-29 16:00:00        78        33.00\n",
       "\n",
       "[1602 rows x 2 columns]"
      ]
     },
     "execution_count": 5,
     "metadata": {},
     "output_type": "execute_result"
    }
   ],
   "source": [
    "df = data[0].iloc[:, 0]\n",
    "\n",
    "    # merges all coins into one df\n",
    "if len(kw_list) > 1:\n",
    "    for i in range(1, len(kw_list)):\n",
    "        df = pd.merge(left=df,\n",
    "                        right=data[i].iloc[:, 0],\n",
    "                        how='outer',\n",
    "                        on='date')\n",
    "\n",
    "# non-existing values are replaced by 0.25,\n",
    "# (avg of 0 & 0.5, the range of values marked as <1 on GT)\n",
    "df = df.fillna(0.25)\n",
    "\n",
    "# set the index as to type datetime64[ns] to be ready for grouping\n",
    "df.index = pd.to_datetime(df.index, format='%Y-%m-%d %H:%M:%S')\n",
    "    \n",
    "df"
   ]
  },
  {
   "cell_type": "code",
   "execution_count": null,
   "id": "8203e530",
   "metadata": {},
   "outputs": [],
   "source": []
  },
  {
   "cell_type": "code",
   "execution_count": 6,
   "id": "98a526ee",
   "metadata": {},
   "outputs": [],
   "source": [
    "df.to_csv('doge_samo_google_trends_3107-2911.csv')"
   ]
  },
  {
   "cell_type": "code",
   "execution_count": null,
   "id": "6bcd971b",
   "metadata": {},
   "outputs": [],
   "source": []
  }
 ],
 "metadata": {
  "kernelspec": {
   "display_name": "Python 3 (ipykernel)",
   "language": "python",
   "name": "python3"
  },
  "language_info": {
   "codemirror_mode": {
    "name": "ipython",
    "version": 3
   },
   "file_extension": ".py",
   "mimetype": "text/x-python",
   "name": "python",
   "nbconvert_exporter": "python",
   "pygments_lexer": "ipython3",
   "version": "3.8.12"
  },
  "toc": {
   "base_numbering": 1,
   "nav_menu": {},
   "number_sections": true,
   "sideBar": true,
   "skip_h1_title": false,
   "title_cell": "Table of Contents",
   "title_sidebar": "Contents",
   "toc_cell": false,
   "toc_position": {},
   "toc_section_display": true,
   "toc_window_display": false
  }
 },
 "nbformat": 4,
 "nbformat_minor": 5
}
