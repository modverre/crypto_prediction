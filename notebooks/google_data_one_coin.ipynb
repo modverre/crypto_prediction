{
 "cells": [
  {
   "cell_type": "code",
   "execution_count": 1,
   "id": "66d5b139",
   "metadata": {},
   "outputs": [],
   "source": [
    "from pytrends.request import TrendReq\n",
    "import pandas as pd\n",
    "from datetime import datetime"
   ]
  },
  {
   "cell_type": "code",
   "execution_count": 2,
   "id": "fc54210d",
   "metadata": {},
   "outputs": [],
   "source": [
    "pytrends = TrendReq(hl='en-US', tz=0) # 60 = CET 0 = UTC\n",
    "\n",
    "# specifies current time as end date of results\n",
    "\n",
    "now = datetime.now().strftime(\"%d/%m/%Y %H:%M:%S\")\n",
    "now_d = int(now[:2])\n",
    "now_m = int(now[3:5])\n",
    "now_y = int(now[6:10])\n",
    "now_h = int(now[11:13])"
   ]
  },
  {
   "cell_type": "code",
   "execution_count": 3,
   "id": "26fd9005",
   "metadata": {},
   "outputs": [
    {
     "data": {
      "text/plain": [
       "'25/11/2021 15:56:37'"
      ]
     },
     "execution_count": 3,
     "metadata": {},
     "output_type": "execute_result"
    }
   ],
   "source": [
    "now"
   ]
  },
  {
   "cell_type": "code",
   "execution_count": 4,
   "id": "92c1edc5",
   "metadata": {},
   "outputs": [],
   "source": [
    "kw_list = ['Ethereum']\n",
    "coin_list = []\n",
    "data = []"
   ]
  },
  {
   "cell_type": "code",
   "execution_count": 5,
   "id": "a452e7bb",
   "metadata": {},
   "outputs": [
    {
     "data": {
      "text/plain": [
       "[                     Ethereum isPartial\n",
       " date                                   \n",
       " 2020-11-25 15:00:00        73     False\n",
       " 2020-11-25 16:00:00       100     False\n",
       " 2020-11-25 17:00:00        73     False\n",
       " 2020-11-25 18:00:00        71     False\n",
       " 2020-11-25 19:00:00        74     False\n",
       " ...                       ...       ...\n",
       " 2021-11-24 12:00:00        60     False\n",
       " 2021-11-24 13:00:00        62     False\n",
       " 2021-11-24 14:00:00        66     False\n",
       " 2021-11-24 15:00:00        66     False\n",
       " 2021-11-24 15:00:00        98     False\n",
       " \n",
       " [7437 rows x 2 columns]]"
      ]
     },
     "execution_count": 5,
     "metadata": {},
     "output_type": "execute_result"
    }
   ],
   "source": [
    "#data now\n",
    "for kw in kw_list:\n",
    "    coin_list = [kw]\n",
    "    data.append(pytrends.get_historical_interest(\n",
    "            coin_list, year_start=now_y-1, month_start=now_m, day_start=25,\n",
    "            hour_start=now_h, year_end=now_y, month_end=now_m, day_end=24,\n",
    "            hour_end=now_h, cat=0, sleep=0))\n",
    "data"
   ]
  },
  {
   "cell_type": "code",
   "execution_count": 6,
   "id": "228371e8",
   "metadata": {},
   "outputs": [],
   "source": [
    "df = data[0].iloc[:,0]"
   ]
  },
  {
   "cell_type": "code",
   "execution_count": 7,
   "id": "fcf59167",
   "metadata": {},
   "outputs": [
    {
     "data": {
      "text/html": [
       "<div>\n",
       "<style scoped>\n",
       "    .dataframe tbody tr th:only-of-type {\n",
       "        vertical-align: middle;\n",
       "    }\n",
       "\n",
       "    .dataframe tbody tr th {\n",
       "        vertical-align: top;\n",
       "    }\n",
       "\n",
       "    .dataframe thead th {\n",
       "        text-align: right;\n",
       "    }\n",
       "</style>\n",
       "<table border=\"1\" class=\"dataframe\">\n",
       "  <thead>\n",
       "    <tr style=\"text-align: right;\">\n",
       "      <th></th>\n",
       "      <th>date</th>\n",
       "      <th>Ethereum</th>\n",
       "    </tr>\n",
       "  </thead>\n",
       "  <tbody>\n",
       "    <tr>\n",
       "      <th>0</th>\n",
       "      <td>2020-11-25 15:00:00</td>\n",
       "      <td>73</td>\n",
       "    </tr>\n",
       "    <tr>\n",
       "      <th>1</th>\n",
       "      <td>2020-11-25 16:00:00</td>\n",
       "      <td>100</td>\n",
       "    </tr>\n",
       "    <tr>\n",
       "      <th>2</th>\n",
       "      <td>2020-11-25 17:00:00</td>\n",
       "      <td>73</td>\n",
       "    </tr>\n",
       "    <tr>\n",
       "      <th>3</th>\n",
       "      <td>2020-11-25 18:00:00</td>\n",
       "      <td>71</td>\n",
       "    </tr>\n",
       "    <tr>\n",
       "      <th>4</th>\n",
       "      <td>2020-11-25 19:00:00</td>\n",
       "      <td>74</td>\n",
       "    </tr>\n",
       "  </tbody>\n",
       "</table>\n",
       "</div>"
      ],
      "text/plain": [
       "                 date  Ethereum\n",
       "0 2020-11-25 15:00:00        73\n",
       "1 2020-11-25 16:00:00       100\n",
       "2 2020-11-25 17:00:00        73\n",
       "3 2020-11-25 18:00:00        71\n",
       "4 2020-11-25 19:00:00        74"
      ]
     },
     "execution_count": 7,
     "metadata": {},
     "output_type": "execute_result"
    }
   ],
   "source": [
    "df = pd.DataFrame(df) \n",
    "df = df.reset_index()\n",
    "df.head(5)"
   ]
  },
  {
   "cell_type": "code",
   "execution_count": 8,
   "id": "f727613e",
   "metadata": {},
   "outputs": [
    {
     "data": {
      "text/html": [
       "<div>\n",
       "<style scoped>\n",
       "    .dataframe tbody tr th:only-of-type {\n",
       "        vertical-align: middle;\n",
       "    }\n",
       "\n",
       "    .dataframe tbody tr th {\n",
       "        vertical-align: top;\n",
       "    }\n",
       "\n",
       "    .dataframe thead th {\n",
       "        text-align: right;\n",
       "    }\n",
       "</style>\n",
       "<table border=\"1\" class=\"dataframe\">\n",
       "  <thead>\n",
       "    <tr style=\"text-align: right;\">\n",
       "      <th></th>\n",
       "      <th>date</th>\n",
       "      <th>Ethereum</th>\n",
       "      <th>hour</th>\n",
       "    </tr>\n",
       "  </thead>\n",
       "  <tbody>\n",
       "    <tr>\n",
       "      <th>9</th>\n",
       "      <td>2020-11-26</td>\n",
       "      <td>67</td>\n",
       "      <td>00</td>\n",
       "    </tr>\n",
       "    <tr>\n",
       "      <th>33</th>\n",
       "      <td>2020-11-27</td>\n",
       "      <td>61</td>\n",
       "      <td>00</td>\n",
       "    </tr>\n",
       "    <tr>\n",
       "      <th>57</th>\n",
       "      <td>2020-11-28</td>\n",
       "      <td>50</td>\n",
       "      <td>00</td>\n",
       "    </tr>\n",
       "    <tr>\n",
       "      <th>81</th>\n",
       "      <td>2020-11-29</td>\n",
       "      <td>50</td>\n",
       "      <td>00</td>\n",
       "    </tr>\n",
       "    <tr>\n",
       "      <th>105</th>\n",
       "      <td>2020-11-30</td>\n",
       "      <td>68</td>\n",
       "      <td>00</td>\n",
       "    </tr>\n",
       "    <tr>\n",
       "      <th>...</th>\n",
       "      <td>...</td>\n",
       "      <td>...</td>\n",
       "      <td>...</td>\n",
       "    </tr>\n",
       "    <tr>\n",
       "      <th>7324</th>\n",
       "      <td>2021-11-20</td>\n",
       "      <td>71</td>\n",
       "      <td>00</td>\n",
       "    </tr>\n",
       "    <tr>\n",
       "      <th>7348</th>\n",
       "      <td>2021-11-21</td>\n",
       "      <td>67</td>\n",
       "      <td>00</td>\n",
       "    </tr>\n",
       "    <tr>\n",
       "      <th>7372</th>\n",
       "      <td>2021-11-22</td>\n",
       "      <td>59</td>\n",
       "      <td>00</td>\n",
       "    </tr>\n",
       "    <tr>\n",
       "      <th>7396</th>\n",
       "      <td>2021-11-23</td>\n",
       "      <td>66</td>\n",
       "      <td>00</td>\n",
       "    </tr>\n",
       "    <tr>\n",
       "      <th>7420</th>\n",
       "      <td>2021-11-24</td>\n",
       "      <td>66</td>\n",
       "      <td>00</td>\n",
       "    </tr>\n",
       "  </tbody>\n",
       "</table>\n",
       "<p>308 rows × 3 columns</p>\n",
       "</div>"
      ],
      "text/plain": [
       "           date  Ethereum hour\n",
       "9    2020-11-26        67   00\n",
       "33   2020-11-27        61   00\n",
       "57   2020-11-28        50   00\n",
       "81   2020-11-29        50   00\n",
       "105  2020-11-30        68   00\n",
       "...         ...       ...  ...\n",
       "7324 2021-11-20        71   00\n",
       "7348 2021-11-21        67   00\n",
       "7372 2021-11-22        59   00\n",
       "7396 2021-11-23        66   00\n",
       "7420 2021-11-24        66   00\n",
       "\n",
       "[308 rows x 3 columns]"
      ]
     },
     "execution_count": 8,
     "metadata": {},
     "output_type": "execute_result"
    }
   ],
   "source": [
    "df['hour'] = df['date'].astype(str)\n",
    "df['hour'] = df['hour'].str.slice(11, 13, 1)\n",
    "df = df[df['hour'] == '00']\n",
    "df"
   ]
  },
  {
   "cell_type": "code",
   "execution_count": 9,
   "id": "98a526ee",
   "metadata": {},
   "outputs": [],
   "source": [
    "df.to_csv('eth_daily_google_trends_1y.csv')"
   ]
  },
  {
   "cell_type": "code",
   "execution_count": null,
   "id": "6bcd971b",
   "metadata": {},
   "outputs": [],
   "source": []
  }
 ],
 "metadata": {
  "kernelspec": {
   "display_name": "Python 3 (ipykernel)",
   "language": "python",
   "name": "python3"
  },
  "language_info": {
   "codemirror_mode": {
    "name": "ipython",
    "version": 3
   },
   "file_extension": ".py",
   "mimetype": "text/x-python",
   "name": "python",
   "nbconvert_exporter": "python",
   "pygments_lexer": "ipython3",
   "version": "3.8.12"
  },
  "toc": {
   "base_numbering": 1,
   "nav_menu": {},
   "number_sections": true,
   "sideBar": true,
   "skip_h1_title": false,
   "title_cell": "Table of Contents",
   "title_sidebar": "Contents",
   "toc_cell": false,
   "toc_position": {},
   "toc_section_display": true,
   "toc_window_display": false
  }
 },
 "nbformat": 4,
 "nbformat_minor": 5
}
