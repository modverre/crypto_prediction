{
 "cells": [
  {
   "cell_type": "code",
   "execution_count": 1,
   "id": "594ca051",
   "metadata": {},
   "outputs": [],
   "source": [
    "%load_ext autoreload\n",
    "%autoreload 2"
   ]
  },
  {
   "cell_type": "code",
   "execution_count": 2,
   "id": "0a8c2f12",
   "metadata": {},
   "outputs": [
    {
     "name": "stderr",
     "output_type": "stream",
     "text": [
      "/home/rob/.pyenv/versions/3.8.12/envs/crypto_prediction/lib/python3.8/site-packages/pandas/compat/__init__.py:124: UserWarning: Could not import the lzma module. Your installed Python is incomplete. Attempting to use lzma compression will result in a RuntimeError.\n",
      "  warnings.warn(msg)\n"
     ]
    }
   ],
   "source": [
    "from crypto_prediction.data import *\n",
    "import pandas as pd"
   ]
  },
  {
   "cell_type": "code",
   "execution_count": 12,
   "id": "4f0c9972",
   "metadata": {},
   "outputs": [],
   "source": [
    "df = prediction_ready_df(['ban','wow'], 6)"
   ]
  },
  {
   "cell_type": "code",
   "execution_count": 13,
   "id": "68d75314",
   "metadata": {},
   "outputs": [
    {
     "data": {
      "text/html": [
       "<div>\n",
       "<style scoped>\n",
       "    .dataframe tbody tr th:only-of-type {\n",
       "        vertical-align: middle;\n",
       "    }\n",
       "\n",
       "    .dataframe tbody tr th {\n",
       "        vertical-align: top;\n",
       "    }\n",
       "\n",
       "    .dataframe thead th {\n",
       "        text-align: right;\n",
       "    }\n",
       "</style>\n",
       "<table border=\"1\" class=\"dataframe\">\n",
       "  <thead>\n",
       "    <tr style=\"text-align: right;\">\n",
       "      <th></th>\n",
       "      <th>price_ban</th>\n",
       "      <th>tweets_ban</th>\n",
       "    </tr>\n",
       "    <tr>\n",
       "      <th>datetime</th>\n",
       "      <th></th>\n",
       "      <th></th>\n",
       "    </tr>\n",
       "  </thead>\n",
       "  <tbody>\n",
       "    <tr>\n",
       "      <th>2021-12-01 09:00:00</th>\n",
       "      <td>0.016868</td>\n",
       "      <td>0</td>\n",
       "    </tr>\n",
       "    <tr>\n",
       "      <th>2021-12-01 10:00:00</th>\n",
       "      <td>0.016899</td>\n",
       "      <td>0</td>\n",
       "    </tr>\n",
       "    <tr>\n",
       "      <th>2021-12-01 11:00:00</th>\n",
       "      <td>0.016913</td>\n",
       "      <td>2</td>\n",
       "    </tr>\n",
       "    <tr>\n",
       "      <th>2021-12-01 12:00:00</th>\n",
       "      <td>0.017118</td>\n",
       "      <td>2</td>\n",
       "    </tr>\n",
       "    <tr>\n",
       "      <th>2021-12-01 13:00:00</th>\n",
       "      <td>0.017245</td>\n",
       "      <td>2</td>\n",
       "    </tr>\n",
       "    <tr>\n",
       "      <th>2021-12-01 14:00:00</th>\n",
       "      <td>0.017276</td>\n",
       "      <td>1</td>\n",
       "    </tr>\n",
       "  </tbody>\n",
       "</table>\n",
       "</div>"
      ],
      "text/plain": [
       "                     price_ban  tweets_ban\n",
       "datetime                                  \n",
       "2021-12-01 09:00:00   0.016868           0\n",
       "2021-12-01 10:00:00   0.016899           0\n",
       "2021-12-01 11:00:00   0.016913           2\n",
       "2021-12-01 12:00:00   0.017118           2\n",
       "2021-12-01 13:00:00   0.017245           2\n",
       "2021-12-01 14:00:00   0.017276           1"
      ]
     },
     "execution_count": 13,
     "metadata": {},
     "output_type": "execute_result"
    }
   ],
   "source": [
    "df[0]"
   ]
  },
  {
   "cell_type": "code",
   "execution_count": 14,
   "id": "af459cb9",
   "metadata": {},
   "outputs": [
    {
     "data": {
      "text/html": [
       "<div>\n",
       "<style scoped>\n",
       "    .dataframe tbody tr th:only-of-type {\n",
       "        vertical-align: middle;\n",
       "    }\n",
       "\n",
       "    .dataframe tbody tr th {\n",
       "        vertical-align: top;\n",
       "    }\n",
       "\n",
       "    .dataframe thead th {\n",
       "        text-align: right;\n",
       "    }\n",
       "</style>\n",
       "<table border=\"1\" class=\"dataframe\">\n",
       "  <thead>\n",
       "    <tr style=\"text-align: right;\">\n",
       "      <th></th>\n",
       "      <th>price_wow</th>\n",
       "      <th>tweets_wow</th>\n",
       "    </tr>\n",
       "    <tr>\n",
       "      <th>datetime</th>\n",
       "      <th></th>\n",
       "      <th></th>\n",
       "    </tr>\n",
       "  </thead>\n",
       "  <tbody>\n",
       "    <tr>\n",
       "      <th>2021-12-01 09:00:00</th>\n",
       "      <td>0.190933</td>\n",
       "      <td>0</td>\n",
       "    </tr>\n",
       "    <tr>\n",
       "      <th>2021-12-01 10:00:00</th>\n",
       "      <td>0.192743</td>\n",
       "      <td>0</td>\n",
       "    </tr>\n",
       "    <tr>\n",
       "      <th>2021-12-01 11:00:00</th>\n",
       "      <td>0.190683</td>\n",
       "      <td>0</td>\n",
       "    </tr>\n",
       "    <tr>\n",
       "      <th>2021-12-01 12:00:00</th>\n",
       "      <td>0.197862</td>\n",
       "      <td>0</td>\n",
       "    </tr>\n",
       "    <tr>\n",
       "      <th>2021-12-01 13:00:00</th>\n",
       "      <td>0.198388</td>\n",
       "      <td>0</td>\n",
       "    </tr>\n",
       "    <tr>\n",
       "      <th>2021-12-01 14:00:00</th>\n",
       "      <td>0.200623</td>\n",
       "      <td>0</td>\n",
       "    </tr>\n",
       "  </tbody>\n",
       "</table>\n",
       "</div>"
      ],
      "text/plain": [
       "                     price_wow  tweets_wow\n",
       "datetime                                  \n",
       "2021-12-01 09:00:00   0.190933           0\n",
       "2021-12-01 10:00:00   0.192743           0\n",
       "2021-12-01 11:00:00   0.190683           0\n",
       "2021-12-01 12:00:00   0.197862           0\n",
       "2021-12-01 13:00:00   0.198388           0\n",
       "2021-12-01 14:00:00   0.200623           0"
      ]
     },
     "execution_count": 14,
     "metadata": {},
     "output_type": "execute_result"
    }
   ],
   "source": [
    "df[1]"
   ]
  },
  {
   "cell_type": "code",
   "execution_count": null,
   "id": "1004289a",
   "metadata": {},
   "outputs": [],
   "source": [
    "df"
   ]
  },
  {
   "cell_type": "code",
   "execution_count": null,
   "id": "457ee272",
   "metadata": {},
   "outputs": [],
   "source": [
    "df2"
   ]
  },
  {
   "cell_type": "code",
   "execution_count": null,
   "id": "438260a4",
   "metadata": {},
   "outputs": [],
   "source": [
    "x = tmp[::-1]"
   ]
  },
  {
   "cell_type": "code",
   "execution_count": null,
   "id": "a531ca9e",
   "metadata": {},
   "outputs": [],
   "source": [
    "x[1]"
   ]
  },
  {
   "cell_type": "code",
   "execution_count": null,
   "id": "8752069d",
   "metadata": {},
   "outputs": [],
   "source": []
  },
  {
   "cell_type": "code",
   "execution_count": null,
   "id": "8572be88",
   "metadata": {},
   "outputs": [],
   "source": []
  },
  {
   "cell_type": "code",
   "execution_count": null,
   "id": "25853210",
   "metadata": {},
   "outputs": [],
   "source": [
    "test = []\n",
    "for i,_ in enumerate(tmp):\n",
    "    print(tmp[i])\n"
   ]
  },
  {
   "cell_type": "code",
   "execution_count": null,
   "id": "406241dd",
   "metadata": {},
   "outputs": [],
   "source": [
    "for x in tmp:\n",
    "    print(tmp)\n"
   ]
  },
  {
   "cell_type": "code",
   "execution_count": null,
   "id": "4420775f",
   "metadata": {},
   "outputs": [],
   "source": [
    "dfs = twitter_history(['ban','doge'], 1000)"
   ]
  },
  {
   "cell_type": "code",
   "execution_count": null,
   "id": "6a1e412a",
   "metadata": {},
   "outputs": [],
   "source": []
  },
  {
   "cell_type": "code",
   "execution_count": null,
   "id": "74a18d4a",
   "metadata": {},
   "outputs": [],
   "source": [
    "len(alle)"
   ]
  },
  {
   "cell_type": "code",
   "execution_count": null,
   "id": "d4ec9e99",
   "metadata": {},
   "outputs": [],
   "source": []
  },
  {
   "cell_type": "code",
   "execution_count": null,
   "id": "65ae0009",
   "metadata": {},
   "outputs": [],
   "source": [
    "coins, twitter = prediction_ready_df2(['doge', 'ban'], 1000)"
   ]
  },
  {
   "cell_type": "code",
   "execution_count": null,
   "id": "0a47717a",
   "metadata": {},
   "outputs": [],
   "source": [
    "coins['doge']"
   ]
  },
  {
   "cell_type": "code",
   "execution_count": null,
   "id": "89f0e29b",
   "metadata": {},
   "outputs": [],
   "source": [
    "twitter['doge']"
   ]
  },
  {
   "cell_type": "code",
   "execution_count": null,
   "id": "1f4673e0",
   "metadata": {},
   "outputs": [],
   "source": [
    "x = prediction_ready_df2(['doge', 'ban'], 1000)"
   ]
  },
  {
   "cell_type": "code",
   "execution_count": null,
   "id": "1c0e2493",
   "metadata": {},
   "outputs": [],
   "source": [
    "x[0]"
   ]
  },
  {
   "cell_type": "code",
   "execution_count": 4,
   "id": "ae2d5e56",
   "metadata": {},
   "outputs": [],
   "source": [
    "tickerlist = [\"ban\", \"cummies\", \"dinu\", \"doge\", \"doggy\", \"elon\", \"erc20\", \"ftm\", \"grlc\", \"hoge\", \"lowb\", \"mona\", \"samo\", \"shib\", \"shibx\", \"smi\",\n",
    "\"wow\", \"yooshi\",\"yummy\"]"
   ]
  },
  {
   "cell_type": "code",
   "execution_count": 5,
   "id": "a2273415",
   "metadata": {},
   "outputs": [
    {
     "name": "stdout",
     "output_type": "stream",
     "text": [
      "coins start_dt 2021-09-09 00:43:45.935978+00:00\n",
      "coins end_dt 2021-12-01 08:43:45.935978+00:00\n"
     ]
    }
   ],
   "source": [
    "dfs = prediction_ready_df2(tickerlist, 2000)"
   ]
  },
  {
   "cell_type": "code",
   "execution_count": 12,
   "id": "8ab3b271",
   "metadata": {},
   "outputs": [],
   "source": [
    "for i,df in enumerate(dfs):\n",
    "    df.to_csv('2000_twitter_'+tickerlist[i]+'.csv')"
   ]
  },
  {
   "cell_type": "code",
   "execution_count": 8,
   "id": "a7cb94c5",
   "metadata": {},
   "outputs": [
    {
     "data": {
      "text/plain": [
       "[                     price_ban  tweets_ban\n",
       " datetime                                  \n",
       " 2021-09-09 01:00:00   0.008674           1\n",
       " 2021-09-09 02:00:00   0.008572           4\n",
       " 2021-09-09 03:00:00   0.008527           2\n",
       " 2021-09-09 04:00:00   0.008642           2\n",
       " 2021-09-09 05:00:00   0.008681           0\n",
       " ...                        ...         ...\n",
       " 2021-12-01 04:00:00   0.017068           2\n",
       " 2021-12-01 05:00:00   0.016957           0\n",
       " 2021-12-01 06:00:00   0.016904           0\n",
       " 2021-12-01 07:00:00   0.016858           0\n",
       " 2021-12-01 08:00:00   0.016783           1\n",
       " \n",
       " [2000 rows x 2 columns],\n",
       "                      price_cummies  tweets_cummies\n",
       " datetime                                          \n",
       " 2021-09-09 01:00:00       0.025117               1\n",
       " 2021-09-09 02:00:00       0.024642               2\n",
       " 2021-09-09 03:00:00       0.025494               3\n",
       " 2021-09-09 04:00:00       0.025503               3\n",
       " 2021-09-09 05:00:00       0.025276               3\n",
       " ...                            ...             ...\n",
       " 2021-12-01 04:00:00       0.022494             101\n",
       " 2021-12-01 05:00:00       0.024012              32\n",
       " 2021-12-01 06:00:00       0.023969              44\n",
       " 2021-12-01 07:00:00       0.024613              52\n",
       " 2021-12-01 08:00:00       0.022398              56\n",
       " \n",
       " [2000 rows x 2 columns],\n",
       "                        price_dinu  tweets_dinu\n",
       " datetime                                      \n",
       " 2021-09-09 01:00:00  2.089195e-09            0\n",
       " 2021-09-09 02:00:00  2.090754e-09            0\n",
       " 2021-09-09 03:00:00  2.098819e-09            0\n",
       " 2021-09-09 04:00:00  2.070200e-09            0\n",
       " 2021-09-09 05:00:00  2.087767e-09            0\n",
       " ...                           ...          ...\n",
       " 2021-12-01 04:00:00  1.580730e-08           35\n",
       " 2021-12-01 05:00:00  1.568805e-08           14\n",
       " 2021-12-01 06:00:00  1.570611e-08           10\n",
       " 2021-12-01 07:00:00  1.584112e-08           12\n",
       " 2021-12-01 08:00:00  1.592641e-08            9\n",
       " \n",
       " [2000 rows x 2 columns],\n",
       "                      price_doge  tweets_doge\n",
       " datetime                                    \n",
       " 2021-09-09 01:00:00    0.219392          330\n",
       " 2021-09-09 02:00:00    0.215121         1491\n",
       " 2021-09-09 03:00:00    0.213484         1509\n",
       " 2021-09-09 04:00:00    0.214150         1488\n",
       " 2021-09-09 05:00:00    0.215424         1302\n",
       " ...                         ...          ...\n",
       " 2021-12-01 04:00:00    0.190308         1426\n",
       " 2021-12-01 05:00:00    0.189591         1897\n",
       " 2021-12-01 06:00:00    0.188957         2518\n",
       " 2021-12-01 07:00:00    0.189605         2159\n",
       " 2021-12-01 08:00:00    0.190853         1734\n",
       " \n",
       " [2000 rows x 2 columns],\n",
       "                      price_doggy  tweets_doggy\n",
       " datetime                                      \n",
       " 2021-09-09 01:00:00     0.003673             0\n",
       " 2021-09-09 02:00:00     0.003581             0\n",
       " 2021-09-09 03:00:00     0.003555             0\n",
       " 2021-09-09 04:00:00     0.003579             0\n",
       " 2021-09-09 05:00:00     0.003586             0\n",
       " ...                          ...           ...\n",
       " 2021-12-01 04:00:00     0.005381             0\n",
       " 2021-12-01 05:00:00     0.005347             0\n",
       " 2021-12-01 06:00:00     0.005297             0\n",
       " 2021-12-01 07:00:00     0.005284             0\n",
       " 2021-12-01 08:00:00     0.005340             0\n",
       " \n",
       " [2000 rows x 2 columns],\n",
       "                        price_elon  tweets_elon\n",
       " datetime                                      \n",
       " 2021-09-09 01:00:00  4.602008e-08            0\n",
       " 2021-09-09 02:00:00  4.521019e-08            0\n",
       " 2021-09-09 03:00:00  4.481448e-08            1\n",
       " 2021-09-09 04:00:00  4.613245e-08            0\n",
       " 2021-09-09 05:00:00  4.584606e-08            0\n",
       " ...                           ...          ...\n",
       " 2021-12-01 04:00:00  1.492893e-06          293\n",
       " 2021-12-01 05:00:00  1.493946e-06          369\n",
       " 2021-12-01 06:00:00  1.476465e-06          566\n",
       " 2021-12-01 07:00:00  1.494934e-06          405\n",
       " 2021-12-01 08:00:00  1.490589e-06          251\n",
       " \n",
       " [2000 rows x 2 columns],\n",
       "                      price_erc20  tweets_erc20\n",
       " datetime                                      \n",
       " 2021-09-09 01:00:00     0.015055            10\n",
       " 2021-09-09 02:00:00     0.014962            51\n",
       " 2021-09-09 03:00:00          NaN            41\n",
       " 2021-09-09 04:00:00     0.014823            48\n",
       " 2021-09-09 05:00:00     0.014883            33\n",
       " ...                          ...           ...\n",
       " 2021-12-01 04:00:00     0.033507           250\n",
       " 2021-12-01 05:00:00     0.033748           243\n",
       " 2021-12-01 06:00:00     0.033347           209\n",
       " 2021-12-01 07:00:00     0.033579           193\n",
       " 2021-12-01 08:00:00     0.034032           600\n",
       " \n",
       " [2000 rows x 2 columns],\n",
       "                      price_ftm  tweets_ftm\n",
       " datetime                                  \n",
       " 2021-09-09 01:00:00   1.408068          20\n",
       " 2021-09-09 02:00:00   1.424661          70\n",
       " 2021-09-09 03:00:00   1.408993          82\n",
       " 2021-09-09 04:00:00   1.437049          90\n",
       " 2021-09-09 05:00:00   1.587323          90\n",
       " ...                        ...         ...\n",
       " 2021-12-01 04:00:00   1.918938         493\n",
       " 2021-12-01 05:00:00   1.919306         470\n",
       " 2021-12-01 06:00:00   1.961492         376\n",
       " 2021-12-01 07:00:00   1.968376         437\n",
       " 2021-12-01 08:00:00   1.978312         345\n",
       " \n",
       " [2000 rows x 2 columns],\n",
       "                      price_grlc  tweets_grlc\n",
       " datetime                                    \n",
       " 2021-09-09 01:00:00    0.050700            0\n",
       " 2021-09-09 02:00:00    0.050404            0\n",
       " 2021-09-09 03:00:00    0.050284            0\n",
       " 2021-09-09 04:00:00    0.050377            0\n",
       " 2021-09-09 05:00:00    0.050751            0\n",
       " ...                         ...          ...\n",
       " 2021-12-01 04:00:00    0.047382            0\n",
       " 2021-12-01 05:00:00    0.047214            0\n",
       " 2021-12-01 06:00:00    0.047009            1\n",
       " 2021-12-01 07:00:00    0.047151            0\n",
       " 2021-12-01 08:00:00    0.047402            0\n",
       " \n",
       " [2000 rows x 2 columns],\n",
       "                      price_hoge  tweets_hoge\n",
       " datetime                                    \n",
       " 2021-09-09 01:00:00    0.000094            2\n",
       " 2021-09-09 02:00:00    0.000094            9\n",
       " 2021-09-09 03:00:00    0.000095            8\n",
       " 2021-09-09 04:00:00    0.000096           23\n",
       " 2021-09-09 05:00:00    0.000096           17\n",
       " ...                         ...          ...\n",
       " 2021-12-01 04:00:00    0.000323           67\n",
       " 2021-12-01 05:00:00    0.000310           98\n",
       " 2021-12-01 06:00:00    0.000313           25\n",
       " 2021-12-01 07:00:00    0.000316           22\n",
       " 2021-12-01 08:00:00    0.000323           19\n",
       " \n",
       " [2000 rows x 2 columns],\n",
       "                      price_lowb  tweets_lowb\n",
       " datetime                                    \n",
       " 2021-09-09 01:00:00    0.000073            0\n",
       " 2021-09-09 02:00:00    0.000073            1\n",
       " 2021-09-09 03:00:00    0.000072            0\n",
       " 2021-09-09 04:00:00    0.000073            0\n",
       " 2021-09-09 05:00:00    0.000073            0\n",
       " ...                         ...          ...\n",
       " 2021-12-01 04:00:00    0.000058            0\n",
       " 2021-12-01 05:00:00    0.000058            1\n",
       " 2021-12-01 06:00:00    0.000058            0\n",
       " 2021-12-01 07:00:00    0.000059            0\n",
       " 2021-12-01 08:00:00    0.000059            0\n",
       " \n",
       " [2000 rows x 2 columns],\n",
       "                      price_mona  tweets_mona\n",
       " datetime                                    \n",
       " 2021-09-09 01:00:00    1.297481            0\n",
       " 2021-09-09 02:00:00    1.292120            0\n",
       " 2021-09-09 03:00:00    1.292921            1\n",
       " 2021-09-09 04:00:00    1.292875            1\n",
       " 2021-09-09 05:00:00    1.299062            0\n",
       " ...                         ...          ...\n",
       " 2021-12-01 04:00:00    1.586674           11\n",
       " 2021-12-01 05:00:00    1.570865            0\n",
       " 2021-12-01 06:00:00    1.580719            2\n",
       " 2021-12-01 07:00:00    1.603758            6\n",
       " 2021-12-01 08:00:00    1.594361            3\n",
       " \n",
       " [2000 rows x 2 columns],\n",
       "                      price_samo  tweets_samo\n",
       " datetime                                    \n",
       " 2021-09-09 01:00:00    0.004886            0\n",
       " 2021-09-09 02:00:00    0.005079            0\n",
       " 2021-09-09 03:00:00    0.005163            0\n",
       " 2021-09-09 04:00:00    0.005210            0\n",
       " 2021-09-09 05:00:00    0.005300            0\n",
       " ...                         ...          ...\n",
       " 2021-12-01 04:00:00    0.070499            1\n",
       " 2021-12-01 05:00:00    0.070015            0\n",
       " 2021-12-01 06:00:00    0.069674            0\n",
       " 2021-12-01 07:00:00    0.069916            0\n",
       " 2021-12-01 08:00:00    0.070345            0\n",
       " \n",
       " [2000 rows x 2 columns],\n",
       "                      price_shib  tweets_shib\n",
       " datetime                                    \n",
       " 2021-09-09 01:00:00    0.000006           40\n",
       " 2021-09-09 02:00:00    0.000006          141\n",
       " 2021-09-09 03:00:00    0.000006          130\n",
       " 2021-09-09 04:00:00    0.000006          155\n",
       " 2021-09-09 05:00:00    0.000006          185\n",
       " ...                         ...          ...\n",
       " 2021-12-01 04:00:00    0.000041         2726\n",
       " 2021-12-01 05:00:00    0.000040         2456\n",
       " 2021-12-01 06:00:00    0.000040         2756\n",
       " 2021-12-01 07:00:00    0.000040         3372\n",
       " 2021-12-01 08:00:00    0.000041         3313\n",
       " \n",
       " [2000 rows x 2 columns],\n",
       "                      price_shibx  tweets_shibx\n",
       " datetime                                      \n",
       " 2021-09-09 01:00:00     0.000650             0\n",
       " 2021-09-09 02:00:00     0.000640             0\n",
       " 2021-09-09 03:00:00     0.000646             0\n",
       " 2021-09-09 04:00:00          NaN             0\n",
       " 2021-09-09 05:00:00     0.000707             0\n",
       " ...                          ...           ...\n",
       " 2021-12-01 04:00:00     0.000535             0\n",
       " 2021-12-01 05:00:00     0.000530             0\n",
       " 2021-12-01 06:00:00     0.000534             1\n",
       " 2021-12-01 07:00:00     0.000535             0\n",
       " 2021-12-01 08:00:00     0.000539             0\n",
       " \n",
       " [2000 rows x 2 columns],\n",
       "                      price_smi  tweets_smi\n",
       " datetime                                  \n",
       " 2021-09-09 01:00:00   0.000002         167\n",
       " 2021-09-09 02:00:00   0.000002         485\n",
       " 2021-09-09 03:00:00   0.000002         933\n",
       " 2021-09-09 04:00:00   0.000002        1497\n",
       " 2021-09-09 05:00:00   0.000002         879\n",
       " ...                        ...         ...\n",
       " 2021-12-01 04:00:00   0.000002        2842\n",
       " 2021-12-01 05:00:00   0.000002        2769\n",
       " 2021-12-01 06:00:00   0.000002        2038\n",
       " 2021-12-01 07:00:00   0.000002        1803\n",
       " 2021-12-01 08:00:00   0.000002        1757\n",
       " \n",
       " [2000 rows x 2 columns],\n",
       "                      price_wow  tweets_wow\n",
       " datetime                                  \n",
       " 2021-09-09 01:00:00   0.389580           0\n",
       " 2021-09-09 02:00:00   0.386048           0\n",
       " 2021-09-09 03:00:00   0.385175           0\n",
       " 2021-09-09 04:00:00   0.379106           0\n",
       " 2021-09-09 05:00:00   0.374059           0\n",
       " ...                        ...         ...\n",
       " 2021-12-01 04:00:00   0.202116           0\n",
       " 2021-12-01 05:00:00   0.201125           0\n",
       " 2021-12-01 06:00:00   0.198711           0\n",
       " 2021-12-01 07:00:00   0.198982           1\n",
       " 2021-12-01 08:00:00   0.199287           0\n",
       " \n",
       " [2000 rows x 2 columns],\n",
       "                      price_yooshi  tweets_yooshi\n",
       " datetime                                        \n",
       " 2021-09-09 01:00:00  2.160071e-07              0\n",
       " 2021-09-09 02:00:00  2.151078e-07              0\n",
       " 2021-09-09 03:00:00  2.093786e-07              0\n",
       " 2021-09-09 04:00:00  2.088088e-07              0\n",
       " 2021-09-09 05:00:00  2.136472e-07              0\n",
       " ...                           ...            ...\n",
       " 2021-12-01 04:00:00  1.590283e-06              0\n",
       " 2021-12-01 05:00:00  1.599834e-06              0\n",
       " 2021-12-01 06:00:00  1.699506e-06              0\n",
       " 2021-12-01 07:00:00  1.796282e-06              0\n",
       " 2021-12-01 08:00:00  1.824175e-06              0\n",
       " \n",
       " [2000 rows x 2 columns],\n",
       "                      price_yummy  tweets_yummy\n",
       " datetime                                      \n",
       " 2021-09-09 01:00:00     0.000007             0\n",
       " 2021-09-09 02:00:00     0.000007             0\n",
       " 2021-09-09 03:00:00     0.000007             0\n",
       " 2021-09-09 04:00:00     0.000007             0\n",
       " 2021-09-09 05:00:00     0.000007             0\n",
       " ...                          ...           ...\n",
       " 2021-12-01 04:00:00     0.000008             0\n",
       " 2021-12-01 05:00:00     0.000008             0\n",
       " 2021-12-01 06:00:00     0.000008             0\n",
       " 2021-12-01 07:00:00     0.000008             0\n",
       " 2021-12-01 08:00:00     0.000008             0\n",
       " \n",
       " [2000 rows x 2 columns]]"
      ]
     },
     "execution_count": 8,
     "metadata": {},
     "output_type": "execute_result"
    }
   ],
   "source": [
    "dfs"
   ]
  },
  {
   "cell_type": "code",
   "execution_count": 13,
   "id": "83ee056c",
   "metadata": {},
   "outputs": [],
   "source": [
    "for i,df in enumerate(dfs):\n",
    "    df.to_json('2000_twitter_'+tickerlist[i]+'.json')"
   ]
  },
  {
   "cell_type": "markdown",
   "id": "50e83963",
   "metadata": {},
   "source": [
    "# check to make the last cycles consistent"
   ]
  },
  {
   "cell_type": "code",
   "execution_count": 93,
   "id": "80bf42b5",
   "metadata": {},
   "outputs": [
    {
     "name": "stdout",
     "output_type": "stream",
     "text": [
      "coins start_dt 2021-12-01 09:22:09.120433+00:00\n",
      "coins end_dt 2021-12-01 10:22:09.120433+00:00\n"
     ]
    }
   ],
   "source": [
    "dfs = prediction_ready_df(['ban'], 1)"
   ]
  },
  {
   "cell_type": "code",
   "execution_count": 94,
   "id": "c80386fc",
   "metadata": {},
   "outputs": [
    {
     "data": {
      "text/html": [
       "<div>\n",
       "<style scoped>\n",
       "    .dataframe tbody tr th:only-of-type {\n",
       "        vertical-align: middle;\n",
       "    }\n",
       "\n",
       "    .dataframe tbody tr th {\n",
       "        vertical-align: top;\n",
       "    }\n",
       "\n",
       "    .dataframe thead th {\n",
       "        text-align: right;\n",
       "    }\n",
       "</style>\n",
       "<table border=\"1\" class=\"dataframe\">\n",
       "  <thead>\n",
       "    <tr style=\"text-align: right;\">\n",
       "      <th></th>\n",
       "      <th>price_ban</th>\n",
       "      <th>tweets_ban</th>\n",
       "    </tr>\n",
       "    <tr>\n",
       "      <th>datetime</th>\n",
       "      <th></th>\n",
       "      <th></th>\n",
       "    </tr>\n",
       "  </thead>\n",
       "  <tbody>\n",
       "    <tr>\n",
       "      <th>2021-12-01 10:00:00</th>\n",
       "      <td>0.016889</td>\n",
       "      <td>0</td>\n",
       "    </tr>\n",
       "  </tbody>\n",
       "</table>\n",
       "</div>"
      ],
      "text/plain": [
       "                     price_ban  tweets_ban\n",
       "datetime                                  \n",
       "2021-12-01 10:00:00   0.016889           0"
      ]
     },
     "execution_count": 94,
     "metadata": {},
     "output_type": "execute_result"
    }
   ],
   "source": [
    "dfs[0]"
   ]
  },
  {
   "cell_type": "code",
   "execution_count": 92,
   "id": "f40c9623",
   "metadata": {},
   "outputs": [
    {
     "data": {
      "text/plain": [
       "{'ban':                      tweet_count\n",
       " datetime                        \n",
       " 2021-12-01 10:00:00            0}"
      ]
     },
     "execution_count": 92,
     "metadata": {},
     "output_type": "execute_result"
    }
   ],
   "source": [
    "twitter"
   ]
  },
  {
   "cell_type": "code",
   "execution_count": null,
   "id": "687ab92a",
   "metadata": {},
   "outputs": [],
   "source": []
  },
  {
   "cell_type": "code",
   "execution_count": null,
   "id": "b69e6b33",
   "metadata": {},
   "outputs": [],
   "source": [
    "df = prediction_ready_df(['ban'], 1)"
   ]
  }
 ],
 "metadata": {
  "kernelspec": {
   "display_name": "Python 3 (ipykernel)",
   "language": "python",
   "name": "python3"
  },
  "language_info": {
   "codemirror_mode": {
    "name": "ipython",
    "version": 3
   },
   "file_extension": ".py",
   "mimetype": "text/x-python",
   "name": "python",
   "nbconvert_exporter": "python",
   "pygments_lexer": "ipython3",
   "version": "3.8.12"
  },
  "toc": {
   "base_numbering": 1,
   "nav_menu": {},
   "number_sections": true,
   "sideBar": true,
   "skip_h1_title": false,
   "title_cell": "Table of Contents",
   "title_sidebar": "Contents",
   "toc_cell": false,
   "toc_position": {},
   "toc_section_display": true,
   "toc_window_display": false
  }
 },
 "nbformat": 4,
 "nbformat_minor": 5
}
