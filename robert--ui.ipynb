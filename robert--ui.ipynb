{
 "cells": [
  {
   "cell_type": "code",
   "execution_count": 32,
   "id": "322d5cb7",
   "metadata": {},
   "outputs": [],
   "source": [
    "import requests\n",
    "#import streamlit as st\n",
    "import pandas as pd\n",
    "import numpy as np\n",
    "from datetime import date\n",
    "from datetime import datetime, timedelta"
   ]
  },
  {
   "cell_type": "code",
   "execution_count": 42,
   "id": "0001c393",
   "metadata": {},
   "outputs": [],
   "source": [
    "tickernames = [\n",
    "    'doge', 'samo', 'cummies', 'dinu', 'doggy', 'elon', 'ftm', 'grlc', 'hoge',\n",
    "    'lowb', 'shib', 'shibx', 'smi', 'wow', 'yooshi', 'yummy'\n",
    "]\n",
    "\n",
    "#tickernames = ['doge', 'samo']\n",
    "\n",
    "query = ','.join(tickernames)\n",
    "\n",
    "url_hist = f'https://cryptov1-x3jub72uhq-ew.a.run.app/get/coin_history?tickerlist={query}&hoursback=2'\n",
    "\n",
    "response = requests.get(url_hist).json()\n",
    "dfs_history = {}\n",
    "for coin in response:\n",
    "    df = pd.DataFrame.from_dict(response[coin])\n",
    "    dfs_history[coin] = df\n"
   ]
  },
  {
   "cell_type": "code",
   "execution_count": 43,
   "id": "3f91976e",
   "metadata": {},
   "outputs": [],
   "source": [
    "predictions = {}\n",
    "\n",
    "for ticker in tickernames:\n",
    "    preds = []\n",
    "    for x in range(24):\n",
    "        preds.append(np.random.uniform())\n",
    "    predictions[ticker] = preds\n"
   ]
  },
  {
   "cell_type": "code",
   "execution_count": 44,
   "id": "c61a5db3",
   "metadata": {},
   "outputs": [
    {
     "data": {
      "text/plain": [
       "[0.7734882483655812,\n",
       " 0.263327055331664,\n",
       " 0.8240111206378959,\n",
       " 0.47682834488005554,\n",
       " 0.23668387833306737,\n",
       " 0.21789541509683574,\n",
       " 0.39804692783232465,\n",
       " 0.7194753925903311,\n",
       " 0.04325403296960861,\n",
       " 0.7722823552048016,\n",
       " 0.891298197946391,\n",
       " 0.38332913134800295,\n",
       " 0.16438009678700571,\n",
       " 0.08964250177024169,\n",
       " 0.713902415022428,\n",
       " 0.8769648333121643,\n",
       " 0.5972807065814638,\n",
       " 0.43023073415121427,\n",
       " 0.21485064667576925,\n",
       " 0.5253231228015967,\n",
       " 0.815707335034918,\n",
       " 0.46896903298074677,\n",
       " 0.42674894439019406,\n",
       " 0.5889758701585782]"
      ]
     },
     "execution_count": 44,
     "metadata": {},
     "output_type": "execute_result"
    }
   ],
   "source": [
    "predictions['samo']"
   ]
  },
  {
   "cell_type": "code",
   "execution_count": 51,
   "id": "167d6aa3",
   "metadata": {},
   "outputs": [
    {
     "name": "stdout",
     "output_type": "stream",
     "text": [
      "dinu\n",
      "yooshi\n",
      "elon\n",
      "smi\n",
      "shib\n",
      "yummy\n",
      "lowb\n",
      "hoge\n",
      "shibx\n",
      "cummies\n",
      "doggy\n",
      "samo\n",
      "doge\n",
      "wow\n",
      "grlc\n",
      "ftm\n"
     ]
    }
   ],
   "source": [
    "# was ist letzter price\n",
    "#print(dfs_history['doge'].tail(1)['price'][0])\n",
    "\n",
    "dfs_history\n",
    "\n",
    "ranking = {}\n",
    "for ticker in dfs_history:\n",
    "    current_price = dfs_history[ticker].tail(1)['price'][0]\n",
    "    last_prediction = predictions[ticker][-1]\n",
    "    \n",
    "    ranking[ticker]=(last_prediction-current_price)/current_price*100\n",
    "    \n",
    "ranking = dict(sorted(ranking.items(), key=lambda x: x[1], reverse=True))\n",
    "\n",
    "\n"
   ]
  },
  {
   "cell_type": "code",
   "execution_count": 50,
   "id": "43173719",
   "metadata": {},
   "outputs": [
    {
     "data": {
      "text/plain": [
       "{'dinu': 2447265604.5875235,\n",
       " 'yooshi': 32119034.063152242,\n",
       " 'elon': 13553233.19662982,\n",
       " 'smi': 11377762.876475237,\n",
       " 'shib': 1740572.859610942,\n",
       " 'yummy': 1529161.785466081,\n",
       " 'lowb': 1396576.821363434,\n",
       " 'hoge': 247667.96575529483,\n",
       " 'shibx': 160244.74045367623,\n",
       " 'cummies': 1103.8395492911093,\n",
       " 'doggy': 853.7232730903722,\n",
       " 'samo': 762.0503654478241,\n",
       " 'doge': 421.01870764677346,\n",
       " 'wow': 313.9428066117707,\n",
       " 'grlc': -48.44326623576401,\n",
       " 'ftm': -70.05249201104691}"
      ]
     },
     "execution_count": 50,
     "metadata": {},
     "output_type": "execute_result"
    }
   ],
   "source": [
    "ranking"
   ]
  },
  {
   "cell_type": "code",
   "execution_count": null,
   "id": "e3337248",
   "metadata": {},
   "outputs": [],
   "source": []
  },
  {
   "cell_type": "code",
   "execution_count": null,
   "id": "c6a8ac2b",
   "metadata": {},
   "outputs": [],
   "source": []
  },
  {
   "cell_type": "code",
   "execution_count": null,
   "id": "46eaf4f8",
   "metadata": {},
   "outputs": [],
   "source": []
  },
  {
   "cell_type": "code",
   "execution_count": null,
   "id": "17f8f685",
   "metadata": {},
   "outputs": [],
   "source": []
  },
  {
   "cell_type": "code",
   "execution_count": null,
   "id": "b89d6ff5",
   "metadata": {},
   "outputs": [],
   "source": []
  }
 ],
 "metadata": {
  "kernelspec": {
   "display_name": "Python 3 (ipykernel)",
   "language": "python",
   "name": "python3"
  },
  "language_info": {
   "codemirror_mode": {
    "name": "ipython",
    "version": 3
   },
   "file_extension": ".py",
   "mimetype": "text/x-python",
   "name": "python",
   "nbconvert_exporter": "python",
   "pygments_lexer": "ipython3",
   "version": "3.8.12"
  },
  "toc": {
   "base_numbering": 1,
   "nav_menu": {},
   "number_sections": true,
   "sideBar": true,
   "skip_h1_title": false,
   "title_cell": "Table of Contents",
   "title_sidebar": "Contents",
   "toc_cell": false,
   "toc_position": {},
   "toc_section_display": true,
   "toc_window_display": false
  }
 },
 "nbformat": 4,
 "nbformat_minor": 5
}
